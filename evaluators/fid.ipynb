{
 "cells": [
  {
   "cell_type": "code",
   "execution_count": 1,
   "id": "011ded26",
   "metadata": {},
   "outputs": [
    {
     "name": "stdout",
     "output_type": "stream",
     "text": [
      "Requirement already satisfied: pytorch-fid in /sciclone/data10/jrhee01/genVision-celebA/gen-env/lib/python3.9/site-packages (0.3.0)\n",
      "Requirement already satisfied: numpy in /sciclone/data10/jrhee01/genVision-celebA/gen-env/lib/python3.9/site-packages (from pytorch-fid) (2.0.2)\n",
      "Requirement already satisfied: scipy in /sciclone/data10/jrhee01/genVision-celebA/gen-env/lib/python3.9/site-packages (from pytorch-fid) (1.13.1)\n",
      "Requirement already satisfied: torch>=1.0.1 in /sciclone/data10/jrhee01/genVision-celebA/gen-env/lib/python3.9/site-packages (from pytorch-fid) (2.7.0)\n",
      "Requirement already satisfied: pillow in /sciclone/data10/jrhee01/genVision-celebA/gen-env/lib/python3.9/site-packages (from pytorch-fid) (11.2.1)\n",
      "Requirement already satisfied: torchvision>=0.2.2 in /sciclone/data10/jrhee01/genVision-celebA/gen-env/lib/python3.9/site-packages (from pytorch-fid) (0.22.0)\n",
      "Requirement already satisfied: nvidia-cuda-nvrtc-cu12==12.6.77 in /sciclone/data10/jrhee01/genVision-celebA/gen-env/lib/python3.9/site-packages (from torch>=1.0.1->pytorch-fid) (12.6.77)\n",
      "Requirement already satisfied: nvidia-cublas-cu12==12.6.4.1 in /sciclone/data10/jrhee01/genVision-celebA/gen-env/lib/python3.9/site-packages (from torch>=1.0.1->pytorch-fid) (12.6.4.1)\n",
      "Requirement already satisfied: nvidia-nccl-cu12==2.26.2 in /sciclone/data10/jrhee01/genVision-celebA/gen-env/lib/python3.9/site-packages (from torch>=1.0.1->pytorch-fid) (2.26.2)\n",
      "Requirement already satisfied: jinja2 in /sciclone/data10/jrhee01/genVision-celebA/gen-env/lib/python3.9/site-packages (from torch>=1.0.1->pytorch-fid) (3.1.6)\n",
      "Requirement already satisfied: fsspec in /sciclone/data10/jrhee01/genVision-celebA/gen-env/lib/python3.9/site-packages (from torch>=1.0.1->pytorch-fid) (2025.3.2)\n",
      "Requirement already satisfied: triton==3.3.0 in /sciclone/data10/jrhee01/genVision-celebA/gen-env/lib/python3.9/site-packages (from torch>=1.0.1->pytorch-fid) (3.3.0)\n",
      "Requirement already satisfied: nvidia-curand-cu12==10.3.7.77 in /sciclone/data10/jrhee01/genVision-celebA/gen-env/lib/python3.9/site-packages (from torch>=1.0.1->pytorch-fid) (10.3.7.77)\n",
      "Requirement already satisfied: nvidia-cuda-cupti-cu12==12.6.80 in /sciclone/data10/jrhee01/genVision-celebA/gen-env/lib/python3.9/site-packages (from torch>=1.0.1->pytorch-fid) (12.6.80)\n",
      "Requirement already satisfied: sympy>=1.13.3 in /sciclone/data10/jrhee01/genVision-celebA/gen-env/lib/python3.9/site-packages (from torch>=1.0.1->pytorch-fid) (1.13.3)\n",
      "Requirement already satisfied: nvidia-cudnn-cu12==9.5.1.17 in /sciclone/data10/jrhee01/genVision-celebA/gen-env/lib/python3.9/site-packages (from torch>=1.0.1->pytorch-fid) (9.5.1.17)\n",
      "Requirement already satisfied: nvidia-nvjitlink-cu12==12.6.85 in /sciclone/data10/jrhee01/genVision-celebA/gen-env/lib/python3.9/site-packages (from torch>=1.0.1->pytorch-fid) (12.6.85)\n",
      "Requirement already satisfied: nvidia-nvtx-cu12==12.6.77 in /sciclone/data10/jrhee01/genVision-celebA/gen-env/lib/python3.9/site-packages (from torch>=1.0.1->pytorch-fid) (12.6.77)\n",
      "Requirement already satisfied: nvidia-cufile-cu12==1.11.1.6 in /sciclone/data10/jrhee01/genVision-celebA/gen-env/lib/python3.9/site-packages (from torch>=1.0.1->pytorch-fid) (1.11.1.6)\n",
      "Requirement already satisfied: nvidia-cufft-cu12==11.3.0.4 in /sciclone/data10/jrhee01/genVision-celebA/gen-env/lib/python3.9/site-packages (from torch>=1.0.1->pytorch-fid) (11.3.0.4)\n",
      "Requirement already satisfied: typing-extensions>=4.10.0 in /sciclone/data10/jrhee01/genVision-celebA/gen-env/lib/python3.9/site-packages (from torch>=1.0.1->pytorch-fid) (4.13.2)\n",
      "Requirement already satisfied: nvidia-cuda-runtime-cu12==12.6.77 in /sciclone/data10/jrhee01/genVision-celebA/gen-env/lib/python3.9/site-packages (from torch>=1.0.1->pytorch-fid) (12.6.77)\n",
      "Requirement already satisfied: networkx in /sciclone/data10/jrhee01/genVision-celebA/gen-env/lib/python3.9/site-packages (from torch>=1.0.1->pytorch-fid) (3.2.1)\n",
      "Requirement already satisfied: nvidia-cusolver-cu12==11.7.1.2 in /sciclone/data10/jrhee01/genVision-celebA/gen-env/lib/python3.9/site-packages (from torch>=1.0.1->pytorch-fid) (11.7.1.2)\n",
      "Requirement already satisfied: nvidia-cusparselt-cu12==0.6.3 in /sciclone/data10/jrhee01/genVision-celebA/gen-env/lib/python3.9/site-packages (from torch>=1.0.1->pytorch-fid) (0.6.3)\n",
      "Requirement already satisfied: filelock in /sciclone/data10/jrhee01/genVision-celebA/gen-env/lib/python3.9/site-packages (from torch>=1.0.1->pytorch-fid) (3.18.0)\n",
      "Requirement already satisfied: nvidia-cusparse-cu12==12.5.4.2 in /sciclone/data10/jrhee01/genVision-celebA/gen-env/lib/python3.9/site-packages (from torch>=1.0.1->pytorch-fid) (12.5.4.2)\n",
      "Requirement already satisfied: setuptools>=40.8.0 in /sciclone/data10/jrhee01/genVision-celebA/gen-env/lib/python3.9/site-packages (from triton==3.3.0->torch>=1.0.1->pytorch-fid) (53.0.0)\n",
      "Requirement already satisfied: mpmath<1.4,>=1.1.0 in /sciclone/data10/jrhee01/genVision-celebA/gen-env/lib/python3.9/site-packages (from sympy>=1.13.3->torch>=1.0.1->pytorch-fid) (1.3.0)\n",
      "Requirement already satisfied: MarkupSafe>=2.0 in /sciclone/data10/jrhee01/genVision-celebA/gen-env/lib/python3.9/site-packages (from jinja2->torch>=1.0.1->pytorch-fid) (3.0.2)\n",
      "\u001b[33mWARNING: You are using pip version 21.2.3; however, version 25.1.1 is available.\n",
      "You should consider upgrading via the '/sciclone/data10/jrhee01/genVision-celebA/gen-env/bin/python -m pip install --upgrade pip' command.\u001b[0m\n",
      "Note: you may need to restart the kernel to use updated packages.\n"
     ]
    }
   ],
   "source": [
    "pip install pytorch-fid"
   ]
  },
  {
   "cell_type": "code",
   "execution_count": 2,
   "id": "c015da50",
   "metadata": {},
   "outputs": [],
   "source": [
    "import os\n",
    "import subprocess"
   ]
  },
  {
   "cell_type": "code",
   "execution_count": 3,
   "id": "533c0d0d",
   "metadata": {},
   "outputs": [],
   "source": [
    "# Base paths\n",
    "real_source = \"../celebA/celeba/img_align_celeba\"\n",
    "real_10k = \"../celebA/celeba/real_10000\"\n",
    "\n",
    "generators = {\n",
    "    \"VAE\": \"../vae_outputs/generated\",\n",
    "    \"GAN\": \"../gan_outputs/generated\",\n",
    "    \"WGAN\":\"../wgan_outputs/generated\"\n",
    "}\n"
   ]
  },
  {
   "cell_type": "code",
   "execution_count": 4,
   "id": "eeb54be7",
   "metadata": {},
   "outputs": [
    {
     "name": "stdout",
     "output_type": "stream",
     "text": [
      "Extracting first 10k images from ZIP...\n",
      "Extracted 10000 images to ../celebA/celeba/real_10000\n",
      "\n"
     ]
    }
   ],
   "source": [
    "import os\n",
    "import zipfile\n",
    "\n",
    "# Base paths\n",
    "zip_path = \"../celebA/celeba/img_align_celeba.zip\"\n",
    "real_10k = \"../celebA/celeba/real_10000\"\n",
    "\n",
    "print(\"Extracting first 10k images from ZIP...\")\n",
    "os.makedirs(real_10k, exist_ok=True)\n",
    "\n",
    "with zipfile.ZipFile(zip_path, 'r') as zip_ref:\n",
    "    all_files = sorted([f for f in zip_ref.namelist() if f.lower().endswith(('.jpg', '.jpeg', '.png'))])\n",
    "    first_10k = all_files[:10000]\n",
    "    for file in first_10k:\n",
    "        zip_ref.extract(member=file, path=real_10k)\n",
    "\n",
    "print(f\"Extracted {len(first_10k)} images to {real_10k}\\n\")\n",
    "\n"
   ]
  },
  {
   "cell_type": "code",
   "execution_count": 5,
   "id": "07dd37c3",
   "metadata": {},
   "outputs": [
    {
     "name": "stdout",
     "output_type": "stream",
     "text": [
      "../vae_outputs/generated\n",
      "Computing FID for VAE...\n",
      "VAE FID: 136.62\n",
      "../gan_outputs/generated\n",
      "Computing FID for GAN...\n"
     ]
    },
    {
     "ename": "KeyboardInterrupt",
     "evalue": "",
     "output_type": "error",
     "traceback": [
      "\u001b[0;31m---------------------------------------------------------------------------\u001b[0m",
      "\u001b[0;31mKeyboardInterrupt\u001b[0m                         Traceback (most recent call last)",
      "Cell \u001b[0;32mIn[5], line 7\u001b[0m\n\u001b[1;32m      5\u001b[0m \u001b[38;5;28mprint\u001b[39m(path)\n\u001b[1;32m      6\u001b[0m \u001b[38;5;28mprint\u001b[39m(\u001b[38;5;124mf\u001b[39m\u001b[38;5;124m\"\u001b[39m\u001b[38;5;124mComputing FID for \u001b[39m\u001b[38;5;132;01m{\u001b[39;00mname\u001b[38;5;132;01m}\u001b[39;00m\u001b[38;5;124m...\u001b[39m\u001b[38;5;124m\"\u001b[39m)\n\u001b[0;32m----> 7\u001b[0m result \u001b[38;5;241m=\u001b[39m \u001b[43msubprocess\u001b[49m\u001b[38;5;241;43m.\u001b[39;49m\u001b[43mrun\u001b[49m\u001b[43m(\u001b[49m\n\u001b[1;32m      8\u001b[0m \u001b[43m    \u001b[49m\u001b[43m[\u001b[49m\u001b[38;5;124;43m\"\u001b[39;49m\u001b[38;5;124;43mpython\u001b[39;49m\u001b[38;5;124;43m\"\u001b[39;49m\u001b[43m,\u001b[49m\u001b[43m \u001b[49m\u001b[38;5;124;43m\"\u001b[39;49m\u001b[38;5;124;43m-m\u001b[39;49m\u001b[38;5;124;43m\"\u001b[39;49m\u001b[43m,\u001b[49m\u001b[43m \u001b[49m\u001b[38;5;124;43m\"\u001b[39;49m\u001b[38;5;124;43mpytorch_fid\u001b[39;49m\u001b[38;5;124;43m\"\u001b[39;49m\u001b[43m,\u001b[49m\u001b[43mreal_10k\u001b[49m\u001b[43m,\u001b[49m\u001b[43m \u001b[49m\u001b[43mpath\u001b[49m\u001b[43m]\u001b[49m\u001b[43m,\u001b[49m\n\u001b[1;32m      9\u001b[0m \u001b[43m    \u001b[49m\u001b[43mcapture_output\u001b[49m\u001b[38;5;241;43m=\u001b[39;49m\u001b[38;5;28;43;01mTrue\u001b[39;49;00m\u001b[43m,\u001b[49m\n\u001b[1;32m     10\u001b[0m \u001b[43m    \u001b[49m\u001b[43mtext\u001b[49m\u001b[38;5;241;43m=\u001b[39;49m\u001b[38;5;28;43;01mTrue\u001b[39;49;00m\n\u001b[1;32m     11\u001b[0m \u001b[43m\u001b[49m\u001b[43m)\u001b[49m\n\u001b[1;32m     12\u001b[0m \u001b[38;5;66;03m# Extract score from output\u001b[39;00m\n\u001b[1;32m     13\u001b[0m \u001b[38;5;28;01mfor\u001b[39;00m line \u001b[38;5;129;01min\u001b[39;00m result\u001b[38;5;241m.\u001b[39mstdout\u001b[38;5;241m.\u001b[39msplitlines():\n",
      "File \u001b[0;32m/usr/lib64/python3.9/subprocess.py:507\u001b[0m, in \u001b[0;36mrun\u001b[0;34m(input, capture_output, timeout, check, *popenargs, **kwargs)\u001b[0m\n\u001b[1;32m    505\u001b[0m \u001b[39mwith\u001b[39;00m Popen(\u001b[39m*\u001b[39mpopenargs, \u001b[39m*\u001b[39m\u001b[39m*\u001b[39mkwargs) \u001b[39mas\u001b[39;00m process:\n\u001b[1;32m    506\u001b[0m     \u001b[39mtry\u001b[39;00m:\n\u001b[0;32m--> 507\u001b[0m         stdout, stderr \u001b[39m=\u001b[39m process\u001b[39m.\u001b[39;49mcommunicate(\u001b[39minput\u001b[39;49m, timeout\u001b[39m=\u001b[39;49mtimeout)\n\u001b[1;32m    508\u001b[0m     \u001b[39mexcept\u001b[39;00m TimeoutExpired \u001b[39mas\u001b[39;00m exc:\n\u001b[1;32m    509\u001b[0m         process\u001b[39m.\u001b[39mkill()\n",
      "File \u001b[0;32m/usr/lib64/python3.9/subprocess.py:1134\u001b[0m, in \u001b[0;36mPopen.communicate\u001b[0;34m(self, input, timeout)\u001b[0m\n\u001b[1;32m   1131\u001b[0m     endtime \u001b[39m=\u001b[39m \u001b[39mNone\u001b[39;00m\n\u001b[1;32m   1133\u001b[0m \u001b[39mtry\u001b[39;00m:\n\u001b[0;32m-> 1134\u001b[0m     stdout, stderr \u001b[39m=\u001b[39m \u001b[39mself\u001b[39;49m\u001b[39m.\u001b[39;49m_communicate(\u001b[39minput\u001b[39;49m, endtime, timeout)\n\u001b[1;32m   1135\u001b[0m \u001b[39mexcept\u001b[39;00m \u001b[39mKeyboardInterrupt\u001b[39;00m:\n\u001b[1;32m   1136\u001b[0m     \u001b[39m# https://bugs.python.org/issue25942\u001b[39;00m\n\u001b[1;32m   1137\u001b[0m     \u001b[39m# See the detailed comment in .wait().\u001b[39;00m\n\u001b[1;32m   1138\u001b[0m     \u001b[39mif\u001b[39;00m timeout \u001b[39mis\u001b[39;00m \u001b[39mnot\u001b[39;00m \u001b[39mNone\u001b[39;00m:\n",
      "File \u001b[0;32m/usr/lib64/python3.9/subprocess.py:1979\u001b[0m, in \u001b[0;36mPopen._communicate\u001b[0;34m(self, input, endtime, orig_timeout)\u001b[0m\n\u001b[1;32m   1972\u001b[0m     \u001b[39mself\u001b[39m\u001b[39m.\u001b[39m_check_timeout(endtime, orig_timeout,\n\u001b[1;32m   1973\u001b[0m                         stdout, stderr,\n\u001b[1;32m   1974\u001b[0m                         skip_check_and_raise\u001b[39m=\u001b[39m\u001b[39mTrue\u001b[39;00m)\n\u001b[1;32m   1975\u001b[0m     \u001b[39mraise\u001b[39;00m \u001b[39mRuntimeError\u001b[39;00m(  \u001b[39m# Impossible :)\u001b[39;00m\n\u001b[1;32m   1976\u001b[0m         \u001b[39m'\u001b[39m\u001b[39m_check_timeout(..., skip_check_and_raise=True) \u001b[39m\u001b[39m'\u001b[39m\n\u001b[1;32m   1977\u001b[0m         \u001b[39m'\u001b[39m\u001b[39mfailed to raise TimeoutExpired.\u001b[39m\u001b[39m'\u001b[39m)\n\u001b[0;32m-> 1979\u001b[0m ready \u001b[39m=\u001b[39m selector\u001b[39m.\u001b[39;49mselect(timeout)\n\u001b[1;32m   1980\u001b[0m \u001b[39mself\u001b[39m\u001b[39m.\u001b[39m_check_timeout(endtime, orig_timeout, stdout, stderr)\n\u001b[1;32m   1982\u001b[0m \u001b[39m# XXX Rewrite these to use non-blocking I/O on the file\u001b[39;00m\n\u001b[1;32m   1983\u001b[0m \u001b[39m# objects; they are no longer using C stdio!\u001b[39;00m\n",
      "File \u001b[0;32m/usr/lib64/python3.9/selectors.py:416\u001b[0m, in \u001b[0;36m_PollLikeSelector.select\u001b[0;34m(self, timeout)\u001b[0m\n\u001b[1;32m    414\u001b[0m ready \u001b[39m=\u001b[39m []\n\u001b[1;32m    415\u001b[0m \u001b[39mtry\u001b[39;00m:\n\u001b[0;32m--> 416\u001b[0m     fd_event_list \u001b[39m=\u001b[39m \u001b[39mself\u001b[39;49m\u001b[39m.\u001b[39;49m_selector\u001b[39m.\u001b[39;49mpoll(timeout)\n\u001b[1;32m    417\u001b[0m \u001b[39mexcept\u001b[39;00m \u001b[39mInterruptedError\u001b[39;00m:\n\u001b[1;32m    418\u001b[0m     \u001b[39mreturn\u001b[39;00m ready\n",
      "\u001b[0;31mKeyboardInterrupt\u001b[0m: "
     ]
    }
   ],
   "source": [
    "# Compute FID scores\n",
    "fid_scores = {}\n",
    "real_10k = \"/sciclone/data10/jrhee01/genVision-celebA/celebA/celeba/real_10000/img_align_celeba\"\n",
    "for name, path in generators.items():\n",
    "    print(path)\n",
    "    print(f\"Computing FID for {name}...\")\n",
    "    result = subprocess.run(\n",
    "        [\"python\", \"-m\", \"pytorch_fid\",real_10k, path],\n",
    "        capture_output=True,\n",
    "        text=True\n",
    "    )\n",
    "    # Extract score from output\n",
    "    for line in result.stdout.splitlines():\n",
    "        if \"FID:\" in line:\n",
    "            score = float(line.split(\"FID:\")[-1].strip())\n",
    "            fid_scores[name] = score\n",
    "            print(f\"{name} FID: {score:.2f}\")\n",
    "            break\n",
    "    else:\n",
    "        print(f\"Could not extract FID for {name}. Raw output:\\n{result.stdout}\\n\")"
   ]
  },
  {
   "cell_type": "code",
   "execution_count": null,
   "id": "fa849c07",
   "metadata": {},
   "outputs": [
    {
     "name": "stdout",
     "output_type": "stream",
     "text": [
      "\n",
      "--- FID Comparison (Lower is Better) ---\n",
      "{}\n"
     ]
    }
   ],
   "source": [
    "# Print final comparison\n",
    "print(\"\\n--- FID Comparison (Lower is Better) ---\")\n",
    "print(fid_scores)\n",
    "for name, score in sorted(fid_scores.items(), key=lambda x: x[1]):\n",
    "    print(f\"{name}: {score:.2f}\")\n"
   ]
  },
  {
   "cell_type": "code",
   "execution_count": null,
   "id": "b167bb08",
   "metadata": {},
   "outputs": [],
   "source": []
  }
 ],
 "metadata": {
  "kernelspec": {
   "display_name": "Python 3.9.16 ('gen-env': venv)",
   "language": "python",
   "name": "python3"
  },
  "language_info": {
   "codemirror_mode": {
    "name": "ipython",
    "version": 3
   },
   "file_extension": ".py",
   "mimetype": "text/x-python",
   "name": "python",
   "nbconvert_exporter": "python",
   "pygments_lexer": "ipython3",
   "version": "3.9.16"
  },
  "vscode": {
   "interpreter": {
    "hash": "20be29547590aa1112ef8e25a79f1428227ffeb142cb4839bcd469c0aee95255"
   }
  }
 },
 "nbformat": 4,
 "nbformat_minor": 5
}
