{
 "cells": [
  {
   "cell_type": "code",
   "execution_count": 1,
   "id": "011ded26",
   "metadata": {},
   "outputs": [
    {
     "name": "stdout",
     "output_type": "stream",
     "text": [
      "Requirement already satisfied: pytorch-fid in /sciclone/data10/iahewababarand/genVision-celebA/gen-env/lib64/python3.11/site-packages (0.3.0)\n",
      "Requirement already satisfied: numpy in /sciclone/data10/iahewababarand/genVision-celebA/gen-env/lib64/python3.11/site-packages (from pytorch-fid) (2.0.2)\n",
      "Requirement already satisfied: pillow in /sciclone/data10/iahewababarand/genVision-celebA/gen-env/lib64/python3.11/site-packages (from pytorch-fid) (11.2.1)\n",
      "Requirement already satisfied: scipy in /sciclone/data10/iahewababarand/genVision-celebA/gen-env/lib64/python3.11/site-packages (from pytorch-fid) (1.15.2)\n",
      "Requirement already satisfied: torch>=1.0.1 in /sciclone/data10/iahewababarand/genVision-celebA/gen-env/lib64/python3.11/site-packages (from pytorch-fid) (2.7.0)\n",
      "Requirement already satisfied: torchvision>=0.2.2 in /sciclone/data10/iahewababarand/genVision-celebA/gen-env/lib64/python3.11/site-packages (from pytorch-fid) (0.22.0)\n",
      "Requirement already satisfied: filelock in /sciclone/data10/iahewababarand/genVision-celebA/gen-env/lib64/python3.11/site-packages (from torch>=1.0.1->pytorch-fid) (3.18.0)\n",
      "Requirement already satisfied: typing-extensions>=4.10.0 in /sciclone/data10/iahewababarand/genVision-celebA/gen-env/lib64/python3.11/site-packages (from torch>=1.0.1->pytorch-fid) (4.13.2)\n",
      "Requirement already satisfied: sympy>=1.13.3 in /sciclone/data10/iahewababarand/genVision-celebA/gen-env/lib64/python3.11/site-packages (from torch>=1.0.1->pytorch-fid) (1.13.3)\n",
      "Requirement already satisfied: networkx in /sciclone/data10/iahewababarand/genVision-celebA/gen-env/lib64/python3.11/site-packages (from torch>=1.0.1->pytorch-fid) (3.2.1)\n",
      "Requirement already satisfied: jinja2 in /sciclone/data10/iahewababarand/genVision-celebA/gen-env/lib64/python3.11/site-packages (from torch>=1.0.1->pytorch-fid) (3.1.6)\n",
      "Requirement already satisfied: fsspec in /sciclone/data10/iahewababarand/genVision-celebA/gen-env/lib64/python3.11/site-packages (from torch>=1.0.1->pytorch-fid) (2025.3.2)\n",
      "Requirement already satisfied: nvidia-cuda-nvrtc-cu12==12.6.77 in /sciclone/data10/iahewababarand/genVision-celebA/gen-env/lib64/python3.11/site-packages (from torch>=1.0.1->pytorch-fid) (12.6.77)\n",
      "Requirement already satisfied: nvidia-cuda-runtime-cu12==12.6.77 in /sciclone/data10/iahewababarand/genVision-celebA/gen-env/lib64/python3.11/site-packages (from torch>=1.0.1->pytorch-fid) (12.6.77)\n",
      "Requirement already satisfied: nvidia-cuda-cupti-cu12==12.6.80 in /sciclone/data10/iahewababarand/genVision-celebA/gen-env/lib64/python3.11/site-packages (from torch>=1.0.1->pytorch-fid) (12.6.80)\n",
      "Requirement already satisfied: nvidia-cudnn-cu12==9.5.1.17 in /sciclone/data10/iahewababarand/genVision-celebA/gen-env/lib64/python3.11/site-packages (from torch>=1.0.1->pytorch-fid) (9.5.1.17)\n",
      "Requirement already satisfied: nvidia-cublas-cu12==12.6.4.1 in /sciclone/data10/iahewababarand/genVision-celebA/gen-env/lib64/python3.11/site-packages (from torch>=1.0.1->pytorch-fid) (12.6.4.1)\n",
      "Requirement already satisfied: nvidia-cufft-cu12==11.3.0.4 in /sciclone/data10/iahewababarand/genVision-celebA/gen-env/lib64/python3.11/site-packages (from torch>=1.0.1->pytorch-fid) (11.3.0.4)\n",
      "Requirement already satisfied: nvidia-curand-cu12==10.3.7.77 in /sciclone/data10/iahewababarand/genVision-celebA/gen-env/lib64/python3.11/site-packages (from torch>=1.0.1->pytorch-fid) (10.3.7.77)\n",
      "Requirement already satisfied: nvidia-cusolver-cu12==11.7.1.2 in /sciclone/data10/iahewababarand/genVision-celebA/gen-env/lib64/python3.11/site-packages (from torch>=1.0.1->pytorch-fid) (11.7.1.2)\n",
      "Requirement already satisfied: nvidia-cusparse-cu12==12.5.4.2 in /sciclone/data10/iahewababarand/genVision-celebA/gen-env/lib64/python3.11/site-packages (from torch>=1.0.1->pytorch-fid) (12.5.4.2)\n",
      "Requirement already satisfied: nvidia-cusparselt-cu12==0.6.3 in /sciclone/data10/iahewababarand/genVision-celebA/gen-env/lib64/python3.11/site-packages (from torch>=1.0.1->pytorch-fid) (0.6.3)\n",
      "Requirement already satisfied: nvidia-nccl-cu12==2.26.2 in /sciclone/data10/iahewababarand/genVision-celebA/gen-env/lib64/python3.11/site-packages (from torch>=1.0.1->pytorch-fid) (2.26.2)\n",
      "Requirement already satisfied: nvidia-nvtx-cu12==12.6.77 in /sciclone/data10/iahewababarand/genVision-celebA/gen-env/lib64/python3.11/site-packages (from torch>=1.0.1->pytorch-fid) (12.6.77)\n",
      "Requirement already satisfied: nvidia-nvjitlink-cu12==12.6.85 in /sciclone/data10/iahewababarand/genVision-celebA/gen-env/lib64/python3.11/site-packages (from torch>=1.0.1->pytorch-fid) (12.6.85)\n",
      "Requirement already satisfied: nvidia-cufile-cu12==1.11.1.6 in /sciclone/data10/iahewababarand/genVision-celebA/gen-env/lib64/python3.11/site-packages (from torch>=1.0.1->pytorch-fid) (1.11.1.6)\n",
      "Requirement already satisfied: triton==3.3.0 in /sciclone/data10/iahewababarand/genVision-celebA/gen-env/lib64/python3.11/site-packages (from torch>=1.0.1->pytorch-fid) (3.3.0)\n",
      "Requirement already satisfied: setuptools>=40.8.0 in /sciclone/data10/iahewababarand/genVision-celebA/gen-env/lib64/python3.11/site-packages (from triton==3.3.0->torch>=1.0.1->pytorch-fid) (65.5.1)\n",
      "Requirement already satisfied: mpmath<1.4,>=1.1.0 in /sciclone/data10/iahewababarand/genVision-celebA/gen-env/lib64/python3.11/site-packages (from sympy>=1.13.3->torch>=1.0.1->pytorch-fid) (1.3.0)\n",
      "Requirement already satisfied: MarkupSafe>=2.0 in /sciclone/data10/iahewababarand/genVision-celebA/gen-env/lib64/python3.11/site-packages (from jinja2->torch>=1.0.1->pytorch-fid) (3.0.2)\n",
      "\n",
      "\u001b[1m[\u001b[0m\u001b[34;49mnotice\u001b[0m\u001b[1;39;49m]\u001b[0m\u001b[39;49m A new release of pip available: \u001b[0m\u001b[31;49m22.3.1\u001b[0m\u001b[39;49m -> \u001b[0m\u001b[32;49m25.1.1\u001b[0m\n",
      "\u001b[1m[\u001b[0m\u001b[34;49mnotice\u001b[0m\u001b[1;39;49m]\u001b[0m\u001b[39;49m To update, run: \u001b[0m\u001b[32;49mpip install --upgrade pip\u001b[0m\n",
      "Note: you may need to restart the kernel to use updated packages.\n"
     ]
    }
   ],
   "source": [
    "pip install pytorch-fid"
   ]
  },
  {
   "cell_type": "code",
   "execution_count": null,
   "id": "c015da50",
   "metadata": {},
   "outputs": [],
   "source": [
    "import os\n",
    "import subprocess\n",
    "import zipfile"
   ]
  },
  {
   "cell_type": "code",
   "execution_count": 3,
   "id": "533c0d0d",
   "metadata": {},
   "outputs": [],
   "source": [
    "# Base paths\n",
    "real_source = \"../celebA/celeba/img_align_celeba\"\n",
    "real_10k = \"../celebA/celeba/real_10000\"\n",
    "\n",
    "generators = {\n",
    "    \"VAE\": \"../vae_outputs/generated\",\n",
    "    \"GAN\": \"../gan_outputs/generated\"\n",
    "}\n"
   ]
  },
  {
   "cell_type": "code",
   "execution_count": null,
   "id": "eeb54be7",
   "metadata": {},
   "outputs": [
    {
     "name": "stdout",
     "output_type": "stream",
     "text": [
      "Extracting first 10k images from ZIP...\n"
     ]
    },
    {
     "name": "stdout",
     "output_type": "stream",
     "text": [
      "Extracted 10000 images to ../celebA/celeba/real_10000\n",
      "\n"
     ]
    }
   ],
   "source": [
    "# Base paths\n",
    "zip_path = \"../celebA/celeba/img_align_celeba.zip\"\n",
    "real_10k = \"../celebA/celeba/real_10000\"\n",
    "\n",
    "print(\"Extracting first 10k images from ZIP...\")\n",
    "os.makedirs(real_10k, exist_ok=True)\n",
    "\n",
    "with zipfile.ZipFile(zip_path, 'r') as zip_ref:\n",
    "    all_files = sorted([f for f in zip_ref.namelist() if f.lower().endswith(('.jpg', '.jpeg', '.png'))])\n",
    "    first_10k = all_files[:10000]\n",
    "    for file in first_10k:\n",
    "        zip_ref.extract(member=file, path=real_10k)\n",
    "\n",
    "print(f\"Extracted {len(first_10k)} images to {real_10k}\\n\")"
   ]
  },
  {
   "cell_type": "code",
   "execution_count": 5,
   "id": "07dd37c3",
   "metadata": {},
   "outputs": [
    {
     "name": "stdout",
     "output_type": "stream",
     "text": [
      "../vae_outputs/generated\n",
      "Computing FID for VAE...\n"
     ]
    },
    {
     "name": "stdout",
     "output_type": "stream",
     "text": [
      "VAE FID: 135.36\n",
      "../gan_outputs/generated\n",
      "Computing FID for GAN...\n",
      "Could not extract FID for GAN. Raw output:\n",
      "\n",
      "\n"
     ]
    }
   ],
   "source": [
    "# Compute FID scores\n",
    "fid_scores = {}\n",
    "real_10k = \"/sciclone/data10/iahewababarand/genVision-celebA/celebA/celeba/real_10000/img_align_celeba\"\n",
    "for name, path in generators.items():\n",
    "    print(path)\n",
    "    print(f\"Computing FID for {name}...\")\n",
    "    result = subprocess.run(\n",
    "        [\"python\", \"-m\", \"pytorch_fid\",real_10k, path],\n",
    "        capture_output=True,\n",
    "        text=True\n",
    "    )\n",
    "    # Extract score from output\n",
    "    for line in result.stdout.splitlines():\n",
    "        if \"FID:\" in line:\n",
    "            score = float(line.split(\"FID:\")[-1].strip())\n",
    "            fid_scores[name] = score\n",
    "            print(f\"{name} FID: {score:.2f}\")\n",
    "            break\n",
    "    else:\n",
    "        print(f\"Could not extract FID for {name}. Raw output:\\n{result.stdout}\\n\")"
   ]
  },
  {
   "cell_type": "code",
   "execution_count": 6,
   "id": "fa849c07",
   "metadata": {},
   "outputs": [
    {
     "name": "stdout",
     "output_type": "stream",
     "text": [
      "\n",
      "--- FID Comparison (Lower is Better) ---\n",
      "{'VAE': 135.36306788919583}\n",
      "VAE: 135.36\n"
     ]
    }
   ],
   "source": [
    "# Print final comparison\n",
    "print(\"\\n--- FID Comparison (Lower is Better) ---\")\n",
    "print(fid_scores)\n",
    "for name, score in sorted(fid_scores.items(), key=lambda x: x[1]):\n",
    "    print(f\"{name}: {score:.2f}\")\n"
   ]
  }
 ],
 "metadata": {
  "kernelspec": {
   "display_name": "gen-env",
   "language": "python",
   "name": "python3"
  },
  "language_info": {
   "codemirror_mode": {
    "name": "ipython",
    "version": 3
   },
   "file_extension": ".py",
   "mimetype": "text/x-python",
   "name": "python",
   "nbconvert_exporter": "python",
   "pygments_lexer": "ipython3",
   "version": "3.11.2"
  }
 },
 "nbformat": 4,
 "nbformat_minor": 5
}
