{
 "cells": [
  {
   "cell_type": "code",
   "execution_count": 11,
   "id": "011ded26",
   "metadata": {},
   "outputs": [
    {
     "name": "stdout",
     "output_type": "stream",
     "text": [
      "Requirement already satisfied: pytorch-fid in /sciclone/data10/iahewababarand/.venv/lib64/python3.11/site-packages (0.3.0)\n",
      "Requirement already satisfied: numpy in /sciclone/data10/iahewababarand/.venv/lib64/python3.11/site-packages (from pytorch-fid) (2.2.4)\n",
      "Requirement already satisfied: pillow in /sciclone/data10/iahewababarand/.venv/lib64/python3.11/site-packages (from pytorch-fid) (11.2.1)\n",
      "Requirement already satisfied: scipy in /sciclone/data10/iahewababarand/.venv/lib64/python3.11/site-packages (from pytorch-fid) (1.15.2)\n",
      "Requirement already satisfied: torch>=1.0.1 in /sciclone/data10/iahewababarand/.venv/lib64/python3.11/site-packages (from pytorch-fid) (2.6.0)\n",
      "Requirement already satisfied: torchvision>=0.2.2 in /sciclone/data10/iahewababarand/.venv/lib64/python3.11/site-packages (from pytorch-fid) (0.21.0)\n",
      "Requirement already satisfied: filelock in /sciclone/data10/iahewababarand/.venv/lib64/python3.11/site-packages (from torch>=1.0.1->pytorch-fid) (3.18.0)\n",
      "Requirement already satisfied: typing-extensions>=4.10.0 in /sciclone/data10/iahewababarand/.venv/lib64/python3.11/site-packages (from torch>=1.0.1->pytorch-fid) (4.13.2)\n",
      "Requirement already satisfied: networkx in /sciclone/data10/iahewababarand/.venv/lib64/python3.11/site-packages (from torch>=1.0.1->pytorch-fid) (3.4.2)\n",
      "Requirement already satisfied: jinja2 in /sciclone/data10/iahewababarand/.venv/lib64/python3.11/site-packages (from torch>=1.0.1->pytorch-fid) (3.1.6)\n",
      "Requirement already satisfied: fsspec in /sciclone/data10/iahewababarand/.venv/lib64/python3.11/site-packages (from torch>=1.0.1->pytorch-fid) (2025.3.2)\n",
      "Requirement already satisfied: nvidia-cuda-nvrtc-cu12==12.4.127 in /sciclone/data10/iahewababarand/.venv/lib64/python3.11/site-packages (from torch>=1.0.1->pytorch-fid) (12.4.127)\n",
      "Requirement already satisfied: nvidia-cuda-runtime-cu12==12.4.127 in /sciclone/data10/iahewababarand/.venv/lib64/python3.11/site-packages (from torch>=1.0.1->pytorch-fid) (12.4.127)\n",
      "Requirement already satisfied: nvidia-cuda-cupti-cu12==12.4.127 in /sciclone/data10/iahewababarand/.venv/lib64/python3.11/site-packages (from torch>=1.0.1->pytorch-fid) (12.4.127)\n",
      "Requirement already satisfied: nvidia-cudnn-cu12==9.1.0.70 in /sciclone/data10/iahewababarand/.venv/lib64/python3.11/site-packages (from torch>=1.0.1->pytorch-fid) (9.1.0.70)\n",
      "Requirement already satisfied: nvidia-cublas-cu12==12.4.5.8 in /sciclone/data10/iahewababarand/.venv/lib64/python3.11/site-packages (from torch>=1.0.1->pytorch-fid) (12.4.5.8)\n",
      "Requirement already satisfied: nvidia-cufft-cu12==11.2.1.3 in /sciclone/data10/iahewababarand/.venv/lib64/python3.11/site-packages (from torch>=1.0.1->pytorch-fid) (11.2.1.3)\n",
      "Requirement already satisfied: nvidia-curand-cu12==10.3.5.147 in /sciclone/data10/iahewababarand/.venv/lib64/python3.11/site-packages (from torch>=1.0.1->pytorch-fid) (10.3.5.147)\n",
      "Requirement already satisfied: nvidia-cusolver-cu12==11.6.1.9 in /sciclone/data10/iahewababarand/.venv/lib64/python3.11/site-packages (from torch>=1.0.1->pytorch-fid) (11.6.1.9)\n",
      "Requirement already satisfied: nvidia-cusparse-cu12==12.3.1.170 in /sciclone/data10/iahewababarand/.venv/lib64/python3.11/site-packages (from torch>=1.0.1->pytorch-fid) (12.3.1.170)\n",
      "Requirement already satisfied: nvidia-cusparselt-cu12==0.6.2 in /sciclone/data10/iahewababarand/.venv/lib64/python3.11/site-packages (from torch>=1.0.1->pytorch-fid) (0.6.2)\n",
      "Requirement already satisfied: nvidia-nccl-cu12==2.21.5 in /sciclone/data10/iahewababarand/.venv/lib64/python3.11/site-packages (from torch>=1.0.1->pytorch-fid) (2.21.5)\n",
      "Requirement already satisfied: nvidia-nvtx-cu12==12.4.127 in /sciclone/data10/iahewababarand/.venv/lib64/python3.11/site-packages (from torch>=1.0.1->pytorch-fid) (12.4.127)\n",
      "Requirement already satisfied: nvidia-nvjitlink-cu12==12.4.127 in /sciclone/data10/iahewababarand/.venv/lib64/python3.11/site-packages (from torch>=1.0.1->pytorch-fid) (12.4.127)\n",
      "Requirement already satisfied: triton==3.2.0 in /sciclone/data10/iahewababarand/.venv/lib64/python3.11/site-packages (from torch>=1.0.1->pytorch-fid) (3.2.0)\n",
      "Requirement already satisfied: sympy==1.13.1 in /sciclone/data10/iahewababarand/.venv/lib64/python3.11/site-packages (from torch>=1.0.1->pytorch-fid) (1.13.1)\n",
      "Requirement already satisfied: mpmath<1.4,>=1.1.0 in /sciclone/data10/iahewababarand/.venv/lib64/python3.11/site-packages (from sympy==1.13.1->torch>=1.0.1->pytorch-fid) (1.3.0)\n",
      "Requirement already satisfied: MarkupSafe>=2.0 in /sciclone/data10/iahewababarand/.venv/lib64/python3.11/site-packages (from jinja2->torch>=1.0.1->pytorch-fid) (3.0.2)\n",
      "Note: you may need to restart the kernel to use updated packages.\n"
     ]
    }
   ],
   "source": [
    "pip install pytorch-fid"
   ]
  },
  {
   "cell_type": "code",
   "execution_count": 12,
   "id": "c015da50",
   "metadata": {},
   "outputs": [],
   "source": [
    "import os\n",
    "import subprocess"
   ]
  },
  {
   "cell_type": "code",
   "execution_count": 28,
   "id": "533c0d0d",
   "metadata": {},
   "outputs": [],
   "source": [
    "# Base paths\n",
    "real_source = \"../celebA/celeba/img_align_celeba\"\n",
    "real_10k = \"../celebA/celeba/real_10000\"\n",
    "\n",
    "generators = {\n",
    "    \"VAE\": \"../vae_outputs/generated\"\n",
    "}\n"
   ]
  },
  {
   "cell_type": "code",
   "execution_count": 32,
   "id": "eeb54be7",
   "metadata": {},
   "outputs": [
    {
     "name": "stdout",
     "output_type": "stream",
     "text": [
      "Extracting first 10k images from ZIP...\n",
      "Extracted 10000 images to ../celebA/celeba/real_10000\n",
      "\n"
     ]
    }
   ],
   "source": [
    "import os\n",
    "import zipfile\n",
    "\n",
    "# Base paths\n",
    "zip_path = \"../celebA/celeba/img_align_celeba.zip\"\n",
    "real_10k = \"../celebA/celeba/real_10000\"\n",
    "\n",
    "print(\"Extracting first 10k images from ZIP...\")\n",
    "os.makedirs(real_10k, exist_ok=True)\n",
    "\n",
    "with zipfile.ZipFile(zip_path, 'r') as zip_ref:\n",
    "    all_files = sorted([f for f in zip_ref.namelist() if f.lower().endswith(('.jpg', '.jpeg', '.png'))])\n",
    "    first_10k = all_files[:10000]\n",
    "    for file in first_10k:\n",
    "        zip_ref.extract(member=file, path=real_10k)\n",
    "\n",
    "print(f\"Extracted {len(first_10k)} images to {real_10k}\\n\")\n",
    "\n"
   ]
  },
  {
   "cell_type": "code",
   "execution_count": 35,
   "id": "07dd37c3",
   "metadata": {},
   "outputs": [
    {
     "name": "stdout",
     "output_type": "stream",
     "text": [
      "../vae_outputs/generated\n",
      "Computing FID for VAE...\n",
      "VAE FID: 146.30\n"
     ]
    }
   ],
   "source": [
    "# Compute FID scores\n",
    "fid_scores = {}\n",
    "real_10k = \"/sciclone/data10/iahewababarand/genVision-VAE/celebA/celeba/real_10000/img_align_celeba\"\n",
    "for name, path in generators.items():\n",
    "    print(path)\n",
    "    print(f\"Computing FID for {name}...\")\n",
    "    result = subprocess.run(\n",
    "        [\"python\", \"-m\", \"pytorch_fid\",real_10k, path],\n",
    "        capture_output=True,\n",
    "        text=True\n",
    "    )\n",
    "    # Extract score from output\n",
    "    for line in result.stdout.splitlines():\n",
    "        if \"FID:\" in line:\n",
    "            score = float(line.split(\"FID:\")[-1].strip())\n",
    "            fid_scores[name] = score\n",
    "            print(f\"{name} FID: {score:.2f}\")\n",
    "            break\n",
    "    else:\n",
    "        print(f\"Could not extract FID for {name}. Raw output:\\n{result.stdout}\\n\")"
   ]
  },
  {
   "cell_type": "code",
   "execution_count": 36,
   "id": "fa849c07",
   "metadata": {},
   "outputs": [
    {
     "name": "stdout",
     "output_type": "stream",
     "text": [
      "\n",
      "--- FID Comparison (Lower is Better) ---\n",
      "{'VAE': 146.2998987417659}\n",
      "VAE: 146.30\n"
     ]
    }
   ],
   "source": [
    "# Print final comparison\n",
    "print(\"\\n--- FID Comparison (Lower is Better) ---\")\n",
    "print(fid_scores)\n",
    "for name, score in sorted(fid_scores.items(), key=lambda x: x[1]):\n",
    "    print(f\"{name}: {score:.2f}\")\n"
   ]
  }
 ],
 "metadata": {
  "kernelspec": {
   "display_name": ".venv",
   "language": "python",
   "name": "python3"
  },
  "language_info": {
   "codemirror_mode": {
    "name": "ipython",
    "version": 3
   },
   "file_extension": ".py",
   "mimetype": "text/x-python",
   "name": "python",
   "nbconvert_exporter": "python",
   "pygments_lexer": "ipython3",
   "version": "3.11.2"
  }
 },
 "nbformat": 4,
 "nbformat_minor": 5
}
