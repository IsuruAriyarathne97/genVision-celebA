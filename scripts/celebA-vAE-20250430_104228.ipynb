{
 "cells": [
  {
   "cell_type": "code",
   "execution_count": 1,
   "id": "8add31b7",
   "metadata": {
    "execution": {
     "iopub.execute_input": "2025-04-30T14:42:29.565284Z",
     "iopub.status.busy": "2025-04-30T14:42:29.565128Z",
     "iopub.status.idle": "2025-04-30T14:42:32.268589Z",
     "shell.execute_reply": "2025-04-30T14:42:32.268153Z"
    },
    "papermill": {
     "duration": 2.707318,
     "end_time": "2025-04-30T14:42:32.269697",
     "exception": false,
     "start_time": "2025-04-30T14:42:29.562379",
     "status": "completed"
    },
    "tags": []
   },
   "outputs": [],
   "source": [
    "import torch\n",
    "import torch.nn as nn\n",
    "import torch.nn.functional as F\n",
    "from torch.utils.data import DataLoader\n",
    "from torchvision import datasets, transforms\n",
    "from torchvision.utils import make_grid, save_image\n",
    "import matplotlib.pyplot as plt\n",
    "import os"
   ]
  },
  {
   "cell_type": "code",
   "execution_count": 2,
   "id": "feb9eda7",
   "metadata": {
    "execution": {
     "iopub.execute_input": "2025-04-30T14:42:32.275371Z",
     "iopub.status.busy": "2025-04-30T14:42:32.274703Z",
     "iopub.status.idle": "2025-04-30T14:42:32.581598Z",
     "shell.execute_reply": "2025-04-30T14:42:32.581160Z"
    },
    "papermill": {
     "duration": 0.310448,
     "end_time": "2025-04-30T14:42:32.582460",
     "exception": false,
     "start_time": "2025-04-30T14:42:32.272012",
     "status": "completed"
    },
    "tags": []
   },
   "outputs": [
    {
     "name": "stdout",
     "output_type": "stream",
     "text": [
      "cpu\n"
     ]
    },
    {
     "name": "stderr",
     "output_type": "stream",
     "text": [
      "/sciclone/data10/iahewababarand/.venv/lib64/python3.11/site-packages/torch/utils/data/dataloader.py:624: UserWarning: This DataLoader will create 4 worker processes in total. Our suggested max number of worker in current system is 1, which is smaller than what this DataLoader is going to create. Please be aware that excessive worker creation might get DataLoader running slow or even freeze, lower the worker number to avoid potential slowness/freeze if necessary.\n",
      "  warnings.warn(\n"
     ]
    }
   ],
   "source": [
    "# Load Dataset\n",
    "\n",
    "# Device setup\n",
    "device = torch.device(\"cuda\" if torch.cuda.is_available() else \"cpu\")\n",
    "print(device)\n",
    "# Dataset path\n",
    "data_root = \"celebA/celeba\"\n",
    "image_dir = os.path.join(data_root, \"img_align_celeba\")\n",
    "\n",
    "transform = transforms.Compose([\n",
    "    transforms.CenterCrop(160),\n",
    "    transforms.Resize(64),  # Changed to 64x64\n",
    "    transforms.RandomHorizontalFlip(p=0.5),\n",
    "    transforms.ToTensor(),\n",
    "    transforms.Normalize((0.5,), (0.5,))\n",
    "])\n",
    "\n",
    "dataset = datasets.ImageFolder(root=image_dir, transform=transform)\n",
    "dataloader = DataLoader(dataset, batch_size=64, shuffle=True, num_workers=4, pin_memory=True)"
   ]
  },
  {
   "cell_type": "code",
   "execution_count": 3,
   "id": "9bba650b",
   "metadata": {
    "execution": {
     "iopub.execute_input": "2025-04-30T14:42:32.588087Z",
     "iopub.status.busy": "2025-04-30T14:42:32.587497Z",
     "iopub.status.idle": "2025-04-30T14:42:32.595716Z",
     "shell.execute_reply": "2025-04-30T14:42:32.595361Z"
    },
    "papermill": {
     "duration": 0.0117,
     "end_time": "2025-04-30T14:42:32.596510",
     "exception": false,
     "start_time": "2025-04-30T14:42:32.584810",
     "status": "completed"
    },
    "tags": []
   },
   "outputs": [],
   "source": [
    "# Convolutional VAE for 64x64 images\n",
    "class ConvVAE(nn.Module):\n",
    "    def __init__(self, latent_dim=100):\n",
    "        super(ConvVAE, self).__init__()\n",
    "        self.latent_dim = latent_dim\n",
    "\n",
    "        # Encoder\n",
    "        self.encoder = nn.Sequential(\n",
    "            nn.Conv2d(3, 32, 4, 2, 1),   # 32x32\n",
    "            nn.ReLU(),\n",
    "            nn.Conv2d(32, 64, 4, 2, 1),  # 16x16\n",
    "            nn.ReLU(),\n",
    "            nn.Conv2d(64, 128, 4, 2, 1), # 8x8\n",
    "            nn.ReLU(),\n",
    "            nn.Conv2d(128, 256, 4, 2, 1),# 4x4\n",
    "            nn.ReLU(),\n",
    "            nn.Conv2d(256, 512, 4, 2, 1),# 2x2\n",
    "            nn.ReLU()\n",
    "        )\n",
    "        self.fc_mu = nn.Linear(512 * 2 * 2, latent_dim)\n",
    "        self.fc_logvar = nn.Linear(512 * 2 * 2, latent_dim)\n",
    "\n",
    "        # Decoder\n",
    "        self.fc_decode = nn.Linear(latent_dim, 512 * 2 * 2)\n",
    "        self.decoder = nn.Sequential(\n",
    "            nn.ConvTranspose2d(512, 256, 4, 2, 1),  # 4x4\n",
    "            nn.ReLU(),\n",
    "            nn.ConvTranspose2d(256, 128, 4, 2, 1),  # 8x8\n",
    "            nn.ReLU(),\n",
    "            nn.ConvTranspose2d(128, 64, 4, 2, 1),   # 16x16\n",
    "            nn.ReLU(),\n",
    "            nn.ConvTranspose2d(64, 32, 4, 2, 1),    # 32x32\n",
    "            nn.ReLU(),\n",
    "            nn.ConvTranspose2d(32, 3, 4, 2, 1),     # 64x64\n",
    "            nn.Tanh()\n",
    "        )\n",
    "\n",
    "    def encode(self, x):\n",
    "        x = self.encoder(x)\n",
    "        x = x.view(x.size(0), -1)\n",
    "        return self.fc_mu(x), self.fc_logvar(x)\n",
    "\n",
    "    def reparameterize(self, mu, logvar):\n",
    "        std = torch.exp(0.5 * logvar)\n",
    "        eps = torch.randn_like(std)\n",
    "        return mu + eps * std\n",
    "\n",
    "    def decode(self, z):\n",
    "        x = self.fc_decode(z)\n",
    "        x = x.view(-1, 512, 2, 2)\n",
    "        return self.decoder(x)\n",
    "\n",
    "    def forward(self, x):\n",
    "        mu, logvar = self.encode(x)\n",
    "        z = self.reparameterize(mu, logvar)\n",
    "        return self.decode(z), mu, logvar"
   ]
  },
  {
   "cell_type": "code",
   "execution_count": 4,
   "id": "714bab78",
   "metadata": {
    "execution": {
     "iopub.execute_input": "2025-04-30T14:42:32.601553Z",
     "iopub.status.busy": "2025-04-30T14:42:32.600990Z",
     "iopub.status.idle": "2025-04-30T17:02:15.695304Z",
     "shell.execute_reply": "2025-04-30T17:02:15.694775Z"
    },
    "papermill": {
     "duration": 8383.097869,
     "end_time": "2025-04-30T17:02:15.696313",
     "exception": false,
     "start_time": "2025-04-30T14:42:32.598444",
     "status": "completed"
    },
    "tags": []
   },
   "outputs": [
    {
     "name": "stdout",
     "output_type": "stream",
     "text": [
      "Epoch 1, Loss: 979.8188\n"
     ]
    },
    {
     "name": "stdout",
     "output_type": "stream",
     "text": [
      "Epoch 2, Loss: 575.4782\n"
     ]
    },
    {
     "name": "stdout",
     "output_type": "stream",
     "text": [
      "Epoch 3, Loss: 512.8961\n"
     ]
    },
    {
     "name": "stdout",
     "output_type": "stream",
     "text": [
      "Epoch 4, Loss: 485.0720\n"
     ]
    },
    {
     "name": "stdout",
     "output_type": "stream",
     "text": [
      "Epoch 5, Loss: 469.1934\n"
     ]
    }
   ],
   "source": [
    "# Loss function\n",
    "def loss_function(recon_x, x, mu, logvar):\n",
    "    recon_loss = F.mse_loss(recon_x, x, reduction='sum')\n",
    "    KLD = -0.5 * torch.sum(1 + logvar - mu.pow(2) - logvar.exp())\n",
    "    return recon_loss + KLD\n",
    "\n",
    "# Initialize model, optimizer, fixed noise\n",
    "latent_dim = 128\n",
    "model = ConvVAE(latent_dim).to(device)\n",
    "optimizer = torch.optim.Adam(model.parameters(), lr=1e-4)\n",
    "fixed_z = torch.randn(64, latent_dim).to(device)\n",
    "os.makedirs(\"vae_outputs\", exist_ok=True)\n",
    "\n",
    "# Training loop\n",
    "epochs = 5\n",
    "for epoch in range(epochs):\n",
    "    model.train()\n",
    "    train_loss = 0\n",
    "    for batch_idx, (data, _) in enumerate(dataloader):\n",
    "        data = data.to(device)\n",
    "        optimizer.zero_grad()\n",
    "        recon_batch, mu, logvar = model(data)\n",
    "        loss = loss_function(recon_batch, data, mu, logvar)\n",
    "        loss.backward()\n",
    "        train_loss += loss.item()\n",
    "        optimizer.step()\n",
    "\n",
    "    avg_loss = train_loss / len(dataloader.dataset)\n",
    "    print(f\"Epoch {epoch+1}, Loss: {avg_loss:.4f}\")\n",
    "\n",
    "    # Save generated samples after each epoch\n",
    "    model.eval()\n",
    "    with torch.no_grad():\n",
    "        generated = model.decode(fixed_z).cpu()\n",
    "        generated = (generated + 1) / 2\n",
    "        save_image(generated, f\"vae_outputs/epoch_{epoch+1}.png\", nrow=8)"
   ]
  },
  {
   "cell_type": "code",
   "execution_count": 5,
   "id": "ce2a4c9c",
   "metadata": {
    "execution": {
     "iopub.execute_input": "2025-04-30T17:02:15.702750Z",
     "iopub.status.busy": "2025-04-30T17:02:15.702149Z",
     "iopub.status.idle": "2025-04-30T17:02:50.610061Z",
     "shell.execute_reply": "2025-04-30T17:02:50.609597Z"
    },
    "papermill": {
     "duration": 34.912086,
     "end_time": "2025-04-30T17:02:50.610957",
     "exception": false,
     "start_time": "2025-04-30T17:02:15.698871",
     "status": "completed"
    },
    "tags": []
   },
   "outputs": [
    {
     "name": "stdout",
     "output_type": "stream",
     "text": [
      "Generating 10,000 images...\n"
     ]
    },
    {
     "name": "stdout",
     "output_type": "stream",
     "text": [
      "Done! 10,000 images saved in: vae_outputs/generated\n"
     ]
    }
   ],
   "source": [
    "# Generate 10,000 images at 64x64\n",
    "output_dir = \"vae_outputs/generated\"\n",
    "os.makedirs(output_dir, exist_ok=True)\n",
    "total_images = 10000\n",
    "batch_size = 100\n",
    "model.eval()\n",
    "\n",
    "print(\"Generating 10,000 images...\")\n",
    "\n",
    "with torch.no_grad():\n",
    "    for i in range(0, total_images, batch_size):\n",
    "        z = torch.randn(batch_size, latent_dim).to(device)\n",
    "        samples = model.decode(z).cpu()\n",
    "        samples = (samples + 1) / 2\n",
    "        for j in range(samples.size(0)):\n",
    "            idx = i + j\n",
    "            filename = os.path.join(output_dir, f\"img_{idx:05d}.png\")\n",
    "            save_image(samples[j], filename)\n",
    "\n",
    "print(\"Done! 10,000 images saved in:\", output_dir)"
   ]
  }
 ],
 "metadata": {
  "kernelspec": {
   "display_name": ".venv",
   "language": "python",
   "name": "python3"
  },
  "language_info": {
   "codemirror_mode": {
    "name": "ipython",
    "version": 3
   },
   "file_extension": ".py",
   "mimetype": "text/x-python",
   "name": "python",
   "nbconvert_exporter": "python",
   "pygments_lexer": "ipython3",
   "version": "3.11.2"
  },
  "papermill": {
   "default_parameters": {},
   "duration": 8423.098123,
   "end_time": "2025-04-30T17:02:51.530369",
   "environment_variables": {},
   "exception": null,
   "input_path": "celebA-vAE.ipynb",
   "output_path": "scripts/celebA-vAE-20250430_104228.ipynb",
   "parameters": {},
   "start_time": "2025-04-30T14:42:28.432246",
   "version": "2.6.0"
  }
 },
 "nbformat": 4,
 "nbformat_minor": 5
}