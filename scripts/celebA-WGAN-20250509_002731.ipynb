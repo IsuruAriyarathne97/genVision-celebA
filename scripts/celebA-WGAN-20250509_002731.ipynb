{
 "cells": [
  {
   "cell_type": "markdown",
   "id": "301cf5df",
   "metadata": {
    "papermill": {
     "duration": 0.011559,
     "end_time": "2025-05-09T04:27:33.547676",
     "exception": false,
     "start_time": "2025-05-09T04:27:33.536117",
     "status": "completed"
    },
    "tags": []
   },
   "source": []
  },
  {
   "cell_type": "code",
   "execution_count": 1,
   "id": "2ac6cfa8",
   "metadata": {
    "execution": {
     "iopub.execute_input": "2025-05-09T04:27:33.564708Z",
     "iopub.status.busy": "2025-05-09T04:27:33.564304Z",
     "iopub.status.idle": "2025-05-09T04:27:38.082038Z",
     "shell.execute_reply": "2025-05-09T04:27:38.081534Z"
    },
    "papermill": {
     "duration": 4.526878,
     "end_time": "2025-05-09T04:27:38.083303",
     "exception": false,
     "start_time": "2025-05-09T04:27:33.556425",
     "status": "completed"
    },
    "tags": []
   },
   "outputs": [
    {
     "name": "stderr",
     "output_type": "stream",
     "text": [
      "/sciclone/data10/jrhee01/genVision-celebA/gen-env/lib64/python3.9/site-packages/networkx/utils/backends.py:135: RuntimeWarning: networkx backend defined more than once: nx-loopback\n",
      "  backends.update(_get_backends(\"networkx.backends\"))\n"
     ]
    }
   ],
   "source": [
    "import torch\n",
    "import torch.nn as nn\n",
    "import torch.optim as optim\n",
    "from torchvision.utils import save_image\n",
    "from tqdm import tqdm\n",
    "import os\n",
    "from torchvision import datasets, transforms\n",
    "from torch.utils.data import DataLoader\n",
    "from torch import autograd\n"
   ]
  },
  {
   "cell_type": "code",
   "execution_count": 2,
   "id": "a71bbdd2",
   "metadata": {
    "execution": {
     "iopub.execute_input": "2025-05-09T04:27:38.092478Z",
     "iopub.status.busy": "2025-05-09T04:27:38.091656Z",
     "iopub.status.idle": "2025-05-09T04:27:38.096001Z",
     "shell.execute_reply": "2025-05-09T04:27:38.095604Z"
    },
    "papermill": {
     "duration": 0.009596,
     "end_time": "2025-05-09T04:27:38.096920",
     "exception": false,
     "start_time": "2025-05-09T04:27:38.087324",
     "status": "completed"
    },
    "tags": []
   },
   "outputs": [
    {
     "name": "stdout",
     "output_type": "stream",
     "text": [
      "/sciclone/data10/jrhee01/genVision-celebA\n"
     ]
    }
   ],
   "source": [
    "print(os.getcwd())\n"
   ]
  },
  {
   "cell_type": "code",
   "execution_count": 3,
   "id": "f2d69770",
   "metadata": {
    "execution": {
     "iopub.execute_input": "2025-05-09T04:27:38.105195Z",
     "iopub.status.busy": "2025-05-09T04:27:38.104495Z",
     "iopub.status.idle": "2025-05-09T04:27:48.115309Z",
     "shell.execute_reply": "2025-05-09T04:27:48.114690Z"
    },
    "papermill": {
     "duration": 10.015884,
     "end_time": "2025-05-09T04:27:48.116417",
     "exception": false,
     "start_time": "2025-05-09T04:27:38.100533",
     "status": "completed"
    },
    "tags": []
   },
   "outputs": [
    {
     "name": "stderr",
     "output_type": "stream",
     "text": [
      "/sciclone/data10/jrhee01/genVision-celebA/gen-env/lib64/python3.9/site-packages/torch/utils/data/dataloader.py:626: UserWarning: This DataLoader will create 4 worker processes in total. Our suggested max number of worker in current system is 1, which is smaller than what this DataLoader is going to create. Please be aware that excessive worker creation might get DataLoader running slow or even freeze, lower the worker number to avoid potential slowness/freeze if necessary.\n",
      "  warnings.warn(\n"
     ]
    }
   ],
   "source": [
    "# Load Dataset\n",
    "\n",
    "image_dir = \"celebA/celeba/img_align_celeba\"\n",
    "os.makedirs(\"test\", exist_ok=True)\n",
    "\n",
    "transform = transforms.Compose([\n",
    "    transforms.CenterCrop(160),\n",
    "    transforms.Resize(64),\n",
    "    transforms.RandomHorizontalFlip(),\n",
    "    transforms.ToTensor(),\n",
    "    transforms.Normalize((0.5,), (0.5,))\n",
    "])\n",
    "\n",
    "full_dataset = datasets.ImageFolder(root=image_dir, transform=transform)\n",
    "\n",
    "dataloader = DataLoader(full_dataset, batch_size=64, shuffle=True, num_workers=4, pin_memory=True)"
   ]
  },
  {
   "cell_type": "code",
   "execution_count": 4,
   "id": "b1023346",
   "metadata": {
    "execution": {
     "iopub.execute_input": "2025-05-09T04:27:48.125839Z",
     "iopub.status.busy": "2025-05-09T04:27:48.125095Z",
     "iopub.status.idle": "2025-05-09T04:27:48.134670Z",
     "shell.execute_reply": "2025-05-09T04:27:48.134259Z"
    },
    "papermill": {
     "duration": 0.015074,
     "end_time": "2025-05-09T04:27:48.135637",
     "exception": false,
     "start_time": "2025-05-09T04:27:48.120563",
     "status": "completed"
    },
    "tags": []
   },
   "outputs": [],
   "source": [
    "class Generator(nn.Module):\n",
    "    def __init__(self, z_dim=100, img_channels=3, features_g=64):\n",
    "        super(Generator, self).__init__()\n",
    "        self.net = nn.Sequential(\n",
    "            nn.ConvTranspose2d(z_dim, features_g * 8, 4, 1, 0, bias=False),\n",
    "            nn.BatchNorm2d(features_g * 8),\n",
    "            nn.ReLU(True),\n",
    "            nn.ConvTranspose2d(features_g * 8, features_g * 4, 4, 2, 1, bias=False),\n",
    "            nn.BatchNorm2d(features_g * 4),\n",
    "            nn.ReLU(True),\n",
    "            nn.ConvTranspose2d(features_g * 4, features_g * 2, 4, 2, 1, bias=False),\n",
    "            nn.BatchNorm2d(features_g * 2),\n",
    "            nn.ReLU(True),\n",
    "            nn.ConvTranspose2d(features_g * 2, features_g, 4, 2, 1, bias=False),\n",
    "            nn.BatchNorm2d(features_g),\n",
    "            nn.ReLU(True),\n",
    "            nn.ConvTranspose2d(features_g, img_channels, 4, 2, 1, bias=False),\n",
    "            nn.Tanh()\n",
    "        )\n",
    "\n",
    "    def forward(self, z):\n",
    "        return self.net(z)\n",
    "\n",
    "class Discriminator(nn.Module):\n",
    "    def __init__(self, img_channels=3, features_d=64):\n",
    "        super(Discriminator, self).__init__()\n",
    "        self.net = nn.Sequential(\n",
    "            nn.Conv2d(img_channels, features_d, 4, 2, 1, bias=False),\n",
    "            nn.LeakyReLU(0.2, inplace=True),\n",
    "            nn.Conv2d(features_d, features_d * 2, 4, 2, 1, bias=False),\n",
    "            nn.LeakyReLU(0.2, inplace=True),\n",
    "            nn.Conv2d(features_d * 2, features_d * 4, 4, 2, 1, bias=False),\n",
    "            nn.LeakyReLU(0.2, inplace=True),\n",
    "            nn.Conv2d(features_d * 4, features_d * 8, 4, 2, 1, bias=False),\n",
    "            nn.LeakyReLU(0.2, inplace=True),\n",
    "            nn.Conv2d(features_d * 8, 1, 4, 1, 0, bias=False)  # <- no sigmoid\n",
    "        )\n",
    "\n",
    "    def forward(self, img):\n",
    "        return self.net(img).view(-1)"
   ]
  },
  {
   "cell_type": "code",
   "execution_count": 5,
   "id": "dee988bc",
   "metadata": {
    "execution": {
     "iopub.execute_input": "2025-05-09T04:27:48.144209Z",
     "iopub.status.busy": "2025-05-09T04:27:48.143510Z",
     "iopub.status.idle": "2025-05-09T04:27:48.149752Z",
     "shell.execute_reply": "2025-05-09T04:27:48.149334Z"
    },
    "papermill": {
     "duration": 0.011459,
     "end_time": "2025-05-09T04:27:48.150694",
     "exception": false,
     "start_time": "2025-05-09T04:27:48.139235",
     "status": "completed"
    },
    "tags": []
   },
   "outputs": [],
   "source": [
    "class Generator(torch.nn.Module):\n",
    "    def __init__(self, z_dim=100, img_channels=3):\n",
    "        super().__init__()\n",
    "\n",
    "        self.main_module = nn.Sequential(\n",
    "            # Latent vector z_dim → 1024 filters → 4x4\n",
    "            nn.ConvTranspose2d(in_channels=z_dim, out_channels=1024, kernel_size=4, stride=1, padding=0),\n",
    "            nn.BatchNorm2d(1024),\n",
    "            nn.ReLU(True),\n",
    "\n",
    "            # 1024x4x4 → 512x8x8\n",
    "            nn.ConvTranspose2d(in_channels=1024, out_channels=512, kernel_size=4, stride=2, padding=1),\n",
    "            nn.BatchNorm2d(512),\n",
    "            nn.ReLU(True),\n",
    "\n",
    "            # 512x8x8 → 256x16x16\n",
    "            nn.ConvTranspose2d(in_channels=512, out_channels=256, kernel_size=4, stride=2, padding=1),\n",
    "            nn.BatchNorm2d(256),\n",
    "            nn.ReLU(True),\n",
    "\n",
    "            # 256x16x16 → 128x32x32\n",
    "            nn.ConvTranspose2d(in_channels=256, out_channels=128, kernel_size=4, stride=2, padding=1),\n",
    "            nn.BatchNorm2d(128),\n",
    "            nn.ReLU(True),\n",
    "\n",
    "            # 128x32x32 → img_channels x64x64\n",
    "            nn.ConvTranspose2d(in_channels=128, out_channels=img_channels, kernel_size=4, stride=2, padding=1)\n",
    "        )\n",
    "\n",
    "        self.output = nn.Tanh()\n",
    "\n",
    "    def forward(self, z):\n",
    "        return self.output(self.main_module(z))\n"
   ]
  },
  {
   "cell_type": "code",
   "execution_count": 6,
   "id": "e0c405ac",
   "metadata": {
    "execution": {
     "iopub.execute_input": "2025-05-09T04:27:48.159558Z",
     "iopub.status.busy": "2025-05-09T04:27:48.158875Z",
     "iopub.status.idle": "2025-05-09T04:27:48.165003Z",
     "shell.execute_reply": "2025-05-09T04:27:48.164604Z"
    },
    "papermill": {
     "duration": 0.011541,
     "end_time": "2025-05-09T04:27:48.165940",
     "exception": false,
     "start_time": "2025-05-09T04:27:48.154399",
     "status": "completed"
    },
    "tags": []
   },
   "outputs": [],
   "source": [
    "class Discriminator(torch.nn.Module):\n",
    "    def __init__(self, img_channels=3):\n",
    "        super().__init__()\n",
    "        \n",
    "        # Filters: [64, 128, 256, 512]\n",
    "        # Input_dim = img_channels (3 for RGB)\n",
    "        # Output_dim = 1 (real/fake score)\n",
    "        \n",
    "        self.main_module = nn.Sequential(\n",
    "            # Input: img_channels x64x64\n",
    "            nn.Conv2d(in_channels=img_channels, out_channels=64, kernel_size=4, stride=2, padding=1, bias=False),\n",
    "            nn.LeakyReLU(0.2, inplace=True),\n",
    "            \n",
    "            # 64x32x32\n",
    "            nn.Conv2d(in_channels=64, out_channels=128, kernel_size=4, stride=2, padding=1, bias=False),\n",
    "            nn.LeakyReLU(0.2, inplace=True),\n",
    "            \n",
    "            # 128x16x16\n",
    "            nn.Conv2d(in_channels=128, out_channels=256, kernel_size=4, stride=2, padding=1, bias=False),\n",
    "            nn.LeakyReLU(0.2, inplace=True),\n",
    "            \n",
    "            # 256x8x8\n",
    "            nn.Conv2d(in_channels=256, out_channels=512, kernel_size=4, stride=2, padding=1, bias=False),\n",
    "            nn.LeakyReLU(0.2, inplace=True),\n",
    "            \n",
    "            # 512x4x4 → output 1x1\n",
    "            nn.Conv2d(in_channels=512, out_channels=1, kernel_size=4, stride=1, padding=0, bias=False)\n",
    "        )\n",
    "\n",
    "    def forward(self, x):\n",
    "        x = self.main_module(x)\n",
    "        return x.view(-1)\n"
   ]
  },
  {
   "cell_type": "code",
   "execution_count": 7,
   "id": "0c1e74f7",
   "metadata": {
    "execution": {
     "iopub.execute_input": "2025-05-09T04:27:48.175520Z",
     "iopub.status.busy": "2025-05-09T04:27:48.174843Z",
     "iopub.status.idle": "2025-05-09T04:27:48.180327Z",
     "shell.execute_reply": "2025-05-09T04:27:48.179915Z"
    },
    "papermill": {
     "duration": 0.01123,
     "end_time": "2025-05-09T04:27:48.181269",
     "exception": false,
     "start_time": "2025-05-09T04:27:48.170039",
     "status": "completed"
    },
    "tags": []
   },
   "outputs": [],
   "source": [
    "# Gradient Penalty function\n",
    "def gradient_penalty(D, real, fake, device):\n",
    "    # Get the batch size (number of samples in the batch)\n",
    "    batch_size = real.size(0)\n",
    "    # Generate random interpolation coefficients epsilon for each sample\n",
    "    # Shape: [batch_size, 1, 1, 1] so it can broadcast across all image dimensions (C, H, W)\n",
    "    epsilon = torch.rand(batch_size, 1, 1, 1, device=device)\n",
    "    # Interpolate between real and fake images:\n",
    "    # interpolated = epsilon * real + (1 - epsilon) * fake\n",
    "    # This creates points along the lines between real and fake samples\n",
    "    interpolated = epsilon * real + (1 - epsilon) * fake\n",
    "    # Tell PyTorch to track gradients for interpolated samples (needed to compute gradient penalty)\n",
    "    interpolated.requires_grad_(True)\n",
    "    # Pass interpolated samples through the discriminator (critic) to get scores\n",
    "    interp_logits = D(interpolated)\n",
    "    # Compute gradients of the critic output w.r.t. the interpolated samples\n",
    "    # grad() returns a tuple → take the first element\n",
    "    gradients = autograd.grad(\n",
    "        outputs=interp_logits,\n",
    "        inputs=interpolated,\n",
    "        grad_outputs=torch.ones_like(interp_logits, device=device),\n",
    "        create_graph=True,\n",
    "        retain_graph=True,\n",
    "        only_inputs=True\n",
    "    )[0]\n",
    "    # Flatten gradients for each sample into vectors (combine channel, height, width into one dimension)\n",
    "    gradients = gradients.view(batch_size, -1)\n",
    "    # Compute L2 norm (Euclidean norm) of gradients for each sample\n",
    "    # This measures how large the gradients are for each interpolated image\n",
    "    gradient_norm = gradients.norm(2, dim=1)\n",
    "    #Compute gradient penalty:\n",
    "    # Penalize the squared difference from 1 for each sample's gradient norm\n",
    "    # Then take the average across the batch\n",
    "    gp = ((gradient_norm - 1) ** 2).mean()\n",
    "    return gp"
   ]
  },
  {
   "cell_type": "code",
   "execution_count": 8,
   "id": "e2ff1f55",
   "metadata": {
    "execution": {
     "iopub.execute_input": "2025-05-09T04:27:48.190128Z",
     "iopub.status.busy": "2025-05-09T04:27:48.189439Z",
     "iopub.status.idle": "2025-05-09T04:27:48.303618Z",
     "shell.execute_reply": "2025-05-09T04:27:48.303206Z"
    },
    "papermill": {
     "duration": 0.119309,
     "end_time": "2025-05-09T04:27:48.304551",
     "exception": false,
     "start_time": "2025-05-09T04:27:48.185242",
     "status": "completed"
    },
    "tags": []
   },
   "outputs": [
    {
     "name": "stdout",
     "output_type": "stream",
     "text": [
      "cpu\n"
     ]
    }
   ],
   "source": [
    "device = torch.device(\"cuda\" if torch.cuda.is_available() else \"cpu\")\n",
    "print(device)\n",
    "\n",
    "# Define latent vector size (input noise dimension for generator)\n",
    "z_dim = 100\n",
    "# Set learning rate for both generator and discriminator optimizers\n",
    "lr = 2e-4\n",
    "# Number of epochs to train\n",
    "n_epochs = 5\n",
    "# Batch size for training\n",
    "batch_size = 64\n",
    "# Initialize the Generator model and move it to the selected device \n",
    "G = Generator(z_dim).to(device)\n",
    "# Initialize the Discriminator (critic) model and move it to the selected device\n",
    "D = Discriminator().to(device)\n",
    "\n",
    "# Adam optimizer for the generator and discriminator\n",
    "optimizer_G = optim.Adam(G.parameters(), lr=lr, betas=(0.5, 0.999))\n",
    "optimizer_D = optim.Adam(D.parameters(), lr=lr, betas=(0.5, 0.999))\n",
    "\n",
    "# Prepare a fixed random noise vector to generate consistent sample images across epochs \n",
    "fixed_noise = torch.randn(64, z_dim, 1, 1, device=device)\n"
   ]
  },
  {
   "cell_type": "code",
   "execution_count": 9,
   "id": "b4314c95",
   "metadata": {
    "execution": {
     "iopub.execute_input": "2025-05-09T04:27:48.313671Z",
     "iopub.status.busy": "2025-05-09T04:27:48.312968Z"
    },
    "papermill": {
     "duration": null,
     "end_time": null,
     "exception": false,
     "start_time": "2025-05-09T04:27:48.308499",
     "status": "running"
    },
    "tags": []
   },
   "outputs": [
    {
     "name": "stderr",
     "output_type": "stream",
     "text": [
      "\r",
      "Epoch 1/5:   0%|          | 0/3166 [00:00<?, ?it/s]"
     ]
    },
    {
     "name": "stderr",
     "output_type": "stream",
     "text": [
      "/sciclone/data10/jrhee01/genVision-celebA/gen-env/lib64/python3.9/site-packages/torch/utils/data/dataloader.py:665: UserWarning: 'pin_memory' argument is set as true but no accelerator is found, then device pinned memory won't be used.\n",
      "  warnings.warn(warn_msg)\n"
     ]
    },
    {
     "name": "stderr",
     "output_type": "stream",
     "text": [
      "\r",
      "Epoch 1/5:   0%|          | 1/3166 [00:16<14:14:20, 16.20s/it]"
     ]
    },
    {
     "name": "stderr",
     "output_type": "stream",
     "text": [
      "\r",
      "Epoch 1/5:   0%|          | 2/3166 [00:29<12:45:37, 14.52s/it]"
     ]
    },
    {
     "name": "stderr",
     "output_type": "stream",
     "text": [
      "\r",
      "Epoch 1/5:   0%|          | 3/3166 [00:42<12:17:10, 13.98s/it]"
     ]
    },
    {
     "name": "stderr",
     "output_type": "stream",
     "text": [
      "\r",
      "Epoch 1/5:   0%|          | 4/3166 [00:56<12:03:36, 13.73s/it]"
     ]
    },
    {
     "name": "stderr",
     "output_type": "stream",
     "text": [
      "\r",
      "Epoch 1/5:   0%|          | 5/3166 [01:09<11:55:24, 13.58s/it]"
     ]
    },
    {
     "name": "stderr",
     "output_type": "stream",
     "text": [
      "\r",
      "Epoch 1/5:   0%|          | 6/3166 [01:22<11:50:01, 13.48s/it]"
     ]
    },
    {
     "name": "stderr",
     "output_type": "stream",
     "text": [
      "\r",
      "Epoch 1/5:   0%|          | 7/3166 [01:36<11:46:49, 13.43s/it]"
     ]
    },
    {
     "name": "stderr",
     "output_type": "stream",
     "text": [
      "\r",
      "Epoch 1/5:   0%|          | 8/3166 [01:49<11:44:56, 13.39s/it]"
     ]
    },
    {
     "name": "stderr",
     "output_type": "stream",
     "text": [
      "\r",
      "Epoch 1/5:   0%|          | 9/3166 [02:02<11:43:57, 13.38s/it]"
     ]
    },
    {
     "name": "stderr",
     "output_type": "stream",
     "text": [
      "\r",
      "Epoch 1/5:   0%|          | 10/3166 [02:16<11:41:48, 13.34s/it]"
     ]
    },
    {
     "name": "stderr",
     "output_type": "stream",
     "text": [
      "\r",
      "Epoch 1/5:   0%|          | 11/3166 [02:29<11:39:46, 13.31s/it]"
     ]
    },
    {
     "name": "stderr",
     "output_type": "stream",
     "text": [
      "\r",
      "Epoch 1/5:   0%|          | 12/3166 [02:42<11:40:16, 13.32s/it]"
     ]
    },
    {
     "name": "stderr",
     "output_type": "stream",
     "text": [
      "\r",
      "Epoch 1/5:   0%|          | 13/3166 [02:55<11:39:55, 13.32s/it]"
     ]
    },
    {
     "name": "stderr",
     "output_type": "stream",
     "text": [
      "\r",
      "Epoch 1/5:   0%|          | 14/3166 [03:09<11:39:57, 13.32s/it]"
     ]
    },
    {
     "name": "stderr",
     "output_type": "stream",
     "text": [
      "\r",
      "Epoch 1/5:   0%|          | 15/3166 [03:22<11:39:06, 13.31s/it]"
     ]
    },
    {
     "name": "stderr",
     "output_type": "stream",
     "text": [
      "\r",
      "Epoch 1/5:   1%|          | 16/3166 [03:35<11:38:08, 13.30s/it]"
     ]
    },
    {
     "name": "stderr",
     "output_type": "stream",
     "text": [
      "\r",
      "Epoch 1/5:   1%|          | 17/3166 [03:49<11:36:26, 13.27s/it]"
     ]
    },
    {
     "name": "stderr",
     "output_type": "stream",
     "text": [
      "\r",
      "Epoch 1/5:   1%|          | 18/3166 [04:02<11:36:42, 13.28s/it]"
     ]
    },
    {
     "name": "stderr",
     "output_type": "stream",
     "text": [
      "\r",
      "Epoch 1/5:   1%|          | 19/3166 [04:15<11:37:20, 13.30s/it]"
     ]
    },
    {
     "name": "stderr",
     "output_type": "stream",
     "text": [
      "\r",
      "Epoch 1/5:   1%|          | 20/3166 [04:29<11:37:16, 13.30s/it]"
     ]
    },
    {
     "name": "stderr",
     "output_type": "stream",
     "text": [
      "\r",
      "Epoch 1/5:   1%|          | 21/3166 [04:42<11:37:18, 13.30s/it]"
     ]
    },
    {
     "name": "stderr",
     "output_type": "stream",
     "text": [
      "\r",
      "Epoch 1/5:   1%|          | 22/3166 [04:55<11:36:47, 13.30s/it]"
     ]
    },
    {
     "name": "stderr",
     "output_type": "stream",
     "text": [
      "\r",
      "Epoch 1/5:   1%|          | 23/3166 [05:08<11:37:20, 13.31s/it]"
     ]
    },
    {
     "name": "stderr",
     "output_type": "stream",
     "text": [
      "\r",
      "Epoch 1/5:   1%|          | 24/3166 [05:22<11:36:53, 13.31s/it]"
     ]
    },
    {
     "name": "stderr",
     "output_type": "stream",
     "text": [
      "\r",
      "Epoch 1/5:   1%|          | 25/3166 [05:35<11:36:34, 13.31s/it]"
     ]
    },
    {
     "name": "stderr",
     "output_type": "stream",
     "text": [
      "\r",
      "Epoch 1/5:   1%|          | 26/3166 [05:48<11:35:28, 13.29s/it]"
     ]
    },
    {
     "name": "stderr",
     "output_type": "stream",
     "text": [
      "\r",
      "Epoch 1/5:   1%|          | 27/3166 [06:02<11:35:10, 13.29s/it]"
     ]
    },
    {
     "name": "stderr",
     "output_type": "stream",
     "text": [
      "\r",
      "Epoch 1/5:   1%|          | 28/3166 [06:15<11:35:07, 13.29s/it]"
     ]
    },
    {
     "name": "stderr",
     "output_type": "stream",
     "text": [
      "\r",
      "Epoch 1/5:   1%|          | 29/3166 [06:28<11:34:39, 13.29s/it]"
     ]
    },
    {
     "name": "stderr",
     "output_type": "stream",
     "text": [
      "\r",
      "Epoch 1/5:   1%|          | 30/3166 [06:41<11:34:13, 13.28s/it]"
     ]
    },
    {
     "name": "stderr",
     "output_type": "stream",
     "text": [
      "\r",
      "Epoch 1/5:   1%|          | 31/3166 [06:55<11:34:22, 13.29s/it]"
     ]
    },
    {
     "name": "stderr",
     "output_type": "stream",
     "text": [
      "\r",
      "Epoch 1/5:   1%|          | 32/3166 [07:08<11:33:54, 13.28s/it]"
     ]
    },
    {
     "name": "stderr",
     "output_type": "stream",
     "text": [
      "\r",
      "Epoch 1/5:   1%|          | 33/3166 [07:21<11:34:44, 13.31s/it]"
     ]
    },
    {
     "name": "stderr",
     "output_type": "stream",
     "text": [
      "\r",
      "Epoch 1/5:   1%|          | 34/3166 [07:35<11:35:13, 13.32s/it]"
     ]
    },
    {
     "name": "stderr",
     "output_type": "stream",
     "text": [
      "\r",
      "Epoch 1/5:   1%|          | 35/3166 [07:48<11:34:48, 13.31s/it]"
     ]
    },
    {
     "name": "stderr",
     "output_type": "stream",
     "text": [
      "\r",
      "Epoch 1/5:   1%|          | 36/3166 [08:01<11:34:56, 13.32s/it]"
     ]
    },
    {
     "name": "stderr",
     "output_type": "stream",
     "text": [
      "\r",
      "Epoch 1/5:   1%|          | 37/3166 [08:15<11:34:26, 13.32s/it]"
     ]
    },
    {
     "name": "stderr",
     "output_type": "stream",
     "text": [
      "\r",
      "Epoch 1/5:   1%|          | 38/3166 [08:28<11:35:03, 13.33s/it]"
     ]
    },
    {
     "name": "stderr",
     "output_type": "stream",
     "text": [
      "\r",
      "Epoch 1/5:   1%|          | 39/3166 [08:41<11:34:14, 13.32s/it]"
     ]
    },
    {
     "name": "stderr",
     "output_type": "stream",
     "text": [
      "\r",
      "Epoch 1/5:   1%|▏         | 40/3166 [08:55<11:34:56, 13.34s/it]"
     ]
    },
    {
     "name": "stderr",
     "output_type": "stream",
     "text": [
      "\r",
      "Epoch 1/5:   1%|▏         | 41/3166 [09:08<11:34:39, 13.34s/it]"
     ]
    },
    {
     "name": "stderr",
     "output_type": "stream",
     "text": [
      "\r",
      "Epoch 1/5:   1%|▏         | 42/3166 [09:21<11:34:24, 13.34s/it]"
     ]
    },
    {
     "name": "stderr",
     "output_type": "stream",
     "text": [
      "\r",
      "Epoch 1/5:   1%|▏         | 43/3166 [09:35<11:34:16, 13.34s/it]"
     ]
    },
    {
     "name": "stderr",
     "output_type": "stream",
     "text": [
      "\r",
      "Epoch 1/5:   1%|▏         | 44/3166 [09:48<11:33:45, 13.33s/it]"
     ]
    },
    {
     "name": "stderr",
     "output_type": "stream",
     "text": [
      "\r",
      "Epoch 1/5:   1%|▏         | 45/3166 [10:01<11:33:21, 13.33s/it]"
     ]
    },
    {
     "name": "stderr",
     "output_type": "stream",
     "text": [
      "\r",
      "Epoch 1/5:   1%|▏         | 46/3166 [10:15<11:33:02, 13.33s/it]"
     ]
    },
    {
     "name": "stderr",
     "output_type": "stream",
     "text": [
      "\r",
      "Epoch 1/5:   1%|▏         | 47/3166 [10:28<11:33:04, 13.33s/it]"
     ]
    },
    {
     "name": "stderr",
     "output_type": "stream",
     "text": [
      "\r",
      "Epoch 1/5:   2%|▏         | 48/3166 [10:41<11:32:24, 13.32s/it]"
     ]
    },
    {
     "name": "stderr",
     "output_type": "stream",
     "text": [
      "\r",
      "Epoch 1/5:   2%|▏         | 49/3166 [10:55<11:31:27, 13.31s/it]"
     ]
    },
    {
     "name": "stderr",
     "output_type": "stream",
     "text": [
      "\r",
      "Epoch 1/5:   2%|▏         | 50/3166 [11:08<11:30:03, 13.29s/it]"
     ]
    },
    {
     "name": "stderr",
     "output_type": "stream",
     "text": [
      "\r",
      "Epoch 1/5:   2%|▏         | 51/3166 [11:21<11:28:30, 13.26s/it]"
     ]
    },
    {
     "name": "stderr",
     "output_type": "stream",
     "text": [
      "\r",
      "Epoch 1/5:   2%|▏         | 52/3166 [11:34<11:27:50, 13.25s/it]"
     ]
    },
    {
     "name": "stderr",
     "output_type": "stream",
     "text": [
      "\r",
      "Epoch 1/5:   2%|▏         | 53/3166 [11:48<11:28:48, 13.28s/it]"
     ]
    },
    {
     "name": "stderr",
     "output_type": "stream",
     "text": [
      "\r",
      "Epoch 1/5:   2%|▏         | 54/3166 [12:01<11:28:55, 13.28s/it]"
     ]
    },
    {
     "name": "stderr",
     "output_type": "stream",
     "text": [
      "\r",
      "Epoch 1/5:   2%|▏         | 55/3166 [12:14<11:29:00, 13.29s/it]"
     ]
    },
    {
     "name": "stderr",
     "output_type": "stream",
     "text": [
      "\r",
      "Epoch 1/5:   2%|▏         | 56/3166 [12:28<11:29:17, 13.30s/it]"
     ]
    },
    {
     "name": "stderr",
     "output_type": "stream",
     "text": [
      "\r",
      "Epoch 1/5:   2%|▏         | 57/3166 [12:41<11:30:00, 13.32s/it]"
     ]
    },
    {
     "name": "stderr",
     "output_type": "stream",
     "text": [
      "\r",
      "Epoch 1/5:   2%|▏         | 58/3166 [12:54<11:31:05, 13.34s/it]"
     ]
    },
    {
     "name": "stderr",
     "output_type": "stream",
     "text": [
      "\r",
      "Epoch 1/5:   2%|▏         | 59/3166 [13:08<11:30:45, 13.34s/it]"
     ]
    },
    {
     "name": "stderr",
     "output_type": "stream",
     "text": [
      "\r",
      "Epoch 1/5:   2%|▏         | 60/3166 [13:21<11:30:38, 13.34s/it]"
     ]
    },
    {
     "name": "stderr",
     "output_type": "stream",
     "text": [
      "\r",
      "Epoch 1/5:   2%|▏         | 61/3166 [13:34<11:29:38, 13.33s/it]"
     ]
    },
    {
     "name": "stderr",
     "output_type": "stream",
     "text": [
      "\r",
      "Epoch 1/5:   2%|▏         | 62/3166 [13:48<11:29:30, 13.33s/it]"
     ]
    },
    {
     "name": "stderr",
     "output_type": "stream",
     "text": [
      "\r",
      "Epoch 1/5:   2%|▏         | 63/3166 [14:01<11:28:21, 13.31s/it]"
     ]
    },
    {
     "name": "stderr",
     "output_type": "stream",
     "text": [
      "\r",
      "Epoch 1/5:   2%|▏         | 64/3166 [14:14<11:28:46, 13.32s/it]"
     ]
    },
    {
     "name": "stderr",
     "output_type": "stream",
     "text": [
      "\r",
      "Epoch 1/5:   2%|▏         | 65/3166 [14:27<11:28:02, 13.31s/it]"
     ]
    },
    {
     "name": "stderr",
     "output_type": "stream",
     "text": [
      "\r",
      "Epoch 1/5:   2%|▏         | 66/3166 [14:41<11:27:58, 13.32s/it]"
     ]
    },
    {
     "name": "stderr",
     "output_type": "stream",
     "text": [
      "\r",
      "Epoch 1/5:   2%|▏         | 67/3166 [14:54<11:27:14, 13.31s/it]"
     ]
    },
    {
     "name": "stderr",
     "output_type": "stream",
     "text": [
      "\r",
      "Epoch 1/5:   2%|▏         | 68/3166 [15:07<11:28:03, 13.33s/it]"
     ]
    },
    {
     "name": "stderr",
     "output_type": "stream",
     "text": [
      "\r",
      "Epoch 1/5:   2%|▏         | 69/3166 [15:21<11:28:06, 13.33s/it]"
     ]
    },
    {
     "name": "stderr",
     "output_type": "stream",
     "text": [
      "\r",
      "Epoch 1/5:   2%|▏         | 70/3166 [15:34<11:28:30, 13.34s/it]"
     ]
    },
    {
     "name": "stderr",
     "output_type": "stream",
     "text": [
      "\r",
      "Epoch 1/5:   2%|▏         | 71/3166 [15:48<11:28:07, 13.34s/it]"
     ]
    },
    {
     "name": "stderr",
     "output_type": "stream",
     "text": [
      "\r",
      "Epoch 1/5:   2%|▏         | 72/3166 [16:01<11:26:44, 13.32s/it]"
     ]
    },
    {
     "name": "stderr",
     "output_type": "stream",
     "text": [
      "\r",
      "Epoch 1/5:   2%|▏         | 73/3166 [16:14<11:25:36, 13.30s/it]"
     ]
    },
    {
     "name": "stderr",
     "output_type": "stream",
     "text": [
      "\r",
      "Epoch 1/5:   2%|▏         | 74/3166 [16:27<11:24:49, 13.29s/it]"
     ]
    },
    {
     "name": "stderr",
     "output_type": "stream",
     "text": [
      "\r",
      "Epoch 1/5:   2%|▏         | 75/3166 [16:41<11:25:15, 13.30s/it]"
     ]
    },
    {
     "name": "stderr",
     "output_type": "stream",
     "text": [
      "\r",
      "Epoch 1/5:   2%|▏         | 76/3166 [16:54<11:26:01, 13.32s/it]"
     ]
    },
    {
     "name": "stderr",
     "output_type": "stream",
     "text": [
      "\r",
      "Epoch 1/5:   2%|▏         | 77/3166 [17:07<11:25:25, 13.31s/it]"
     ]
    },
    {
     "name": "stderr",
     "output_type": "stream",
     "text": [
      "\r",
      "Epoch 1/5:   2%|▏         | 78/3166 [17:21<11:25:18, 13.32s/it]"
     ]
    },
    {
     "name": "stderr",
     "output_type": "stream",
     "text": [
      "\r",
      "Epoch 1/5:   2%|▏         | 79/3166 [17:34<11:24:23, 13.30s/it]"
     ]
    },
    {
     "name": "stderr",
     "output_type": "stream",
     "text": [
      "\r",
      "Epoch 1/5:   3%|▎         | 80/3166 [17:47<11:24:46, 13.31s/it]"
     ]
    },
    {
     "name": "stderr",
     "output_type": "stream",
     "text": [
      "\r",
      "Epoch 1/5:   3%|▎         | 81/3166 [18:01<11:24:21, 13.31s/it]"
     ]
    },
    {
     "name": "stderr",
     "output_type": "stream",
     "text": [
      "\r",
      "Epoch 1/5:   3%|▎         | 82/3166 [18:14<11:23:23, 13.30s/it]"
     ]
    },
    {
     "name": "stderr",
     "output_type": "stream",
     "text": [
      "\r",
      "Epoch 1/5:   3%|▎         | 83/3166 [18:27<11:23:41, 13.31s/it]"
     ]
    },
    {
     "name": "stderr",
     "output_type": "stream",
     "text": [
      "\r",
      "Epoch 1/5:   3%|▎         | 84/3166 [18:40<11:23:28, 13.31s/it]"
     ]
    },
    {
     "name": "stderr",
     "output_type": "stream",
     "text": [
      "\r",
      "Epoch 1/5:   3%|▎         | 85/3166 [18:54<11:23:04, 13.30s/it]"
     ]
    },
    {
     "name": "stderr",
     "output_type": "stream",
     "text": [
      "\r",
      "Epoch 1/5:   3%|▎         | 86/3166 [19:07<11:22:24, 13.29s/it]"
     ]
    },
    {
     "name": "stderr",
     "output_type": "stream",
     "text": [
      "\r",
      "Epoch 1/5:   3%|▎         | 87/3166 [19:20<11:21:21, 13.28s/it]"
     ]
    },
    {
     "name": "stderr",
     "output_type": "stream",
     "text": [
      "\r",
      "Epoch 1/5:   3%|▎         | 88/3166 [19:34<11:21:12, 13.28s/it]"
     ]
    },
    {
     "name": "stderr",
     "output_type": "stream",
     "text": [
      "\r",
      "Epoch 1/5:   3%|▎         | 89/3166 [19:47<11:21:28, 13.29s/it]"
     ]
    },
    {
     "name": "stderr",
     "output_type": "stream",
     "text": [
      "\r",
      "Epoch 1/5:   3%|▎         | 90/3166 [20:00<11:21:02, 13.28s/it]"
     ]
    },
    {
     "name": "stderr",
     "output_type": "stream",
     "text": [
      "\r",
      "Epoch 1/5:   3%|▎         | 91/3166 [20:13<11:20:43, 13.28s/it]"
     ]
    },
    {
     "name": "stderr",
     "output_type": "stream",
     "text": [
      "\r",
      "Epoch 1/5:   3%|▎         | 92/3166 [20:27<11:20:46, 13.29s/it]"
     ]
    },
    {
     "name": "stderr",
     "output_type": "stream",
     "text": [
      "\r",
      "Epoch 1/5:   3%|▎         | 93/3166 [20:40<11:19:37, 13.27s/it]"
     ]
    },
    {
     "name": "stderr",
     "output_type": "stream",
     "text": [
      "\r",
      "Epoch 1/5:   3%|▎         | 94/3166 [20:53<11:20:00, 13.28s/it]"
     ]
    },
    {
     "name": "stderr",
     "output_type": "stream",
     "text": [
      "\r",
      "Epoch 1/5:   3%|▎         | 95/3166 [21:07<11:20:33, 13.30s/it]"
     ]
    },
    {
     "name": "stderr",
     "output_type": "stream",
     "text": [
      "\r",
      "Epoch 1/5:   3%|▎         | 96/3166 [21:20<11:21:06, 13.31s/it]"
     ]
    },
    {
     "name": "stderr",
     "output_type": "stream",
     "text": [
      "\r",
      "Epoch 1/5:   3%|▎         | 97/3166 [21:33<11:20:41, 13.31s/it]"
     ]
    },
    {
     "name": "stderr",
     "output_type": "stream",
     "text": [
      "\r",
      "Epoch 1/5:   3%|▎         | 98/3166 [21:47<11:20:53, 13.32s/it]"
     ]
    },
    {
     "name": "stderr",
     "output_type": "stream",
     "text": [
      "\r",
      "Epoch 1/5:   3%|▎         | 99/3166 [22:00<11:20:50, 13.32s/it]"
     ]
    },
    {
     "name": "stderr",
     "output_type": "stream",
     "text": [
      "\r",
      "Epoch 1/5:   3%|▎         | 100/3166 [22:13<11:20:49, 13.32s/it]"
     ]
    },
    {
     "name": "stderr",
     "output_type": "stream",
     "text": [
      "\r",
      "Epoch 1/5:   3%|▎         | 101/3166 [22:26<11:19:59, 13.31s/it]"
     ]
    },
    {
     "name": "stderr",
     "output_type": "stream",
     "text": [
      "\r",
      "Epoch 1/5:   3%|▎         | 102/3166 [22:40<11:19:49, 13.31s/it]"
     ]
    },
    {
     "name": "stderr",
     "output_type": "stream",
     "text": [
      "\r",
      "Epoch 1/5:   3%|▎         | 103/3166 [22:53<11:19:03, 13.30s/it]"
     ]
    },
    {
     "name": "stderr",
     "output_type": "stream",
     "text": [
      "\r",
      "Epoch 1/5:   3%|▎         | 104/3166 [23:06<11:18:45, 13.30s/it]"
     ]
    },
    {
     "name": "stderr",
     "output_type": "stream",
     "text": [
      "\r",
      "Epoch 1/5:   3%|▎         | 105/3166 [23:20<11:19:58, 13.33s/it]"
     ]
    },
    {
     "name": "stderr",
     "output_type": "stream",
     "text": [
      "\r",
      "Epoch 1/5:   3%|▎         | 106/3166 [23:33<11:19:55, 13.33s/it]"
     ]
    },
    {
     "name": "stderr",
     "output_type": "stream",
     "text": [
      "\r",
      "Epoch 1/5:   3%|▎         | 107/3166 [23:46<11:18:32, 13.31s/it]"
     ]
    },
    {
     "name": "stderr",
     "output_type": "stream",
     "text": [
      "\r",
      "Epoch 1/5:   3%|▎         | 108/3166 [24:00<11:17:56, 13.30s/it]"
     ]
    },
    {
     "name": "stderr",
     "output_type": "stream",
     "text": [
      "\r",
      "Epoch 1/5:   3%|▎         | 109/3166 [24:13<11:17:44, 13.30s/it]"
     ]
    },
    {
     "name": "stderr",
     "output_type": "stream",
     "text": [
      "\r",
      "Epoch 1/5:   3%|▎         | 110/3166 [24:26<11:18:02, 13.31s/it]"
     ]
    },
    {
     "name": "stderr",
     "output_type": "stream",
     "text": [
      "\r",
      "Epoch 1/5:   4%|▎         | 111/3166 [24:40<11:17:48, 13.31s/it]"
     ]
    },
    {
     "name": "stderr",
     "output_type": "stream",
     "text": [
      "\r",
      "Epoch 1/5:   4%|▎         | 112/3166 [24:53<11:17:29, 13.31s/it]"
     ]
    },
    {
     "name": "stderr",
     "output_type": "stream",
     "text": [
      "\r",
      "Epoch 1/5:   4%|▎         | 113/3166 [25:06<11:18:10, 13.33s/it]"
     ]
    },
    {
     "name": "stderr",
     "output_type": "stream",
     "text": [
      "\r",
      "Epoch 1/5:   4%|▎         | 114/3166 [25:20<11:18:17, 13.33s/it]"
     ]
    },
    {
     "name": "stderr",
     "output_type": "stream",
     "text": [
      "\r",
      "Epoch 1/5:   4%|▎         | 115/3166 [25:33<11:18:29, 13.34s/it]"
     ]
    },
    {
     "name": "stderr",
     "output_type": "stream",
     "text": [
      "\r",
      "Epoch 1/5:   4%|▎         | 116/3166 [25:46<11:17:53, 13.34s/it]"
     ]
    },
    {
     "name": "stderr",
     "output_type": "stream",
     "text": [
      "\r",
      "Epoch 1/5:   4%|▎         | 117/3166 [26:00<11:17:12, 13.33s/it]"
     ]
    },
    {
     "name": "stderr",
     "output_type": "stream",
     "text": [
      "\r",
      "Epoch 1/5:   4%|▎         | 118/3166 [26:13<11:16:37, 13.32s/it]"
     ]
    },
    {
     "name": "stderr",
     "output_type": "stream",
     "text": [
      "\r",
      "Epoch 1/5:   4%|▍         | 119/3166 [26:26<11:16:50, 13.33s/it]"
     ]
    },
    {
     "name": "stderr",
     "output_type": "stream",
     "text": [
      "\r",
      "Epoch 1/5:   4%|▍         | 120/3166 [26:40<11:16:17, 13.32s/it]"
     ]
    },
    {
     "name": "stderr",
     "output_type": "stream",
     "text": [
      "\r",
      "Epoch 1/5:   4%|▍         | 121/3166 [26:53<11:16:12, 13.32s/it]"
     ]
    },
    {
     "name": "stderr",
     "output_type": "stream",
     "text": [
      "\r",
      "Epoch 1/5:   4%|▍         | 122/3166 [27:06<11:15:41, 13.32s/it]"
     ]
    },
    {
     "name": "stderr",
     "output_type": "stream",
     "text": [
      "\r",
      "Epoch 1/5:   4%|▍         | 123/3166 [27:20<11:15:57, 13.33s/it]"
     ]
    },
    {
     "name": "stderr",
     "output_type": "stream",
     "text": [
      "\r",
      "Epoch 1/5:   4%|▍         | 124/3166 [27:33<11:14:46, 13.31s/it]"
     ]
    },
    {
     "name": "stderr",
     "output_type": "stream",
     "text": [
      "\r",
      "Epoch 1/5:   4%|▍         | 125/3166 [27:46<11:13:32, 13.29s/it]"
     ]
    },
    {
     "name": "stderr",
     "output_type": "stream",
     "text": [
      "\r",
      "Epoch 1/5:   4%|▍         | 126/3166 [27:59<11:12:44, 13.28s/it]"
     ]
    },
    {
     "name": "stderr",
     "output_type": "stream",
     "text": [
      "\r",
      "Epoch 1/5:   4%|▍         | 127/3166 [28:13<11:12:07, 13.27s/it]"
     ]
    },
    {
     "name": "stderr",
     "output_type": "stream",
     "text": [
      "\r",
      "Epoch 1/5:   4%|▍         | 128/3166 [28:26<11:12:39, 13.28s/it]"
     ]
    },
    {
     "name": "stderr",
     "output_type": "stream",
     "text": [
      "\r",
      "Epoch 1/5:   4%|▍         | 129/3166 [28:39<11:13:31, 13.31s/it]"
     ]
    },
    {
     "name": "stderr",
     "output_type": "stream",
     "text": [
      "\r",
      "Epoch 1/5:   4%|▍         | 130/3166 [28:53<11:13:59, 13.32s/it]"
     ]
    },
    {
     "name": "stderr",
     "output_type": "stream",
     "text": [
      "\r",
      "Epoch 1/5:   4%|▍         | 131/3166 [29:06<11:13:33, 13.32s/it]"
     ]
    },
    {
     "name": "stderr",
     "output_type": "stream",
     "text": [
      "\r",
      "Epoch 1/5:   4%|▍         | 132/3166 [29:19<11:12:58, 13.31s/it]"
     ]
    },
    {
     "name": "stderr",
     "output_type": "stream",
     "text": [
      "\r",
      "Epoch 1/5:   4%|▍         | 133/3166 [29:33<11:13:46, 13.33s/it]"
     ]
    },
    {
     "name": "stderr",
     "output_type": "stream",
     "text": [
      "\r",
      "Epoch 1/5:   4%|▍         | 134/3166 [29:46<11:13:10, 13.32s/it]"
     ]
    },
    {
     "name": "stderr",
     "output_type": "stream",
     "text": [
      "\r",
      "Epoch 1/5:   4%|▍         | 135/3166 [29:59<11:12:21, 13.31s/it]"
     ]
    },
    {
     "name": "stderr",
     "output_type": "stream",
     "text": [
      "\r",
      "Epoch 1/5:   4%|▍         | 136/3166 [30:12<11:12:20, 13.31s/it]"
     ]
    },
    {
     "name": "stderr",
     "output_type": "stream",
     "text": [
      "\r",
      "Epoch 1/5:   4%|▍         | 137/3166 [30:26<11:12:04, 13.31s/it]"
     ]
    },
    {
     "name": "stderr",
     "output_type": "stream",
     "text": [
      "\r",
      "Epoch 1/5:   4%|▍         | 138/3166 [30:39<11:12:12, 13.32s/it]"
     ]
    },
    {
     "name": "stderr",
     "output_type": "stream",
     "text": [
      "\r",
      "Epoch 1/5:   4%|▍         | 139/3166 [30:52<11:12:49, 13.34s/it]"
     ]
    },
    {
     "name": "stderr",
     "output_type": "stream",
     "text": [
      "\r",
      "Epoch 1/5:   4%|▍         | 140/3166 [31:06<11:12:13, 13.33s/it]"
     ]
    },
    {
     "name": "stderr",
     "output_type": "stream",
     "text": [
      "\r",
      "Epoch 1/5:   4%|▍         | 141/3166 [31:19<11:12:27, 13.34s/it]"
     ]
    },
    {
     "name": "stderr",
     "output_type": "stream",
     "text": [
      "\r",
      "Epoch 1/5:   4%|▍         | 142/3166 [31:32<11:11:34, 13.32s/it]"
     ]
    },
    {
     "name": "stderr",
     "output_type": "stream",
     "text": [
      "\r",
      "Epoch 1/5:   5%|▍         | 143/3166 [31:46<11:10:22, 13.31s/it]"
     ]
    },
    {
     "name": "stderr",
     "output_type": "stream",
     "text": [
      "\r",
      "Epoch 1/5:   5%|▍         | 144/3166 [31:59<11:09:54, 13.30s/it]"
     ]
    },
    {
     "name": "stderr",
     "output_type": "stream",
     "text": [
      "\r",
      "Epoch 1/5:   5%|▍         | 145/3166 [32:12<11:10:00, 13.31s/it]"
     ]
    },
    {
     "name": "stderr",
     "output_type": "stream",
     "text": [
      "\r",
      "Epoch 1/5:   5%|▍         | 146/3166 [32:26<11:09:40, 13.30s/it]"
     ]
    },
    {
     "name": "stderr",
     "output_type": "stream",
     "text": [
      "\r",
      "Epoch 1/5:   5%|▍         | 147/3166 [32:39<11:10:07, 13.32s/it]"
     ]
    },
    {
     "name": "stderr",
     "output_type": "stream",
     "text": [
      "\r",
      "Epoch 1/5:   5%|▍         | 148/3166 [32:52<11:10:01, 13.32s/it]"
     ]
    },
    {
     "name": "stderr",
     "output_type": "stream",
     "text": [
      "\r",
      "Epoch 1/5:   5%|▍         | 149/3166 [33:06<11:09:40, 13.32s/it]"
     ]
    },
    {
     "name": "stderr",
     "output_type": "stream",
     "text": [
      "\r",
      "Epoch 1/5:   5%|▍         | 150/3166 [33:19<11:09:16, 13.31s/it]"
     ]
    },
    {
     "name": "stderr",
     "output_type": "stream",
     "text": [
      "\r",
      "Epoch 1/5:   5%|▍         | 151/3166 [33:32<11:10:14, 13.34s/it]"
     ]
    },
    {
     "name": "stderr",
     "output_type": "stream",
     "text": [
      "\r",
      "Epoch 1/5:   5%|▍         | 152/3166 [33:46<11:10:51, 13.35s/it]"
     ]
    },
    {
     "name": "stderr",
     "output_type": "stream",
     "text": [
      "\r",
      "Epoch 1/5:   5%|▍         | 153/3166 [33:59<11:10:35, 13.35s/it]"
     ]
    },
    {
     "name": "stderr",
     "output_type": "stream",
     "text": [
      "\r",
      "Epoch 1/5:   5%|▍         | 154/3166 [34:12<11:09:57, 13.35s/it]"
     ]
    },
    {
     "name": "stderr",
     "output_type": "stream",
     "text": [
      "\r",
      "Epoch 1/5:   5%|▍         | 155/3166 [34:26<11:09:33, 13.34s/it]"
     ]
    },
    {
     "name": "stderr",
     "output_type": "stream",
     "text": [
      "\r",
      "Epoch 1/5:   5%|▍         | 156/3166 [34:39<11:08:46, 13.33s/it]"
     ]
    },
    {
     "name": "stderr",
     "output_type": "stream",
     "text": [
      "\r",
      "Epoch 1/5:   5%|▍         | 157/3166 [34:52<11:08:45, 13.34s/it]"
     ]
    },
    {
     "name": "stderr",
     "output_type": "stream",
     "text": [
      "\r",
      "Epoch 1/5:   5%|▍         | 158/3166 [35:06<11:08:25, 13.33s/it]"
     ]
    },
    {
     "name": "stderr",
     "output_type": "stream",
     "text": [
      "\r",
      "Epoch 1/5:   5%|▌         | 159/3166 [35:19<11:07:56, 13.33s/it]"
     ]
    },
    {
     "name": "stderr",
     "output_type": "stream",
     "text": [
      "\r",
      "Epoch 1/5:   5%|▌         | 160/3166 [35:32<11:06:36, 13.31s/it]"
     ]
    },
    {
     "name": "stderr",
     "output_type": "stream",
     "text": [
      "\r",
      "Epoch 1/5:   5%|▌         | 161/3166 [35:46<11:07:04, 13.32s/it]"
     ]
    },
    {
     "name": "stderr",
     "output_type": "stream",
     "text": [
      "\r",
      "Epoch 1/5:   5%|▌         | 162/3166 [35:59<11:06:40, 13.32s/it]"
     ]
    },
    {
     "name": "stderr",
     "output_type": "stream",
     "text": [
      "\r",
      "Epoch 1/5:   5%|▌         | 163/3166 [36:12<11:06:24, 13.31s/it]"
     ]
    },
    {
     "name": "stderr",
     "output_type": "stream",
     "text": [
      "\r",
      "Epoch 1/5:   5%|▌         | 164/3166 [36:26<11:06:45, 13.33s/it]"
     ]
    },
    {
     "name": "stderr",
     "output_type": "stream",
     "text": [
      "\r",
      "Epoch 1/5:   5%|▌         | 165/3166 [36:39<11:06:00, 13.32s/it]"
     ]
    },
    {
     "name": "stderr",
     "output_type": "stream",
     "text": [
      "\r",
      "Epoch 1/5:   5%|▌         | 166/3166 [36:52<11:05:31, 13.31s/it]"
     ]
    },
    {
     "name": "stderr",
     "output_type": "stream",
     "text": [
      "\r",
      "Epoch 1/5:   5%|▌         | 167/3166 [37:05<11:04:35, 13.30s/it]"
     ]
    },
    {
     "name": "stderr",
     "output_type": "stream",
     "text": [
      "\r",
      "Epoch 1/5:   5%|▌         | 168/3166 [37:19<11:04:36, 13.30s/it]"
     ]
    },
    {
     "name": "stderr",
     "output_type": "stream",
     "text": [
      "\r",
      "Epoch 1/5:   5%|▌         | 169/3166 [37:32<11:03:17, 13.28s/it]"
     ]
    },
    {
     "name": "stderr",
     "output_type": "stream",
     "text": [
      "\r",
      "Epoch 1/5:   5%|▌         | 170/3166 [37:45<11:03:35, 13.29s/it]"
     ]
    },
    {
     "name": "stderr",
     "output_type": "stream",
     "text": [
      "\r",
      "Epoch 1/5:   5%|▌         | 171/3166 [37:59<11:04:00, 13.30s/it]"
     ]
    },
    {
     "name": "stderr",
     "output_type": "stream",
     "text": [
      "\r",
      "Epoch 1/5:   5%|▌         | 172/3166 [38:12<11:04:20, 13.31s/it]"
     ]
    },
    {
     "name": "stderr",
     "output_type": "stream",
     "text": [
      "\r",
      "Epoch 1/5:   5%|▌         | 173/3166 [38:25<11:05:05, 13.33s/it]"
     ]
    },
    {
     "name": "stderr",
     "output_type": "stream",
     "text": [
      "\r",
      "Epoch 1/5:   5%|▌         | 174/3166 [38:39<11:04:41, 13.33s/it]"
     ]
    },
    {
     "name": "stderr",
     "output_type": "stream",
     "text": [
      "\r",
      "Epoch 1/5:   6%|▌         | 175/3166 [38:52<11:04:27, 13.33s/it]"
     ]
    },
    {
     "name": "stderr",
     "output_type": "stream",
     "text": [
      "\r",
      "Epoch 1/5:   6%|▌         | 176/3166 [39:05<11:04:54, 13.34s/it]"
     ]
    },
    {
     "name": "stderr",
     "output_type": "stream",
     "text": [
      "\r",
      "Epoch 1/5:   6%|▌         | 177/3166 [39:19<11:04:06, 13.33s/it]"
     ]
    },
    {
     "name": "stderr",
     "output_type": "stream",
     "text": [
      "\r",
      "Epoch 1/5:   6%|▌         | 178/3166 [39:32<11:03:33, 13.32s/it]"
     ]
    },
    {
     "name": "stderr",
     "output_type": "stream",
     "text": [
      "\r",
      "Epoch 1/5:   6%|▌         | 179/3166 [39:45<11:03:22, 13.33s/it]"
     ]
    },
    {
     "name": "stderr",
     "output_type": "stream",
     "text": [
      "\r",
      "Epoch 1/5:   6%|▌         | 180/3166 [39:59<11:02:52, 13.32s/it]"
     ]
    },
    {
     "name": "stderr",
     "output_type": "stream",
     "text": [
      "\r",
      "Epoch 1/5:   6%|▌         | 181/3166 [40:12<11:02:19, 13.31s/it]"
     ]
    },
    {
     "name": "stderr",
     "output_type": "stream",
     "text": [
      "\r",
      "Epoch 1/5:   6%|▌         | 182/3166 [40:25<11:02:31, 13.32s/it]"
     ]
    },
    {
     "name": "stderr",
     "output_type": "stream",
     "text": [
      "\r",
      "Epoch 1/5:   6%|▌         | 183/3166 [40:39<11:02:45, 13.33s/it]"
     ]
    },
    {
     "name": "stderr",
     "output_type": "stream",
     "text": [
      "\r",
      "Epoch 1/5:   6%|▌         | 184/3166 [40:52<11:02:24, 13.33s/it]"
     ]
    },
    {
     "name": "stderr",
     "output_type": "stream",
     "text": [
      "\r",
      "Epoch 1/5:   6%|▌         | 185/3166 [41:05<11:02:05, 13.33s/it]"
     ]
    },
    {
     "name": "stderr",
     "output_type": "stream",
     "text": [
      "\r",
      "Epoch 1/5:   6%|▌         | 186/3166 [41:19<11:01:28, 13.32s/it]"
     ]
    },
    {
     "name": "stderr",
     "output_type": "stream",
     "text": [
      "\r",
      "Epoch 1/5:   6%|▌         | 187/3166 [41:32<11:01:40, 13.33s/it]"
     ]
    },
    {
     "name": "stderr",
     "output_type": "stream",
     "text": [
      "\r",
      "Epoch 1/5:   6%|▌         | 188/3166 [41:45<11:00:27, 13.31s/it]"
     ]
    },
    {
     "name": "stderr",
     "output_type": "stream",
     "text": [
      "\r",
      "Epoch 1/5:   6%|▌         | 189/3166 [41:58<10:59:32, 13.29s/it]"
     ]
    },
    {
     "name": "stderr",
     "output_type": "stream",
     "text": [
      "\r",
      "Epoch 1/5:   6%|▌         | 190/3166 [42:12<10:59:47, 13.30s/it]"
     ]
    },
    {
     "name": "stderr",
     "output_type": "stream",
     "text": [
      "\r",
      "Epoch 1/5:   6%|▌         | 191/3166 [42:25<11:00:02, 13.31s/it]"
     ]
    },
    {
     "name": "stderr",
     "output_type": "stream",
     "text": [
      "\r",
      "Epoch 1/5:   6%|▌         | 192/3166 [42:38<10:59:16, 13.30s/it]"
     ]
    },
    {
     "name": "stderr",
     "output_type": "stream",
     "text": [
      "\r",
      "Epoch 1/5:   6%|▌         | 193/3166 [42:52<10:59:37, 13.31s/it]"
     ]
    },
    {
     "name": "stderr",
     "output_type": "stream",
     "text": [
      "\r",
      "Epoch 1/5:   6%|▌         | 194/3166 [43:05<10:58:46, 13.30s/it]"
     ]
    },
    {
     "name": "stderr",
     "output_type": "stream",
     "text": [
      "\r",
      "Epoch 1/5:   6%|▌         | 195/3166 [43:18<10:58:49, 13.31s/it]"
     ]
    },
    {
     "name": "stderr",
     "output_type": "stream",
     "text": [
      "\r",
      "Epoch 1/5:   6%|▌         | 196/3166 [43:32<10:59:36, 13.33s/it]"
     ]
    },
    {
     "name": "stderr",
     "output_type": "stream",
     "text": [
      "\r",
      "Epoch 1/5:   6%|▌         | 197/3166 [43:45<10:59:30, 13.33s/it]"
     ]
    },
    {
     "name": "stderr",
     "output_type": "stream",
     "text": [
      "\r",
      "Epoch 1/5:   6%|▋         | 198/3166 [43:58<10:59:18, 13.33s/it]"
     ]
    },
    {
     "name": "stderr",
     "output_type": "stream",
     "text": [
      "\r",
      "Epoch 1/5:   6%|▋         | 199/3166 [44:12<10:58:28, 13.32s/it]"
     ]
    },
    {
     "name": "stderr",
     "output_type": "stream",
     "text": [
      "\r",
      "Epoch 1/5:   6%|▋         | 200/3166 [44:25<10:57:34, 13.30s/it]"
     ]
    },
    {
     "name": "stderr",
     "output_type": "stream",
     "text": [
      "\r",
      "Epoch 1/5:   6%|▋         | 201/3166 [44:38<10:57:39, 13.31s/it]"
     ]
    },
    {
     "name": "stderr",
     "output_type": "stream",
     "text": [
      "\r",
      "Epoch 1/5:   6%|▋         | 202/3166 [44:52<10:58:23, 13.33s/it]"
     ]
    },
    {
     "name": "stderr",
     "output_type": "stream",
     "text": [
      "\r",
      "Epoch 1/5:   6%|▋         | 203/3166 [45:05<10:57:12, 13.31s/it]"
     ]
    },
    {
     "name": "stderr",
     "output_type": "stream",
     "text": [
      "\r",
      "Epoch 1/5:   6%|▋         | 204/3166 [45:18<10:56:57, 13.31s/it]"
     ]
    },
    {
     "name": "stderr",
     "output_type": "stream",
     "text": [
      "\r",
      "Epoch 1/5:   6%|▋         | 205/3166 [45:31<10:57:15, 13.32s/it]"
     ]
    },
    {
     "name": "stderr",
     "output_type": "stream",
     "text": [
      "\r",
      "Epoch 1/5:   7%|▋         | 206/3166 [45:45<10:56:22, 13.30s/it]"
     ]
    },
    {
     "name": "stderr",
     "output_type": "stream",
     "text": [
      "\r",
      "Epoch 1/5:   7%|▋         | 207/3166 [45:58<10:56:24, 13.31s/it]"
     ]
    },
    {
     "name": "stderr",
     "output_type": "stream",
     "text": [
      "\r",
      "Epoch 1/5:   7%|▋         | 208/3166 [46:11<10:56:36, 13.32s/it]"
     ]
    },
    {
     "name": "stderr",
     "output_type": "stream",
     "text": [
      "\r",
      "Epoch 1/5:   7%|▋         | 209/3166 [46:25<10:56:22, 13.32s/it]"
     ]
    },
    {
     "name": "stderr",
     "output_type": "stream",
     "text": [
      "\r",
      "Epoch 1/5:   7%|▋         | 210/3166 [46:38<10:56:38, 13.33s/it]"
     ]
    },
    {
     "name": "stderr",
     "output_type": "stream",
     "text": [
      "\r",
      "Epoch 1/5:   7%|▋         | 211/3166 [46:51<10:57:12, 13.34s/it]"
     ]
    },
    {
     "name": "stderr",
     "output_type": "stream",
     "text": [
      "\r",
      "Epoch 1/5:   7%|▋         | 212/3166 [47:05<10:57:03, 13.35s/it]"
     ]
    },
    {
     "name": "stderr",
     "output_type": "stream",
     "text": [
      "\r",
      "Epoch 1/5:   7%|▋         | 213/3166 [47:18<10:56:20, 13.34s/it]"
     ]
    },
    {
     "name": "stderr",
     "output_type": "stream",
     "text": [
      "\r",
      "Epoch 1/5:   7%|▋         | 214/3166 [47:32<10:56:49, 13.35s/it]"
     ]
    },
    {
     "name": "stderr",
     "output_type": "stream",
     "text": [
      "\r",
      "Epoch 1/5:   7%|▋         | 215/3166 [47:45<10:56:43, 13.35s/it]"
     ]
    },
    {
     "name": "stderr",
     "output_type": "stream",
     "text": [
      "\r",
      "Epoch 1/5:   7%|▋         | 216/3166 [47:58<10:56:41, 13.36s/it]"
     ]
    },
    {
     "name": "stderr",
     "output_type": "stream",
     "text": [
      "\r",
      "Epoch 1/5:   7%|▋         | 217/3166 [48:12<10:56:00, 13.35s/it]"
     ]
    },
    {
     "name": "stderr",
     "output_type": "stream",
     "text": [
      "\r",
      "Epoch 1/5:   7%|▋         | 218/3166 [48:25<10:55:16, 13.34s/it]"
     ]
    },
    {
     "name": "stderr",
     "output_type": "stream",
     "text": [
      "\r",
      "Epoch 1/5:   7%|▋         | 219/3166 [48:38<10:54:49, 13.33s/it]"
     ]
    },
    {
     "name": "stderr",
     "output_type": "stream",
     "text": [
      "\r",
      "Epoch 1/5:   7%|▋         | 220/3166 [48:52<10:55:21, 13.35s/it]"
     ]
    },
    {
     "name": "stderr",
     "output_type": "stream",
     "text": [
      "\r",
      "Epoch 1/5:   7%|▋         | 221/3166 [49:05<10:54:31, 13.33s/it]"
     ]
    },
    {
     "name": "stderr",
     "output_type": "stream",
     "text": [
      "\r",
      "Epoch 1/5:   7%|▋         | 222/3166 [49:18<10:53:50, 13.33s/it]"
     ]
    },
    {
     "name": "stderr",
     "output_type": "stream",
     "text": [
      "\r",
      "Epoch 1/5:   7%|▋         | 223/3166 [49:32<10:54:03, 13.33s/it]"
     ]
    },
    {
     "name": "stderr",
     "output_type": "stream",
     "text": [
      "\r",
      "Epoch 1/5:   7%|▋         | 224/3166 [49:45<10:53:09, 13.32s/it]"
     ]
    },
    {
     "name": "stderr",
     "output_type": "stream",
     "text": [
      "\r",
      "Epoch 1/5:   7%|▋         | 225/3166 [49:58<10:53:50, 13.34s/it]"
     ]
    },
    {
     "name": "stderr",
     "output_type": "stream",
     "text": [
      "\r",
      "Epoch 1/5:   7%|▋         | 226/3166 [50:12<10:53:37, 13.34s/it]"
     ]
    },
    {
     "name": "stderr",
     "output_type": "stream",
     "text": [
      "\r",
      "Epoch 1/5:   7%|▋         | 227/3166 [50:25<10:53:17, 13.34s/it]"
     ]
    },
    {
     "name": "stderr",
     "output_type": "stream",
     "text": [
      "\r",
      "Epoch 1/5:   7%|▋         | 228/3166 [50:38<10:52:51, 13.33s/it]"
     ]
    },
    {
     "name": "stderr",
     "output_type": "stream",
     "text": [
      "\r",
      "Epoch 1/5:   7%|▋         | 229/3166 [50:52<10:52:28, 13.33s/it]"
     ]
    },
    {
     "name": "stderr",
     "output_type": "stream",
     "text": [
      "\r",
      "Epoch 1/5:   7%|▋         | 230/3166 [51:05<10:52:06, 13.33s/it]"
     ]
    },
    {
     "name": "stderr",
     "output_type": "stream",
     "text": [
      "\r",
      "Epoch 1/5:   7%|▋         | 231/3166 [51:18<10:51:29, 13.32s/it]"
     ]
    },
    {
     "name": "stderr",
     "output_type": "stream",
     "text": [
      "\r",
      "Epoch 1/5:   7%|▋         | 232/3166 [51:32<10:51:45, 13.33s/it]"
     ]
    },
    {
     "name": "stderr",
     "output_type": "stream",
     "text": [
      "\r",
      "Epoch 1/5:   7%|▋         | 233/3166 [51:45<10:51:53, 13.34s/it]"
     ]
    },
    {
     "name": "stderr",
     "output_type": "stream",
     "text": [
      "\r",
      "Epoch 1/5:   7%|▋         | 234/3166 [51:58<10:52:01, 13.34s/it]"
     ]
    },
    {
     "name": "stderr",
     "output_type": "stream",
     "text": [
      "\r",
      "Epoch 1/5:   7%|▋         | 235/3166 [52:12<10:52:05, 13.35s/it]"
     ]
    },
    {
     "name": "stderr",
     "output_type": "stream",
     "text": [
      "\r",
      "Epoch 1/5:   7%|▋         | 236/3166 [52:25<10:50:58, 13.33s/it]"
     ]
    },
    {
     "name": "stderr",
     "output_type": "stream",
     "text": [
      "\r",
      "Epoch 1/5:   7%|▋         | 237/3166 [52:38<10:50:13, 13.32s/it]"
     ]
    },
    {
     "name": "stderr",
     "output_type": "stream",
     "text": [
      "\r",
      "Epoch 1/5:   8%|▊         | 238/3166 [52:52<10:51:04, 13.34s/it]"
     ]
    },
    {
     "name": "stderr",
     "output_type": "stream",
     "text": [
      "\r",
      "Epoch 1/5:   8%|▊         | 239/3166 [53:05<10:51:40, 13.36s/it]"
     ]
    },
    {
     "name": "stderr",
     "output_type": "stream",
     "text": [
      "\r",
      "Epoch 1/5:   8%|▊         | 240/3166 [53:18<10:50:38, 13.34s/it]"
     ]
    },
    {
     "name": "stderr",
     "output_type": "stream",
     "text": [
      "\r",
      "Epoch 1/5:   8%|▊         | 241/3166 [53:32<10:50:34, 13.35s/it]"
     ]
    },
    {
     "name": "stderr",
     "output_type": "stream",
     "text": [
      "\r",
      "Epoch 1/5:   8%|▊         | 242/3166 [53:45<10:51:17, 13.36s/it]"
     ]
    },
    {
     "name": "stderr",
     "output_type": "stream",
     "text": [
      "\r",
      "Epoch 1/5:   8%|▊         | 243/3166 [53:58<10:51:19, 13.37s/it]"
     ]
    },
    {
     "name": "stderr",
     "output_type": "stream",
     "text": [
      "\r",
      "Epoch 1/5:   8%|▊         | 244/3166 [54:12<10:51:56, 13.39s/it]"
     ]
    },
    {
     "name": "stderr",
     "output_type": "stream",
     "text": [
      "\r",
      "Epoch 1/5:   8%|▊         | 245/3166 [54:25<10:51:15, 13.38s/it]"
     ]
    },
    {
     "name": "stderr",
     "output_type": "stream",
     "text": [
      "\r",
      "Epoch 1/5:   8%|▊         | 246/3166 [54:39<10:50:34, 13.37s/it]"
     ]
    },
    {
     "name": "stderr",
     "output_type": "stream",
     "text": [
      "\r",
      "Epoch 1/5:   8%|▊         | 247/3166 [54:52<10:49:27, 13.35s/it]"
     ]
    },
    {
     "name": "stderr",
     "output_type": "stream",
     "text": [
      "\r",
      "Epoch 1/5:   8%|▊         | 248/3166 [55:05<10:49:17, 13.35s/it]"
     ]
    },
    {
     "name": "stderr",
     "output_type": "stream",
     "text": [
      "\r",
      "Epoch 1/5:   8%|▊         | 249/3166 [55:18<10:47:54, 13.33s/it]"
     ]
    },
    {
     "name": "stderr",
     "output_type": "stream",
     "text": [
      "\r",
      "Epoch 1/5:   8%|▊         | 250/3166 [55:32<10:47:42, 13.33s/it]"
     ]
    },
    {
     "name": "stderr",
     "output_type": "stream",
     "text": [
      "\r",
      "Epoch 1/5:   8%|▊         | 251/3166 [55:45<10:47:46, 13.33s/it]"
     ]
    },
    {
     "name": "stderr",
     "output_type": "stream",
     "text": [
      "\r",
      "Epoch 1/5:   8%|▊         | 252/3166 [55:58<10:47:45, 13.34s/it]"
     ]
    },
    {
     "name": "stderr",
     "output_type": "stream",
     "text": [
      "\r",
      "Epoch 1/5:   8%|▊         | 253/3166 [56:12<10:47:38, 13.34s/it]"
     ]
    },
    {
     "name": "stderr",
     "output_type": "stream",
     "text": [
      "\r",
      "Epoch 1/5:   8%|▊         | 254/3166 [56:25<10:44:36, 13.28s/it]"
     ]
    },
    {
     "name": "stderr",
     "output_type": "stream",
     "text": [
      "\r",
      "Epoch 1/5:   8%|▊         | 255/3166 [56:38<10:44:55, 13.29s/it]"
     ]
    },
    {
     "name": "stderr",
     "output_type": "stream",
     "text": [
      "\r",
      "Epoch 1/5:   8%|▊         | 256/3166 [56:52<10:44:47, 13.29s/it]"
     ]
    },
    {
     "name": "stderr",
     "output_type": "stream",
     "text": [
      "\r",
      "Epoch 1/5:   8%|▊         | 257/3166 [57:05<10:45:16, 13.31s/it]"
     ]
    },
    {
     "name": "stderr",
     "output_type": "stream",
     "text": [
      "\r",
      "Epoch 1/5:   8%|▊         | 258/3166 [57:18<10:44:48, 13.30s/it]"
     ]
    },
    {
     "name": "stderr",
     "output_type": "stream",
     "text": [
      "\r",
      "Epoch 1/5:   8%|▊         | 259/3166 [57:32<10:44:19, 13.30s/it]"
     ]
    },
    {
     "name": "stderr",
     "output_type": "stream",
     "text": [
      "\r",
      "Epoch 1/5:   8%|▊         | 260/3166 [57:45<10:44:38, 13.31s/it]"
     ]
    },
    {
     "name": "stderr",
     "output_type": "stream",
     "text": [
      "\r",
      "Epoch 1/5:   8%|▊         | 261/3166 [57:58<10:44:38, 13.31s/it]"
     ]
    },
    {
     "name": "stderr",
     "output_type": "stream",
     "text": [
      "\r",
      "Epoch 1/5:   8%|▊         | 262/3166 [58:11<10:44:29, 13.32s/it]"
     ]
    },
    {
     "name": "stderr",
     "output_type": "stream",
     "text": [
      "\r",
      "Epoch 1/5:   8%|▊         | 263/3166 [58:25<10:44:08, 13.31s/it]"
     ]
    },
    {
     "name": "stderr",
     "output_type": "stream",
     "text": [
      "\r",
      "Epoch 1/5:   8%|▊         | 264/3166 [58:38<10:43:30, 13.30s/it]"
     ]
    },
    {
     "name": "stderr",
     "output_type": "stream",
     "text": [
      "\r",
      "Epoch 1/5:   8%|▊         | 265/3166 [58:51<10:43:02, 13.30s/it]"
     ]
    },
    {
     "name": "stderr",
     "output_type": "stream",
     "text": [
      "\r",
      "Epoch 1/5:   8%|▊         | 266/3166 [59:05<10:43:40, 13.32s/it]"
     ]
    },
    {
     "name": "stderr",
     "output_type": "stream",
     "text": [
      "\r",
      "Epoch 1/5:   8%|▊         | 267/3166 [59:18<10:43:50, 13.33s/it]"
     ]
    },
    {
     "name": "stderr",
     "output_type": "stream",
     "text": [
      "\r",
      "Epoch 1/5:   8%|▊         | 268/3166 [59:31<10:43:14, 13.32s/it]"
     ]
    },
    {
     "name": "stderr",
     "output_type": "stream",
     "text": [
      "\r",
      "Epoch 1/5:   8%|▊         | 269/3166 [59:45<10:43:14, 13.32s/it]"
     ]
    },
    {
     "name": "stderr",
     "output_type": "stream",
     "text": [
      "\r",
      "Epoch 1/5:   9%|▊         | 270/3166 [59:58<10:41:44, 13.30s/it]"
     ]
    },
    {
     "name": "stderr",
     "output_type": "stream",
     "text": [
      "\r",
      "Epoch 1/5:   9%|▊         | 271/3166 [1:00:11<10:43:20, 13.33s/it]"
     ]
    },
    {
     "name": "stderr",
     "output_type": "stream",
     "text": [
      "\r",
      "Epoch 1/5:   9%|▊         | 272/3166 [1:00:25<10:43:23, 13.34s/it]"
     ]
    },
    {
     "name": "stderr",
     "output_type": "stream",
     "text": [
      "\r",
      "Epoch 1/5:   9%|▊         | 273/3166 [1:00:38<10:43:32, 13.35s/it]"
     ]
    },
    {
     "name": "stderr",
     "output_type": "stream",
     "text": [
      "\r",
      "Epoch 1/5:   9%|▊         | 274/3166 [1:00:51<10:44:05, 13.36s/it]"
     ]
    },
    {
     "name": "stderr",
     "output_type": "stream",
     "text": [
      "\r",
      "Epoch 1/5:   9%|▊         | 275/3166 [1:01:05<10:43:34, 13.36s/it]"
     ]
    },
    {
     "name": "stderr",
     "output_type": "stream",
     "text": [
      "\r",
      "Epoch 1/5:   9%|▊         | 276/3166 [1:01:18<10:43:18, 13.36s/it]"
     ]
    },
    {
     "name": "stderr",
     "output_type": "stream",
     "text": [
      "\r",
      "Epoch 1/5:   9%|▊         | 277/3166 [1:01:32<10:43:12, 13.36s/it]"
     ]
    },
    {
     "name": "stderr",
     "output_type": "stream",
     "text": [
      "\r",
      "Epoch 1/5:   9%|▉         | 278/3166 [1:01:45<10:42:44, 13.35s/it]"
     ]
    },
    {
     "name": "stderr",
     "output_type": "stream",
     "text": [
      "\r",
      "Epoch 1/5:   9%|▉         | 279/3166 [1:01:58<10:42:12, 13.35s/it]"
     ]
    },
    {
     "name": "stderr",
     "output_type": "stream",
     "text": [
      "\r",
      "Epoch 1/5:   9%|▉         | 280/3166 [1:02:12<10:41:47, 13.34s/it]"
     ]
    },
    {
     "name": "stderr",
     "output_type": "stream",
     "text": [
      "\r",
      "Epoch 1/5:   9%|▉         | 281/3166 [1:02:25<10:41:57, 13.35s/it]"
     ]
    },
    {
     "name": "stderr",
     "output_type": "stream",
     "text": [
      "\r",
      "Epoch 1/5:   9%|▉         | 282/3166 [1:02:38<10:42:04, 13.36s/it]"
     ]
    },
    {
     "name": "stderr",
     "output_type": "stream",
     "text": [
      "\r",
      "Epoch 1/5:   9%|▉         | 283/3166 [1:02:52<10:42:21, 13.37s/it]"
     ]
    },
    {
     "name": "stderr",
     "output_type": "stream",
     "text": [
      "\r",
      "Epoch 1/5:   9%|▉         | 284/3166 [1:03:05<10:42:03, 13.37s/it]"
     ]
    },
    {
     "name": "stderr",
     "output_type": "stream",
     "text": [
      "\r",
      "Epoch 1/5:   9%|▉         | 285/3166 [1:03:18<10:41:44, 13.36s/it]"
     ]
    },
    {
     "name": "stderr",
     "output_type": "stream",
     "text": [
      "\r",
      "Epoch 1/5:   9%|▉         | 286/3166 [1:03:32<10:40:55, 13.35s/it]"
     ]
    },
    {
     "name": "stderr",
     "output_type": "stream",
     "text": [
      "\r",
      "Epoch 1/5:   9%|▉         | 287/3166 [1:03:45<10:40:47, 13.35s/it]"
     ]
    },
    {
     "name": "stderr",
     "output_type": "stream",
     "text": [
      "\r",
      "Epoch 1/5:   9%|▉         | 288/3166 [1:03:58<10:40:10, 13.35s/it]"
     ]
    },
    {
     "name": "stderr",
     "output_type": "stream",
     "text": [
      "\r",
      "Epoch 1/5:   9%|▉         | 289/3166 [1:04:12<10:39:51, 13.34s/it]"
     ]
    },
    {
     "name": "stderr",
     "output_type": "stream",
     "text": [
      "\r",
      "Epoch 1/5:   9%|▉         | 290/3166 [1:04:25<10:40:08, 13.35s/it]"
     ]
    },
    {
     "name": "stderr",
     "output_type": "stream",
     "text": [
      "\r",
      "Epoch 1/5:   9%|▉         | 291/3166 [1:04:38<10:39:34, 13.35s/it]"
     ]
    },
    {
     "name": "stderr",
     "output_type": "stream",
     "text": [
      "\r",
      "Epoch 1/5:   9%|▉         | 292/3166 [1:04:52<10:38:45, 13.34s/it]"
     ]
    },
    {
     "name": "stderr",
     "output_type": "stream",
     "text": [
      "\r",
      "Epoch 1/5:   9%|▉         | 293/3166 [1:05:05<10:38:26, 13.33s/it]"
     ]
    },
    {
     "name": "stderr",
     "output_type": "stream",
     "text": [
      "\r",
      "Epoch 1/5:   9%|▉         | 294/3166 [1:05:18<10:37:38, 13.32s/it]"
     ]
    },
    {
     "name": "stderr",
     "output_type": "stream",
     "text": [
      "\r",
      "Epoch 1/5:   9%|▉         | 295/3166 [1:05:32<10:37:37, 13.33s/it]"
     ]
    },
    {
     "name": "stderr",
     "output_type": "stream",
     "text": [
      "\r",
      "Epoch 1/5:   9%|▉         | 296/3166 [1:05:45<10:37:50, 13.33s/it]"
     ]
    },
    {
     "name": "stderr",
     "output_type": "stream",
     "text": [
      "\r",
      "Epoch 1/5:   9%|▉         | 297/3166 [1:05:58<10:37:32, 13.33s/it]"
     ]
    },
    {
     "name": "stderr",
     "output_type": "stream",
     "text": [
      "\r",
      "Epoch 1/5:   9%|▉         | 298/3166 [1:06:12<10:37:01, 13.33s/it]"
     ]
    },
    {
     "name": "stderr",
     "output_type": "stream",
     "text": [
      "\r",
      "Epoch 1/5:   9%|▉         | 299/3166 [1:06:25<10:36:45, 13.33s/it]"
     ]
    },
    {
     "name": "stderr",
     "output_type": "stream",
     "text": [
      "\r",
      "Epoch 1/5:   9%|▉         | 300/3166 [1:06:38<10:35:36, 13.31s/it]"
     ]
    },
    {
     "name": "stderr",
     "output_type": "stream",
     "text": [
      "\r",
      "Epoch 1/5:  10%|▉         | 301/3166 [1:06:52<10:36:04, 13.32s/it]"
     ]
    },
    {
     "name": "stderr",
     "output_type": "stream",
     "text": [
      "\r",
      "Epoch 1/5:  10%|▉         | 302/3166 [1:07:05<10:36:14, 13.33s/it]"
     ]
    },
    {
     "name": "stderr",
     "output_type": "stream",
     "text": [
      "\r",
      "Epoch 1/5:  10%|▉         | 303/3166 [1:07:18<10:35:37, 13.32s/it]"
     ]
    },
    {
     "name": "stderr",
     "output_type": "stream",
     "text": [
      "\r",
      "Epoch 1/5:  10%|▉         | 304/3166 [1:07:32<10:35:11, 13.32s/it]"
     ]
    },
    {
     "name": "stderr",
     "output_type": "stream",
     "text": [
      "\r",
      "Epoch 1/5:  10%|▉         | 305/3166 [1:07:45<10:34:16, 13.30s/it]"
     ]
    },
    {
     "name": "stderr",
     "output_type": "stream",
     "text": [
      "\r",
      "Epoch 1/5:  10%|▉         | 306/3166 [1:07:58<10:35:06, 13.32s/it]"
     ]
    },
    {
     "name": "stderr",
     "output_type": "stream",
     "text": [
      "\r",
      "Epoch 1/5:  10%|▉         | 307/3166 [1:08:12<10:34:45, 13.32s/it]"
     ]
    },
    {
     "name": "stderr",
     "output_type": "stream",
     "text": [
      "\r",
      "Epoch 1/5:  10%|▉         | 308/3166 [1:08:25<10:33:45, 13.30s/it]"
     ]
    },
    {
     "name": "stderr",
     "output_type": "stream",
     "text": [
      "\r",
      "Epoch 1/5:  10%|▉         | 309/3166 [1:08:38<10:32:22, 13.28s/it]"
     ]
    },
    {
     "name": "stderr",
     "output_type": "stream",
     "text": [
      "\r",
      "Epoch 1/5:  10%|▉         | 310/3166 [1:08:51<10:32:56, 13.30s/it]"
     ]
    },
    {
     "name": "stderr",
     "output_type": "stream",
     "text": [
      "\r",
      "Epoch 1/5:  10%|▉         | 311/3166 [1:09:05<10:33:12, 13.31s/it]"
     ]
    },
    {
     "name": "stderr",
     "output_type": "stream",
     "text": [
      "\r",
      "Epoch 1/5:  10%|▉         | 312/3166 [1:09:18<10:33:54, 13.33s/it]"
     ]
    },
    {
     "name": "stderr",
     "output_type": "stream",
     "text": [
      "\r",
      "Epoch 1/5:  10%|▉         | 313/3166 [1:09:31<10:33:14, 13.32s/it]"
     ]
    },
    {
     "name": "stderr",
     "output_type": "stream",
     "text": [
      "\r",
      "Epoch 1/5:  10%|▉         | 314/3166 [1:09:45<10:33:10, 13.32s/it]"
     ]
    },
    {
     "name": "stderr",
     "output_type": "stream",
     "text": [
      "\r",
      "Epoch 1/5:  10%|▉         | 315/3166 [1:09:58<10:33:02, 13.32s/it]"
     ]
    },
    {
     "name": "stderr",
     "output_type": "stream",
     "text": [
      "\r",
      "Epoch 1/5:  10%|▉         | 316/3166 [1:10:11<10:34:08, 13.35s/it]"
     ]
    },
    {
     "name": "stderr",
     "output_type": "stream",
     "text": [
      "\r",
      "Epoch 1/5:  10%|█         | 317/3166 [1:10:25<10:32:25, 13.32s/it]"
     ]
    },
    {
     "name": "stderr",
     "output_type": "stream",
     "text": [
      "\r",
      "Epoch 1/5:  10%|█         | 318/3166 [1:10:38<10:31:41, 13.31s/it]"
     ]
    },
    {
     "name": "stderr",
     "output_type": "stream",
     "text": [
      "\r",
      "Epoch 1/5:  10%|█         | 319/3166 [1:10:51<10:32:30, 13.33s/it]"
     ]
    },
    {
     "name": "stderr",
     "output_type": "stream",
     "text": [
      "\r",
      "Epoch 1/5:  10%|█         | 320/3166 [1:11:05<10:32:26, 13.33s/it]"
     ]
    },
    {
     "name": "stderr",
     "output_type": "stream",
     "text": [
      "\r",
      "Epoch 1/5:  10%|█         | 321/3166 [1:11:18<10:31:45, 13.32s/it]"
     ]
    },
    {
     "name": "stderr",
     "output_type": "stream",
     "text": [
      "\r",
      "Epoch 1/5:  10%|█         | 322/3166 [1:11:31<10:32:01, 13.33s/it]"
     ]
    },
    {
     "name": "stderr",
     "output_type": "stream",
     "text": [
      "\r",
      "Epoch 1/5:  10%|█         | 323/3166 [1:11:45<10:31:58, 13.34s/it]"
     ]
    },
    {
     "name": "stderr",
     "output_type": "stream",
     "text": [
      "\r",
      "Epoch 1/5:  10%|█         | 324/3166 [1:11:58<10:31:18, 13.33s/it]"
     ]
    },
    {
     "name": "stderr",
     "output_type": "stream",
     "text": [
      "\r",
      "Epoch 1/5:  10%|█         | 325/3166 [1:12:11<10:31:54, 13.35s/it]"
     ]
    },
    {
     "name": "stderr",
     "output_type": "stream",
     "text": [
      "\r",
      "Epoch 1/5:  10%|█         | 326/3166 [1:12:25<10:31:08, 13.33s/it]"
     ]
    },
    {
     "name": "stderr",
     "output_type": "stream",
     "text": [
      "\r",
      "Epoch 1/5:  10%|█         | 327/3166 [1:12:38<10:30:27, 13.32s/it]"
     ]
    },
    {
     "name": "stderr",
     "output_type": "stream",
     "text": [
      "\r",
      "Epoch 1/5:  10%|█         | 328/3166 [1:12:51<10:30:53, 13.34s/it]"
     ]
    },
    {
     "name": "stderr",
     "output_type": "stream",
     "text": [
      "\r",
      "Epoch 1/5:  10%|█         | 329/3166 [1:13:05<10:30:35, 13.34s/it]"
     ]
    },
    {
     "name": "stderr",
     "output_type": "stream",
     "text": [
      "\r",
      "Epoch 1/5:  10%|█         | 330/3166 [1:13:18<10:30:12, 13.33s/it]"
     ]
    },
    {
     "name": "stderr",
     "output_type": "stream",
     "text": [
      "\r",
      "Epoch 1/5:  10%|█         | 331/3166 [1:13:31<10:29:36, 13.33s/it]"
     ]
    },
    {
     "name": "stderr",
     "output_type": "stream",
     "text": [
      "\r",
      "Epoch 1/5:  10%|█         | 332/3166 [1:13:45<10:28:23, 13.30s/it]"
     ]
    },
    {
     "name": "stderr",
     "output_type": "stream",
     "text": [
      "\r",
      "Epoch 1/5:  11%|█         | 333/3166 [1:13:58<10:27:50, 13.30s/it]"
     ]
    },
    {
     "name": "stderr",
     "output_type": "stream",
     "text": [
      "\r",
      "Epoch 1/5:  11%|█         | 334/3166 [1:14:11<10:27:56, 13.30s/it]"
     ]
    },
    {
     "name": "stderr",
     "output_type": "stream",
     "text": [
      "\r",
      "Epoch 1/5:  11%|█         | 335/3166 [1:14:24<10:26:46, 13.28s/it]"
     ]
    },
    {
     "name": "stderr",
     "output_type": "stream",
     "text": [
      "\r",
      "Epoch 1/5:  11%|█         | 336/3166 [1:14:38<10:26:18, 13.28s/it]"
     ]
    },
    {
     "name": "stderr",
     "output_type": "stream",
     "text": [
      "\r",
      "Epoch 1/5:  11%|█         | 337/3166 [1:14:51<10:26:41, 13.29s/it]"
     ]
    },
    {
     "name": "stderr",
     "output_type": "stream",
     "text": [
      "\r",
      "Epoch 1/5:  11%|█         | 338/3166 [1:15:04<10:27:13, 13.31s/it]"
     ]
    },
    {
     "name": "stderr",
     "output_type": "stream",
     "text": [
      "\r",
      "Epoch 1/5:  11%|█         | 339/3166 [1:15:18<10:26:39, 13.30s/it]"
     ]
    },
    {
     "name": "stderr",
     "output_type": "stream",
     "text": [
      "\r",
      "Epoch 1/5:  11%|█         | 340/3166 [1:15:31<10:26:59, 13.31s/it]"
     ]
    },
    {
     "name": "stderr",
     "output_type": "stream",
     "text": [
      "\r",
      "Epoch 1/5:  11%|█         | 341/3166 [1:15:44<10:27:16, 13.32s/it]"
     ]
    },
    {
     "name": "stderr",
     "output_type": "stream",
     "text": [
      "\r",
      "Epoch 1/5:  11%|█         | 342/3166 [1:15:58<10:27:03, 13.32s/it]"
     ]
    },
    {
     "name": "stderr",
     "output_type": "stream",
     "text": [
      "\r",
      "Epoch 1/5:  11%|█         | 343/3166 [1:16:11<10:27:28, 13.34s/it]"
     ]
    },
    {
     "name": "stderr",
     "output_type": "stream",
     "text": [
      "\r",
      "Epoch 1/5:  11%|█         | 344/3166 [1:16:24<10:27:51, 13.35s/it]"
     ]
    },
    {
     "name": "stderr",
     "output_type": "stream",
     "text": [
      "\r",
      "Epoch 1/5:  11%|█         | 345/3166 [1:16:38<10:26:45, 13.33s/it]"
     ]
    },
    {
     "name": "stderr",
     "output_type": "stream",
     "text": [
      "\r",
      "Epoch 1/5:  11%|█         | 346/3166 [1:16:51<10:26:36, 13.33s/it]"
     ]
    },
    {
     "name": "stderr",
     "output_type": "stream",
     "text": [
      "\r",
      "Epoch 1/5:  11%|█         | 347/3166 [1:17:04<10:25:51, 13.32s/it]"
     ]
    },
    {
     "name": "stderr",
     "output_type": "stream",
     "text": [
      "\r",
      "Epoch 1/5:  11%|█         | 348/3166 [1:17:18<10:25:52, 13.33s/it]"
     ]
    },
    {
     "name": "stderr",
     "output_type": "stream",
     "text": [
      "\r",
      "Epoch 1/5:  11%|█         | 349/3166 [1:17:31<10:26:16, 13.34s/it]"
     ]
    },
    {
     "name": "stderr",
     "output_type": "stream",
     "text": [
      "\r",
      "Epoch 1/5:  11%|█         | 350/3166 [1:17:44<10:24:58, 13.32s/it]"
     ]
    },
    {
     "name": "stderr",
     "output_type": "stream",
     "text": [
      "\r",
      "Epoch 1/5:  11%|█         | 351/3166 [1:17:58<10:24:56, 13.32s/it]"
     ]
    },
    {
     "name": "stderr",
     "output_type": "stream",
     "text": [
      "\r",
      "Epoch 1/5:  11%|█         | 352/3166 [1:18:11<10:24:27, 13.31s/it]"
     ]
    },
    {
     "name": "stderr",
     "output_type": "stream",
     "text": [
      "\r",
      "Epoch 1/5:  11%|█         | 353/3166 [1:18:24<10:24:09, 13.31s/it]"
     ]
    },
    {
     "name": "stderr",
     "output_type": "stream",
     "text": [
      "\r",
      "Epoch 1/5:  11%|█         | 354/3166 [1:18:37<10:22:48, 13.29s/it]"
     ]
    },
    {
     "name": "stderr",
     "output_type": "stream",
     "text": [
      "\r",
      "Epoch 1/5:  11%|█         | 355/3166 [1:18:51<10:22:32, 13.29s/it]"
     ]
    },
    {
     "name": "stderr",
     "output_type": "stream",
     "text": [
      "\r",
      "Epoch 1/5:  11%|█         | 356/3166 [1:19:04<10:21:47, 13.28s/it]"
     ]
    },
    {
     "name": "stderr",
     "output_type": "stream",
     "text": [
      "\r",
      "Epoch 1/5:  11%|█▏        | 357/3166 [1:19:17<10:21:43, 13.28s/it]"
     ]
    },
    {
     "name": "stderr",
     "output_type": "stream",
     "text": [
      "\r",
      "Epoch 1/5:  11%|█▏        | 358/3166 [1:19:31<10:22:32, 13.30s/it]"
     ]
    },
    {
     "name": "stderr",
     "output_type": "stream",
     "text": [
      "\r",
      "Epoch 1/5:  11%|█▏        | 359/3166 [1:19:44<10:21:48, 13.29s/it]"
     ]
    },
    {
     "name": "stderr",
     "output_type": "stream",
     "text": [
      "\r",
      "Epoch 1/5:  11%|█▏        | 360/3166 [1:19:57<10:21:40, 13.29s/it]"
     ]
    },
    {
     "name": "stderr",
     "output_type": "stream",
     "text": [
      "\r",
      "Epoch 1/5:  11%|█▏        | 361/3166 [1:20:11<10:22:04, 13.31s/it]"
     ]
    },
    {
     "name": "stderr",
     "output_type": "stream",
     "text": [
      "\r",
      "Epoch 1/5:  11%|█▏        | 362/3166 [1:20:24<10:21:06, 13.29s/it]"
     ]
    },
    {
     "name": "stderr",
     "output_type": "stream",
     "text": [
      "\r",
      "Epoch 1/5:  11%|█▏        | 363/3166 [1:20:37<10:21:11, 13.30s/it]"
     ]
    },
    {
     "name": "stderr",
     "output_type": "stream",
     "text": [
      "\r",
      "Epoch 1/5:  11%|█▏        | 364/3166 [1:20:50<10:20:50, 13.29s/it]"
     ]
    },
    {
     "name": "stderr",
     "output_type": "stream",
     "text": [
      "\r",
      "Epoch 1/5:  12%|█▏        | 365/3166 [1:21:04<10:20:10, 13.28s/it]"
     ]
    },
    {
     "name": "stderr",
     "output_type": "stream",
     "text": [
      "\r",
      "Epoch 1/5:  12%|█▏        | 366/3166 [1:21:17<10:20:19, 13.29s/it]"
     ]
    },
    {
     "name": "stderr",
     "output_type": "stream",
     "text": [
      "\r",
      "Epoch 1/5:  12%|█▏        | 367/3166 [1:21:30<10:20:06, 13.29s/it]"
     ]
    },
    {
     "name": "stderr",
     "output_type": "stream",
     "text": [
      "\r",
      "Epoch 1/5:  12%|█▏        | 368/3166 [1:21:44<10:19:14, 13.28s/it]"
     ]
    },
    {
     "name": "stderr",
     "output_type": "stream",
     "text": [
      "\r",
      "Epoch 1/5:  12%|█▏        | 369/3166 [1:21:57<10:19:27, 13.29s/it]"
     ]
    },
    {
     "name": "stderr",
     "output_type": "stream",
     "text": [
      "\r",
      "Epoch 1/5:  12%|█▏        | 370/3166 [1:22:10<10:19:16, 13.29s/it]"
     ]
    },
    {
     "name": "stderr",
     "output_type": "stream",
     "text": [
      "\r",
      "Epoch 1/5:  12%|█▏        | 371/3166 [1:22:23<10:19:40, 13.30s/it]"
     ]
    },
    {
     "name": "stderr",
     "output_type": "stream",
     "text": [
      "\r",
      "Epoch 1/5:  12%|█▏        | 372/3166 [1:22:37<10:18:44, 13.29s/it]"
     ]
    },
    {
     "name": "stderr",
     "output_type": "stream",
     "text": [
      "\r",
      "Epoch 1/5:  12%|█▏        | 373/3166 [1:22:50<10:18:50, 13.29s/it]"
     ]
    },
    {
     "name": "stderr",
     "output_type": "stream",
     "text": [
      "\r",
      "Epoch 1/5:  12%|█▏        | 374/3166 [1:23:03<10:19:24, 13.31s/it]"
     ]
    },
    {
     "name": "stderr",
     "output_type": "stream",
     "text": [
      "\r",
      "Epoch 1/5:  12%|█▏        | 375/3166 [1:23:17<10:19:16, 13.31s/it]"
     ]
    },
    {
     "name": "stderr",
     "output_type": "stream",
     "text": [
      "\r",
      "Epoch 1/5:  12%|█▏        | 376/3166 [1:23:30<10:20:27, 13.34s/it]"
     ]
    },
    {
     "name": "stderr",
     "output_type": "stream",
     "text": [
      "\r",
      "Epoch 1/5:  12%|█▏        | 377/3166 [1:23:43<10:19:27, 13.33s/it]"
     ]
    },
    {
     "name": "stderr",
     "output_type": "stream",
     "text": [
      "\r",
      "Epoch 1/5:  12%|█▏        | 378/3166 [1:23:57<10:19:05, 13.32s/it]"
     ]
    },
    {
     "name": "stderr",
     "output_type": "stream",
     "text": [
      "\r",
      "Epoch 1/5:  12%|█▏        | 379/3166 [1:24:10<10:18:11, 13.31s/it]"
     ]
    },
    {
     "name": "stderr",
     "output_type": "stream",
     "text": [
      "\r",
      "Epoch 1/5:  12%|█▏        | 380/3166 [1:24:23<10:16:29, 13.28s/it]"
     ]
    },
    {
     "name": "stderr",
     "output_type": "stream",
     "text": [
      "\r",
      "Epoch 1/5:  12%|█▏        | 381/3166 [1:24:36<10:16:13, 13.28s/it]"
     ]
    },
    {
     "name": "stderr",
     "output_type": "stream",
     "text": [
      "\r",
      "Epoch 1/5:  12%|█▏        | 382/3166 [1:24:50<10:17:18, 13.30s/it]"
     ]
    },
    {
     "name": "stderr",
     "output_type": "stream",
     "text": [
      "\r",
      "Epoch 1/5:  12%|█▏        | 383/3166 [1:25:03<10:16:58, 13.30s/it]"
     ]
    },
    {
     "name": "stderr",
     "output_type": "stream",
     "text": [
      "\r",
      "Epoch 1/5:  12%|█▏        | 384/3166 [1:25:16<10:17:14, 13.31s/it]"
     ]
    },
    {
     "name": "stderr",
     "output_type": "stream",
     "text": [
      "\r",
      "Epoch 1/5:  12%|█▏        | 385/3166 [1:25:30<10:16:58, 13.31s/it]"
     ]
    },
    {
     "name": "stderr",
     "output_type": "stream",
     "text": [
      "\r",
      "Epoch 1/5:  12%|█▏        | 386/3166 [1:25:43<10:15:59, 13.29s/it]"
     ]
    },
    {
     "name": "stderr",
     "output_type": "stream",
     "text": [
      "\r",
      "Epoch 1/5:  12%|█▏        | 387/3166 [1:25:56<10:15:34, 13.29s/it]"
     ]
    },
    {
     "name": "stderr",
     "output_type": "stream",
     "text": [
      "\r",
      "Epoch 1/5:  12%|█▏        | 388/3166 [1:26:10<10:14:56, 13.28s/it]"
     ]
    },
    {
     "name": "stderr",
     "output_type": "stream",
     "text": [
      "\r",
      "Epoch 1/5:  12%|█▏        | 389/3166 [1:26:23<10:15:07, 13.29s/it]"
     ]
    },
    {
     "name": "stderr",
     "output_type": "stream",
     "text": [
      "\r",
      "Epoch 1/5:  12%|█▏        | 390/3166 [1:26:36<10:15:32, 13.30s/it]"
     ]
    },
    {
     "name": "stderr",
     "output_type": "stream",
     "text": [
      "\r",
      "Epoch 1/5:  12%|█▏        | 391/3166 [1:26:50<10:15:13, 13.30s/it]"
     ]
    },
    {
     "name": "stderr",
     "output_type": "stream",
     "text": [
      "\r",
      "Epoch 1/5:  12%|█▏        | 392/3166 [1:27:03<10:14:07, 13.28s/it]"
     ]
    },
    {
     "name": "stderr",
     "output_type": "stream",
     "text": [
      "\r",
      "Epoch 1/5:  12%|█▏        | 393/3166 [1:27:16<10:13:09, 13.27s/it]"
     ]
    },
    {
     "name": "stderr",
     "output_type": "stream",
     "text": [
      "\r",
      "Epoch 1/5:  12%|█▏        | 394/3166 [1:27:29<10:13:49, 13.29s/it]"
     ]
    },
    {
     "name": "stderr",
     "output_type": "stream",
     "text": [
      "\r",
      "Epoch 1/5:  12%|█▏        | 395/3166 [1:27:43<10:14:33, 13.31s/it]"
     ]
    },
    {
     "name": "stderr",
     "output_type": "stream",
     "text": [
      "\r",
      "Epoch 1/5:  13%|█▎        | 396/3166 [1:27:56<10:14:08, 13.30s/it]"
     ]
    },
    {
     "name": "stderr",
     "output_type": "stream",
     "text": [
      "\r",
      "Epoch 1/5:  13%|█▎        | 397/3166 [1:28:09<10:13:09, 13.29s/it]"
     ]
    },
    {
     "name": "stderr",
     "output_type": "stream",
     "text": [
      "\r",
      "Epoch 1/5:  13%|█▎        | 398/3166 [1:28:22<10:12:43, 13.28s/it]"
     ]
    },
    {
     "name": "stderr",
     "output_type": "stream",
     "text": [
      "\r",
      "Epoch 1/5:  13%|█▎        | 399/3166 [1:28:36<10:12:51, 13.29s/it]"
     ]
    },
    {
     "name": "stderr",
     "output_type": "stream",
     "text": [
      "\r",
      "Epoch 1/5:  13%|█▎        | 400/3166 [1:28:49<10:13:31, 13.31s/it]"
     ]
    },
    {
     "name": "stderr",
     "output_type": "stream",
     "text": [
      "\r",
      "Epoch 1/5:  13%|█▎        | 401/3166 [1:29:02<10:12:27, 13.29s/it]"
     ]
    },
    {
     "name": "stderr",
     "output_type": "stream",
     "text": [
      "\r",
      "Epoch 1/5:  13%|█▎        | 402/3166 [1:29:16<10:12:10, 13.29s/it]"
     ]
    },
    {
     "name": "stderr",
     "output_type": "stream",
     "text": [
      "\r",
      "Epoch 1/5:  13%|█▎        | 403/3166 [1:29:29<10:12:34, 13.30s/it]"
     ]
    },
    {
     "name": "stderr",
     "output_type": "stream",
     "text": [
      "\r",
      "Epoch 1/5:  13%|█▎        | 404/3166 [1:29:42<10:11:46, 13.29s/it]"
     ]
    },
    {
     "name": "stderr",
     "output_type": "stream",
     "text": [
      "\r",
      "Epoch 1/5:  13%|█▎        | 405/3166 [1:29:56<10:11:55, 13.30s/it]"
     ]
    },
    {
     "name": "stderr",
     "output_type": "stream",
     "text": [
      "\r",
      "Epoch 1/5:  13%|█▎        | 406/3166 [1:30:09<10:12:01, 13.30s/it]"
     ]
    },
    {
     "name": "stderr",
     "output_type": "stream",
     "text": [
      "\r",
      "Epoch 1/5:  13%|█▎        | 407/3166 [1:30:22<10:11:06, 13.29s/it]"
     ]
    },
    {
     "name": "stderr",
     "output_type": "stream",
     "text": [
      "\r",
      "Epoch 1/5:  13%|█▎        | 408/3166 [1:30:35<10:10:13, 13.28s/it]"
     ]
    },
    {
     "name": "stderr",
     "output_type": "stream",
     "text": [
      "\r",
      "Epoch 1/5:  13%|█▎        | 409/3166 [1:30:49<10:09:09, 13.26s/it]"
     ]
    },
    {
     "name": "stderr",
     "output_type": "stream",
     "text": [
      "\r",
      "Epoch 1/5:  13%|█▎        | 410/3166 [1:31:02<10:09:02, 13.26s/it]"
     ]
    },
    {
     "name": "stderr",
     "output_type": "stream",
     "text": [
      "\r",
      "Epoch 1/5:  13%|█▎        | 411/3166 [1:31:15<10:08:21, 13.25s/it]"
     ]
    },
    {
     "name": "stderr",
     "output_type": "stream",
     "text": [
      "\r",
      "Epoch 1/5:  13%|█▎        | 412/3166 [1:31:28<10:09:24, 13.28s/it]"
     ]
    },
    {
     "name": "stderr",
     "output_type": "stream",
     "text": [
      "\r",
      "Epoch 1/5:  13%|█▎        | 413/3166 [1:31:42<10:09:36, 13.29s/it]"
     ]
    },
    {
     "name": "stderr",
     "output_type": "stream",
     "text": [
      "\r",
      "Epoch 1/5:  13%|█▎        | 414/3166 [1:31:55<10:10:02, 13.30s/it]"
     ]
    },
    {
     "name": "stderr",
     "output_type": "stream",
     "text": [
      "\r",
      "Epoch 1/5:  13%|█▎        | 415/3166 [1:32:08<10:09:51, 13.30s/it]"
     ]
    },
    {
     "name": "stderr",
     "output_type": "stream",
     "text": [
      "\r",
      "Epoch 1/5:  13%|█▎        | 416/3166 [1:32:22<10:09:17, 13.29s/it]"
     ]
    },
    {
     "name": "stderr",
     "output_type": "stream",
     "text": [
      "\r",
      "Epoch 1/5:  13%|█▎        | 417/3166 [1:32:35<10:09:49, 13.31s/it]"
     ]
    },
    {
     "name": "stderr",
     "output_type": "stream",
     "text": [
      "\r",
      "Epoch 1/5:  13%|█▎        | 418/3166 [1:32:48<10:09:43, 13.31s/it]"
     ]
    },
    {
     "name": "stderr",
     "output_type": "stream",
     "text": [
      "\r",
      "Epoch 1/5:  13%|█▎        | 419/3166 [1:33:02<10:10:14, 13.33s/it]"
     ]
    },
    {
     "name": "stderr",
     "output_type": "stream",
     "text": [
      "\r",
      "Epoch 1/5:  13%|█▎        | 420/3166 [1:33:15<10:09:43, 13.32s/it]"
     ]
    },
    {
     "name": "stderr",
     "output_type": "stream",
     "text": [
      "\r",
      "Epoch 1/5:  13%|█▎        | 421/3166 [1:33:28<10:09:51, 13.33s/it]"
     ]
    },
    {
     "name": "stderr",
     "output_type": "stream",
     "text": [
      "\r",
      "Epoch 1/5:  13%|█▎        | 422/3166 [1:33:42<10:09:30, 13.33s/it]"
     ]
    },
    {
     "name": "stderr",
     "output_type": "stream",
     "text": [
      "\r",
      "Epoch 1/5:  13%|█▎        | 423/3166 [1:33:55<10:09:05, 13.32s/it]"
     ]
    },
    {
     "name": "stderr",
     "output_type": "stream",
     "text": [
      "\r",
      "Epoch 1/5:  13%|█▎        | 424/3166 [1:34:08<10:07:51, 13.30s/it]"
     ]
    },
    {
     "name": "stderr",
     "output_type": "stream",
     "text": [
      "\r",
      "Epoch 1/5:  13%|█▎        | 425/3166 [1:34:22<10:07:19, 13.29s/it]"
     ]
    },
    {
     "name": "stderr",
     "output_type": "stream",
     "text": [
      "\r",
      "Epoch 1/5:  13%|█▎        | 426/3166 [1:34:35<10:06:50, 13.29s/it]"
     ]
    },
    {
     "name": "stderr",
     "output_type": "stream",
     "text": [
      "\r",
      "Epoch 1/5:  13%|█▎        | 427/3166 [1:34:48<10:07:16, 13.30s/it]"
     ]
    },
    {
     "name": "stderr",
     "output_type": "stream",
     "text": [
      "\r",
      "Epoch 1/5:  14%|█▎        | 428/3166 [1:35:02<10:08:01, 13.32s/it]"
     ]
    },
    {
     "name": "stderr",
     "output_type": "stream",
     "text": [
      "\r",
      "Epoch 1/5:  14%|█▎        | 429/3166 [1:35:15<10:07:41, 13.32s/it]"
     ]
    },
    {
     "name": "stderr",
     "output_type": "stream",
     "text": [
      "\r",
      "Epoch 1/5:  14%|█▎        | 430/3166 [1:35:28<10:07:10, 13.32s/it]"
     ]
    },
    {
     "name": "stderr",
     "output_type": "stream",
     "text": [
      "\r",
      "Epoch 1/5:  14%|█▎        | 431/3166 [1:35:41<10:05:39, 13.29s/it]"
     ]
    },
    {
     "name": "stderr",
     "output_type": "stream",
     "text": [
      "\r",
      "Epoch 1/5:  14%|█▎        | 432/3166 [1:35:55<10:04:14, 13.26s/it]"
     ]
    },
    {
     "name": "stderr",
     "output_type": "stream",
     "text": [
      "\r",
      "Epoch 1/5:  14%|█▎        | 433/3166 [1:36:08<10:05:26, 13.29s/it]"
     ]
    },
    {
     "name": "stderr",
     "output_type": "stream",
     "text": [
      "\r",
      "Epoch 1/5:  14%|█▎        | 434/3166 [1:36:21<10:05:33, 13.30s/it]"
     ]
    },
    {
     "name": "stderr",
     "output_type": "stream",
     "text": [
      "\r",
      "Epoch 1/5:  14%|█▎        | 435/3166 [1:36:35<10:04:54, 13.29s/it]"
     ]
    },
    {
     "name": "stderr",
     "output_type": "stream",
     "text": [
      "\r",
      "Epoch 1/5:  14%|█▍        | 436/3166 [1:36:48<10:05:05, 13.30s/it]"
     ]
    },
    {
     "name": "stderr",
     "output_type": "stream",
     "text": [
      "\r",
      "Epoch 1/5:  14%|█▍        | 437/3166 [1:37:01<10:05:24, 13.31s/it]"
     ]
    },
    {
     "name": "stderr",
     "output_type": "stream",
     "text": [
      "\r",
      "Epoch 1/5:  14%|█▍        | 438/3166 [1:37:14<10:05:19, 13.31s/it]"
     ]
    },
    {
     "name": "stderr",
     "output_type": "stream",
     "text": [
      "\r",
      "Epoch 1/5:  14%|█▍        | 439/3166 [1:37:28<10:04:42, 13.30s/it]"
     ]
    },
    {
     "name": "stderr",
     "output_type": "stream",
     "text": [
      "\r",
      "Epoch 1/5:  14%|█▍        | 440/3166 [1:37:41<10:03:55, 13.29s/it]"
     ]
    },
    {
     "name": "stderr",
     "output_type": "stream",
     "text": [
      "\r",
      "Epoch 1/5:  14%|█▍        | 441/3166 [1:37:54<10:04:00, 13.30s/it]"
     ]
    },
    {
     "name": "stderr",
     "output_type": "stream",
     "text": [
      "\r",
      "Epoch 1/5:  14%|█▍        | 442/3166 [1:38:08<10:03:46, 13.30s/it]"
     ]
    },
    {
     "name": "stderr",
     "output_type": "stream",
     "text": [
      "\r",
      "Epoch 1/5:  14%|█▍        | 443/3166 [1:38:21<10:02:52, 13.28s/it]"
     ]
    },
    {
     "name": "stderr",
     "output_type": "stream",
     "text": [
      "\r",
      "Epoch 1/5:  14%|█▍        | 444/3166 [1:38:34<10:01:52, 13.27s/it]"
     ]
    },
    {
     "name": "stderr",
     "output_type": "stream",
     "text": [
      "\r",
      "Epoch 1/5:  14%|█▍        | 445/3166 [1:38:47<10:01:59, 13.27s/it]"
     ]
    },
    {
     "name": "stderr",
     "output_type": "stream",
     "text": [
      "\r",
      "Epoch 1/5:  14%|█▍        | 446/3166 [1:39:01<10:01:15, 13.26s/it]"
     ]
    },
    {
     "name": "stderr",
     "output_type": "stream",
     "text": [
      "\r",
      "Epoch 1/5:  14%|█▍        | 447/3166 [1:39:14<9:59:54, 13.24s/it] "
     ]
    },
    {
     "name": "stderr",
     "output_type": "stream",
     "text": [
      "\r",
      "Epoch 1/5:  14%|█▍        | 448/3166 [1:39:27<9:59:53, 13.24s/it]"
     ]
    },
    {
     "name": "stderr",
     "output_type": "stream",
     "text": [
      "\r",
      "Epoch 1/5:  14%|█▍        | 449/3166 [1:39:40<9:59:26, 13.24s/it]"
     ]
    },
    {
     "name": "stderr",
     "output_type": "stream",
     "text": [
      "\r",
      "Epoch 1/5:  14%|█▍        | 450/3166 [1:39:54<9:59:33, 13.24s/it]"
     ]
    },
    {
     "name": "stderr",
     "output_type": "stream",
     "text": [
      "\r",
      "Epoch 1/5:  14%|█▍        | 451/3166 [1:40:07<9:59:55, 13.26s/it]"
     ]
    },
    {
     "name": "stderr",
     "output_type": "stream",
     "text": [
      "\r",
      "Epoch 1/5:  14%|█▍        | 452/3166 [1:40:20<9:59:27, 13.25s/it]"
     ]
    },
    {
     "name": "stderr",
     "output_type": "stream",
     "text": [
      "\r",
      "Epoch 1/5:  14%|█▍        | 453/3166 [1:40:33<9:59:57, 13.27s/it]"
     ]
    },
    {
     "name": "stderr",
     "output_type": "stream",
     "text": [
      "\r",
      "Epoch 1/5:  14%|█▍        | 454/3166 [1:40:47<9:59:08, 13.26s/it]"
     ]
    },
    {
     "name": "stderr",
     "output_type": "stream",
     "text": [
      "\r",
      "Epoch 1/5:  14%|█▍        | 455/3166 [1:41:00<9:58:57, 13.26s/it]"
     ]
    },
    {
     "name": "stderr",
     "output_type": "stream",
     "text": [
      "\r",
      "Epoch 1/5:  14%|█▍        | 456/3166 [1:41:13<9:57:57, 13.24s/it]"
     ]
    },
    {
     "name": "stderr",
     "output_type": "stream",
     "text": [
      "\r",
      "Epoch 1/5:  14%|█▍        | 457/3166 [1:41:26<9:58:23, 13.25s/it]"
     ]
    },
    {
     "name": "stderr",
     "output_type": "stream",
     "text": [
      "\r",
      "Epoch 1/5:  14%|█▍        | 458/3166 [1:41:40<9:57:15, 13.23s/it]"
     ]
    },
    {
     "name": "stderr",
     "output_type": "stream",
     "text": [
      "\r",
      "Epoch 1/5:  14%|█▍        | 459/3166 [1:41:53<9:57:32, 13.24s/it]"
     ]
    },
    {
     "name": "stderr",
     "output_type": "stream",
     "text": [
      "\r",
      "Epoch 1/5:  15%|█▍        | 460/3166 [1:42:06<9:57:08, 13.24s/it]"
     ]
    },
    {
     "name": "stderr",
     "output_type": "stream",
     "text": [
      "\r",
      "Epoch 1/5:  15%|█▍        | 461/3166 [1:42:19<9:57:04, 13.24s/it]"
     ]
    },
    {
     "name": "stderr",
     "output_type": "stream",
     "text": [
      "\r",
      "Epoch 1/5:  15%|█▍        | 462/3166 [1:42:33<9:56:37, 13.24s/it]"
     ]
    },
    {
     "name": "stderr",
     "output_type": "stream",
     "text": [
      "\r",
      "Epoch 1/5:  15%|█▍        | 463/3166 [1:42:46<9:56:20, 13.24s/it]"
     ]
    },
    {
     "name": "stderr",
     "output_type": "stream",
     "text": [
      "\r",
      "Epoch 1/5:  15%|█▍        | 464/3166 [1:42:59<9:55:23, 13.22s/it]"
     ]
    },
    {
     "name": "stderr",
     "output_type": "stream",
     "text": [
      "\r",
      "Epoch 1/5:  15%|█▍        | 465/3166 [1:43:12<9:55:23, 13.23s/it]"
     ]
    },
    {
     "name": "stderr",
     "output_type": "stream",
     "text": [
      "\r",
      "Epoch 1/5:  15%|█▍        | 466/3166 [1:43:25<9:55:36, 13.24s/it]"
     ]
    },
    {
     "name": "stderr",
     "output_type": "stream",
     "text": [
      "\r",
      "Epoch 1/5:  15%|█▍        | 467/3166 [1:43:39<9:55:24, 13.24s/it]"
     ]
    },
    {
     "name": "stderr",
     "output_type": "stream",
     "text": [
      "\r",
      "Epoch 1/5:  15%|█▍        | 468/3166 [1:43:52<9:56:23, 13.26s/it]"
     ]
    },
    {
     "name": "stderr",
     "output_type": "stream",
     "text": [
      "\r",
      "Epoch 1/5:  15%|█▍        | 469/3166 [1:44:05<9:55:46, 13.25s/it]"
     ]
    },
    {
     "name": "stderr",
     "output_type": "stream",
     "text": [
      "\r",
      "Epoch 1/5:  15%|█▍        | 470/3166 [1:44:18<9:55:22, 13.25s/it]"
     ]
    },
    {
     "name": "stderr",
     "output_type": "stream",
     "text": [
      "\r",
      "Epoch 1/5:  15%|█▍        | 471/3166 [1:44:32<9:55:02, 13.25s/it]"
     ]
    },
    {
     "name": "stderr",
     "output_type": "stream",
     "text": [
      "\r",
      "Epoch 1/5:  15%|█▍        | 472/3166 [1:44:45<9:54:57, 13.25s/it]"
     ]
    },
    {
     "name": "stderr",
     "output_type": "stream",
     "text": [
      "\r",
      "Epoch 1/5:  15%|█▍        | 473/3166 [1:44:58<9:54:38, 13.25s/it]"
     ]
    },
    {
     "name": "stderr",
     "output_type": "stream",
     "text": [
      "\r",
      "Epoch 1/5:  15%|█▍        | 474/3166 [1:45:11<9:54:26, 13.25s/it]"
     ]
    },
    {
     "name": "stderr",
     "output_type": "stream",
     "text": [
      "\r",
      "Epoch 1/5:  15%|█▌        | 475/3166 [1:45:25<9:54:31, 13.26s/it]"
     ]
    },
    {
     "name": "stderr",
     "output_type": "stream",
     "text": [
      "\r",
      "Epoch 1/5:  15%|█▌        | 476/3166 [1:45:38<9:53:47, 13.24s/it]"
     ]
    },
    {
     "name": "stderr",
     "output_type": "stream",
     "text": [
      "\r",
      "Epoch 1/5:  15%|█▌        | 477/3166 [1:45:51<9:53:27, 13.24s/it]"
     ]
    },
    {
     "name": "stderr",
     "output_type": "stream",
     "text": [
      "\r",
      "Epoch 1/5:  15%|█▌        | 478/3166 [1:46:04<9:53:29, 13.25s/it]"
     ]
    },
    {
     "name": "stderr",
     "output_type": "stream",
     "text": [
      "\r",
      "Epoch 1/5:  15%|█▌        | 479/3166 [1:46:18<9:53:28, 13.25s/it]"
     ]
    },
    {
     "name": "stderr",
     "output_type": "stream",
     "text": [
      "\r",
      "Epoch 1/5:  15%|█▌        | 480/3166 [1:46:31<9:52:40, 13.24s/it]"
     ]
    },
    {
     "name": "stderr",
     "output_type": "stream",
     "text": [
      "\r",
      "Epoch 1/5:  15%|█▌        | 481/3166 [1:46:44<9:51:47, 13.22s/it]"
     ]
    },
    {
     "name": "stderr",
     "output_type": "stream",
     "text": [
      "\r",
      "Epoch 1/5:  15%|█▌        | 482/3166 [1:46:57<9:52:37, 13.25s/it]"
     ]
    },
    {
     "name": "stderr",
     "output_type": "stream",
     "text": [
      "\r",
      "Epoch 1/5:  15%|█▌        | 483/3166 [1:47:11<9:52:29, 13.25s/it]"
     ]
    },
    {
     "name": "stderr",
     "output_type": "stream",
     "text": [
      "\r",
      "Epoch 1/5:  15%|█▌        | 484/3166 [1:47:24<9:53:09, 13.27s/it]"
     ]
    },
    {
     "name": "stderr",
     "output_type": "stream",
     "text": [
      "\r",
      "Epoch 1/5:  15%|█▌        | 485/3166 [1:47:37<9:52:26, 13.26s/it]"
     ]
    },
    {
     "name": "stderr",
     "output_type": "stream",
     "text": [
      "\r",
      "Epoch 1/5:  15%|█▌        | 486/3166 [1:47:50<9:51:47, 13.25s/it]"
     ]
    },
    {
     "name": "stderr",
     "output_type": "stream",
     "text": [
      "\r",
      "Epoch 1/5:  15%|█▌        | 487/3166 [1:48:04<9:51:37, 13.25s/it]"
     ]
    },
    {
     "name": "stderr",
     "output_type": "stream",
     "text": [
      "\r",
      "Epoch 1/5:  15%|█▌        | 488/3166 [1:48:17<9:51:47, 13.26s/it]"
     ]
    },
    {
     "name": "stderr",
     "output_type": "stream",
     "text": [
      "\r",
      "Epoch 1/5:  15%|█▌        | 489/3166 [1:48:30<9:51:35, 13.26s/it]"
     ]
    },
    {
     "name": "stderr",
     "output_type": "stream",
     "text": [
      "\r",
      "Epoch 1/5:  15%|█▌        | 490/3166 [1:48:43<9:50:40, 13.24s/it]"
     ]
    },
    {
     "name": "stderr",
     "output_type": "stream",
     "text": [
      "\r",
      "Epoch 1/5:  16%|█▌        | 491/3166 [1:48:57<9:51:21, 13.26s/it]"
     ]
    },
    {
     "name": "stderr",
     "output_type": "stream",
     "text": [
      "\r",
      "Epoch 1/5:  16%|█▌        | 492/3166 [1:49:10<9:50:17, 13.25s/it]"
     ]
    },
    {
     "name": "stderr",
     "output_type": "stream",
     "text": [
      "\r",
      "Epoch 1/5:  16%|█▌        | 493/3166 [1:49:23<9:49:43, 13.24s/it]"
     ]
    },
    {
     "name": "stderr",
     "output_type": "stream",
     "text": [
      "\r",
      "Epoch 1/5:  16%|█▌        | 494/3166 [1:49:36<9:49:44, 13.24s/it]"
     ]
    },
    {
     "name": "stderr",
     "output_type": "stream",
     "text": [
      "\r",
      "Epoch 1/5:  16%|█▌        | 495/3166 [1:49:50<9:49:44, 13.25s/it]"
     ]
    },
    {
     "name": "stderr",
     "output_type": "stream",
     "text": [
      "\r",
      "Epoch 1/5:  16%|█▌        | 496/3166 [1:50:03<9:50:39, 13.27s/it]"
     ]
    },
    {
     "name": "stderr",
     "output_type": "stream",
     "text": [
      "\r",
      "Epoch 1/5:  16%|█▌        | 497/3166 [1:50:16<9:49:56, 13.26s/it]"
     ]
    },
    {
     "name": "stderr",
     "output_type": "stream",
     "text": [
      "\r",
      "Epoch 1/5:  16%|█▌        | 498/3166 [1:50:30<9:49:50, 13.26s/it]"
     ]
    },
    {
     "name": "stderr",
     "output_type": "stream",
     "text": [
      "\r",
      "Epoch 1/5:  16%|█▌        | 499/3166 [1:50:43<9:49:46, 13.27s/it]"
     ]
    },
    {
     "name": "stderr",
     "output_type": "stream",
     "text": [
      "\r",
      "Epoch 1/5:  16%|█▌        | 500/3166 [1:50:56<9:49:19, 13.26s/it]"
     ]
    },
    {
     "name": "stderr",
     "output_type": "stream",
     "text": [
      "\r",
      "Epoch 1/5:  16%|█▌        | 501/3166 [1:51:09<9:49:38, 13.28s/it]"
     ]
    },
    {
     "name": "stderr",
     "output_type": "stream",
     "text": [
      "\r",
      "Epoch 1/5:  16%|█▌        | 502/3166 [1:51:23<9:49:29, 13.28s/it]"
     ]
    },
    {
     "name": "stderr",
     "output_type": "stream",
     "text": [
      "\r",
      "Epoch 1/5:  16%|█▌        | 503/3166 [1:51:36<9:49:19, 13.28s/it]"
     ]
    },
    {
     "name": "stderr",
     "output_type": "stream",
     "text": [
      "\r",
      "Epoch 1/5:  16%|█▌        | 504/3166 [1:51:49<9:48:57, 13.27s/it]"
     ]
    },
    {
     "name": "stderr",
     "output_type": "stream",
     "text": [
      "\r",
      "Epoch 1/5:  16%|█▌        | 505/3166 [1:52:02<9:48:45, 13.28s/it]"
     ]
    },
    {
     "name": "stderr",
     "output_type": "stream",
     "text": [
      "\r",
      "Epoch 1/5:  16%|█▌        | 506/3166 [1:52:16<9:48:14, 13.27s/it]"
     ]
    },
    {
     "name": "stderr",
     "output_type": "stream",
     "text": [
      "\r",
      "Epoch 1/5:  16%|█▌        | 507/3166 [1:52:29<9:48:03, 13.27s/it]"
     ]
    },
    {
     "name": "stderr",
     "output_type": "stream",
     "text": [
      "\r",
      "Epoch 1/5:  16%|█▌        | 508/3166 [1:52:42<9:48:19, 13.28s/it]"
     ]
    },
    {
     "name": "stderr",
     "output_type": "stream",
     "text": [
      "\r",
      "Epoch 1/5:  16%|█▌        | 509/3166 [1:52:56<9:48:17, 13.28s/it]"
     ]
    },
    {
     "name": "stderr",
     "output_type": "stream",
     "text": [
      "\r",
      "Epoch 1/5:  16%|█▌        | 510/3166 [1:53:09<9:47:46, 13.28s/it]"
     ]
    },
    {
     "name": "stderr",
     "output_type": "stream",
     "text": [
      "\r",
      "Epoch 1/5:  16%|█▌        | 511/3166 [1:53:22<9:47:41, 13.28s/it]"
     ]
    },
    {
     "name": "stderr",
     "output_type": "stream",
     "text": [
      "\r",
      "Epoch 1/5:  16%|█▌        | 512/3166 [1:53:35<9:47:34, 13.28s/it]"
     ]
    },
    {
     "name": "stderr",
     "output_type": "stream",
     "text": [
      "\r",
      "Epoch 1/5:  16%|█▌        | 513/3166 [1:53:49<9:47:32, 13.29s/it]"
     ]
    },
    {
     "name": "stderr",
     "output_type": "stream",
     "text": [
      "\r",
      "Epoch 1/5:  16%|█▌        | 514/3166 [1:54:02<9:47:19, 13.29s/it]"
     ]
    },
    {
     "name": "stderr",
     "output_type": "stream",
     "text": [
      "\r",
      "Epoch 1/5:  16%|█▋        | 515/3166 [1:54:15<9:46:40, 13.28s/it]"
     ]
    },
    {
     "name": "stderr",
     "output_type": "stream",
     "text": [
      "\r",
      "Epoch 1/5:  16%|█▋        | 516/3166 [1:54:29<9:46:09, 13.27s/it]"
     ]
    },
    {
     "name": "stderr",
     "output_type": "stream",
     "text": [
      "\r",
      "Epoch 1/5:  16%|█▋        | 517/3166 [1:54:42<9:46:14, 13.28s/it]"
     ]
    },
    {
     "name": "stderr",
     "output_type": "stream",
     "text": [
      "\r",
      "Epoch 1/5:  16%|█▋        | 518/3166 [1:54:55<9:45:55, 13.28s/it]"
     ]
    },
    {
     "name": "stderr",
     "output_type": "stream",
     "text": [
      "\r",
      "Epoch 1/5:  16%|█▋        | 519/3166 [1:55:08<9:45:14, 13.27s/it]"
     ]
    },
    {
     "name": "stderr",
     "output_type": "stream",
     "text": [
      "\r",
      "Epoch 1/5:  16%|█▋        | 520/3166 [1:55:22<9:44:38, 13.26s/it]"
     ]
    },
    {
     "name": "stderr",
     "output_type": "stream",
     "text": [
      "\r",
      "Epoch 1/5:  16%|█▋        | 521/3166 [1:55:35<9:45:00, 13.27s/it]"
     ]
    },
    {
     "name": "stderr",
     "output_type": "stream",
     "text": [
      "\r",
      "Epoch 1/5:  16%|█▋        | 522/3166 [1:55:48<9:45:12, 13.28s/it]"
     ]
    },
    {
     "name": "stderr",
     "output_type": "stream",
     "text": [
      "\r",
      "Epoch 1/5:  17%|█▋        | 523/3166 [1:56:02<9:45:24, 13.29s/it]"
     ]
    },
    {
     "name": "stderr",
     "output_type": "stream",
     "text": [
      "\r",
      "Epoch 1/5:  17%|█▋        | 524/3166 [1:56:15<9:44:49, 13.28s/it]"
     ]
    },
    {
     "name": "stderr",
     "output_type": "stream",
     "text": [
      "\r",
      "Epoch 1/5:  17%|█▋        | 525/3166 [1:56:28<9:44:29, 13.28s/it]"
     ]
    },
    {
     "name": "stderr",
     "output_type": "stream",
     "text": [
      "\r",
      "Epoch 1/5:  17%|█▋        | 526/3166 [1:56:41<9:44:35, 13.29s/it]"
     ]
    },
    {
     "name": "stderr",
     "output_type": "stream",
     "text": [
      "\r",
      "Epoch 1/5:  17%|█▋        | 527/3166 [1:56:55<9:44:39, 13.29s/it]"
     ]
    },
    {
     "name": "stderr",
     "output_type": "stream",
     "text": [
      "\r",
      "Epoch 1/5:  17%|█▋        | 528/3166 [1:57:08<9:43:28, 13.27s/it]"
     ]
    },
    {
     "name": "stderr",
     "output_type": "stream",
     "text": [
      "\r",
      "Epoch 1/5:  17%|█▋        | 529/3166 [1:57:21<9:43:52, 13.28s/it]"
     ]
    },
    {
     "name": "stderr",
     "output_type": "stream",
     "text": [
      "\r",
      "Epoch 1/5:  17%|█▋        | 530/3166 [1:57:34<9:43:15, 13.28s/it]"
     ]
    },
    {
     "name": "stderr",
     "output_type": "stream",
     "text": [
      "\r",
      "Epoch 1/5:  17%|█▋        | 531/3166 [1:57:48<9:42:47, 13.27s/it]"
     ]
    },
    {
     "name": "stderr",
     "output_type": "stream",
     "text": [
      "\r",
      "Epoch 1/5:  17%|█▋        | 532/3166 [1:58:01<9:43:02, 13.28s/it]"
     ]
    },
    {
     "name": "stderr",
     "output_type": "stream",
     "text": [
      "\r",
      "Epoch 1/5:  17%|█▋        | 533/3166 [1:58:14<9:42:15, 13.27s/it]"
     ]
    },
    {
     "name": "stderr",
     "output_type": "stream",
     "text": [
      "\r",
      "Epoch 1/5:  17%|█▋        | 534/3166 [1:58:28<9:42:17, 13.27s/it]"
     ]
    },
    {
     "name": "stderr",
     "output_type": "stream",
     "text": [
      "\r",
      "Epoch 1/5:  17%|█▋        | 535/3166 [1:58:41<9:42:52, 13.29s/it]"
     ]
    },
    {
     "name": "stderr",
     "output_type": "stream",
     "text": [
      "\r",
      "Epoch 1/5:  17%|█▋        | 536/3166 [1:58:54<9:42:26, 13.29s/it]"
     ]
    },
    {
     "name": "stderr",
     "output_type": "stream",
     "text": [
      "\r",
      "Epoch 1/5:  17%|█▋        | 537/3166 [1:59:07<9:42:14, 13.29s/it]"
     ]
    },
    {
     "name": "stderr",
     "output_type": "stream",
     "text": [
      "\r",
      "Epoch 1/5:  17%|█▋        | 538/3166 [1:59:21<9:42:29, 13.30s/it]"
     ]
    },
    {
     "name": "stderr",
     "output_type": "stream",
     "text": [
      "\r",
      "Epoch 1/5:  17%|█▋        | 539/3166 [1:59:34<9:42:11, 13.30s/it]"
     ]
    },
    {
     "name": "stderr",
     "output_type": "stream",
     "text": [
      "\r",
      "Epoch 1/5:  17%|█▋        | 540/3166 [1:59:47<9:42:13, 13.30s/it]"
     ]
    },
    {
     "name": "stderr",
     "output_type": "stream",
     "text": [
      "\r",
      "Epoch 1/5:  17%|█▋        | 541/3166 [2:00:01<9:42:05, 13.30s/it]"
     ]
    },
    {
     "name": "stderr",
     "output_type": "stream",
     "text": [
      "\r",
      "Epoch 1/5:  17%|█▋        | 542/3166 [2:00:14<9:41:19, 13.29s/it]"
     ]
    },
    {
     "name": "stderr",
     "output_type": "stream",
     "text": [
      "\r",
      "Epoch 1/5:  17%|█▋        | 543/3166 [2:00:27<9:41:05, 13.29s/it]"
     ]
    },
    {
     "name": "stderr",
     "output_type": "stream",
     "text": [
      "\r",
      "Epoch 1/5:  17%|█▋        | 544/3166 [2:00:41<9:40:58, 13.29s/it]"
     ]
    },
    {
     "name": "stderr",
     "output_type": "stream",
     "text": [
      "\r",
      "Epoch 1/5:  17%|█▋        | 545/3166 [2:00:54<9:41:09, 13.30s/it]"
     ]
    },
    {
     "name": "stderr",
     "output_type": "stream",
     "text": [
      "\r",
      "Epoch 1/5:  17%|█▋        | 546/3166 [2:01:07<9:40:55, 13.30s/it]"
     ]
    },
    {
     "name": "stderr",
     "output_type": "stream",
     "text": [
      "\r",
      "Epoch 1/5:  17%|█▋        | 547/3166 [2:01:20<9:40:52, 13.31s/it]"
     ]
    },
    {
     "name": "stderr",
     "output_type": "stream",
     "text": [
      "\r",
      "Epoch 1/5:  17%|█▋        | 548/3166 [2:01:34<9:40:18, 13.30s/it]"
     ]
    },
    {
     "name": "stderr",
     "output_type": "stream",
     "text": [
      "\r",
      "Epoch 1/5:  17%|█▋        | 549/3166 [2:01:47<9:39:40, 13.29s/it]"
     ]
    },
    {
     "name": "stderr",
     "output_type": "stream",
     "text": [
      "\r",
      "Epoch 1/5:  17%|█▋        | 550/3166 [2:02:00<9:38:52, 13.28s/it]"
     ]
    },
    {
     "name": "stderr",
     "output_type": "stream",
     "text": [
      "\r",
      "Epoch 1/5:  17%|█▋        | 551/3166 [2:02:14<9:38:15, 13.27s/it]"
     ]
    },
    {
     "name": "stderr",
     "output_type": "stream",
     "text": [
      "\r",
      "Epoch 1/5:  17%|█▋        | 552/3166 [2:02:27<9:37:58, 13.27s/it]"
     ]
    },
    {
     "name": "stderr",
     "output_type": "stream",
     "text": [
      "\r",
      "Epoch 1/5:  17%|█▋        | 553/3166 [2:02:40<9:38:07, 13.27s/it]"
     ]
    },
    {
     "name": "stderr",
     "output_type": "stream",
     "text": [
      "\r",
      "Epoch 1/5:  17%|█▋        | 554/3166 [2:02:53<9:38:04, 13.28s/it]"
     ]
    },
    {
     "name": "stderr",
     "output_type": "stream",
     "text": [
      "\r",
      "Epoch 1/5:  18%|█▊        | 555/3166 [2:03:07<9:38:21, 13.29s/it]"
     ]
    },
    {
     "name": "stderr",
     "output_type": "stream",
     "text": [
      "\r",
      "Epoch 1/5:  18%|█▊        | 556/3166 [2:03:20<9:38:19, 13.29s/it]"
     ]
    },
    {
     "name": "stderr",
     "output_type": "stream",
     "text": [
      "\r",
      "Epoch 1/5:  18%|█▊        | 557/3166 [2:03:33<9:37:30, 13.28s/it]"
     ]
    },
    {
     "name": "stderr",
     "output_type": "stream",
     "text": [
      "\r",
      "Epoch 1/5:  18%|█▊        | 558/3166 [2:03:47<9:37:23, 13.28s/it]"
     ]
    },
    {
     "name": "stderr",
     "output_type": "stream",
     "text": [
      "\r",
      "Epoch 1/5:  18%|█▊        | 559/3166 [2:04:00<9:37:30, 13.29s/it]"
     ]
    },
    {
     "name": "stderr",
     "output_type": "stream",
     "text": [
      "\r",
      "Epoch 1/5:  18%|█▊        | 560/3166 [2:04:13<9:36:35, 13.28s/it]"
     ]
    },
    {
     "name": "stderr",
     "output_type": "stream",
     "text": [
      "\r",
      "Epoch 1/5:  18%|█▊        | 561/3166 [2:04:26<9:36:39, 13.28s/it]"
     ]
    },
    {
     "name": "stderr",
     "output_type": "stream",
     "text": [
      "\r",
      "Epoch 1/5:  18%|█▊        | 562/3166 [2:04:40<9:36:48, 13.29s/it]"
     ]
    },
    {
     "name": "stderr",
     "output_type": "stream",
     "text": [
      "\r",
      "Epoch 1/5:  18%|█▊        | 563/3166 [2:04:53<9:36:08, 13.28s/it]"
     ]
    },
    {
     "name": "stderr",
     "output_type": "stream",
     "text": [
      "\r",
      "Epoch 1/5:  18%|█▊        | 564/3166 [2:05:06<9:36:24, 13.29s/it]"
     ]
    },
    {
     "name": "stderr",
     "output_type": "stream",
     "text": [
      "\r",
      "Epoch 1/5:  18%|█▊        | 565/3166 [2:05:20<9:36:48, 13.31s/it]"
     ]
    },
    {
     "name": "stderr",
     "output_type": "stream",
     "text": [
      "\r",
      "Epoch 1/5:  18%|█▊        | 566/3166 [2:05:33<9:36:28, 13.30s/it]"
     ]
    },
    {
     "name": "stderr",
     "output_type": "stream",
     "text": [
      "\r",
      "Epoch 1/5:  18%|█▊        | 567/3166 [2:05:46<9:36:06, 13.30s/it]"
     ]
    },
    {
     "name": "stderr",
     "output_type": "stream",
     "text": [
      "\r",
      "Epoch 1/5:  18%|█▊        | 568/3166 [2:06:00<9:36:31, 13.31s/it]"
     ]
    },
    {
     "name": "stderr",
     "output_type": "stream",
     "text": [
      "\r",
      "Epoch 1/5:  18%|█▊        | 569/3166 [2:06:13<9:34:29, 13.27s/it]"
     ]
    },
    {
     "name": "stderr",
     "output_type": "stream",
     "text": [
      "\r",
      "Epoch 1/5:  18%|█▊        | 570/3166 [2:06:26<9:34:46, 13.28s/it]"
     ]
    },
    {
     "name": "stderr",
     "output_type": "stream",
     "text": [
      "\r",
      "Epoch 1/5:  18%|█▊        | 571/3166 [2:06:39<9:34:58, 13.29s/it]"
     ]
    },
    {
     "name": "stderr",
     "output_type": "stream",
     "text": [
      "\r",
      "Epoch 1/5:  18%|█▊        | 572/3166 [2:06:53<9:34:53, 13.30s/it]"
     ]
    },
    {
     "name": "stderr",
     "output_type": "stream",
     "text": [
      "\r",
      "Epoch 1/5:  18%|█▊        | 573/3166 [2:07:06<9:34:56, 13.30s/it]"
     ]
    },
    {
     "name": "stderr",
     "output_type": "stream",
     "text": [
      "\r",
      "Epoch 1/5:  18%|█▊        | 574/3166 [2:07:19<9:35:09, 13.31s/it]"
     ]
    },
    {
     "name": "stderr",
     "output_type": "stream",
     "text": [
      "\r",
      "Epoch 1/5:  18%|█▊        | 575/3166 [2:07:33<9:34:50, 13.31s/it]"
     ]
    },
    {
     "name": "stderr",
     "output_type": "stream",
     "text": [
      "\r",
      "Epoch 1/5:  18%|█▊        | 576/3166 [2:07:46<9:35:04, 13.32s/it]"
     ]
    },
    {
     "name": "stderr",
     "output_type": "stream",
     "text": [
      "\r",
      "Epoch 1/5:  18%|█▊        | 577/3166 [2:07:59<9:34:51, 13.32s/it]"
     ]
    },
    {
     "name": "stderr",
     "output_type": "stream",
     "text": [
      "\r",
      "Epoch 1/5:  18%|█▊        | 578/3166 [2:08:13<9:33:38, 13.30s/it]"
     ]
    },
    {
     "name": "stderr",
     "output_type": "stream",
     "text": [
      "\r",
      "Epoch 1/5:  18%|█▊        | 579/3166 [2:08:26<9:32:02, 13.27s/it]"
     ]
    },
    {
     "name": "stderr",
     "output_type": "stream",
     "text": [
      "\r",
      "Epoch 1/5:  18%|█▊        | 580/3166 [2:08:39<9:32:04, 13.27s/it]"
     ]
    },
    {
     "name": "stderr",
     "output_type": "stream",
     "text": [
      "\r",
      "Epoch 1/5:  18%|█▊        | 581/3166 [2:08:52<9:31:00, 13.25s/it]"
     ]
    },
    {
     "name": "stderr",
     "output_type": "stream",
     "text": [
      "\r",
      "Epoch 1/5:  18%|█▊        | 582/3166 [2:09:05<9:31:07, 13.26s/it]"
     ]
    },
    {
     "name": "stderr",
     "output_type": "stream",
     "text": [
      "\r",
      "Epoch 1/5:  18%|█▊        | 583/3166 [2:09:19<9:31:42, 13.28s/it]"
     ]
    },
    {
     "name": "stderr",
     "output_type": "stream",
     "text": [
      "\r",
      "Epoch 1/5:  18%|█▊        | 584/3166 [2:09:32<9:31:10, 13.27s/it]"
     ]
    },
    {
     "name": "stderr",
     "output_type": "stream",
     "text": [
      "\r",
      "Epoch 1/5:  18%|█▊        | 585/3166 [2:09:45<9:30:55, 13.27s/it]"
     ]
    },
    {
     "name": "stderr",
     "output_type": "stream",
     "text": [
      "\r",
      "Epoch 1/5:  19%|█▊        | 586/3166 [2:09:59<9:31:38, 13.29s/it]"
     ]
    },
    {
     "name": "stderr",
     "output_type": "stream",
     "text": [
      "\r",
      "Epoch 1/5:  19%|█▊        | 587/3166 [2:10:12<9:30:58, 13.28s/it]"
     ]
    },
    {
     "name": "stderr",
     "output_type": "stream",
     "text": [
      "\r",
      "Epoch 1/5:  19%|█▊        | 588/3166 [2:10:25<9:30:01, 13.27s/it]"
     ]
    },
    {
     "name": "stderr",
     "output_type": "stream",
     "text": [
      "\r",
      "Epoch 1/5:  19%|█▊        | 589/3166 [2:10:38<9:29:59, 13.27s/it]"
     ]
    },
    {
     "name": "stderr",
     "output_type": "stream",
     "text": [
      "\r",
      "Epoch 1/5:  19%|█▊        | 590/3166 [2:10:52<9:30:03, 13.28s/it]"
     ]
    },
    {
     "name": "stderr",
     "output_type": "stream",
     "text": [
      "\r",
      "Epoch 1/5:  19%|█▊        | 591/3166 [2:11:05<9:30:21, 13.29s/it]"
     ]
    },
    {
     "name": "stderr",
     "output_type": "stream",
     "text": [
      "\r",
      "Epoch 1/5:  19%|█▊        | 592/3166 [2:11:18<9:30:06, 13.29s/it]"
     ]
    },
    {
     "name": "stderr",
     "output_type": "stream",
     "text": [
      "\r",
      "Epoch 1/5:  19%|█▊        | 593/3166 [2:11:32<9:29:18, 13.28s/it]"
     ]
    },
    {
     "name": "stderr",
     "output_type": "stream",
     "text": [
      "\r",
      "Epoch 1/5:  19%|█▉        | 594/3166 [2:11:45<9:29:07, 13.28s/it]"
     ]
    },
    {
     "name": "stderr",
     "output_type": "stream",
     "text": [
      "\r",
      "Epoch 1/5:  19%|█▉        | 595/3166 [2:11:58<9:29:28, 13.29s/it]"
     ]
    },
    {
     "name": "stderr",
     "output_type": "stream",
     "text": [
      "\r",
      "Epoch 1/5:  19%|█▉        | 596/3166 [2:12:12<9:29:30, 13.30s/it]"
     ]
    },
    {
     "name": "stderr",
     "output_type": "stream",
     "text": [
      "\r",
      "Epoch 1/5:  19%|█▉        | 597/3166 [2:12:25<9:29:00, 13.29s/it]"
     ]
    },
    {
     "name": "stderr",
     "output_type": "stream",
     "text": [
      "\r",
      "Epoch 1/5:  19%|█▉        | 598/3166 [2:12:38<9:29:06, 13.30s/it]"
     ]
    },
    {
     "name": "stderr",
     "output_type": "stream",
     "text": [
      "\r",
      "Epoch 1/5:  19%|█▉        | 599/3166 [2:12:51<9:29:05, 13.30s/it]"
     ]
    },
    {
     "name": "stderr",
     "output_type": "stream",
     "text": [
      "\r",
      "Epoch 1/5:  19%|█▉        | 600/3166 [2:13:05<9:28:36, 13.30s/it]"
     ]
    },
    {
     "name": "stderr",
     "output_type": "stream",
     "text": [
      "\r",
      "Epoch 1/5:  19%|█▉        | 601/3166 [2:13:18<9:28:31, 13.30s/it]"
     ]
    },
    {
     "name": "stderr",
     "output_type": "stream",
     "text": [
      "\r",
      "Epoch 1/5:  19%|█▉        | 602/3166 [2:13:31<9:28:23, 13.30s/it]"
     ]
    },
    {
     "name": "stderr",
     "output_type": "stream",
     "text": [
      "\r",
      "Epoch 1/5:  19%|█▉        | 603/3166 [2:13:45<9:28:29, 13.31s/it]"
     ]
    },
    {
     "name": "stderr",
     "output_type": "stream",
     "text": [
      "\r",
      "Epoch 1/5:  19%|█▉        | 604/3166 [2:13:58<9:28:58, 13.32s/it]"
     ]
    },
    {
     "name": "stderr",
     "output_type": "stream",
     "text": [
      "\r",
      "Epoch 1/5:  19%|█▉        | 605/3166 [2:14:11<9:28:38, 13.32s/it]"
     ]
    },
    {
     "name": "stderr",
     "output_type": "stream",
     "text": [
      "\r",
      "Epoch 1/5:  19%|█▉        | 606/3166 [2:14:25<9:28:30, 13.32s/it]"
     ]
    },
    {
     "name": "stderr",
     "output_type": "stream",
     "text": [
      "\r",
      "Epoch 1/5:  19%|█▉        | 607/3166 [2:14:38<9:28:03, 13.32s/it]"
     ]
    },
    {
     "name": "stderr",
     "output_type": "stream",
     "text": [
      "\r",
      "Epoch 1/5:  19%|█▉        | 608/3166 [2:14:51<9:27:35, 13.31s/it]"
     ]
    },
    {
     "name": "stderr",
     "output_type": "stream",
     "text": [
      "\r",
      "Epoch 1/5:  19%|█▉        | 609/3166 [2:15:05<9:26:51, 13.30s/it]"
     ]
    },
    {
     "name": "stderr",
     "output_type": "stream",
     "text": [
      "\r",
      "Epoch 1/5:  19%|█▉        | 610/3166 [2:15:18<9:26:43, 13.30s/it]"
     ]
    },
    {
     "name": "stderr",
     "output_type": "stream",
     "text": [
      "\r",
      "Epoch 1/5:  19%|█▉        | 611/3166 [2:15:31<9:25:54, 13.29s/it]"
     ]
    },
    {
     "name": "stderr",
     "output_type": "stream",
     "text": [
      "\r",
      "Epoch 1/5:  19%|█▉        | 612/3166 [2:15:44<9:26:02, 13.30s/it]"
     ]
    },
    {
     "name": "stderr",
     "output_type": "stream",
     "text": [
      "\r",
      "Epoch 1/5:  19%|█▉        | 613/3166 [2:15:58<9:26:57, 13.32s/it]"
     ]
    },
    {
     "name": "stderr",
     "output_type": "stream",
     "text": [
      "\r",
      "Epoch 1/5:  19%|█▉        | 614/3166 [2:16:11<9:26:06, 13.31s/it]"
     ]
    },
    {
     "name": "stderr",
     "output_type": "stream",
     "text": [
      "\r",
      "Epoch 1/5:  19%|█▉        | 615/3166 [2:16:24<9:26:35, 13.33s/it]"
     ]
    },
    {
     "name": "stderr",
     "output_type": "stream",
     "text": [
      "\r",
      "Epoch 1/5:  19%|█▉        | 616/3166 [2:16:38<9:26:05, 13.32s/it]"
     ]
    },
    {
     "name": "stderr",
     "output_type": "stream",
     "text": [
      "\r",
      "Epoch 1/5:  19%|█▉        | 617/3166 [2:16:51<9:26:32, 13.34s/it]"
     ]
    },
    {
     "name": "stderr",
     "output_type": "stream",
     "text": [
      "\r",
      "Epoch 1/5:  20%|█▉        | 618/3166 [2:17:04<9:25:48, 13.32s/it]"
     ]
    },
    {
     "name": "stderr",
     "output_type": "stream",
     "text": [
      "\r",
      "Epoch 1/5:  20%|█▉        | 619/3166 [2:17:18<9:26:02, 13.33s/it]"
     ]
    },
    {
     "name": "stderr",
     "output_type": "stream",
     "text": [
      "\r",
      "Epoch 1/5:  20%|█▉        | 620/3166 [2:17:31<9:25:57, 13.34s/it]"
     ]
    },
    {
     "name": "stderr",
     "output_type": "stream",
     "text": [
      "\r",
      "Epoch 1/5:  20%|█▉        | 621/3166 [2:17:44<9:24:39, 13.31s/it]"
     ]
    },
    {
     "name": "stderr",
     "output_type": "stream",
     "text": [
      "\r",
      "Epoch 1/5:  20%|█▉        | 622/3166 [2:17:58<9:24:12, 13.31s/it]"
     ]
    },
    {
     "name": "stderr",
     "output_type": "stream",
     "text": [
      "\r",
      "Epoch 1/5:  20%|█▉        | 623/3166 [2:18:11<9:23:52, 13.30s/it]"
     ]
    },
    {
     "name": "stderr",
     "output_type": "stream",
     "text": [
      "\r",
      "Epoch 1/5:  20%|█▉        | 624/3166 [2:18:24<9:23:38, 13.30s/it]"
     ]
    },
    {
     "name": "stderr",
     "output_type": "stream",
     "text": [
      "\r",
      "Epoch 1/5:  20%|█▉        | 625/3166 [2:18:38<9:24:11, 13.32s/it]"
     ]
    },
    {
     "name": "stderr",
     "output_type": "stream",
     "text": [
      "\r",
      "Epoch 1/5:  20%|█▉        | 626/3166 [2:18:51<9:24:06, 13.33s/it]"
     ]
    },
    {
     "name": "stderr",
     "output_type": "stream",
     "text": [
      "\r",
      "Epoch 1/5:  20%|█▉        | 627/3166 [2:19:04<9:23:06, 13.31s/it]"
     ]
    },
    {
     "name": "stderr",
     "output_type": "stream",
     "text": [
      "\r",
      "Epoch 1/5:  20%|█▉        | 628/3166 [2:19:18<9:22:44, 13.30s/it]"
     ]
    },
    {
     "name": "stderr",
     "output_type": "stream",
     "text": [
      "\r",
      "Epoch 1/5:  20%|█▉        | 629/3166 [2:19:31<9:22:48, 13.31s/it]"
     ]
    },
    {
     "name": "stderr",
     "output_type": "stream",
     "text": [
      "\r",
      "Epoch 1/5:  20%|█▉        | 630/3166 [2:19:44<9:22:54, 13.32s/it]"
     ]
    },
    {
     "name": "stderr",
     "output_type": "stream",
     "text": [
      "\r",
      "Epoch 1/5:  20%|█▉        | 631/3166 [2:19:57<9:22:10, 13.31s/it]"
     ]
    },
    {
     "name": "stderr",
     "output_type": "stream",
     "text": [
      "\r",
      "Epoch 1/5:  20%|█▉        | 632/3166 [2:20:11<9:21:22, 13.29s/it]"
     ]
    },
    {
     "name": "stderr",
     "output_type": "stream",
     "text": [
      "\r",
      "Epoch 1/5:  20%|█▉        | 633/3166 [2:20:24<9:21:31, 13.30s/it]"
     ]
    },
    {
     "name": "stderr",
     "output_type": "stream",
     "text": [
      "\r",
      "Epoch 1/5:  20%|██        | 634/3166 [2:20:37<9:21:25, 13.30s/it]"
     ]
    },
    {
     "name": "stderr",
     "output_type": "stream",
     "text": [
      "\r",
      "Epoch 1/5:  20%|██        | 635/3166 [2:20:51<9:22:15, 13.33s/it]"
     ]
    },
    {
     "name": "stderr",
     "output_type": "stream",
     "text": [
      "\r",
      "Epoch 1/5:  20%|██        | 636/3166 [2:21:04<9:21:24, 13.31s/it]"
     ]
    },
    {
     "name": "stderr",
     "output_type": "stream",
     "text": [
      "\r",
      "Epoch 1/5:  20%|██        | 637/3166 [2:21:17<9:21:24, 13.32s/it]"
     ]
    },
    {
     "name": "stderr",
     "output_type": "stream",
     "text": [
      "\r",
      "Epoch 1/5:  20%|██        | 638/3166 [2:21:31<9:21:04, 13.32s/it]"
     ]
    },
    {
     "name": "stderr",
     "output_type": "stream",
     "text": [
      "\r",
      "Epoch 1/5:  20%|██        | 639/3166 [2:21:44<9:20:00, 13.30s/it]"
     ]
    },
    {
     "name": "stderr",
     "output_type": "stream",
     "text": [
      "\r",
      "Epoch 1/5:  20%|██        | 640/3166 [2:21:57<9:19:31, 13.29s/it]"
     ]
    },
    {
     "name": "stderr",
     "output_type": "stream",
     "text": [
      "\r",
      "Epoch 1/5:  20%|██        | 641/3166 [2:22:10<9:18:23, 13.27s/it]"
     ]
    },
    {
     "name": "stderr",
     "output_type": "stream",
     "text": [
      "\r",
      "Epoch 1/5:  20%|██        | 642/3166 [2:22:24<9:18:16, 13.27s/it]"
     ]
    },
    {
     "name": "stderr",
     "output_type": "stream",
     "text": [
      "\r",
      "Epoch 1/5:  20%|██        | 643/3166 [2:22:37<9:17:46, 13.26s/it]"
     ]
    },
    {
     "name": "stderr",
     "output_type": "stream",
     "text": [
      "\r",
      "Epoch 1/5:  20%|██        | 644/3166 [2:22:50<9:17:47, 13.27s/it]"
     ]
    },
    {
     "name": "stderr",
     "output_type": "stream",
     "text": [
      "\r",
      "Epoch 1/5:  20%|██        | 645/3166 [2:23:03<9:17:35, 13.27s/it]"
     ]
    },
    {
     "name": "stderr",
     "output_type": "stream",
     "text": [
      "\r",
      "Epoch 1/5:  20%|██        | 646/3166 [2:23:17<9:18:18, 13.29s/it]"
     ]
    },
    {
     "name": "stderr",
     "output_type": "stream",
     "text": [
      "\r",
      "Epoch 1/5:  20%|██        | 647/3166 [2:23:30<9:18:55, 13.31s/it]"
     ]
    },
    {
     "name": "stderr",
     "output_type": "stream",
     "text": [
      "\r",
      "Epoch 1/5:  20%|██        | 648/3166 [2:23:43<9:18:06, 13.30s/it]"
     ]
    },
    {
     "name": "stderr",
     "output_type": "stream",
     "text": [
      "\r",
      "Epoch 1/5:  20%|██        | 649/3166 [2:23:57<9:18:34, 13.32s/it]"
     ]
    },
    {
     "name": "stderr",
     "output_type": "stream",
     "text": [
      "\r",
      "Epoch 1/5:  21%|██        | 650/3166 [2:24:10<9:17:58, 13.31s/it]"
     ]
    },
    {
     "name": "stderr",
     "output_type": "stream",
     "text": [
      "\r",
      "Epoch 1/5:  21%|██        | 651/3166 [2:24:23<9:17:08, 13.29s/it]"
     ]
    },
    {
     "name": "stderr",
     "output_type": "stream",
     "text": [
      "\r",
      "Epoch 1/5:  21%|██        | 652/3166 [2:24:37<9:17:24, 13.30s/it]"
     ]
    },
    {
     "name": "stderr",
     "output_type": "stream",
     "text": [
      "\r",
      "Epoch 1/5:  21%|██        | 653/3166 [2:24:50<9:16:57, 13.30s/it]"
     ]
    },
    {
     "name": "stderr",
     "output_type": "stream",
     "text": [
      "\r",
      "Epoch 1/5:  21%|██        | 654/3166 [2:25:03<9:16:41, 13.30s/it]"
     ]
    },
    {
     "name": "stderr",
     "output_type": "stream",
     "text": [
      "\r",
      "Epoch 1/5:  21%|██        | 655/3166 [2:25:17<9:17:15, 13.32s/it]"
     ]
    },
    {
     "name": "stderr",
     "output_type": "stream",
     "text": [
      "\r",
      "Epoch 1/5:  21%|██        | 656/3166 [2:25:30<9:16:39, 13.31s/it]"
     ]
    },
    {
     "name": "stderr",
     "output_type": "stream",
     "text": [
      "\r",
      "Epoch 1/5:  21%|██        | 657/3166 [2:25:43<9:15:53, 13.29s/it]"
     ]
    },
    {
     "name": "stderr",
     "output_type": "stream",
     "text": [
      "\r",
      "Epoch 1/5:  21%|██        | 658/3166 [2:25:56<9:16:11, 13.31s/it]"
     ]
    },
    {
     "name": "stderr",
     "output_type": "stream",
     "text": [
      "\r",
      "Epoch 1/5:  21%|██        | 659/3166 [2:26:10<9:15:35, 13.30s/it]"
     ]
    },
    {
     "name": "stderr",
     "output_type": "stream",
     "text": [
      "\r",
      "Epoch 1/5:  21%|██        | 660/3166 [2:26:23<9:15:46, 13.31s/it]"
     ]
    },
    {
     "name": "stderr",
     "output_type": "stream",
     "text": [
      "\r",
      "Epoch 1/5:  21%|██        | 661/3166 [2:26:36<9:15:34, 13.31s/it]"
     ]
    },
    {
     "name": "stderr",
     "output_type": "stream",
     "text": [
      "\r",
      "Epoch 1/5:  21%|██        | 662/3166 [2:26:50<9:15:19, 13.31s/it]"
     ]
    },
    {
     "name": "stderr",
     "output_type": "stream",
     "text": [
      "\r",
      "Epoch 1/5:  21%|██        | 663/3166 [2:27:03<9:15:02, 13.30s/it]"
     ]
    },
    {
     "name": "stderr",
     "output_type": "stream",
     "text": [
      "\r",
      "Epoch 1/5:  21%|██        | 664/3166 [2:27:16<9:14:49, 13.31s/it]"
     ]
    },
    {
     "name": "stderr",
     "output_type": "stream",
     "text": [
      "\r",
      "Epoch 1/5:  21%|██        | 665/3166 [2:27:30<9:14:20, 13.30s/it]"
     ]
    },
    {
     "name": "stderr",
     "output_type": "stream",
     "text": [
      "\r",
      "Epoch 1/5:  21%|██        | 666/3166 [2:27:43<9:14:33, 13.31s/it]"
     ]
    },
    {
     "name": "stderr",
     "output_type": "stream",
     "text": [
      "\r",
      "Epoch 1/5:  21%|██        | 667/3166 [2:27:56<9:14:48, 13.32s/it]"
     ]
    },
    {
     "name": "stderr",
     "output_type": "stream",
     "text": [
      "\r",
      "Epoch 1/5:  21%|██        | 668/3166 [2:28:10<9:14:14, 13.31s/it]"
     ]
    },
    {
     "name": "stderr",
     "output_type": "stream",
     "text": [
      "\r",
      "Epoch 1/5:  21%|██        | 669/3166 [2:28:23<9:13:21, 13.30s/it]"
     ]
    },
    {
     "name": "stderr",
     "output_type": "stream",
     "text": [
      "\r",
      "Epoch 1/5:  21%|██        | 670/3166 [2:28:36<9:13:46, 13.31s/it]"
     ]
    },
    {
     "name": "stderr",
     "output_type": "stream",
     "text": [
      "\r",
      "Epoch 1/5:  21%|██        | 671/3166 [2:28:49<9:13:06, 13.30s/it]"
     ]
    },
    {
     "name": "stderr",
     "output_type": "stream",
     "text": [
      "\r",
      "Epoch 1/5:  21%|██        | 672/3166 [2:29:03<9:12:05, 13.28s/it]"
     ]
    },
    {
     "name": "stderr",
     "output_type": "stream",
     "text": [
      "\r",
      "Epoch 1/5:  21%|██▏       | 673/3166 [2:29:16<9:12:12, 13.29s/it]"
     ]
    },
    {
     "name": "stderr",
     "output_type": "stream",
     "text": [
      "\r",
      "Epoch 1/5:  21%|██▏       | 674/3166 [2:29:29<9:12:12, 13.30s/it]"
     ]
    },
    {
     "name": "stderr",
     "output_type": "stream",
     "text": [
      "\r",
      "Epoch 1/5:  21%|██▏       | 675/3166 [2:29:43<9:11:47, 13.29s/it]"
     ]
    },
    {
     "name": "stderr",
     "output_type": "stream",
     "text": [
      "\r",
      "Epoch 1/5:  21%|██▏       | 676/3166 [2:29:56<9:11:35, 13.29s/it]"
     ]
    },
    {
     "name": "stderr",
     "output_type": "stream",
     "text": [
      "\r",
      "Epoch 1/5:  21%|██▏       | 677/3166 [2:30:09<9:10:46, 13.28s/it]"
     ]
    },
    {
     "name": "stderr",
     "output_type": "stream",
     "text": [
      "\r",
      "Epoch 1/5:  21%|██▏       | 678/3166 [2:30:22<9:10:23, 13.27s/it]"
     ]
    },
    {
     "name": "stderr",
     "output_type": "stream",
     "text": [
      "\r",
      "Epoch 1/5:  21%|██▏       | 679/3166 [2:30:36<9:10:14, 13.27s/it]"
     ]
    },
    {
     "name": "stderr",
     "output_type": "stream",
     "text": [
      "\r",
      "Epoch 1/5:  21%|██▏       | 680/3166 [2:30:49<9:09:41, 13.27s/it]"
     ]
    },
    {
     "name": "stderr",
     "output_type": "stream",
     "text": [
      "\r",
      "Epoch 1/5:  22%|██▏       | 681/3166 [2:31:02<9:08:49, 13.25s/it]"
     ]
    },
    {
     "name": "stderr",
     "output_type": "stream",
     "text": [
      "\r",
      "Epoch 1/5:  22%|██▏       | 682/3166 [2:31:15<9:09:07, 13.26s/it]"
     ]
    },
    {
     "name": "stderr",
     "output_type": "stream",
     "text": [
      "\r",
      "Epoch 1/5:  22%|██▏       | 683/3166 [2:31:29<9:08:38, 13.26s/it]"
     ]
    },
    {
     "name": "stderr",
     "output_type": "stream",
     "text": [
      "\r",
      "Epoch 1/5:  22%|██▏       | 684/3166 [2:31:42<9:08:12, 13.25s/it]"
     ]
    },
    {
     "name": "stderr",
     "output_type": "stream",
     "text": [
      "\r",
      "Epoch 1/5:  22%|██▏       | 685/3166 [2:31:55<9:08:33, 13.27s/it]"
     ]
    },
    {
     "name": "stderr",
     "output_type": "stream",
     "text": [
      "\r",
      "Epoch 1/5:  22%|██▏       | 686/3166 [2:32:08<9:08:18, 13.27s/it]"
     ]
    },
    {
     "name": "stderr",
     "output_type": "stream",
     "text": [
      "\r",
      "Epoch 1/5:  22%|██▏       | 687/3166 [2:32:22<9:08:21, 13.27s/it]"
     ]
    },
    {
     "name": "stderr",
     "output_type": "stream",
     "text": [
      "\r",
      "Epoch 1/5:  22%|██▏       | 688/3166 [2:32:35<9:08:53, 13.29s/it]"
     ]
    },
    {
     "name": "stderr",
     "output_type": "stream",
     "text": [
      "\r",
      "Epoch 1/5:  22%|██▏       | 689/3166 [2:32:48<9:08:59, 13.30s/it]"
     ]
    },
    {
     "name": "stderr",
     "output_type": "stream",
     "text": [
      "\r",
      "Epoch 1/5:  22%|██▏       | 690/3166 [2:33:02<9:09:03, 13.31s/it]"
     ]
    },
    {
     "name": "stderr",
     "output_type": "stream",
     "text": [
      "\r",
      "Epoch 1/5:  22%|██▏       | 691/3166 [2:33:15<9:09:08, 13.31s/it]"
     ]
    },
    {
     "name": "stderr",
     "output_type": "stream",
     "text": [
      "\r",
      "Epoch 1/5:  22%|██▏       | 692/3166 [2:33:28<9:08:53, 13.31s/it]"
     ]
    },
    {
     "name": "stderr",
     "output_type": "stream",
     "text": [
      "\r",
      "Epoch 1/5:  22%|██▏       | 693/3166 [2:33:42<9:08:01, 13.30s/it]"
     ]
    },
    {
     "name": "stderr",
     "output_type": "stream",
     "text": [
      "\r",
      "Epoch 1/5:  22%|██▏       | 694/3166 [2:33:55<9:07:08, 13.28s/it]"
     ]
    },
    {
     "name": "stderr",
     "output_type": "stream",
     "text": [
      "\r",
      "Epoch 1/5:  22%|██▏       | 695/3166 [2:34:08<9:06:48, 13.28s/it]"
     ]
    },
    {
     "name": "stderr",
     "output_type": "stream",
     "text": [
      "\r",
      "Epoch 1/5:  22%|██▏       | 696/3166 [2:34:21<9:06:30, 13.28s/it]"
     ]
    },
    {
     "name": "stderr",
     "output_type": "stream",
     "text": [
      "\r",
      "Epoch 1/5:  22%|██▏       | 697/3166 [2:34:35<9:07:02, 13.29s/it]"
     ]
    },
    {
     "name": "stderr",
     "output_type": "stream",
     "text": [
      "\r",
      "Epoch 1/5:  22%|██▏       | 698/3166 [2:34:48<9:06:23, 13.28s/it]"
     ]
    },
    {
     "name": "stderr",
     "output_type": "stream",
     "text": [
      "\r",
      "Epoch 1/5:  22%|██▏       | 699/3166 [2:35:01<9:06:24, 13.29s/it]"
     ]
    },
    {
     "name": "stderr",
     "output_type": "stream",
     "text": [
      "\r",
      "Epoch 1/5:  22%|██▏       | 700/3166 [2:35:15<9:06:42, 13.30s/it]"
     ]
    },
    {
     "name": "stderr",
     "output_type": "stream",
     "text": [
      "\r",
      "Epoch 1/5:  22%|██▏       | 701/3166 [2:35:28<9:07:08, 13.32s/it]"
     ]
    },
    {
     "name": "stderr",
     "output_type": "stream",
     "text": [
      "\r",
      "Epoch 1/5:  22%|██▏       | 702/3166 [2:35:41<9:06:17, 13.30s/it]"
     ]
    },
    {
     "name": "stderr",
     "output_type": "stream",
     "text": [
      "\r",
      "Epoch 1/5:  22%|██▏       | 703/3166 [2:35:55<9:06:46, 13.32s/it]"
     ]
    },
    {
     "name": "stderr",
     "output_type": "stream",
     "text": [
      "\r",
      "Epoch 1/5:  22%|██▏       | 704/3166 [2:36:08<9:06:01, 13.31s/it]"
     ]
    },
    {
     "name": "stderr",
     "output_type": "stream",
     "text": [
      "\r",
      "Epoch 1/5:  22%|██▏       | 705/3166 [2:36:21<9:05:22, 13.30s/it]"
     ]
    },
    {
     "name": "stderr",
     "output_type": "stream",
     "text": [
      "\r",
      "Epoch 1/5:  22%|██▏       | 706/3166 [2:36:34<9:05:22, 13.30s/it]"
     ]
    },
    {
     "name": "stderr",
     "output_type": "stream",
     "text": [
      "\r",
      "Epoch 1/5:  22%|██▏       | 707/3166 [2:36:48<9:05:32, 13.31s/it]"
     ]
    },
    {
     "name": "stderr",
     "output_type": "stream",
     "text": [
      "\r",
      "Epoch 1/5:  22%|██▏       | 708/3166 [2:37:01<9:05:10, 13.31s/it]"
     ]
    },
    {
     "name": "stderr",
     "output_type": "stream",
     "text": [
      "\r",
      "Epoch 1/5:  22%|██▏       | 709/3166 [2:37:14<9:04:43, 13.30s/it]"
     ]
    },
    {
     "name": "stderr",
     "output_type": "stream",
     "text": [
      "\r",
      "Epoch 1/5:  22%|██▏       | 710/3166 [2:37:28<9:03:55, 13.29s/it]"
     ]
    },
    {
     "name": "stderr",
     "output_type": "stream",
     "text": [
      "\r",
      "Epoch 1/5:  22%|██▏       | 711/3166 [2:37:41<9:03:16, 13.28s/it]"
     ]
    },
    {
     "name": "stderr",
     "output_type": "stream",
     "text": [
      "\r",
      "Epoch 1/5:  22%|██▏       | 712/3166 [2:37:54<9:02:33, 13.27s/it]"
     ]
    },
    {
     "name": "stderr",
     "output_type": "stream",
     "text": [
      "\r",
      "Epoch 1/5:  23%|██▎       | 713/3166 [2:38:07<9:02:52, 13.28s/it]"
     ]
    },
    {
     "name": "stderr",
     "output_type": "stream",
     "text": [
      "\r",
      "Epoch 1/5:  23%|██▎       | 714/3166 [2:38:21<9:01:45, 13.26s/it]"
     ]
    },
    {
     "name": "stderr",
     "output_type": "stream",
     "text": [
      "\r",
      "Epoch 1/5:  23%|██▎       | 715/3166 [2:38:34<9:02:06, 13.27s/it]"
     ]
    },
    {
     "name": "stderr",
     "output_type": "stream",
     "text": [
      "\r",
      "Epoch 1/5:  23%|██▎       | 716/3166 [2:38:47<9:01:25, 13.26s/it]"
     ]
    },
    {
     "name": "stderr",
     "output_type": "stream",
     "text": [
      "\r",
      "Epoch 1/5:  23%|██▎       | 717/3166 [2:39:00<9:01:09, 13.26s/it]"
     ]
    },
    {
     "name": "stderr",
     "output_type": "stream",
     "text": [
      "\r",
      "Epoch 1/5:  23%|██▎       | 718/3166 [2:39:14<9:02:11, 13.29s/it]"
     ]
    },
    {
     "name": "stderr",
     "output_type": "stream",
     "text": [
      "\r",
      "Epoch 1/5:  23%|██▎       | 719/3166 [2:39:27<9:01:53, 13.29s/it]"
     ]
    },
    {
     "name": "stderr",
     "output_type": "stream",
     "text": [
      "\r",
      "Epoch 1/5:  23%|██▎       | 720/3166 [2:39:40<9:01:18, 13.28s/it]"
     ]
    },
    {
     "name": "stderr",
     "output_type": "stream",
     "text": [
      "\r",
      "Epoch 1/5:  23%|██▎       | 721/3166 [2:39:54<9:01:39, 13.29s/it]"
     ]
    },
    {
     "name": "stderr",
     "output_type": "stream",
     "text": [
      "\r",
      "Epoch 1/5:  23%|██▎       | 722/3166 [2:40:07<9:01:16, 13.29s/it]"
     ]
    },
    {
     "name": "stderr",
     "output_type": "stream",
     "text": [
      "\r",
      "Epoch 1/5:  23%|██▎       | 723/3166 [2:40:20<9:00:40, 13.28s/it]"
     ]
    },
    {
     "name": "stderr",
     "output_type": "stream",
     "text": [
      "\r",
      "Epoch 1/5:  23%|██▎       | 724/3166 [2:40:34<9:00:17, 13.28s/it]"
     ]
    },
    {
     "name": "stderr",
     "output_type": "stream",
     "text": [
      "\r",
      "Epoch 1/5:  23%|██▎       | 725/3166 [2:40:47<9:00:18, 13.28s/it]"
     ]
    },
    {
     "name": "stderr",
     "output_type": "stream",
     "text": [
      "\r",
      "Epoch 1/5:  23%|██▎       | 726/3166 [2:41:00<9:00:19, 13.29s/it]"
     ]
    },
    {
     "name": "stderr",
     "output_type": "stream",
     "text": [
      "\r",
      "Epoch 1/5:  23%|██▎       | 727/3166 [2:41:13<9:00:09, 13.29s/it]"
     ]
    },
    {
     "name": "stderr",
     "output_type": "stream",
     "text": [
      "\r",
      "Epoch 1/5:  23%|██▎       | 728/3166 [2:41:27<9:00:04, 13.29s/it]"
     ]
    },
    {
     "name": "stderr",
     "output_type": "stream",
     "text": [
      "\r",
      "Epoch 1/5:  23%|██▎       | 729/3166 [2:41:40<8:59:34, 13.28s/it]"
     ]
    },
    {
     "name": "stderr",
     "output_type": "stream",
     "text": [
      "\r",
      "Epoch 1/5:  23%|██▎       | 730/3166 [2:41:53<8:58:56, 13.27s/it]"
     ]
    },
    {
     "name": "stderr",
     "output_type": "stream",
     "text": [
      "\r",
      "Epoch 1/5:  23%|██▎       | 731/3166 [2:42:06<8:58:21, 13.27s/it]"
     ]
    },
    {
     "name": "stderr",
     "output_type": "stream",
     "text": [
      "\r",
      "Epoch 1/5:  23%|██▎       | 732/3166 [2:42:20<8:59:04, 13.29s/it]"
     ]
    },
    {
     "name": "stderr",
     "output_type": "stream",
     "text": [
      "\r",
      "Epoch 1/5:  23%|██▎       | 733/3166 [2:42:33<8:59:07, 13.30s/it]"
     ]
    },
    {
     "name": "stderr",
     "output_type": "stream",
     "text": [
      "\r",
      "Epoch 1/5:  23%|██▎       | 734/3166 [2:42:46<8:59:22, 13.31s/it]"
     ]
    },
    {
     "name": "stderr",
     "output_type": "stream",
     "text": [
      "\r",
      "Epoch 1/5:  23%|██▎       | 735/3166 [2:43:00<8:58:39, 13.29s/it]"
     ]
    },
    {
     "name": "stderr",
     "output_type": "stream",
     "text": [
      "\r",
      "Epoch 1/5:  23%|██▎       | 736/3166 [2:43:13<8:59:28, 13.32s/it]"
     ]
    },
    {
     "name": "stderr",
     "output_type": "stream",
     "text": [
      "\r",
      "Epoch 1/5:  23%|██▎       | 737/3166 [2:43:26<8:58:59, 13.31s/it]"
     ]
    },
    {
     "name": "stderr",
     "output_type": "stream",
     "text": [
      "\r",
      "Epoch 1/5:  23%|██▎       | 738/3166 [2:43:40<8:58:04, 13.30s/it]"
     ]
    },
    {
     "name": "stderr",
     "output_type": "stream",
     "text": [
      "\r",
      "Epoch 1/5:  23%|██▎       | 739/3166 [2:43:53<8:57:10, 13.28s/it]"
     ]
    },
    {
     "name": "stderr",
     "output_type": "stream",
     "text": [
      "\r",
      "Epoch 1/5:  23%|██▎       | 740/3166 [2:44:06<8:56:38, 13.27s/it]"
     ]
    },
    {
     "name": "stderr",
     "output_type": "stream",
     "text": [
      "\r",
      "Epoch 1/5:  23%|██▎       | 741/3166 [2:44:19<8:56:02, 13.26s/it]"
     ]
    },
    {
     "name": "stderr",
     "output_type": "stream",
     "text": [
      "\r",
      "Epoch 1/5:  23%|██▎       | 742/3166 [2:44:33<8:54:45, 13.24s/it]"
     ]
    },
    {
     "name": "stderr",
     "output_type": "stream",
     "text": [
      "\r",
      "Epoch 1/5:  23%|██▎       | 743/3166 [2:44:46<8:55:31, 13.26s/it]"
     ]
    },
    {
     "name": "stderr",
     "output_type": "stream",
     "text": [
      "\r",
      "Epoch 1/5:  23%|██▎       | 744/3166 [2:44:59<8:55:36, 13.27s/it]"
     ]
    },
    {
     "name": "stderr",
     "output_type": "stream",
     "text": [
      "\r",
      "Epoch 1/5:  24%|██▎       | 745/3166 [2:45:12<8:56:13, 13.29s/it]"
     ]
    },
    {
     "name": "stderr",
     "output_type": "stream",
     "text": [
      "\r",
      "Epoch 1/5:  24%|██▎       | 746/3166 [2:45:26<8:56:13, 13.29s/it]"
     ]
    },
    {
     "name": "stderr",
     "output_type": "stream",
     "text": [
      "\r",
      "Epoch 1/5:  24%|██▎       | 747/3166 [2:45:39<8:55:45, 13.29s/it]"
     ]
    },
    {
     "name": "stderr",
     "output_type": "stream",
     "text": [
      "\r",
      "Epoch 1/5:  24%|██▎       | 748/3166 [2:45:52<8:55:54, 13.30s/it]"
     ]
    },
    {
     "name": "stderr",
     "output_type": "stream",
     "text": [
      "\r",
      "Epoch 1/5:  24%|██▎       | 749/3166 [2:46:06<8:55:36, 13.30s/it]"
     ]
    },
    {
     "name": "stderr",
     "output_type": "stream",
     "text": [
      "\r",
      "Epoch 1/5:  24%|██▎       | 750/3166 [2:46:19<8:55:30, 13.30s/it]"
     ]
    },
    {
     "name": "stderr",
     "output_type": "stream",
     "text": [
      "\r",
      "Epoch 1/5:  24%|██▎       | 751/3166 [2:46:32<8:55:11, 13.30s/it]"
     ]
    },
    {
     "name": "stderr",
     "output_type": "stream",
     "text": [
      "\r",
      "Epoch 1/5:  24%|██▍       | 752/3166 [2:46:46<8:55:00, 13.30s/it]"
     ]
    },
    {
     "name": "stderr",
     "output_type": "stream",
     "text": [
      "\r",
      "Epoch 1/5:  24%|██▍       | 753/3166 [2:46:59<8:55:29, 13.32s/it]"
     ]
    },
    {
     "name": "stderr",
     "output_type": "stream",
     "text": [
      "\r",
      "Epoch 1/5:  24%|██▍       | 754/3166 [2:47:12<8:55:34, 13.32s/it]"
     ]
    },
    {
     "name": "stderr",
     "output_type": "stream",
     "text": [
      "\r",
      "Epoch 1/5:  24%|██▍       | 755/3166 [2:47:26<8:55:42, 13.33s/it]"
     ]
    },
    {
     "name": "stderr",
     "output_type": "stream",
     "text": [
      "\r",
      "Epoch 1/5:  24%|██▍       | 756/3166 [2:47:39<8:55:44, 13.34s/it]"
     ]
    },
    {
     "name": "stderr",
     "output_type": "stream",
     "text": [
      "\r",
      "Epoch 1/5:  24%|██▍       | 757/3166 [2:47:52<8:56:02, 13.35s/it]"
     ]
    },
    {
     "name": "stderr",
     "output_type": "stream",
     "text": [
      "\r",
      "Epoch 1/5:  24%|██▍       | 758/3166 [2:48:06<8:55:11, 13.34s/it]"
     ]
    },
    {
     "name": "stderr",
     "output_type": "stream",
     "text": [
      "\r",
      "Epoch 1/5:  24%|██▍       | 759/3166 [2:48:19<8:54:34, 13.33s/it]"
     ]
    },
    {
     "name": "stderr",
     "output_type": "stream",
     "text": [
      "\r",
      "Epoch 1/5:  24%|██▍       | 760/3166 [2:48:32<8:54:09, 13.32s/it]"
     ]
    },
    {
     "name": "stderr",
     "output_type": "stream",
     "text": [
      "\r",
      "Epoch 1/5:  24%|██▍       | 761/3166 [2:48:46<8:53:33, 13.31s/it]"
     ]
    },
    {
     "name": "stderr",
     "output_type": "stream",
     "text": [
      "\r",
      "Epoch 1/5:  24%|██▍       | 762/3166 [2:48:59<8:52:31, 13.29s/it]"
     ]
    },
    {
     "name": "stderr",
     "output_type": "stream",
     "text": [
      "\r",
      "Epoch 1/5:  24%|██▍       | 763/3166 [2:49:12<8:52:48, 13.30s/it]"
     ]
    },
    {
     "name": "stderr",
     "output_type": "stream",
     "text": [
      "\r",
      "Epoch 1/5:  24%|██▍       | 764/3166 [2:49:25<8:52:05, 13.29s/it]"
     ]
    },
    {
     "name": "stderr",
     "output_type": "stream",
     "text": [
      "\r",
      "Epoch 1/5:  24%|██▍       | 765/3166 [2:49:39<8:51:55, 13.29s/it]"
     ]
    },
    {
     "name": "stderr",
     "output_type": "stream",
     "text": [
      "\r",
      "Epoch 1/5:  24%|██▍       | 766/3166 [2:49:52<8:52:30, 13.31s/it]"
     ]
    },
    {
     "name": "stderr",
     "output_type": "stream",
     "text": [
      "\r",
      "Epoch 1/5:  24%|██▍       | 767/3166 [2:50:05<8:52:41, 13.32s/it]"
     ]
    },
    {
     "name": "stderr",
     "output_type": "stream",
     "text": [
      "\r",
      "Epoch 1/5:  24%|██▍       | 768/3166 [2:50:19<8:51:49, 13.31s/it]"
     ]
    },
    {
     "name": "stderr",
     "output_type": "stream",
     "text": [
      "\r",
      "Epoch 1/5:  24%|██▍       | 769/3166 [2:50:32<8:52:08, 13.32s/it]"
     ]
    },
    {
     "name": "stderr",
     "output_type": "stream",
     "text": [
      "\r",
      "Epoch 1/5:  24%|██▍       | 770/3166 [2:50:45<8:51:24, 13.31s/it]"
     ]
    },
    {
     "name": "stderr",
     "output_type": "stream",
     "text": [
      "\r",
      "Epoch 1/5:  24%|██▍       | 771/3166 [2:50:59<8:50:38, 13.29s/it]"
     ]
    },
    {
     "name": "stderr",
     "output_type": "stream",
     "text": [
      "\r",
      "Epoch 1/5:  24%|██▍       | 772/3166 [2:51:12<8:51:37, 13.32s/it]"
     ]
    },
    {
     "name": "stderr",
     "output_type": "stream",
     "text": [
      "\r",
      "Epoch 1/5:  24%|██▍       | 773/3166 [2:51:25<8:50:27, 13.30s/it]"
     ]
    },
    {
     "name": "stderr",
     "output_type": "stream",
     "text": [
      "\r",
      "Epoch 1/5:  24%|██▍       | 774/3166 [2:51:39<8:50:07, 13.30s/it]"
     ]
    },
    {
     "name": "stderr",
     "output_type": "stream",
     "text": [
      "\r",
      "Epoch 1/5:  24%|██▍       | 775/3166 [2:51:52<8:50:20, 13.31s/it]"
     ]
    },
    {
     "name": "stderr",
     "output_type": "stream",
     "text": [
      "\r",
      "Epoch 1/5:  25%|██▍       | 776/3166 [2:52:05<8:49:45, 13.30s/it]"
     ]
    },
    {
     "name": "stderr",
     "output_type": "stream",
     "text": [
      "\r",
      "Epoch 1/5:  25%|██▍       | 777/3166 [2:52:18<8:48:47, 13.28s/it]"
     ]
    },
    {
     "name": "stderr",
     "output_type": "stream",
     "text": [
      "\r",
      "Epoch 1/5:  25%|██▍       | 778/3166 [2:52:32<8:49:03, 13.29s/it]"
     ]
    },
    {
     "name": "stderr",
     "output_type": "stream",
     "text": [
      "\r",
      "Epoch 1/5:  25%|██▍       | 779/3166 [2:52:45<8:48:59, 13.30s/it]"
     ]
    },
    {
     "name": "stderr",
     "output_type": "stream",
     "text": [
      "\r",
      "Epoch 1/5:  25%|██▍       | 780/3166 [2:52:58<8:48:10, 13.28s/it]"
     ]
    },
    {
     "name": "stderr",
     "output_type": "stream",
     "text": [
      "\r",
      "Epoch 1/5:  25%|██▍       | 781/3166 [2:53:11<8:47:43, 13.28s/it]"
     ]
    },
    {
     "name": "stderr",
     "output_type": "stream",
     "text": [
      "\r",
      "Epoch 1/5:  25%|██▍       | 782/3166 [2:53:25<8:46:26, 13.25s/it]"
     ]
    },
    {
     "name": "stderr",
     "output_type": "stream",
     "text": [
      "\r",
      "Epoch 1/5:  25%|██▍       | 783/3166 [2:53:38<8:46:05, 13.25s/it]"
     ]
    },
    {
     "name": "stderr",
     "output_type": "stream",
     "text": [
      "\r",
      "Epoch 1/5:  25%|██▍       | 784/3166 [2:53:51<8:45:53, 13.25s/it]"
     ]
    },
    {
     "name": "stderr",
     "output_type": "stream",
     "text": [
      "\r",
      "Epoch 1/5:  25%|██▍       | 785/3166 [2:54:04<8:45:21, 13.24s/it]"
     ]
    },
    {
     "name": "stderr",
     "output_type": "stream",
     "text": [
      "\r",
      "Epoch 1/5:  25%|██▍       | 786/3166 [2:54:18<8:45:05, 13.24s/it]"
     ]
    },
    {
     "name": "stderr",
     "output_type": "stream",
     "text": [
      "\r",
      "Epoch 1/5:  25%|██▍       | 787/3166 [2:54:31<8:45:08, 13.24s/it]"
     ]
    },
    {
     "name": "stderr",
     "output_type": "stream",
     "text": [
      "\r",
      "Epoch 1/5:  25%|██▍       | 788/3166 [2:54:44<8:44:44, 13.24s/it]"
     ]
    },
    {
     "name": "stderr",
     "output_type": "stream",
     "text": [
      "\r",
      "Epoch 1/5:  25%|██▍       | 789/3166 [2:54:57<8:44:35, 13.24s/it]"
     ]
    },
    {
     "name": "stderr",
     "output_type": "stream",
     "text": [
      "\r",
      "Epoch 1/5:  25%|██▍       | 790/3166 [2:55:11<8:44:31, 13.25s/it]"
     ]
    },
    {
     "name": "stderr",
     "output_type": "stream",
     "text": [
      "\r",
      "Epoch 1/5:  25%|██▍       | 791/3166 [2:55:24<8:44:27, 13.25s/it]"
     ]
    },
    {
     "name": "stderr",
     "output_type": "stream",
     "text": [
      "\r",
      "Epoch 1/5:  25%|██▌       | 792/3166 [2:55:37<8:43:48, 13.24s/it]"
     ]
    },
    {
     "name": "stderr",
     "output_type": "stream",
     "text": [
      "\r",
      "Epoch 1/5:  25%|██▌       | 793/3166 [2:55:50<8:44:07, 13.25s/it]"
     ]
    },
    {
     "name": "stderr",
     "output_type": "stream",
     "text": [
      "\r",
      "Epoch 1/5:  25%|██▌       | 794/3166 [2:56:04<8:43:52, 13.25s/it]"
     ]
    },
    {
     "name": "stderr",
     "output_type": "stream",
     "text": [
      "\r",
      "Epoch 1/5:  25%|██▌       | 795/3166 [2:56:17<8:43:31, 13.25s/it]"
     ]
    },
    {
     "name": "stderr",
     "output_type": "stream",
     "text": [
      "\r",
      "Epoch 1/5:  25%|██▌       | 796/3166 [2:56:30<8:43:28, 13.25s/it]"
     ]
    },
    {
     "name": "stderr",
     "output_type": "stream",
     "text": [
      "\r",
      "Epoch 1/5:  25%|██▌       | 797/3166 [2:56:43<8:42:56, 13.24s/it]"
     ]
    },
    {
     "name": "stderr",
     "output_type": "stream",
     "text": [
      "\r",
      "Epoch 1/5:  25%|██▌       | 798/3166 [2:56:57<8:42:10, 13.23s/it]"
     ]
    },
    {
     "name": "stderr",
     "output_type": "stream",
     "text": [
      "\r",
      "Epoch 1/5:  25%|██▌       | 799/3166 [2:57:10<8:42:43, 13.25s/it]"
     ]
    },
    {
     "name": "stderr",
     "output_type": "stream",
     "text": [
      "\r",
      "Epoch 1/5:  25%|██▌       | 800/3166 [2:57:23<8:42:24, 13.25s/it]"
     ]
    },
    {
     "name": "stderr",
     "output_type": "stream",
     "text": [
      "\r",
      "Epoch 1/5:  25%|██▌       | 801/3166 [2:57:36<8:41:57, 13.24s/it]"
     ]
    },
    {
     "name": "stderr",
     "output_type": "stream",
     "text": [
      "\r",
      "Epoch 1/5:  25%|██▌       | 802/3166 [2:57:50<8:41:58, 13.25s/it]"
     ]
    },
    {
     "name": "stderr",
     "output_type": "stream",
     "text": [
      "\r",
      "Epoch 1/5:  25%|██▌       | 803/3166 [2:58:03<8:42:19, 13.26s/it]"
     ]
    },
    {
     "name": "stderr",
     "output_type": "stream",
     "text": [
      "\r",
      "Epoch 1/5:  25%|██▌       | 804/3166 [2:58:16<8:42:28, 13.27s/it]"
     ]
    },
    {
     "name": "stderr",
     "output_type": "stream",
     "text": [
      "\r",
      "Epoch 1/5:  25%|██▌       | 805/3166 [2:58:29<8:41:39, 13.26s/it]"
     ]
    },
    {
     "name": "stderr",
     "output_type": "stream",
     "text": [
      "\r",
      "Epoch 1/5:  25%|██▌       | 806/3166 [2:58:43<8:40:54, 13.24s/it]"
     ]
    },
    {
     "name": "stderr",
     "output_type": "stream",
     "text": [
      "\r",
      "Epoch 1/5:  25%|██▌       | 807/3166 [2:58:56<8:40:14, 13.23s/it]"
     ]
    },
    {
     "name": "stderr",
     "output_type": "stream",
     "text": [
      "\r",
      "Epoch 1/5:  26%|██▌       | 808/3166 [2:59:09<8:40:44, 13.25s/it]"
     ]
    },
    {
     "name": "stderr",
     "output_type": "stream",
     "text": [
      "\r",
      "Epoch 1/5:  26%|██▌       | 809/3166 [2:59:22<8:40:49, 13.26s/it]"
     ]
    },
    {
     "name": "stderr",
     "output_type": "stream",
     "text": [
      "\r",
      "Epoch 1/5:  26%|██▌       | 810/3166 [2:59:36<8:40:20, 13.25s/it]"
     ]
    },
    {
     "name": "stderr",
     "output_type": "stream",
     "text": [
      "\r",
      "Epoch 1/5:  26%|██▌       | 811/3166 [2:59:49<8:40:29, 13.26s/it]"
     ]
    },
    {
     "name": "stderr",
     "output_type": "stream",
     "text": [
      "\r",
      "Epoch 1/5:  26%|██▌       | 812/3166 [3:00:02<8:40:12, 13.26s/it]"
     ]
    },
    {
     "name": "stderr",
     "output_type": "stream",
     "text": [
      "\r",
      "Epoch 1/5:  26%|██▌       | 813/3166 [3:00:15<8:40:05, 13.26s/it]"
     ]
    },
    {
     "name": "stderr",
     "output_type": "stream",
     "text": [
      "\r",
      "Epoch 1/5:  26%|██▌       | 814/3166 [3:00:29<8:40:02, 13.27s/it]"
     ]
    },
    {
     "name": "stderr",
     "output_type": "stream",
     "text": [
      "\r",
      "Epoch 1/5:  26%|██▌       | 815/3166 [3:00:42<8:38:59, 13.25s/it]"
     ]
    },
    {
     "name": "stderr",
     "output_type": "stream",
     "text": [
      "\r",
      "Epoch 1/5:  26%|██▌       | 816/3166 [3:00:55<8:38:52, 13.25s/it]"
     ]
    },
    {
     "name": "stderr",
     "output_type": "stream",
     "text": [
      "\r",
      "Epoch 1/5:  26%|██▌       | 817/3166 [3:01:08<8:38:58, 13.26s/it]"
     ]
    },
    {
     "name": "stderr",
     "output_type": "stream",
     "text": [
      "\r",
      "Epoch 1/5:  26%|██▌       | 818/3166 [3:01:22<8:38:06, 13.24s/it]"
     ]
    },
    {
     "name": "stderr",
     "output_type": "stream",
     "text": [
      "\r",
      "Epoch 1/5:  26%|██▌       | 819/3166 [3:01:35<8:38:06, 13.25s/it]"
     ]
    },
    {
     "name": "stderr",
     "output_type": "stream",
     "text": [
      "\r",
      "Epoch 1/5:  26%|██▌       | 820/3166 [3:01:48<8:38:06, 13.25s/it]"
     ]
    },
    {
     "name": "stderr",
     "output_type": "stream",
     "text": [
      "\r",
      "Epoch 1/5:  26%|██▌       | 821/3166 [3:02:01<8:37:44, 13.25s/it]"
     ]
    },
    {
     "name": "stderr",
     "output_type": "stream",
     "text": [
      "\r",
      "Epoch 1/5:  26%|██▌       | 822/3166 [3:02:15<8:37:50, 13.26s/it]"
     ]
    },
    {
     "name": "stderr",
     "output_type": "stream",
     "text": [
      "\r",
      "Epoch 1/5:  26%|██▌       | 823/3166 [3:02:28<8:37:45, 13.26s/it]"
     ]
    },
    {
     "name": "stderr",
     "output_type": "stream",
     "text": [
      "\r",
      "Epoch 1/5:  26%|██▌       | 824/3166 [3:02:41<8:37:55, 13.27s/it]"
     ]
    },
    {
     "name": "stderr",
     "output_type": "stream",
     "text": [
      "\r",
      "Epoch 1/5:  26%|██▌       | 825/3166 [3:02:54<8:37:53, 13.27s/it]"
     ]
    },
    {
     "name": "stderr",
     "output_type": "stream",
     "text": [
      "\r",
      "Epoch 1/5:  26%|██▌       | 826/3166 [3:03:08<8:38:03, 13.28s/it]"
     ]
    },
    {
     "name": "stderr",
     "output_type": "stream",
     "text": [
      "\r",
      "Epoch 1/5:  26%|██▌       | 827/3166 [3:03:21<8:38:28, 13.30s/it]"
     ]
    },
    {
     "name": "stderr",
     "output_type": "stream",
     "text": [
      "\r",
      "Epoch 1/5:  26%|██▌       | 828/3166 [3:03:34<8:38:02, 13.29s/it]"
     ]
    },
    {
     "name": "stderr",
     "output_type": "stream",
     "text": [
      "\r",
      "Epoch 1/5:  26%|██▌       | 829/3166 [3:03:48<8:38:00, 13.30s/it]"
     ]
    },
    {
     "name": "stderr",
     "output_type": "stream",
     "text": [
      "\r",
      "Epoch 1/5:  26%|██▌       | 830/3166 [3:04:01<8:37:10, 13.28s/it]"
     ]
    },
    {
     "name": "stderr",
     "output_type": "stream",
     "text": [
      "\r",
      "Epoch 1/5:  26%|██▌       | 831/3166 [3:04:14<8:37:02, 13.29s/it]"
     ]
    },
    {
     "name": "stderr",
     "output_type": "stream",
     "text": [
      "\r",
      "Epoch 1/5:  26%|██▋       | 832/3166 [3:04:28<8:37:20, 13.30s/it]"
     ]
    },
    {
     "name": "stderr",
     "output_type": "stream",
     "text": [
      "\r",
      "Epoch 1/5:  26%|██▋       | 833/3166 [3:04:41<8:37:17, 13.30s/it]"
     ]
    },
    {
     "name": "stderr",
     "output_type": "stream",
     "text": [
      "\r",
      "Epoch 1/5:  26%|██▋       | 834/3166 [3:04:54<8:36:24, 13.29s/it]"
     ]
    },
    {
     "name": "stderr",
     "output_type": "stream",
     "text": [
      "\r",
      "Epoch 1/5:  26%|██▋       | 835/3166 [3:05:08<8:36:59, 13.31s/it]"
     ]
    },
    {
     "name": "stderr",
     "output_type": "stream",
     "text": [
      "\r",
      "Epoch 1/5:  26%|██▋       | 836/3166 [3:05:21<8:36:14, 13.29s/it]"
     ]
    },
    {
     "name": "stderr",
     "output_type": "stream",
     "text": [
      "\r",
      "Epoch 1/5:  26%|██▋       | 837/3166 [3:05:34<8:35:36, 13.28s/it]"
     ]
    },
    {
     "name": "stderr",
     "output_type": "stream",
     "text": [
      "\r",
      "Epoch 1/5:  26%|██▋       | 838/3166 [3:05:47<8:35:49, 13.29s/it]"
     ]
    },
    {
     "name": "stderr",
     "output_type": "stream",
     "text": [
      "\r",
      "Epoch 1/5:  27%|██▋       | 839/3166 [3:06:01<8:35:26, 13.29s/it]"
     ]
    },
    {
     "name": "stderr",
     "output_type": "stream",
     "text": [
      "\r",
      "Epoch 1/5:  27%|██▋       | 840/3166 [3:06:14<8:34:39, 13.28s/it]"
     ]
    },
    {
     "name": "stderr",
     "output_type": "stream",
     "text": [
      "\r",
      "Epoch 1/5:  27%|██▋       | 841/3166 [3:06:27<8:33:44, 13.26s/it]"
     ]
    },
    {
     "name": "stderr",
     "output_type": "stream",
     "text": [
      "\r",
      "Epoch 1/5:  27%|██▋       | 842/3166 [3:06:40<8:33:22, 13.25s/it]"
     ]
    },
    {
     "name": "stderr",
     "output_type": "stream",
     "text": [
      "\r",
      "Epoch 1/5:  27%|██▋       | 843/3166 [3:06:54<8:32:49, 13.25s/it]"
     ]
    },
    {
     "name": "stderr",
     "output_type": "stream",
     "text": [
      "\r",
      "Epoch 1/5:  27%|██▋       | 844/3166 [3:07:07<8:32:24, 13.24s/it]"
     ]
    },
    {
     "name": "stderr",
     "output_type": "stream",
     "text": [
      "\r",
      "Epoch 1/5:  27%|██▋       | 845/3166 [3:07:20<8:32:28, 13.25s/it]"
     ]
    },
    {
     "name": "stderr",
     "output_type": "stream",
     "text": [
      "\r",
      "Epoch 1/5:  27%|██▋       | 846/3166 [3:07:33<8:32:55, 13.27s/it]"
     ]
    },
    {
     "name": "stderr",
     "output_type": "stream",
     "text": [
      "\r",
      "Epoch 1/5:  27%|██▋       | 847/3166 [3:07:47<8:33:12, 13.28s/it]"
     ]
    },
    {
     "name": "stderr",
     "output_type": "stream",
     "text": [
      "\r",
      "Epoch 1/5:  27%|██▋       | 848/3166 [3:08:00<8:33:14, 13.28s/it]"
     ]
    },
    {
     "name": "stderr",
     "output_type": "stream",
     "text": [
      "\r",
      "Epoch 1/5:  27%|██▋       | 849/3166 [3:08:13<8:33:04, 13.29s/it]"
     ]
    },
    {
     "name": "stderr",
     "output_type": "stream",
     "text": [
      "\r",
      "Epoch 1/5:  27%|██▋       | 850/3166 [3:08:27<8:32:53, 13.29s/it]"
     ]
    },
    {
     "name": "stderr",
     "output_type": "stream",
     "text": [
      "\r",
      "Epoch 1/5:  27%|██▋       | 851/3166 [3:08:40<8:32:08, 13.27s/it]"
     ]
    },
    {
     "name": "stderr",
     "output_type": "stream",
     "text": [
      "\r",
      "Epoch 1/5:  27%|██▋       | 852/3166 [3:08:53<8:31:53, 13.27s/it]"
     ]
    },
    {
     "name": "stderr",
     "output_type": "stream",
     "text": [
      "\r",
      "Epoch 1/5:  27%|██▋       | 853/3166 [3:09:06<8:32:44, 13.30s/it]"
     ]
    },
    {
     "name": "stderr",
     "output_type": "stream",
     "text": [
      "\r",
      "Epoch 1/5:  27%|██▋       | 854/3166 [3:09:20<8:32:46, 13.31s/it]"
     ]
    },
    {
     "name": "stderr",
     "output_type": "stream",
     "text": [
      "\r",
      "Epoch 1/5:  27%|██▋       | 855/3166 [3:09:33<8:32:24, 13.30s/it]"
     ]
    },
    {
     "name": "stderr",
     "output_type": "stream",
     "text": [
      "\r",
      "Epoch 1/5:  27%|██▋       | 856/3166 [3:09:46<8:32:58, 13.32s/it]"
     ]
    },
    {
     "name": "stderr",
     "output_type": "stream",
     "text": [
      "\r",
      "Epoch 1/5:  27%|██▋       | 857/3166 [3:10:00<8:32:43, 13.32s/it]"
     ]
    },
    {
     "name": "stderr",
     "output_type": "stream",
     "text": [
      "\r",
      "Epoch 1/5:  27%|██▋       | 858/3166 [3:10:13<8:32:17, 13.32s/it]"
     ]
    },
    {
     "name": "stderr",
     "output_type": "stream",
     "text": [
      "\r",
      "Epoch 1/5:  27%|██▋       | 859/3166 [3:10:26<8:32:32, 13.33s/it]"
     ]
    },
    {
     "name": "stderr",
     "output_type": "stream",
     "text": [
      "\r",
      "Epoch 1/5:  27%|██▋       | 860/3166 [3:10:40<8:31:31, 13.31s/it]"
     ]
    },
    {
     "name": "stderr",
     "output_type": "stream",
     "text": [
      "\r",
      "Epoch 1/5:  27%|██▋       | 861/3166 [3:10:53<8:31:23, 13.31s/it]"
     ]
    },
    {
     "name": "stderr",
     "output_type": "stream",
     "text": [
      "\r",
      "Epoch 1/5:  27%|██▋       | 862/3166 [3:11:06<8:31:02, 13.31s/it]"
     ]
    },
    {
     "name": "stderr",
     "output_type": "stream",
     "text": [
      "\r",
      "Epoch 1/5:  27%|██▋       | 863/3166 [3:11:20<8:30:03, 13.29s/it]"
     ]
    },
    {
     "name": "stderr",
     "output_type": "stream",
     "text": [
      "\r",
      "Epoch 1/5:  27%|██▋       | 864/3166 [3:11:33<8:29:23, 13.28s/it]"
     ]
    },
    {
     "name": "stderr",
     "output_type": "stream",
     "text": [
      "\r",
      "Epoch 1/5:  27%|██▋       | 865/3166 [3:11:46<8:29:45, 13.29s/it]"
     ]
    },
    {
     "name": "stderr",
     "output_type": "stream",
     "text": [
      "\r",
      "Epoch 1/5:  27%|██▋       | 866/3166 [3:11:59<8:29:10, 13.28s/it]"
     ]
    },
    {
     "name": "stderr",
     "output_type": "stream",
     "text": [
      "\r",
      "Epoch 1/5:  27%|██▋       | 867/3166 [3:12:13<8:28:12, 13.26s/it]"
     ]
    },
    {
     "name": "stderr",
     "output_type": "stream",
     "text": [
      "\r",
      "Epoch 1/5:  27%|██▋       | 868/3166 [3:12:26<8:28:52, 13.29s/it]"
     ]
    },
    {
     "name": "stderr",
     "output_type": "stream",
     "text": [
      "\r",
      "Epoch 1/5:  27%|██▋       | 869/3166 [3:12:39<8:28:00, 13.27s/it]"
     ]
    },
    {
     "name": "stderr",
     "output_type": "stream",
     "text": [
      "\r",
      "Epoch 1/5:  27%|██▋       | 870/3166 [3:12:52<8:27:33, 13.26s/it]"
     ]
    },
    {
     "name": "stderr",
     "output_type": "stream",
     "text": [
      "\r",
      "Epoch 1/5:  28%|██▊       | 871/3166 [3:13:06<8:27:43, 13.27s/it]"
     ]
    },
    {
     "name": "stderr",
     "output_type": "stream",
     "text": [
      "\r",
      "Epoch 1/5:  28%|██▊       | 872/3166 [3:13:19<8:27:32, 13.27s/it]"
     ]
    },
    {
     "name": "stderr",
     "output_type": "stream",
     "text": [
      "\r",
      "Epoch 1/5:  28%|██▊       | 873/3166 [3:13:32<8:27:47, 13.29s/it]"
     ]
    },
    {
     "name": "stderr",
     "output_type": "stream",
     "text": [
      "\r",
      "Epoch 1/5:  28%|██▊       | 874/3166 [3:13:46<8:27:14, 13.28s/it]"
     ]
    },
    {
     "name": "stderr",
     "output_type": "stream",
     "text": [
      "\r",
      "Epoch 1/5:  28%|██▊       | 875/3166 [3:13:59<8:26:54, 13.28s/it]"
     ]
    },
    {
     "name": "stderr",
     "output_type": "stream",
     "text": [
      "\r",
      "Epoch 1/5:  28%|██▊       | 876/3166 [3:14:12<8:27:08, 13.29s/it]"
     ]
    },
    {
     "name": "stderr",
     "output_type": "stream",
     "text": [
      "\r",
      "Epoch 1/5:  28%|██▊       | 877/3166 [3:14:25<8:27:08, 13.29s/it]"
     ]
    },
    {
     "name": "stderr",
     "output_type": "stream",
     "text": [
      "\r",
      "Epoch 1/5:  28%|██▊       | 878/3166 [3:14:39<8:26:39, 13.29s/it]"
     ]
    },
    {
     "name": "stderr",
     "output_type": "stream",
     "text": [
      "\r",
      "Epoch 1/5:  28%|██▊       | 879/3166 [3:14:52<8:26:26, 13.29s/it]"
     ]
    },
    {
     "name": "stderr",
     "output_type": "stream",
     "text": [
      "\r",
      "Epoch 1/5:  28%|██▊       | 880/3166 [3:15:05<8:26:43, 13.30s/it]"
     ]
    },
    {
     "name": "stderr",
     "output_type": "stream",
     "text": [
      "\r",
      "Epoch 1/5:  28%|██▊       | 881/3166 [3:15:19<8:26:27, 13.30s/it]"
     ]
    },
    {
     "name": "stderr",
     "output_type": "stream",
     "text": [
      "\r",
      "Epoch 1/5:  28%|██▊       | 882/3166 [3:15:32<8:26:15, 13.30s/it]"
     ]
    },
    {
     "name": "stderr",
     "output_type": "stream",
     "text": [
      "\r",
      "Epoch 1/5:  28%|██▊       | 883/3166 [3:15:45<8:25:52, 13.29s/it]"
     ]
    },
    {
     "name": "stderr",
     "output_type": "stream",
     "text": [
      "\r",
      "Epoch 1/5:  28%|██▊       | 884/3166 [3:15:58<8:24:40, 13.27s/it]"
     ]
    },
    {
     "name": "stderr",
     "output_type": "stream",
     "text": [
      "\r",
      "Epoch 1/5:  28%|██▊       | 885/3166 [3:16:12<8:24:08, 13.26s/it]"
     ]
    },
    {
     "name": "stderr",
     "output_type": "stream",
     "text": [
      "\r",
      "Epoch 1/5:  28%|██▊       | 886/3166 [3:16:25<8:24:01, 13.26s/it]"
     ]
    },
    {
     "name": "stderr",
     "output_type": "stream",
     "text": [
      "\r",
      "Epoch 1/5:  28%|██▊       | 887/3166 [3:16:38<8:24:02, 13.27s/it]"
     ]
    },
    {
     "name": "stderr",
     "output_type": "stream",
     "text": [
      "\r",
      "Epoch 1/5:  28%|██▊       | 888/3166 [3:16:52<8:24:40, 13.29s/it]"
     ]
    },
    {
     "name": "stderr",
     "output_type": "stream",
     "text": [
      "\r",
      "Epoch 1/5:  28%|██▊       | 889/3166 [3:17:05<8:24:18, 13.29s/it]"
     ]
    },
    {
     "name": "stderr",
     "output_type": "stream",
     "text": [
      "\r",
      "Epoch 1/5:  28%|██▊       | 890/3166 [3:17:18<8:23:31, 13.27s/it]"
     ]
    },
    {
     "name": "stderr",
     "output_type": "stream",
     "text": [
      "\r",
      "Epoch 1/5:  28%|██▊       | 891/3166 [3:17:31<8:23:28, 13.28s/it]"
     ]
    },
    {
     "name": "stderr",
     "output_type": "stream",
     "text": [
      "\r",
      "Epoch 1/5:  28%|██▊       | 892/3166 [3:17:45<8:23:40, 13.29s/it]"
     ]
    },
    {
     "name": "stderr",
     "output_type": "stream",
     "text": [
      "\r",
      "Epoch 1/5:  28%|██▊       | 893/3166 [3:17:58<8:23:01, 13.28s/it]"
     ]
    },
    {
     "name": "stderr",
     "output_type": "stream",
     "text": [
      "\r",
      "Epoch 1/5:  28%|██▊       | 894/3166 [3:18:11<8:22:49, 13.28s/it]"
     ]
    },
    {
     "name": "stderr",
     "output_type": "stream",
     "text": [
      "\r",
      "Epoch 1/5:  28%|██▊       | 895/3166 [3:18:25<8:23:11, 13.29s/it]"
     ]
    },
    {
     "name": "stderr",
     "output_type": "stream",
     "text": [
      "\r",
      "Epoch 1/5:  28%|██▊       | 896/3166 [3:18:38<8:23:13, 13.30s/it]"
     ]
    },
    {
     "name": "stderr",
     "output_type": "stream",
     "text": [
      "\r",
      "Epoch 1/5:  28%|██▊       | 897/3166 [3:18:51<8:22:20, 13.28s/it]"
     ]
    },
    {
     "name": "stderr",
     "output_type": "stream",
     "text": [
      "\r",
      "Epoch 1/5:  28%|██▊       | 898/3166 [3:19:04<8:22:19, 13.29s/it]"
     ]
    },
    {
     "name": "stderr",
     "output_type": "stream",
     "text": [
      "\r",
      "Epoch 1/5:  28%|██▊       | 899/3166 [3:19:18<8:22:30, 13.30s/it]"
     ]
    },
    {
     "name": "stderr",
     "output_type": "stream",
     "text": [
      "\r",
      "Epoch 1/5:  28%|██▊       | 900/3166 [3:19:31<8:21:30, 13.28s/it]"
     ]
    },
    {
     "name": "stderr",
     "output_type": "stream",
     "text": [
      "\r",
      "Epoch 1/5:  28%|██▊       | 901/3166 [3:19:44<8:21:11, 13.28s/it]"
     ]
    },
    {
     "name": "stderr",
     "output_type": "stream",
     "text": [
      "\r",
      "Epoch 1/5:  28%|██▊       | 902/3166 [3:19:57<8:20:23, 13.26s/it]"
     ]
    },
    {
     "name": "stderr",
     "output_type": "stream",
     "text": [
      "\r",
      "Epoch 1/5:  29%|██▊       | 903/3166 [3:20:11<8:19:36, 13.25s/it]"
     ]
    },
    {
     "name": "stderr",
     "output_type": "stream",
     "text": [
      "\r",
      "Epoch 1/5:  29%|██▊       | 904/3166 [3:20:24<8:19:37, 13.25s/it]"
     ]
    },
    {
     "name": "stderr",
     "output_type": "stream",
     "text": [
      "\r",
      "Epoch 1/5:  29%|██▊       | 905/3166 [3:20:37<8:18:42, 13.23s/it]"
     ]
    },
    {
     "name": "stderr",
     "output_type": "stream",
     "text": [
      "\r",
      "Epoch 1/5:  29%|██▊       | 906/3166 [3:20:50<8:18:46, 13.24s/it]"
     ]
    },
    {
     "name": "stderr",
     "output_type": "stream",
     "text": [
      "\r",
      "Epoch 1/5:  29%|██▊       | 907/3166 [3:21:04<8:18:30, 13.24s/it]"
     ]
    },
    {
     "name": "stderr",
     "output_type": "stream",
     "text": [
      "\r",
      "Epoch 1/5:  29%|██▊       | 908/3166 [3:21:17<8:18:36, 13.25s/it]"
     ]
    },
    {
     "name": "stderr",
     "output_type": "stream",
     "text": [
      "\r",
      "Epoch 1/5:  29%|██▊       | 909/3166 [3:21:30<8:18:19, 13.25s/it]"
     ]
    },
    {
     "name": "stderr",
     "output_type": "stream",
     "text": [
      "\r",
      "Epoch 1/5:  29%|██▊       | 910/3166 [3:21:43<8:19:01, 13.27s/it]"
     ]
    },
    {
     "name": "stderr",
     "output_type": "stream",
     "text": [
      "\r",
      "Epoch 1/5:  29%|██▉       | 911/3166 [3:21:57<8:18:38, 13.27s/it]"
     ]
    },
    {
     "name": "stderr",
     "output_type": "stream",
     "text": [
      "\r",
      "Epoch 1/5:  29%|██▉       | 912/3166 [3:22:10<8:19:00, 13.28s/it]"
     ]
    },
    {
     "name": "stderr",
     "output_type": "stream",
     "text": [
      "\r",
      "Epoch 1/5:  29%|██▉       | 913/3166 [3:22:23<8:18:23, 13.27s/it]"
     ]
    },
    {
     "name": "stderr",
     "output_type": "stream",
     "text": [
      "\r",
      "Epoch 1/5:  29%|██▉       | 914/3166 [3:22:37<8:17:58, 13.27s/it]"
     ]
    },
    {
     "name": "stderr",
     "output_type": "stream",
     "text": [
      "\r",
      "Epoch 1/5:  29%|██▉       | 915/3166 [3:22:50<8:17:55, 13.27s/it]"
     ]
    },
    {
     "name": "stderr",
     "output_type": "stream",
     "text": [
      "\r",
      "Epoch 1/5:  29%|██▉       | 916/3166 [3:23:03<8:18:21, 13.29s/it]"
     ]
    },
    {
     "name": "stderr",
     "output_type": "stream",
     "text": [
      "\r",
      "Epoch 1/5:  29%|██▉       | 917/3166 [3:23:16<8:17:27, 13.27s/it]"
     ]
    },
    {
     "name": "stderr",
     "output_type": "stream",
     "text": [
      "\r",
      "Epoch 1/5:  29%|██▉       | 918/3166 [3:23:30<8:15:58, 13.24s/it]"
     ]
    },
    {
     "name": "stderr",
     "output_type": "stream",
     "text": [
      "\r",
      "Epoch 1/5:  29%|██▉       | 919/3166 [3:23:43<8:15:37, 13.23s/it]"
     ]
    },
    {
     "name": "stderr",
     "output_type": "stream",
     "text": [
      "\r",
      "Epoch 1/5:  29%|██▉       | 920/3166 [3:23:56<8:14:33, 13.21s/it]"
     ]
    },
    {
     "name": "stderr",
     "output_type": "stream",
     "text": [
      "\r",
      "Epoch 1/5:  29%|██▉       | 921/3166 [3:24:09<8:14:42, 13.22s/it]"
     ]
    },
    {
     "name": "stderr",
     "output_type": "stream",
     "text": [
      "\r",
      "Epoch 1/5:  29%|██▉       | 922/3166 [3:24:23<8:15:58, 13.26s/it]"
     ]
    },
    {
     "name": "stderr",
     "output_type": "stream",
     "text": [
      "\r",
      "Epoch 1/5:  29%|██▉       | 923/3166 [3:24:36<8:16:22, 13.28s/it]"
     ]
    },
    {
     "name": "stderr",
     "output_type": "stream",
     "text": [
      "\r",
      "Epoch 1/5:  29%|██▉       | 924/3166 [3:24:49<8:16:43, 13.29s/it]"
     ]
    },
    {
     "name": "stderr",
     "output_type": "stream",
     "text": [
      "\r",
      "Epoch 1/5:  29%|██▉       | 925/3166 [3:25:02<8:16:32, 13.29s/it]"
     ]
    },
    {
     "name": "stderr",
     "output_type": "stream",
     "text": [
      "\r",
      "Epoch 1/5:  29%|██▉       | 926/3166 [3:25:16<8:15:32, 13.27s/it]"
     ]
    },
    {
     "name": "stderr",
     "output_type": "stream",
     "text": [
      "\r",
      "Epoch 1/5:  29%|██▉       | 927/3166 [3:25:29<8:15:11, 13.27s/it]"
     ]
    },
    {
     "name": "stderr",
     "output_type": "stream",
     "text": [
      "\r",
      "Epoch 1/5:  29%|██▉       | 928/3166 [3:25:42<8:15:30, 13.28s/it]"
     ]
    },
    {
     "name": "stderr",
     "output_type": "stream",
     "text": [
      "\r",
      "Epoch 1/5:  29%|██▉       | 929/3166 [3:25:56<8:14:49, 13.27s/it]"
     ]
    },
    {
     "name": "stderr",
     "output_type": "stream",
     "text": [
      "\r",
      "Epoch 1/5:  29%|██▉       | 930/3166 [3:26:09<8:14:21, 13.27s/it]"
     ]
    },
    {
     "name": "stderr",
     "output_type": "stream",
     "text": [
      "\r",
      "Epoch 1/5:  29%|██▉       | 931/3166 [3:26:22<8:14:33, 13.28s/it]"
     ]
    },
    {
     "name": "stderr",
     "output_type": "stream",
     "text": [
      "\r",
      "Epoch 1/5:  29%|██▉       | 932/3166 [3:26:35<8:13:43, 13.26s/it]"
     ]
    },
    {
     "name": "stderr",
     "output_type": "stream",
     "text": [
      "\r",
      "Epoch 1/5:  29%|██▉       | 933/3166 [3:26:49<8:13:04, 13.25s/it]"
     ]
    },
    {
     "name": "stderr",
     "output_type": "stream",
     "text": [
      "\r",
      "Epoch 1/5:  30%|██▉       | 934/3166 [3:27:02<8:13:43, 13.27s/it]"
     ]
    },
    {
     "name": "stderr",
     "output_type": "stream",
     "text": [
      "\r",
      "Epoch 1/5:  30%|██▉       | 935/3166 [3:27:15<8:13:57, 13.28s/it]"
     ]
    },
    {
     "name": "stderr",
     "output_type": "stream",
     "text": [
      "\r",
      "Epoch 1/5:  30%|██▉       | 936/3166 [3:27:28<8:13:22, 13.27s/it]"
     ]
    },
    {
     "name": "stderr",
     "output_type": "stream",
     "text": [
      "\r",
      "Epoch 1/5:  30%|██▉       | 937/3166 [3:27:42<8:12:55, 13.27s/it]"
     ]
    },
    {
     "name": "stderr",
     "output_type": "stream",
     "text": [
      "\r",
      "Epoch 1/5:  30%|██▉       | 938/3166 [3:27:55<8:12:51, 13.27s/it]"
     ]
    },
    {
     "name": "stderr",
     "output_type": "stream",
     "text": [
      "\r",
      "Epoch 1/5:  30%|██▉       | 939/3166 [3:28:08<8:12:06, 13.26s/it]"
     ]
    },
    {
     "name": "stderr",
     "output_type": "stream",
     "text": [
      "\r",
      "Epoch 1/5:  30%|██▉       | 940/3166 [3:28:21<8:11:38, 13.25s/it]"
     ]
    },
    {
     "name": "stderr",
     "output_type": "stream",
     "text": [
      "\r",
      "Epoch 1/5:  30%|██▉       | 941/3166 [3:28:35<8:11:25, 13.25s/it]"
     ]
    },
    {
     "name": "stderr",
     "output_type": "stream",
     "text": [
      "\r",
      "Epoch 1/5:  30%|██▉       | 942/3166 [3:28:48<8:10:06, 13.22s/it]"
     ]
    },
    {
     "name": "stderr",
     "output_type": "stream",
     "text": [
      "\r",
      "Epoch 1/5:  30%|██▉       | 943/3166 [3:29:01<8:10:24, 13.24s/it]"
     ]
    },
    {
     "name": "stderr",
     "output_type": "stream",
     "text": [
      "\r",
      "Epoch 1/5:  30%|██▉       | 944/3166 [3:29:14<8:10:26, 13.24s/it]"
     ]
    },
    {
     "name": "stderr",
     "output_type": "stream",
     "text": [
      "\r",
      "Epoch 1/5:  30%|██▉       | 945/3166 [3:29:28<8:10:32, 13.25s/it]"
     ]
    },
    {
     "name": "stderr",
     "output_type": "stream",
     "text": [
      "\r",
      "Epoch 1/5:  30%|██▉       | 946/3166 [3:29:41<8:10:54, 13.27s/it]"
     ]
    },
    {
     "name": "stderr",
     "output_type": "stream",
     "text": [
      "\r",
      "Epoch 1/5:  30%|██▉       | 947/3166 [3:29:54<8:10:05, 13.25s/it]"
     ]
    },
    {
     "name": "stderr",
     "output_type": "stream",
     "text": [
      "\r",
      "Epoch 1/5:  30%|██▉       | 948/3166 [3:30:07<8:09:50, 13.25s/it]"
     ]
    },
    {
     "name": "stderr",
     "output_type": "stream",
     "text": [
      "\r",
      "Epoch 1/5:  30%|██▉       | 949/3166 [3:30:21<8:10:46, 13.28s/it]"
     ]
    },
    {
     "name": "stderr",
     "output_type": "stream",
     "text": [
      "\r",
      "Epoch 1/5:  30%|███       | 950/3166 [3:30:34<8:10:40, 13.29s/it]"
     ]
    },
    {
     "name": "stderr",
     "output_type": "stream",
     "text": [
      "\r",
      "Epoch 1/5:  30%|███       | 951/3166 [3:30:47<8:10:19, 13.28s/it]"
     ]
    },
    {
     "name": "stderr",
     "output_type": "stream",
     "text": [
      "\r",
      "Epoch 1/5:  30%|███       | 952/3166 [3:31:01<8:10:26, 13.29s/it]"
     ]
    },
    {
     "name": "stderr",
     "output_type": "stream",
     "text": [
      "\r",
      "Epoch 1/5:  30%|███       | 953/3166 [3:31:14<8:10:29, 13.30s/it]"
     ]
    },
    {
     "name": "stderr",
     "output_type": "stream",
     "text": [
      "\r",
      "Epoch 1/5:  30%|███       | 954/3166 [3:31:27<8:10:19, 13.30s/it]"
     ]
    },
    {
     "name": "stderr",
     "output_type": "stream",
     "text": [
      "\r",
      "Epoch 1/5:  30%|███       | 955/3166 [3:31:41<8:10:14, 13.30s/it]"
     ]
    },
    {
     "name": "stderr",
     "output_type": "stream",
     "text": [
      "\r",
      "Epoch 1/5:  30%|███       | 956/3166 [3:31:54<8:10:06, 13.31s/it]"
     ]
    },
    {
     "name": "stderr",
     "output_type": "stream",
     "text": [
      "\r",
      "Epoch 1/5:  30%|███       | 957/3166 [3:32:07<8:09:25, 13.29s/it]"
     ]
    },
    {
     "name": "stderr",
     "output_type": "stream",
     "text": [
      "\r",
      "Epoch 1/5:  30%|███       | 958/3166 [3:32:20<8:09:14, 13.29s/it]"
     ]
    },
    {
     "name": "stderr",
     "output_type": "stream",
     "text": [
      "\r",
      "Epoch 1/5:  30%|███       | 959/3166 [3:32:34<8:09:08, 13.30s/it]"
     ]
    },
    {
     "name": "stderr",
     "output_type": "stream",
     "text": [
      "\r",
      "Epoch 1/5:  30%|███       | 960/3166 [3:32:47<8:08:41, 13.29s/it]"
     ]
    },
    {
     "name": "stderr",
     "output_type": "stream",
     "text": [
      "\r",
      "Epoch 1/5:  30%|███       | 961/3166 [3:33:00<8:09:13, 13.31s/it]"
     ]
    },
    {
     "name": "stderr",
     "output_type": "stream",
     "text": [
      "\r",
      "Epoch 1/5:  30%|███       | 962/3166 [3:33:14<8:08:02, 13.29s/it]"
     ]
    },
    {
     "name": "stderr",
     "output_type": "stream",
     "text": [
      "\r",
      "Epoch 1/5:  30%|███       | 963/3166 [3:33:27<8:08:08, 13.29s/it]"
     ]
    },
    {
     "name": "stderr",
     "output_type": "stream",
     "text": [
      "\r",
      "Epoch 1/5:  30%|███       | 964/3166 [3:33:40<8:08:21, 13.31s/it]"
     ]
    },
    {
     "name": "stderr",
     "output_type": "stream",
     "text": [
      "\r",
      "Epoch 1/5:  30%|███       | 965/3166 [3:33:54<8:08:02, 13.30s/it]"
     ]
    },
    {
     "name": "stderr",
     "output_type": "stream",
     "text": [
      "\r",
      "Epoch 1/5:  31%|███       | 966/3166 [3:34:07<8:07:14, 13.29s/it]"
     ]
    },
    {
     "name": "stderr",
     "output_type": "stream",
     "text": [
      "\r",
      "Epoch 1/5:  31%|███       | 967/3166 [3:34:20<8:07:32, 13.30s/it]"
     ]
    },
    {
     "name": "stderr",
     "output_type": "stream",
     "text": [
      "\r",
      "Epoch 1/5:  31%|███       | 968/3166 [3:34:33<8:07:20, 13.30s/it]"
     ]
    },
    {
     "name": "stderr",
     "output_type": "stream",
     "text": [
      "\r",
      "Epoch 1/5:  31%|███       | 969/3166 [3:34:47<8:06:06, 13.28s/it]"
     ]
    },
    {
     "name": "stderr",
     "output_type": "stream",
     "text": [
      "\r",
      "Epoch 1/5:  31%|███       | 970/3166 [3:35:00<8:05:39, 13.27s/it]"
     ]
    },
    {
     "name": "stderr",
     "output_type": "stream",
     "text": [
      "\r",
      "Epoch 1/5:  31%|███       | 971/3166 [3:35:13<8:05:51, 13.28s/it]"
     ]
    },
    {
     "name": "stderr",
     "output_type": "stream",
     "text": [
      "\r",
      "Epoch 1/5:  31%|███       | 972/3166 [3:35:26<8:05:17, 13.27s/it]"
     ]
    },
    {
     "name": "stderr",
     "output_type": "stream",
     "text": [
      "\r",
      "Epoch 1/5:  31%|███       | 973/3166 [3:35:40<8:05:26, 13.28s/it]"
     ]
    },
    {
     "name": "stderr",
     "output_type": "stream",
     "text": [
      "\r",
      "Epoch 1/5:  31%|███       | 974/3166 [3:35:53<8:05:39, 13.29s/it]"
     ]
    },
    {
     "name": "stderr",
     "output_type": "stream",
     "text": [
      "\r",
      "Epoch 1/5:  31%|███       | 975/3166 [3:36:06<8:05:24, 13.29s/it]"
     ]
    },
    {
     "name": "stderr",
     "output_type": "stream",
     "text": [
      "\r",
      "Epoch 1/5:  31%|███       | 976/3166 [3:36:20<8:05:29, 13.30s/it]"
     ]
    },
    {
     "name": "stderr",
     "output_type": "stream",
     "text": [
      "\r",
      "Epoch 1/5:  31%|███       | 977/3166 [3:36:33<8:05:25, 13.31s/it]"
     ]
    },
    {
     "name": "stderr",
     "output_type": "stream",
     "text": [
      "\r",
      "Epoch 1/5:  31%|███       | 978/3166 [3:36:46<8:04:43, 13.29s/it]"
     ]
    },
    {
     "name": "stderr",
     "output_type": "stream",
     "text": [
      "\r",
      "Epoch 1/5:  31%|███       | 979/3166 [3:37:00<8:05:04, 13.31s/it]"
     ]
    },
    {
     "name": "stderr",
     "output_type": "stream",
     "text": [
      "\r",
      "Epoch 1/5:  31%|███       | 980/3166 [3:37:13<8:04:26, 13.30s/it]"
     ]
    },
    {
     "name": "stderr",
     "output_type": "stream",
     "text": [
      "\r",
      "Epoch 1/5:  31%|███       | 981/3166 [3:37:26<8:04:19, 13.30s/it]"
     ]
    },
    {
     "name": "stderr",
     "output_type": "stream",
     "text": [
      "\r",
      "Epoch 1/5:  31%|███       | 982/3166 [3:37:40<8:04:34, 13.31s/it]"
     ]
    },
    {
     "name": "stderr",
     "output_type": "stream",
     "text": [
      "\r",
      "Epoch 1/5:  31%|███       | 983/3166 [3:37:53<8:04:11, 13.31s/it]"
     ]
    },
    {
     "name": "stderr",
     "output_type": "stream",
     "text": [
      "\r",
      "Epoch 1/5:  31%|███       | 984/3166 [3:38:06<8:04:01, 13.31s/it]"
     ]
    },
    {
     "name": "stderr",
     "output_type": "stream",
     "text": [
      "\r",
      "Epoch 1/5:  31%|███       | 985/3166 [3:38:19<8:03:57, 13.31s/it]"
     ]
    },
    {
     "name": "stderr",
     "output_type": "stream",
     "text": [
      "\r",
      "Epoch 1/5:  31%|███       | 986/3166 [3:38:33<8:03:45, 13.31s/it]"
     ]
    },
    {
     "name": "stderr",
     "output_type": "stream",
     "text": [
      "\r",
      "Epoch 1/5:  31%|███       | 987/3166 [3:38:46<8:03:09, 13.30s/it]"
     ]
    },
    {
     "name": "stderr",
     "output_type": "stream",
     "text": [
      "\r",
      "Epoch 1/5:  31%|███       | 988/3166 [3:38:59<8:03:03, 13.31s/it]"
     ]
    },
    {
     "name": "stderr",
     "output_type": "stream",
     "text": [
      "\r",
      "Epoch 1/5:  31%|███       | 989/3166 [3:39:13<8:02:36, 13.30s/it]"
     ]
    },
    {
     "name": "stderr",
     "output_type": "stream",
     "text": [
      "\r",
      "Epoch 1/5:  31%|███▏      | 990/3166 [3:39:26<8:02:33, 13.31s/it]"
     ]
    },
    {
     "name": "stderr",
     "output_type": "stream",
     "text": [
      "\r",
      "Epoch 1/5:  31%|███▏      | 991/3166 [3:39:39<8:02:53, 13.32s/it]"
     ]
    },
    {
     "name": "stderr",
     "output_type": "stream",
     "text": [
      "\r",
      "Epoch 1/5:  31%|███▏      | 992/3166 [3:39:53<8:02:00, 13.30s/it]"
     ]
    },
    {
     "name": "stderr",
     "output_type": "stream",
     "text": [
      "\r",
      "Epoch 1/5:  31%|███▏      | 993/3166 [3:40:06<8:01:10, 13.29s/it]"
     ]
    },
    {
     "name": "stderr",
     "output_type": "stream",
     "text": [
      "\r",
      "Epoch 1/5:  31%|███▏      | 994/3166 [3:40:19<8:01:09, 13.29s/it]"
     ]
    },
    {
     "name": "stderr",
     "output_type": "stream",
     "text": [
      "\r",
      "Epoch 1/5:  31%|███▏      | 995/3166 [3:40:32<8:00:53, 13.29s/it]"
     ]
    },
    {
     "name": "stderr",
     "output_type": "stream",
     "text": [
      "\r",
      "Epoch 1/5:  31%|███▏      | 996/3166 [3:40:46<8:00:16, 13.28s/it]"
     ]
    },
    {
     "name": "stderr",
     "output_type": "stream",
     "text": [
      "\r",
      "Epoch 1/5:  31%|███▏      | 997/3166 [3:40:59<8:00:09, 13.28s/it]"
     ]
    },
    {
     "name": "stderr",
     "output_type": "stream",
     "text": [
      "\r",
      "Epoch 1/5:  32%|███▏      | 998/3166 [3:41:12<8:00:15, 13.29s/it]"
     ]
    },
    {
     "name": "stderr",
     "output_type": "stream",
     "text": [
      "\r",
      "Epoch 1/5:  32%|███▏      | 999/3166 [3:41:26<7:59:53, 13.29s/it]"
     ]
    },
    {
     "name": "stderr",
     "output_type": "stream",
     "text": [
      "\r",
      "Epoch 1/5:  32%|███▏      | 1000/3166 [3:41:39<7:59:20, 13.28s/it]"
     ]
    },
    {
     "name": "stderr",
     "output_type": "stream",
     "text": [
      "\r",
      "Epoch 1/5:  32%|███▏      | 1001/3166 [3:41:52<7:59:26, 13.29s/it]"
     ]
    },
    {
     "name": "stderr",
     "output_type": "stream",
     "text": [
      "\r",
      "Epoch 1/5:  32%|███▏      | 1002/3166 [3:42:05<7:59:51, 13.30s/it]"
     ]
    },
    {
     "name": "stderr",
     "output_type": "stream",
     "text": [
      "\r",
      "Epoch 1/5:  32%|███▏      | 1003/3166 [3:42:19<7:59:58, 13.31s/it]"
     ]
    },
    {
     "name": "stderr",
     "output_type": "stream",
     "text": [
      "\r",
      "Epoch 1/5:  32%|███▏      | 1004/3166 [3:42:32<7:59:42, 13.31s/it]"
     ]
    },
    {
     "name": "stderr",
     "output_type": "stream",
     "text": [
      "\r",
      "Epoch 1/5:  32%|███▏      | 1005/3166 [3:42:45<7:59:07, 13.30s/it]"
     ]
    },
    {
     "name": "stderr",
     "output_type": "stream",
     "text": [
      "\r",
      "Epoch 1/5:  32%|███▏      | 1006/3166 [3:42:59<7:59:50, 13.33s/it]"
     ]
    },
    {
     "name": "stderr",
     "output_type": "stream",
     "text": [
      "\r",
      "Epoch 1/5:  32%|███▏      | 1007/3166 [3:43:12<7:59:12, 13.32s/it]"
     ]
    },
    {
     "name": "stderr",
     "output_type": "stream",
     "text": [
      "\r",
      "Epoch 1/5:  32%|███▏      | 1008/3166 [3:43:25<7:58:23, 13.30s/it]"
     ]
    },
    {
     "name": "stderr",
     "output_type": "stream",
     "text": [
      "\r",
      "Epoch 1/5:  32%|███▏      | 1009/3166 [3:43:39<7:58:14, 13.30s/it]"
     ]
    },
    {
     "name": "stderr",
     "output_type": "stream",
     "text": [
      "\r",
      "Epoch 1/5:  32%|███▏      | 1010/3166 [3:43:52<7:57:08, 13.28s/it]"
     ]
    },
    {
     "name": "stderr",
     "output_type": "stream",
     "text": [
      "\r",
      "Epoch 1/5:  32%|███▏      | 1011/3166 [3:44:05<7:56:30, 13.27s/it]"
     ]
    },
    {
     "name": "stderr",
     "output_type": "stream",
     "text": [
      "\r",
      "Epoch 1/5:  32%|███▏      | 1012/3166 [3:44:18<7:57:08, 13.29s/it]"
     ]
    },
    {
     "name": "stderr",
     "output_type": "stream",
     "text": [
      "\r",
      "Epoch 1/5:  32%|███▏      | 1013/3166 [3:44:32<7:56:57, 13.29s/it]"
     ]
    },
    {
     "name": "stderr",
     "output_type": "stream",
     "text": [
      "\r",
      "Epoch 1/5:  32%|███▏      | 1014/3166 [3:44:45<7:56:35, 13.29s/it]"
     ]
    },
    {
     "name": "stderr",
     "output_type": "stream",
     "text": [
      "\r",
      "Epoch 1/5:  32%|███▏      | 1015/3166 [3:44:58<7:56:44, 13.30s/it]"
     ]
    },
    {
     "name": "stderr",
     "output_type": "stream",
     "text": [
      "\r",
      "Epoch 1/5:  32%|███▏      | 1016/3166 [3:45:12<7:55:57, 13.28s/it]"
     ]
    },
    {
     "name": "stderr",
     "output_type": "stream",
     "text": [
      "\r",
      "Epoch 1/5:  32%|███▏      | 1017/3166 [3:45:25<7:56:17, 13.30s/it]"
     ]
    },
    {
     "name": "stderr",
     "output_type": "stream",
     "text": [
      "\r",
      "Epoch 1/5:  32%|███▏      | 1018/3166 [3:45:38<7:56:43, 13.32s/it]"
     ]
    },
    {
     "name": "stderr",
     "output_type": "stream",
     "text": [
      "\r",
      "Epoch 1/5:  32%|███▏      | 1019/3166 [3:45:52<7:56:27, 13.31s/it]"
     ]
    },
    {
     "name": "stderr",
     "output_type": "stream",
     "text": [
      "\r",
      "Epoch 1/5:  32%|███▏      | 1020/3166 [3:46:05<7:56:04, 13.31s/it]"
     ]
    },
    {
     "name": "stderr",
     "output_type": "stream",
     "text": [
      "\r",
      "Epoch 1/5:  32%|███▏      | 1021/3166 [3:46:18<7:56:30, 13.33s/it]"
     ]
    },
    {
     "name": "stderr",
     "output_type": "stream",
     "text": [
      "\r",
      "Epoch 1/5:  32%|███▏      | 1022/3166 [3:46:32<7:56:02, 13.32s/it]"
     ]
    },
    {
     "name": "stderr",
     "output_type": "stream",
     "text": [
      "\r",
      "Epoch 1/5:  32%|███▏      | 1023/3166 [3:46:45<7:55:23, 13.31s/it]"
     ]
    },
    {
     "name": "stderr",
     "output_type": "stream",
     "text": [
      "\r",
      "Epoch 1/5:  32%|███▏      | 1024/3166 [3:46:58<7:55:21, 13.32s/it]"
     ]
    },
    {
     "name": "stderr",
     "output_type": "stream",
     "text": [
      "\r",
      "Epoch 1/5:  32%|███▏      | 1025/3166 [3:47:11<7:54:38, 13.30s/it]"
     ]
    },
    {
     "name": "stderr",
     "output_type": "stream",
     "text": [
      "\r",
      "Epoch 1/5:  32%|███▏      | 1026/3166 [3:47:25<7:54:37, 13.31s/it]"
     ]
    },
    {
     "name": "stderr",
     "output_type": "stream",
     "text": [
      "\r",
      "Epoch 1/5:  32%|███▏      | 1027/3166 [3:47:38<7:54:49, 13.32s/it]"
     ]
    },
    {
     "name": "stderr",
     "output_type": "stream",
     "text": [
      "\r",
      "Epoch 1/5:  32%|███▏      | 1028/3166 [3:47:51<7:54:22, 13.31s/it]"
     ]
    },
    {
     "name": "stderr",
     "output_type": "stream",
     "text": [
      "\r",
      "Epoch 1/5:  33%|███▎      | 1029/3166 [3:48:05<7:54:09, 13.31s/it]"
     ]
    },
    {
     "name": "stderr",
     "output_type": "stream",
     "text": [
      "\r",
      "Epoch 1/5:  33%|███▎      | 1030/3166 [3:48:18<7:53:15, 13.29s/it]"
     ]
    },
    {
     "name": "stderr",
     "output_type": "stream",
     "text": [
      "\r",
      "Epoch 1/5:  33%|███▎      | 1031/3166 [3:48:31<7:53:48, 13.32s/it]"
     ]
    },
    {
     "name": "stderr",
     "output_type": "stream",
     "text": [
      "\r",
      "Epoch 1/5:  33%|███▎      | 1032/3166 [3:48:45<7:53:44, 13.32s/it]"
     ]
    },
    {
     "name": "stderr",
     "output_type": "stream",
     "text": [
      "\r",
      "Epoch 1/5:  33%|███▎      | 1033/3166 [3:48:58<7:54:08, 13.34s/it]"
     ]
    },
    {
     "name": "stderr",
     "output_type": "stream",
     "text": [
      "\r",
      "Epoch 1/5:  33%|███▎      | 1034/3166 [3:49:11<7:53:41, 13.33s/it]"
     ]
    },
    {
     "name": "stderr",
     "output_type": "stream",
     "text": [
      "\r",
      "Epoch 1/5:  33%|███▎      | 1035/3166 [3:49:25<7:53:41, 13.34s/it]"
     ]
    },
    {
     "name": "stderr",
     "output_type": "stream",
     "text": [
      "\r",
      "Epoch 1/5:  33%|███▎      | 1036/3166 [3:49:38<7:53:50, 13.35s/it]"
     ]
    },
    {
     "name": "stderr",
     "output_type": "stream",
     "text": [
      "\r",
      "Epoch 1/5:  33%|███▎      | 1037/3166 [3:49:51<7:52:58, 13.33s/it]"
     ]
    },
    {
     "name": "stderr",
     "output_type": "stream",
     "text": [
      "\r",
      "Epoch 1/5:  33%|███▎      | 1038/3166 [3:50:05<7:52:26, 13.32s/it]"
     ]
    },
    {
     "name": "stderr",
     "output_type": "stream",
     "text": [
      "\r",
      "Epoch 1/5:  33%|███▎      | 1039/3166 [3:50:18<7:52:24, 13.33s/it]"
     ]
    },
    {
     "name": "stderr",
     "output_type": "stream",
     "text": [
      "\r",
      "Epoch 1/5:  33%|███▎      | 1040/3166 [3:50:31<7:51:52, 13.32s/it]"
     ]
    },
    {
     "name": "stderr",
     "output_type": "stream",
     "text": [
      "\r",
      "Epoch 1/5:  33%|███▎      | 1041/3166 [3:50:45<7:51:11, 13.30s/it]"
     ]
    },
    {
     "name": "stderr",
     "output_type": "stream",
     "text": [
      "\r",
      "Epoch 1/5:  33%|███▎      | 1042/3166 [3:50:58<7:51:14, 13.31s/it]"
     ]
    },
    {
     "name": "stderr",
     "output_type": "stream",
     "text": [
      "\r",
      "Epoch 1/5:  33%|███▎      | 1043/3166 [3:51:11<7:50:42, 13.30s/it]"
     ]
    },
    {
     "name": "stderr",
     "output_type": "stream",
     "text": [
      "\r",
      "Epoch 1/5:  33%|███▎      | 1044/3166 [3:51:25<7:50:30, 13.30s/it]"
     ]
    },
    {
     "name": "stderr",
     "output_type": "stream",
     "text": [
      "\r",
      "Epoch 1/5:  33%|███▎      | 1045/3166 [3:51:38<7:50:20, 13.31s/it]"
     ]
    },
    {
     "name": "stderr",
     "output_type": "stream",
     "text": [
      "\r",
      "Epoch 1/5:  33%|███▎      | 1046/3166 [3:51:51<7:49:48, 13.30s/it]"
     ]
    },
    {
     "name": "stderr",
     "output_type": "stream",
     "text": [
      "\r",
      "Epoch 1/5:  33%|███▎      | 1047/3166 [3:52:04<7:49:57, 13.31s/it]"
     ]
    },
    {
     "name": "stderr",
     "output_type": "stream",
     "text": [
      "\r",
      "Epoch 1/5:  33%|███▎      | 1048/3166 [3:52:18<7:49:54, 13.31s/it]"
     ]
    },
    {
     "name": "stderr",
     "output_type": "stream",
     "text": [
      "\r",
      "Epoch 1/5:  33%|███▎      | 1049/3166 [3:52:31<7:49:48, 13.32s/it]"
     ]
    },
    {
     "name": "stderr",
     "output_type": "stream",
     "text": [
      "\r",
      "Epoch 1/5:  33%|███▎      | 1050/3166 [3:52:44<7:49:54, 13.32s/it]"
     ]
    },
    {
     "name": "stderr",
     "output_type": "stream",
     "text": [
      "\r",
      "Epoch 1/5:  33%|███▎      | 1051/3166 [3:52:58<7:49:55, 13.33s/it]"
     ]
    },
    {
     "name": "stderr",
     "output_type": "stream",
     "text": [
      "\r",
      "Epoch 1/5:  33%|███▎      | 1052/3166 [3:53:11<7:49:46, 13.33s/it]"
     ]
    },
    {
     "name": "stderr",
     "output_type": "stream",
     "text": [
      "\r",
      "Epoch 1/5:  33%|███▎      | 1053/3166 [3:53:24<7:49:14, 13.32s/it]"
     ]
    },
    {
     "name": "stderr",
     "output_type": "stream",
     "text": [
      "\r",
      "Epoch 1/5:  33%|███▎      | 1054/3166 [3:53:38<7:48:54, 13.32s/it]"
     ]
    },
    {
     "name": "stderr",
     "output_type": "stream",
     "text": [
      "\r",
      "Epoch 1/5:  33%|███▎      | 1055/3166 [3:53:51<7:48:39, 13.32s/it]"
     ]
    },
    {
     "name": "stderr",
     "output_type": "stream",
     "text": [
      "\r",
      "Epoch 1/5:  33%|███▎      | 1056/3166 [3:54:04<7:48:15, 13.32s/it]"
     ]
    },
    {
     "name": "stderr",
     "output_type": "stream",
     "text": [
      "\r",
      "Epoch 1/5:  33%|███▎      | 1057/3166 [3:54:18<7:48:12, 13.32s/it]"
     ]
    },
    {
     "name": "stderr",
     "output_type": "stream",
     "text": [
      "\r",
      "Epoch 1/5:  33%|███▎      | 1058/3166 [3:54:31<7:47:36, 13.31s/it]"
     ]
    },
    {
     "name": "stderr",
     "output_type": "stream",
     "text": [
      "\r",
      "Epoch 1/5:  33%|███▎      | 1059/3166 [3:54:44<7:46:30, 13.28s/it]"
     ]
    },
    {
     "name": "stderr",
     "output_type": "stream",
     "text": [
      "\r",
      "Epoch 1/5:  33%|███▎      | 1060/3166 [3:54:58<7:46:42, 13.30s/it]"
     ]
    },
    {
     "name": "stderr",
     "output_type": "stream",
     "text": [
      "\r",
      "Epoch 1/5:  34%|███▎      | 1061/3166 [3:55:11<7:45:59, 13.28s/it]"
     ]
    },
    {
     "name": "stderr",
     "output_type": "stream",
     "text": [
      "\r",
      "Epoch 1/5:  34%|███▎      | 1062/3166 [3:55:24<7:46:15, 13.30s/it]"
     ]
    },
    {
     "name": "stderr",
     "output_type": "stream",
     "text": [
      "\r",
      "Epoch 1/5:  34%|███▎      | 1063/3166 [3:55:37<7:46:07, 13.30s/it]"
     ]
    },
    {
     "name": "stderr",
     "output_type": "stream",
     "text": [
      "\r",
      "Epoch 1/5:  34%|███▎      | 1064/3166 [3:55:51<7:46:28, 13.32s/it]"
     ]
    },
    {
     "name": "stderr",
     "output_type": "stream",
     "text": [
      "\r",
      "Epoch 1/5:  34%|███▎      | 1065/3166 [3:56:04<7:45:44, 13.30s/it]"
     ]
    },
    {
     "name": "stderr",
     "output_type": "stream",
     "text": [
      "\r",
      "Epoch 1/5:  34%|███▎      | 1066/3166 [3:56:17<7:45:50, 13.31s/it]"
     ]
    },
    {
     "name": "stderr",
     "output_type": "stream",
     "text": [
      "\r",
      "Epoch 1/5:  34%|███▎      | 1067/3166 [3:56:31<7:45:24, 13.30s/it]"
     ]
    },
    {
     "name": "stderr",
     "output_type": "stream",
     "text": [
      "\r",
      "Epoch 1/5:  34%|███▎      | 1068/3166 [3:56:44<7:44:40, 13.29s/it]"
     ]
    },
    {
     "name": "stderr",
     "output_type": "stream",
     "text": [
      "\r",
      "Epoch 1/5:  34%|███▍      | 1069/3166 [3:56:57<7:44:39, 13.29s/it]"
     ]
    },
    {
     "name": "stderr",
     "output_type": "stream",
     "text": [
      "\r",
      "Epoch 1/5:  34%|███▍      | 1070/3166 [3:57:10<7:44:11, 13.29s/it]"
     ]
    },
    {
     "name": "stderr",
     "output_type": "stream",
     "text": [
      "\r",
      "Epoch 1/5:  34%|███▍      | 1071/3166 [3:57:24<7:43:48, 13.28s/it]"
     ]
    },
    {
     "name": "stderr",
     "output_type": "stream",
     "text": [
      "\r",
      "Epoch 1/5:  34%|███▍      | 1072/3166 [3:57:37<7:44:05, 13.30s/it]"
     ]
    },
    {
     "name": "stderr",
     "output_type": "stream",
     "text": [
      "\r",
      "Epoch 1/5:  34%|███▍      | 1073/3166 [3:57:50<7:44:06, 13.30s/it]"
     ]
    },
    {
     "name": "stderr",
     "output_type": "stream",
     "text": [
      "\r",
      "Epoch 1/5:  34%|███▍      | 1074/3166 [3:58:04<7:43:39, 13.30s/it]"
     ]
    },
    {
     "name": "stderr",
     "output_type": "stream",
     "text": [
      "\r",
      "Epoch 1/5:  34%|███▍      | 1075/3166 [3:58:17<7:44:23, 13.33s/it]"
     ]
    },
    {
     "name": "stderr",
     "output_type": "stream",
     "text": [
      "\r",
      "Epoch 1/5:  34%|███▍      | 1076/3166 [3:58:30<7:44:01, 13.32s/it]"
     ]
    },
    {
     "name": "stderr",
     "output_type": "stream",
     "text": [
      "\r",
      "Epoch 1/5:  34%|███▍      | 1077/3166 [3:58:44<7:44:08, 13.33s/it]"
     ]
    },
    {
     "name": "stderr",
     "output_type": "stream",
     "text": [
      "\r",
      "Epoch 1/5:  34%|███▍      | 1078/3166 [3:58:57<7:44:06, 13.34s/it]"
     ]
    },
    {
     "name": "stderr",
     "output_type": "stream",
     "text": [
      "\r",
      "Epoch 1/5:  34%|███▍      | 1079/3166 [3:59:10<7:43:49, 13.33s/it]"
     ]
    },
    {
     "name": "stderr",
     "output_type": "stream",
     "text": [
      "\r",
      "Epoch 1/5:  34%|███▍      | 1080/3166 [3:59:24<7:43:12, 13.32s/it]"
     ]
    },
    {
     "name": "stderr",
     "output_type": "stream",
     "text": [
      "\r",
      "Epoch 1/5:  34%|███▍      | 1081/3166 [3:59:37<7:43:34, 13.34s/it]"
     ]
    },
    {
     "name": "stderr",
     "output_type": "stream",
     "text": [
      "\r",
      "Epoch 1/5:  34%|███▍      | 1082/3166 [3:59:50<7:42:36, 13.32s/it]"
     ]
    },
    {
     "name": "stderr",
     "output_type": "stream",
     "text": [
      "\r",
      "Epoch 1/5:  34%|███▍      | 1083/3166 [4:00:04<7:42:24, 13.32s/it]"
     ]
    },
    {
     "name": "stderr",
     "output_type": "stream",
     "text": [
      "\r",
      "Epoch 1/5:  34%|███▍      | 1084/3166 [4:00:17<7:42:29, 13.33s/it]"
     ]
    },
    {
     "name": "stderr",
     "output_type": "stream",
     "text": [
      "\r",
      "Epoch 1/5:  34%|███▍      | 1085/3166 [4:00:30<7:41:46, 13.31s/it]"
     ]
    },
    {
     "name": "stderr",
     "output_type": "stream",
     "text": [
      "\r",
      "Epoch 1/5:  34%|███▍      | 1086/3166 [4:00:44<7:41:00, 13.30s/it]"
     ]
    },
    {
     "name": "stderr",
     "output_type": "stream",
     "text": [
      "\r",
      "Epoch 1/5:  34%|███▍      | 1087/3166 [4:00:57<7:40:36, 13.29s/it]"
     ]
    },
    {
     "name": "stderr",
     "output_type": "stream",
     "text": [
      "\r",
      "Epoch 1/5:  34%|███▍      | 1088/3166 [4:01:10<7:39:30, 13.27s/it]"
     ]
    },
    {
     "name": "stderr",
     "output_type": "stream",
     "text": [
      "\r",
      "Epoch 1/5:  34%|███▍      | 1089/3166 [4:01:23<7:39:09, 13.26s/it]"
     ]
    },
    {
     "name": "stderr",
     "output_type": "stream",
     "text": [
      "\r",
      "Epoch 1/5:  34%|███▍      | 1090/3166 [4:01:37<7:39:01, 13.27s/it]"
     ]
    },
    {
     "name": "stderr",
     "output_type": "stream",
     "text": [
      "\r",
      "Epoch 1/5:  34%|███▍      | 1091/3166 [4:01:50<7:38:56, 13.27s/it]"
     ]
    },
    {
     "name": "stderr",
     "output_type": "stream",
     "text": [
      "\r",
      "Epoch 1/5:  34%|███▍      | 1092/3166 [4:02:03<7:38:34, 13.27s/it]"
     ]
    },
    {
     "name": "stderr",
     "output_type": "stream",
     "text": [
      "\r",
      "Epoch 1/5:  35%|███▍      | 1093/3166 [4:02:16<7:38:47, 13.28s/it]"
     ]
    },
    {
     "name": "stderr",
     "output_type": "stream",
     "text": [
      "\r",
      "Epoch 1/5:  35%|███▍      | 1094/3166 [4:02:30<7:38:55, 13.29s/it]"
     ]
    },
    {
     "name": "stderr",
     "output_type": "stream",
     "text": [
      "\r",
      "Epoch 1/5:  35%|███▍      | 1095/3166 [4:02:43<7:38:57, 13.30s/it]"
     ]
    },
    {
     "name": "stderr",
     "output_type": "stream",
     "text": [
      "\r",
      "Epoch 1/5:  35%|███▍      | 1096/3166 [4:02:56<7:39:46, 13.33s/it]"
     ]
    },
    {
     "name": "stderr",
     "output_type": "stream",
     "text": [
      "\r",
      "Epoch 1/5:  35%|███▍      | 1097/3166 [4:03:10<7:39:57, 13.34s/it]"
     ]
    },
    {
     "name": "stderr",
     "output_type": "stream",
     "text": [
      "\r",
      "Epoch 1/5:  35%|███▍      | 1098/3166 [4:03:23<7:39:26, 13.33s/it]"
     ]
    },
    {
     "name": "stderr",
     "output_type": "stream",
     "text": [
      "\r",
      "Epoch 1/5:  35%|███▍      | 1099/3166 [4:03:36<7:38:54, 13.32s/it]"
     ]
    },
    {
     "name": "stderr",
     "output_type": "stream",
     "text": [
      "\r",
      "Epoch 1/5:  35%|███▍      | 1100/3166 [4:03:50<7:38:40, 13.32s/it]"
     ]
    },
    {
     "name": "stderr",
     "output_type": "stream",
     "text": [
      "\r",
      "Epoch 1/5:  35%|███▍      | 1101/3166 [4:04:03<7:37:49, 13.30s/it]"
     ]
    },
    {
     "name": "stderr",
     "output_type": "stream",
     "text": [
      "\r",
      "Epoch 1/5:  35%|███▍      | 1102/3166 [4:04:16<7:38:04, 13.32s/it]"
     ]
    },
    {
     "name": "stderr",
     "output_type": "stream",
     "text": [
      "\r",
      "Epoch 1/5:  35%|███▍      | 1103/3166 [4:04:30<7:38:06, 13.32s/it]"
     ]
    },
    {
     "name": "stderr",
     "output_type": "stream",
     "text": [
      "\r",
      "Epoch 1/5:  35%|███▍      | 1104/3166 [4:04:43<7:37:19, 13.31s/it]"
     ]
    },
    {
     "name": "stderr",
     "output_type": "stream",
     "text": [
      "\r",
      "Epoch 1/5:  35%|███▍      | 1105/3166 [4:04:56<7:37:26, 13.32s/it]"
     ]
    },
    {
     "name": "stderr",
     "output_type": "stream",
     "text": [
      "\r",
      "Epoch 1/5:  35%|███▍      | 1106/3166 [4:05:10<7:37:30, 13.33s/it]"
     ]
    },
    {
     "name": "stderr",
     "output_type": "stream",
     "text": [
      "\r",
      "Epoch 1/5:  35%|███▍      | 1107/3166 [4:05:23<7:37:00, 13.32s/it]"
     ]
    },
    {
     "name": "stderr",
     "output_type": "stream",
     "text": [
      "\r",
      "Epoch 1/5:  35%|███▍      | 1108/3166 [4:05:36<7:37:18, 13.33s/it]"
     ]
    },
    {
     "name": "stderr",
     "output_type": "stream",
     "text": [
      "\r",
      "Epoch 1/5:  35%|███▌      | 1109/3166 [4:05:50<7:37:14, 13.34s/it]"
     ]
    },
    {
     "name": "stderr",
     "output_type": "stream",
     "text": [
      "\r",
      "Epoch 1/5:  35%|███▌      | 1110/3166 [4:06:03<7:36:24, 13.32s/it]"
     ]
    },
    {
     "name": "stderr",
     "output_type": "stream",
     "text": [
      "\r",
      "Epoch 1/5:  35%|███▌      | 1111/3166 [4:06:16<7:36:34, 13.33s/it]"
     ]
    },
    {
     "name": "stderr",
     "output_type": "stream",
     "text": [
      "\r",
      "Epoch 1/5:  35%|███▌      | 1112/3166 [4:06:30<7:36:09, 13.33s/it]"
     ]
    },
    {
     "name": "stderr",
     "output_type": "stream",
     "text": [
      "\r",
      "Epoch 1/5:  35%|███▌      | 1113/3166 [4:06:43<7:35:28, 13.31s/it]"
     ]
    },
    {
     "name": "stderr",
     "output_type": "stream",
     "text": [
      "\r",
      "Epoch 1/5:  35%|███▌      | 1114/3166 [4:06:56<7:35:51, 13.33s/it]"
     ]
    },
    {
     "name": "stderr",
     "output_type": "stream",
     "text": [
      "\r",
      "Epoch 1/5:  35%|███▌      | 1115/3166 [4:07:10<7:34:52, 13.31s/it]"
     ]
    },
    {
     "name": "stderr",
     "output_type": "stream",
     "text": [
      "\r",
      "Epoch 1/5:  35%|███▌      | 1116/3166 [4:07:23<7:33:51, 13.28s/it]"
     ]
    },
    {
     "name": "stderr",
     "output_type": "stream",
     "text": [
      "\r",
      "Epoch 1/5:  35%|███▌      | 1117/3166 [4:07:36<7:34:23, 13.31s/it]"
     ]
    },
    {
     "name": "stderr",
     "output_type": "stream",
     "text": [
      "\r",
      "Epoch 1/5:  35%|███▌      | 1118/3166 [4:07:49<7:34:16, 13.31s/it]"
     ]
    },
    {
     "name": "stderr",
     "output_type": "stream",
     "text": [
      "\r",
      "Epoch 1/5:  35%|███▌      | 1119/3166 [4:08:03<7:34:20, 13.32s/it]"
     ]
    },
    {
     "name": "stderr",
     "output_type": "stream",
     "text": [
      "\r",
      "Epoch 1/5:  35%|███▌      | 1120/3166 [4:08:16<7:34:40, 13.33s/it]"
     ]
    },
    {
     "name": "stderr",
     "output_type": "stream",
     "text": [
      "\r",
      "Epoch 1/5:  35%|███▌      | 1121/3166 [4:08:30<7:34:49, 13.34s/it]"
     ]
    },
    {
     "name": "stderr",
     "output_type": "stream",
     "text": [
      "\r",
      "Epoch 1/5:  35%|███▌      | 1122/3166 [4:08:43<7:34:31, 13.34s/it]"
     ]
    },
    {
     "name": "stderr",
     "output_type": "stream",
     "text": [
      "\r",
      "Epoch 1/5:  35%|███▌      | 1123/3166 [4:08:56<7:34:32, 13.35s/it]"
     ]
    },
    {
     "name": "stderr",
     "output_type": "stream",
     "text": [
      "\r",
      "Epoch 1/5:  36%|███▌      | 1124/3166 [4:09:09<7:32:57, 13.31s/it]"
     ]
    },
    {
     "name": "stderr",
     "output_type": "stream",
     "text": [
      "\r",
      "Epoch 1/5:  36%|███▌      | 1125/3166 [4:09:23<7:33:03, 13.32s/it]"
     ]
    },
    {
     "name": "stderr",
     "output_type": "stream",
     "text": [
      "\r",
      "Epoch 1/5:  36%|███▌      | 1126/3166 [4:09:36<7:33:24, 13.34s/it]"
     ]
    },
    {
     "name": "stderr",
     "output_type": "stream",
     "text": [
      "\r",
      "Epoch 1/5:  36%|███▌      | 1127/3166 [4:09:49<7:32:58, 13.33s/it]"
     ]
    },
    {
     "name": "stderr",
     "output_type": "stream",
     "text": [
      "\r",
      "Epoch 1/5:  36%|███▌      | 1128/3166 [4:10:03<7:32:18, 13.32s/it]"
     ]
    },
    {
     "name": "stderr",
     "output_type": "stream",
     "text": [
      "\r",
      "Epoch 1/5:  36%|███▌      | 1129/3166 [4:10:16<7:32:19, 13.32s/it]"
     ]
    },
    {
     "name": "stderr",
     "output_type": "stream",
     "text": [
      "\r",
      "Epoch 1/5:  36%|███▌      | 1130/3166 [4:10:29<7:32:25, 13.33s/it]"
     ]
    },
    {
     "name": "stderr",
     "output_type": "stream",
     "text": [
      "\r",
      "Epoch 1/5:  36%|███▌      | 1131/3166 [4:10:43<7:32:41, 13.35s/it]"
     ]
    },
    {
     "name": "stderr",
     "output_type": "stream",
     "text": [
      "\r",
      "Epoch 1/5:  36%|███▌      | 1132/3166 [4:10:56<7:33:02, 13.36s/it]"
     ]
    },
    {
     "name": "stderr",
     "output_type": "stream",
     "text": [
      "\r",
      "Epoch 1/5:  36%|███▌      | 1133/3166 [4:11:10<7:32:05, 13.34s/it]"
     ]
    },
    {
     "name": "stderr",
     "output_type": "stream",
     "text": [
      "\r",
      "Epoch 1/5:  36%|███▌      | 1134/3166 [4:11:23<7:32:22, 13.36s/it]"
     ]
    },
    {
     "name": "stderr",
     "output_type": "stream",
     "text": [
      "\r",
      "Epoch 1/5:  36%|███▌      | 1135/3166 [4:11:36<7:32:30, 13.37s/it]"
     ]
    },
    {
     "name": "stderr",
     "output_type": "stream",
     "text": [
      "\r",
      "Epoch 1/5:  36%|███▌      | 1136/3166 [4:11:50<7:31:09, 13.33s/it]"
     ]
    },
    {
     "name": "stderr",
     "output_type": "stream",
     "text": [
      "\r",
      "Epoch 1/5:  36%|███▌      | 1137/3166 [4:12:03<7:30:28, 13.32s/it]"
     ]
    },
    {
     "name": "stderr",
     "output_type": "stream",
     "text": [
      "\r",
      "Epoch 1/5:  36%|███▌      | 1138/3166 [4:12:16<7:30:10, 13.32s/it]"
     ]
    },
    {
     "name": "stderr",
     "output_type": "stream",
     "text": [
      "\r",
      "Epoch 1/5:  36%|███▌      | 1139/3166 [4:12:29<7:29:08, 13.29s/it]"
     ]
    },
    {
     "name": "stderr",
     "output_type": "stream",
     "text": [
      "\r",
      "Epoch 1/5:  36%|███▌      | 1140/3166 [4:12:43<7:29:09, 13.30s/it]"
     ]
    },
    {
     "name": "stderr",
     "output_type": "stream",
     "text": [
      "\r",
      "Epoch 1/5:  36%|███▌      | 1141/3166 [4:12:56<7:28:49, 13.30s/it]"
     ]
    },
    {
     "name": "stderr",
     "output_type": "stream",
     "text": [
      "\r",
      "Epoch 1/5:  36%|███▌      | 1142/3166 [4:13:09<7:28:32, 13.30s/it]"
     ]
    },
    {
     "name": "stderr",
     "output_type": "stream",
     "text": [
      "\r",
      "Epoch 1/5:  36%|███▌      | 1143/3166 [4:13:23<7:28:46, 13.31s/it]"
     ]
    },
    {
     "name": "stderr",
     "output_type": "stream",
     "text": [
      "\r",
      "Epoch 1/5:  36%|███▌      | 1144/3166 [4:13:36<7:28:53, 13.32s/it]"
     ]
    },
    {
     "name": "stderr",
     "output_type": "stream",
     "text": [
      "\r",
      "Epoch 1/5:  36%|███▌      | 1145/3166 [4:13:49<7:28:36, 13.32s/it]"
     ]
    },
    {
     "name": "stderr",
     "output_type": "stream",
     "text": [
      "\r",
      "Epoch 1/5:  36%|███▌      | 1146/3166 [4:14:03<7:28:30, 13.32s/it]"
     ]
    },
    {
     "name": "stderr",
     "output_type": "stream",
     "text": [
      "\r",
      "Epoch 1/5:  36%|███▌      | 1147/3166 [4:14:16<7:28:17, 13.32s/it]"
     ]
    },
    {
     "name": "stderr",
     "output_type": "stream",
     "text": [
      "\r",
      "Epoch 1/5:  36%|███▋      | 1148/3166 [4:14:29<7:27:32, 13.31s/it]"
     ]
    },
    {
     "name": "stderr",
     "output_type": "stream",
     "text": [
      "\r",
      "Epoch 1/5:  36%|███▋      | 1149/3166 [4:14:42<7:26:36, 13.29s/it]"
     ]
    },
    {
     "name": "stderr",
     "output_type": "stream",
     "text": [
      "\r",
      "Epoch 1/5:  36%|███▋      | 1150/3166 [4:14:56<7:27:14, 13.31s/it]"
     ]
    },
    {
     "name": "stderr",
     "output_type": "stream",
     "text": [
      "\r",
      "Epoch 1/5:  36%|███▋      | 1151/3166 [4:15:09<7:26:25, 13.29s/it]"
     ]
    },
    {
     "name": "stderr",
     "output_type": "stream",
     "text": [
      "\r",
      "Epoch 1/5:  36%|███▋      | 1152/3166 [4:15:22<7:26:21, 13.30s/it]"
     ]
    },
    {
     "name": "stderr",
     "output_type": "stream",
     "text": [
      "\r",
      "Epoch 1/5:  36%|███▋      | 1153/3166 [4:15:36<7:26:01, 13.29s/it]"
     ]
    },
    {
     "name": "stderr",
     "output_type": "stream",
     "text": [
      "\r",
      "Epoch 1/5:  36%|███▋      | 1154/3166 [4:15:49<7:25:19, 13.28s/it]"
     ]
    },
    {
     "name": "stderr",
     "output_type": "stream",
     "text": [
      "\r",
      "Epoch 1/5:  36%|███▋      | 1155/3166 [4:16:02<7:25:48, 13.30s/it]"
     ]
    },
    {
     "name": "stderr",
     "output_type": "stream",
     "text": [
      "\r",
      "Epoch 1/5:  37%|███▋      | 1156/3166 [4:16:16<7:26:06, 13.32s/it]"
     ]
    },
    {
     "name": "stderr",
     "output_type": "stream",
     "text": [
      "\r",
      "Epoch 1/5:  37%|███▋      | 1157/3166 [4:16:29<7:25:17, 13.30s/it]"
     ]
    },
    {
     "name": "stderr",
     "output_type": "stream",
     "text": [
      "\r",
      "Epoch 1/5:  37%|███▋      | 1158/3166 [4:16:42<7:25:28, 13.31s/it]"
     ]
    },
    {
     "name": "stderr",
     "output_type": "stream",
     "text": [
      "\r",
      "Epoch 1/5:  37%|███▋      | 1159/3166 [4:16:56<7:26:10, 13.34s/it]"
     ]
    },
    {
     "name": "stderr",
     "output_type": "stream",
     "text": [
      "\r",
      "Epoch 1/5:  37%|███▋      | 1160/3166 [4:17:09<7:25:32, 13.33s/it]"
     ]
    },
    {
     "name": "stderr",
     "output_type": "stream",
     "text": [
      "\r",
      "Epoch 1/5:  37%|███▋      | 1161/3166 [4:17:22<7:25:00, 13.32s/it]"
     ]
    },
    {
     "name": "stderr",
     "output_type": "stream",
     "text": [
      "\r",
      "Epoch 1/5:  37%|███▋      | 1162/3166 [4:17:36<7:25:17, 13.33s/it]"
     ]
    },
    {
     "name": "stderr",
     "output_type": "stream",
     "text": [
      "\r",
      "Epoch 1/5:  37%|███▋      | 1163/3166 [4:17:49<7:24:25, 13.31s/it]"
     ]
    },
    {
     "name": "stderr",
     "output_type": "stream",
     "text": [
      "\r",
      "Epoch 1/5:  37%|███▋      | 1164/3166 [4:18:02<7:23:46, 13.30s/it]"
     ]
    },
    {
     "name": "stderr",
     "output_type": "stream",
     "text": [
      "\r",
      "Epoch 1/5:  37%|███▋      | 1165/3166 [4:18:16<7:24:13, 13.32s/it]"
     ]
    },
    {
     "name": "stderr",
     "output_type": "stream",
     "text": [
      "\r",
      "Epoch 1/5:  37%|███▋      | 1166/3166 [4:18:29<7:24:13, 13.33s/it]"
     ]
    },
    {
     "name": "stderr",
     "output_type": "stream",
     "text": [
      "\r",
      "Epoch 1/5:  37%|███▋      | 1167/3166 [4:18:42<7:24:25, 13.34s/it]"
     ]
    },
    {
     "name": "stderr",
     "output_type": "stream",
     "text": [
      "\r",
      "Epoch 1/5:  37%|███▋      | 1168/3166 [4:18:56<7:24:58, 13.36s/it]"
     ]
    },
    {
     "name": "stderr",
     "output_type": "stream",
     "text": [
      "\r",
      "Epoch 1/5:  37%|███▋      | 1169/3166 [4:19:09<7:24:29, 13.35s/it]"
     ]
    },
    {
     "name": "stderr",
     "output_type": "stream",
     "text": [
      "\r",
      "Epoch 1/5:  37%|███▋      | 1170/3166 [4:19:22<7:23:58, 13.35s/it]"
     ]
    },
    {
     "name": "stderr",
     "output_type": "stream",
     "text": [
      "\r",
      "Epoch 1/5:  37%|███▋      | 1171/3166 [4:19:36<7:23:55, 13.35s/it]"
     ]
    },
    {
     "name": "stderr",
     "output_type": "stream",
     "text": [
      "\r",
      "Epoch 1/5:  37%|███▋      | 1172/3166 [4:19:49<7:23:27, 13.34s/it]"
     ]
    },
    {
     "name": "stderr",
     "output_type": "stream",
     "text": [
      "\r",
      "Epoch 1/5:  37%|███▋      | 1173/3166 [4:20:02<7:22:26, 13.32s/it]"
     ]
    },
    {
     "name": "stderr",
     "output_type": "stream",
     "text": [
      "\r",
      "Epoch 1/5:  37%|███▋      | 1174/3166 [4:20:16<7:23:00, 13.34s/it]"
     ]
    },
    {
     "name": "stderr",
     "output_type": "stream",
     "text": [
      "\r",
      "Epoch 1/5:  37%|███▋      | 1175/3166 [4:20:29<7:23:00, 13.35s/it]"
     ]
    },
    {
     "name": "stderr",
     "output_type": "stream",
     "text": [
      "\r",
      "Epoch 1/5:  37%|███▋      | 1176/3166 [4:20:42<7:22:14, 13.33s/it]"
     ]
    },
    {
     "name": "stderr",
     "output_type": "stream",
     "text": [
      "\r",
      "Epoch 1/5:  37%|███▋      | 1177/3166 [4:20:56<7:22:32, 13.35s/it]"
     ]
    },
    {
     "name": "stderr",
     "output_type": "stream",
     "text": [
      "\r",
      "Epoch 1/5:  37%|███▋      | 1178/3166 [4:21:09<7:22:20, 13.35s/it]"
     ]
    },
    {
     "name": "stderr",
     "output_type": "stream",
     "text": [
      "\r",
      "Epoch 1/5:  37%|███▋      | 1179/3166 [4:21:22<7:21:56, 13.34s/it]"
     ]
    },
    {
     "name": "stderr",
     "output_type": "stream",
     "text": [
      "\r",
      "Epoch 1/5:  37%|███▋      | 1180/3166 [4:21:36<7:22:50, 13.38s/it]"
     ]
    },
    {
     "name": "stderr",
     "output_type": "stream",
     "text": [
      "\r",
      "Epoch 1/5:  37%|███▋      | 1181/3166 [4:21:49<7:22:21, 13.37s/it]"
     ]
    },
    {
     "name": "stderr",
     "output_type": "stream",
     "text": [
      "\r",
      "Epoch 1/5:  37%|███▋      | 1182/3166 [4:22:03<7:21:51, 13.36s/it]"
     ]
    },
    {
     "name": "stderr",
     "output_type": "stream",
     "text": [
      "\r",
      "Epoch 1/5:  37%|███▋      | 1183/3166 [4:22:16<7:20:46, 13.34s/it]"
     ]
    },
    {
     "name": "stderr",
     "output_type": "stream",
     "text": [
      "\r",
      "Epoch 1/5:  37%|███▋      | 1184/3166 [4:22:29<7:20:01, 13.32s/it]"
     ]
    },
    {
     "name": "stderr",
     "output_type": "stream",
     "text": [
      "\r",
      "Epoch 1/5:  37%|███▋      | 1185/3166 [4:22:42<7:19:44, 13.32s/it]"
     ]
    },
    {
     "name": "stderr",
     "output_type": "stream",
     "text": [
      "\r",
      "Epoch 1/5:  37%|███▋      | 1186/3166 [4:22:56<7:20:48, 13.36s/it]"
     ]
    },
    {
     "name": "stderr",
     "output_type": "stream",
     "text": [
      "\r",
      "Epoch 1/5:  37%|███▋      | 1187/3166 [4:23:09<7:20:44, 13.36s/it]"
     ]
    },
    {
     "name": "stderr",
     "output_type": "stream",
     "text": [
      "\r",
      "Epoch 1/5:  38%|███▊      | 1188/3166 [4:23:23<7:20:32, 13.36s/it]"
     ]
    },
    {
     "name": "stderr",
     "output_type": "stream",
     "text": [
      "\r",
      "Epoch 1/5:  38%|███▊      | 1189/3166 [4:23:36<7:20:18, 13.36s/it]"
     ]
    },
    {
     "name": "stderr",
     "output_type": "stream",
     "text": [
      "\r",
      "Epoch 1/5:  38%|███▊      | 1190/3166 [4:23:49<7:19:47, 13.35s/it]"
     ]
    },
    {
     "name": "stderr",
     "output_type": "stream",
     "text": [
      "\r",
      "Epoch 1/5:  38%|███▊      | 1191/3166 [4:24:03<7:19:31, 13.35s/it]"
     ]
    },
    {
     "name": "stderr",
     "output_type": "stream",
     "text": [
      "\r",
      "Epoch 1/5:  38%|███▊      | 1192/3166 [4:24:16<7:19:30, 13.36s/it]"
     ]
    },
    {
     "name": "stderr",
     "output_type": "stream",
     "text": [
      "\r",
      "Epoch 1/5:  38%|███▊      | 1193/3166 [4:24:29<7:19:15, 13.36s/it]"
     ]
    },
    {
     "name": "stderr",
     "output_type": "stream",
     "text": [
      "\r",
      "Epoch 1/5:  38%|███▊      | 1194/3166 [4:24:43<7:18:53, 13.35s/it]"
     ]
    },
    {
     "name": "stderr",
     "output_type": "stream",
     "text": [
      "\r",
      "Epoch 1/5:  38%|███▊      | 1195/3166 [4:24:56<7:18:28, 13.35s/it]"
     ]
    },
    {
     "name": "stderr",
     "output_type": "stream",
     "text": [
      "\r",
      "Epoch 1/5:  38%|███▊      | 1196/3166 [4:25:09<7:17:54, 13.34s/it]"
     ]
    },
    {
     "name": "stderr",
     "output_type": "stream",
     "text": [
      "\r",
      "Epoch 1/5:  38%|███▊      | 1197/3166 [4:25:23<7:16:39, 13.31s/it]"
     ]
    },
    {
     "name": "stderr",
     "output_type": "stream",
     "text": [
      "\r",
      "Epoch 1/5:  38%|███▊      | 1198/3166 [4:25:36<7:17:01, 13.32s/it]"
     ]
    },
    {
     "name": "stderr",
     "output_type": "stream",
     "text": [
      "\r",
      "Epoch 1/5:  38%|███▊      | 1199/3166 [4:25:49<7:16:37, 13.32s/it]"
     ]
    },
    {
     "name": "stderr",
     "output_type": "stream",
     "text": [
      "\r",
      "Epoch 1/5:  38%|███▊      | 1200/3166 [4:26:03<7:16:33, 13.32s/it]"
     ]
    },
    {
     "name": "stderr",
     "output_type": "stream",
     "text": [
      "\r",
      "Epoch 1/5:  38%|███▊      | 1201/3166 [4:26:16<7:16:12, 13.32s/it]"
     ]
    },
    {
     "name": "stderr",
     "output_type": "stream",
     "text": [
      "\r",
      "Epoch 1/5:  38%|███▊      | 1202/3166 [4:26:29<7:15:49, 13.31s/it]"
     ]
    },
    {
     "name": "stderr",
     "output_type": "stream",
     "text": [
      "\r",
      "Epoch 1/5:  38%|███▊      | 1203/3166 [4:26:43<7:15:57, 13.33s/it]"
     ]
    },
    {
     "name": "stderr",
     "output_type": "stream",
     "text": [
      "\r",
      "Epoch 1/5:  38%|███▊      | 1204/3166 [4:26:56<7:15:56, 13.33s/it]"
     ]
    },
    {
     "name": "stderr",
     "output_type": "stream",
     "text": [
      "\r",
      "Epoch 1/5:  38%|███▊      | 1205/3166 [4:27:09<7:16:01, 13.34s/it]"
     ]
    },
    {
     "name": "stderr",
     "output_type": "stream",
     "text": [
      "\r",
      "Epoch 1/5:  38%|███▊      | 1206/3166 [4:27:23<7:15:39, 13.34s/it]"
     ]
    },
    {
     "name": "stderr",
     "output_type": "stream",
     "text": [
      "\r",
      "Epoch 1/5:  38%|███▊      | 1207/3166 [4:27:36<7:14:43, 13.31s/it]"
     ]
    },
    {
     "name": "stderr",
     "output_type": "stream",
     "text": [
      "\r",
      "Epoch 1/5:  38%|███▊      | 1208/3166 [4:27:49<7:14:00, 13.30s/it]"
     ]
    },
    {
     "name": "stderr",
     "output_type": "stream",
     "text": [
      "\r",
      "Epoch 1/5:  38%|███▊      | 1209/3166 [4:28:02<7:13:03, 13.28s/it]"
     ]
    },
    {
     "name": "stderr",
     "output_type": "stream",
     "text": [
      "\r",
      "Epoch 1/5:  38%|███▊      | 1210/3166 [4:28:16<7:13:06, 13.29s/it]"
     ]
    },
    {
     "name": "stderr",
     "output_type": "stream",
     "text": [
      "\r",
      "Epoch 1/5:  38%|███▊      | 1211/3166 [4:28:29<7:12:51, 13.28s/it]"
     ]
    },
    {
     "name": "stderr",
     "output_type": "stream",
     "text": [
      "\r",
      "Epoch 1/5:  38%|███▊      | 1212/3166 [4:28:42<7:13:32, 13.31s/it]"
     ]
    },
    {
     "name": "stderr",
     "output_type": "stream",
     "text": [
      "\r",
      "Epoch 1/5:  38%|███▊      | 1213/3166 [4:28:56<7:13:11, 13.31s/it]"
     ]
    },
    {
     "name": "stderr",
     "output_type": "stream",
     "text": [
      "\r",
      "Epoch 1/5:  38%|███▊      | 1214/3166 [4:29:09<7:12:41, 13.30s/it]"
     ]
    },
    {
     "name": "stderr",
     "output_type": "stream",
     "text": [
      "\r",
      "Epoch 1/5:  38%|███▊      | 1215/3166 [4:29:22<7:12:25, 13.30s/it]"
     ]
    },
    {
     "name": "stderr",
     "output_type": "stream",
     "text": [
      "\r",
      "Epoch 1/5:  38%|███▊      | 1216/3166 [4:29:36<7:12:39, 13.31s/it]"
     ]
    },
    {
     "name": "stderr",
     "output_type": "stream",
     "text": [
      "\r",
      "Epoch 1/5:  38%|███▊      | 1217/3166 [4:29:49<7:12:32, 13.32s/it]"
     ]
    },
    {
     "name": "stderr",
     "output_type": "stream",
     "text": [
      "\r",
      "Epoch 1/5:  38%|███▊      | 1218/3166 [4:30:02<7:12:43, 13.33s/it]"
     ]
    },
    {
     "name": "stderr",
     "output_type": "stream",
     "text": [
      "\r",
      "Epoch 1/5:  39%|███▊      | 1219/3166 [4:30:16<7:12:28, 13.33s/it]"
     ]
    },
    {
     "name": "stderr",
     "output_type": "stream",
     "text": [
      "\r",
      "Epoch 1/5:  39%|███▊      | 1220/3166 [4:30:29<7:12:15, 13.33s/it]"
     ]
    },
    {
     "name": "stderr",
     "output_type": "stream",
     "text": [
      "\r",
      "Epoch 1/5:  39%|███▊      | 1221/3166 [4:30:42<7:11:30, 13.31s/it]"
     ]
    },
    {
     "name": "stderr",
     "output_type": "stream",
     "text": [
      "\r",
      "Epoch 1/5:  39%|███▊      | 1222/3166 [4:30:55<7:11:39, 13.32s/it]"
     ]
    },
    {
     "name": "stderr",
     "output_type": "stream",
     "text": [
      "\r",
      "Epoch 1/5:  39%|███▊      | 1223/3166 [4:31:09<7:11:24, 13.32s/it]"
     ]
    },
    {
     "name": "stderr",
     "output_type": "stream",
     "text": [
      "\r",
      "Epoch 1/5:  39%|███▊      | 1224/3166 [4:31:22<7:10:41, 13.31s/it]"
     ]
    },
    {
     "name": "stderr",
     "output_type": "stream",
     "text": [
      "\r",
      "Epoch 1/5:  39%|███▊      | 1225/3166 [4:31:35<7:10:35, 13.31s/it]"
     ]
    },
    {
     "name": "stderr",
     "output_type": "stream",
     "text": [
      "\r",
      "Epoch 1/5:  39%|███▊      | 1226/3166 [4:31:49<7:10:07, 13.30s/it]"
     ]
    },
    {
     "name": "stderr",
     "output_type": "stream",
     "text": [
      "\r",
      "Epoch 1/5:  39%|███▉      | 1227/3166 [4:32:02<7:09:41, 13.30s/it]"
     ]
    },
    {
     "name": "stderr",
     "output_type": "stream",
     "text": [
      "\r",
      "Epoch 1/5:  39%|███▉      | 1228/3166 [4:32:15<7:09:27, 13.30s/it]"
     ]
    },
    {
     "name": "stderr",
     "output_type": "stream",
     "text": [
      "\r",
      "Epoch 1/5:  39%|███▉      | 1229/3166 [4:32:29<7:09:04, 13.29s/it]"
     ]
    },
    {
     "name": "stderr",
     "output_type": "stream",
     "text": [
      "\r",
      "Epoch 1/5:  39%|███▉      | 1230/3166 [4:32:42<7:08:02, 13.27s/it]"
     ]
    },
    {
     "name": "stderr",
     "output_type": "stream",
     "text": [
      "\r",
      "Epoch 1/5:  39%|███▉      | 1231/3166 [4:32:55<7:08:44, 13.29s/it]"
     ]
    },
    {
     "name": "stderr",
     "output_type": "stream",
     "text": [
      "\r",
      "Epoch 1/5:  39%|███▉      | 1232/3166 [4:33:08<7:08:07, 13.28s/it]"
     ]
    },
    {
     "name": "stderr",
     "output_type": "stream",
     "text": [
      "\r",
      "Epoch 1/5:  39%|███▉      | 1233/3166 [4:33:22<7:08:35, 13.30s/it]"
     ]
    },
    {
     "name": "stderr",
     "output_type": "stream",
     "text": [
      "\r",
      "Epoch 1/5:  39%|███▉      | 1234/3166 [4:33:35<7:08:36, 13.31s/it]"
     ]
    },
    {
     "name": "stderr",
     "output_type": "stream",
     "text": [
      "\r",
      "Epoch 1/5:  39%|███▉      | 1235/3166 [4:33:48<7:07:52, 13.29s/it]"
     ]
    },
    {
     "name": "stderr",
     "output_type": "stream",
     "text": [
      "\r",
      "Epoch 1/5:  39%|███▉      | 1236/3166 [4:34:02<7:07:01, 13.28s/it]"
     ]
    },
    {
     "name": "stderr",
     "output_type": "stream",
     "text": [
      "\r",
      "Epoch 1/5:  39%|███▉      | 1237/3166 [4:34:15<7:07:02, 13.28s/it]"
     ]
    },
    {
     "name": "stderr",
     "output_type": "stream",
     "text": [
      "\r",
      "Epoch 1/5:  39%|███▉      | 1238/3166 [4:34:28<7:06:26, 13.27s/it]"
     ]
    },
    {
     "name": "stderr",
     "output_type": "stream",
     "text": [
      "\r",
      "Epoch 1/5:  39%|███▉      | 1239/3166 [4:34:41<7:06:31, 13.28s/it]"
     ]
    },
    {
     "name": "stderr",
     "output_type": "stream",
     "text": [
      "\r",
      "Epoch 1/5:  39%|███▉      | 1240/3166 [4:34:55<7:07:28, 13.32s/it]"
     ]
    },
    {
     "name": "stderr",
     "output_type": "stream",
     "text": [
      "\r",
      "Epoch 1/5:  39%|███▉      | 1241/3166 [4:35:08<7:07:10, 13.31s/it]"
     ]
    },
    {
     "name": "stderr",
     "output_type": "stream",
     "text": [
      "\r",
      "Epoch 1/5:  39%|███▉      | 1242/3166 [4:35:21<7:06:59, 13.32s/it]"
     ]
    },
    {
     "name": "stderr",
     "output_type": "stream",
     "text": [
      "\r",
      "Epoch 1/5:  39%|███▉      | 1243/3166 [4:35:35<7:06:31, 13.31s/it]"
     ]
    },
    {
     "name": "stderr",
     "output_type": "stream",
     "text": [
      "\r",
      "Epoch 1/5:  39%|███▉      | 1244/3166 [4:35:48<7:06:17, 13.31s/it]"
     ]
    },
    {
     "name": "stderr",
     "output_type": "stream",
     "text": [
      "\r",
      "Epoch 1/5:  39%|███▉      | 1245/3166 [4:36:01<7:05:22, 13.29s/it]"
     ]
    },
    {
     "name": "stderr",
     "output_type": "stream",
     "text": [
      "\r",
      "Epoch 1/5:  39%|███▉      | 1246/3166 [4:36:15<7:05:35, 13.30s/it]"
     ]
    },
    {
     "name": "stderr",
     "output_type": "stream",
     "text": [
      "\r",
      "Epoch 1/5:  39%|███▉      | 1247/3166 [4:36:28<7:05:30, 13.30s/it]"
     ]
    },
    {
     "name": "stderr",
     "output_type": "stream",
     "text": [
      "\r",
      "Epoch 1/5:  39%|███▉      | 1248/3166 [4:36:41<7:04:18, 13.27s/it]"
     ]
    },
    {
     "name": "stderr",
     "output_type": "stream",
     "text": [
      "\r",
      "Epoch 1/5:  39%|███▉      | 1249/3166 [4:36:54<7:04:39, 13.29s/it]"
     ]
    },
    {
     "name": "stderr",
     "output_type": "stream",
     "text": [
      "\r",
      "Epoch 1/5:  39%|███▉      | 1250/3166 [4:37:08<7:03:54, 13.27s/it]"
     ]
    },
    {
     "name": "stderr",
     "output_type": "stream",
     "text": [
      "\r",
      "Epoch 1/5:  40%|███▉      | 1251/3166 [4:37:21<7:03:27, 13.27s/it]"
     ]
    },
    {
     "name": "stderr",
     "output_type": "stream",
     "text": [
      "\r",
      "Epoch 1/5:  40%|███▉      | 1252/3166 [4:37:34<7:04:42, 13.31s/it]"
     ]
    },
    {
     "name": "stderr",
     "output_type": "stream",
     "text": [
      "\r",
      "Epoch 1/5:  40%|███▉      | 1253/3166 [4:37:48<7:04:30, 13.31s/it]"
     ]
    },
    {
     "name": "stderr",
     "output_type": "stream",
     "text": [
      "\r",
      "Epoch 1/5:  40%|███▉      | 1254/3166 [4:38:01<7:04:04, 13.31s/it]"
     ]
    },
    {
     "name": "stderr",
     "output_type": "stream",
     "text": [
      "\r",
      "Epoch 1/5:  40%|███▉      | 1255/3166 [4:38:14<7:04:10, 13.32s/it]"
     ]
    },
    {
     "name": "stderr",
     "output_type": "stream",
     "text": [
      "\r",
      "Epoch 1/5:  40%|███▉      | 1256/3166 [4:38:28<7:04:25, 13.33s/it]"
     ]
    },
    {
     "name": "stderr",
     "output_type": "stream",
     "text": [
      "\r",
      "Epoch 1/5:  40%|███▉      | 1257/3166 [4:38:41<7:04:08, 13.33s/it]"
     ]
    },
    {
     "name": "stderr",
     "output_type": "stream",
     "text": [
      "\r",
      "Epoch 1/5:  40%|███▉      | 1258/3166 [4:38:54<7:03:45, 13.33s/it]"
     ]
    },
    {
     "name": "stderr",
     "output_type": "stream",
     "text": [
      "\r",
      "Epoch 1/5:  40%|███▉      | 1259/3166 [4:39:08<7:03:09, 13.31s/it]"
     ]
    },
    {
     "name": "stderr",
     "output_type": "stream",
     "text": [
      "\r",
      "Epoch 1/5:  40%|███▉      | 1260/3166 [4:39:21<7:02:02, 13.29s/it]"
     ]
    },
    {
     "name": "stderr",
     "output_type": "stream",
     "text": [
      "\r",
      "Epoch 1/5:  40%|███▉      | 1261/3166 [4:39:34<7:02:26, 13.31s/it]"
     ]
    },
    {
     "name": "stderr",
     "output_type": "stream",
     "text": [
      "\r",
      "Epoch 1/5:  40%|███▉      | 1262/3166 [4:39:47<7:02:28, 13.31s/it]"
     ]
    },
    {
     "name": "stderr",
     "output_type": "stream",
     "text": [
      "\r",
      "Epoch 1/5:  40%|███▉      | 1263/3166 [4:40:01<7:01:42, 13.30s/it]"
     ]
    },
    {
     "name": "stderr",
     "output_type": "stream",
     "text": [
      "\r",
      "Epoch 1/5:  40%|███▉      | 1264/3166 [4:40:14<7:02:02, 13.31s/it]"
     ]
    },
    {
     "name": "stderr",
     "output_type": "stream",
     "text": [
      "\r",
      "Epoch 1/5:  40%|███▉      | 1265/3166 [4:40:27<7:01:52, 13.32s/it]"
     ]
    },
    {
     "name": "stderr",
     "output_type": "stream",
     "text": [
      "\r",
      "Epoch 1/5:  40%|███▉      | 1266/3166 [4:40:41<7:01:45, 13.32s/it]"
     ]
    },
    {
     "name": "stderr",
     "output_type": "stream",
     "text": [
      "\r",
      "Epoch 1/5:  40%|████      | 1267/3166 [4:40:54<7:02:03, 13.34s/it]"
     ]
    },
    {
     "name": "stderr",
     "output_type": "stream",
     "text": [
      "\r",
      "Epoch 1/5:  40%|████      | 1268/3166 [4:41:07<7:01:22, 13.32s/it]"
     ]
    },
    {
     "name": "stderr",
     "output_type": "stream",
     "text": [
      "\r",
      "Epoch 1/5:  40%|████      | 1269/3166 [4:41:21<7:00:55, 13.31s/it]"
     ]
    },
    {
     "name": "stderr",
     "output_type": "stream",
     "text": [
      "\r",
      "Epoch 1/5:  40%|████      | 1270/3166 [4:41:34<7:01:29, 13.34s/it]"
     ]
    },
    {
     "name": "stderr",
     "output_type": "stream",
     "text": [
      "\r",
      "Epoch 1/5:  40%|████      | 1271/3166 [4:41:47<7:00:49, 13.32s/it]"
     ]
    },
    {
     "name": "stderr",
     "output_type": "stream",
     "text": [
      "\r",
      "Epoch 1/5:  40%|████      | 1272/3166 [4:42:01<7:00:19, 13.32s/it]"
     ]
    },
    {
     "name": "stderr",
     "output_type": "stream",
     "text": [
      "\r",
      "Epoch 1/5:  40%|████      | 1273/3166 [4:42:14<7:00:35, 13.33s/it]"
     ]
    },
    {
     "name": "stderr",
     "output_type": "stream",
     "text": [
      "\r",
      "Epoch 1/5:  40%|████      | 1274/3166 [4:42:27<7:00:10, 13.32s/it]"
     ]
    },
    {
     "name": "stderr",
     "output_type": "stream",
     "text": [
      "\r",
      "Epoch 1/5:  40%|████      | 1275/3166 [4:42:41<6:59:25, 13.31s/it]"
     ]
    },
    {
     "name": "stderr",
     "output_type": "stream",
     "text": [
      "\r",
      "Epoch 1/5:  40%|████      | 1276/3166 [4:42:54<6:59:02, 13.30s/it]"
     ]
    },
    {
     "name": "stderr",
     "output_type": "stream",
     "text": [
      "\r",
      "Epoch 1/5:  40%|████      | 1277/3166 [4:43:07<6:58:44, 13.30s/it]"
     ]
    },
    {
     "name": "stderr",
     "output_type": "stream",
     "text": [
      "\r",
      "Epoch 1/5:  40%|████      | 1278/3166 [4:43:21<6:58:38, 13.30s/it]"
     ]
    },
    {
     "name": "stderr",
     "output_type": "stream",
     "text": [
      "\r",
      "Epoch 1/5:  40%|████      | 1279/3166 [4:43:34<6:58:40, 13.31s/it]"
     ]
    },
    {
     "name": "stderr",
     "output_type": "stream",
     "text": [
      "\r",
      "Epoch 1/5:  40%|████      | 1280/3166 [4:43:47<6:58:03, 13.30s/it]"
     ]
    },
    {
     "name": "stderr",
     "output_type": "stream",
     "text": [
      "\r",
      "Epoch 1/5:  40%|████      | 1281/3166 [4:44:00<6:56:31, 13.26s/it]"
     ]
    },
    {
     "name": "stderr",
     "output_type": "stream",
     "text": [
      "\r",
      "Epoch 1/5:  40%|████      | 1282/3166 [4:44:14<6:56:50, 13.28s/it]"
     ]
    },
    {
     "name": "stderr",
     "output_type": "stream",
     "text": [
      "\r",
      "Epoch 1/5:  41%|████      | 1283/3166 [4:44:27<6:56:43, 13.28s/it]"
     ]
    },
    {
     "name": "stderr",
     "output_type": "stream",
     "text": [
      "\r",
      "Epoch 1/5:  41%|████      | 1284/3166 [4:44:40<6:56:12, 13.27s/it]"
     ]
    },
    {
     "name": "stderr",
     "output_type": "stream",
     "text": [
      "\r",
      "Epoch 1/5:  41%|████      | 1285/3166 [4:44:54<6:57:00, 13.30s/it]"
     ]
    },
    {
     "name": "stderr",
     "output_type": "stream",
     "text": [
      "\r",
      "Epoch 1/5:  41%|████      | 1286/3166 [4:45:07<6:56:14, 13.28s/it]"
     ]
    },
    {
     "name": "stderr",
     "output_type": "stream",
     "text": [
      "\r",
      "Epoch 1/5:  41%|████      | 1287/3166 [4:45:20<6:56:37, 13.30s/it]"
     ]
    },
    {
     "name": "stderr",
     "output_type": "stream",
     "text": [
      "\r",
      "Epoch 1/5:  41%|████      | 1288/3166 [4:45:33<6:56:50, 13.32s/it]"
     ]
    },
    {
     "name": "stderr",
     "output_type": "stream",
     "text": [
      "\r",
      "Epoch 1/5:  41%|████      | 1289/3166 [4:45:47<6:56:23, 13.31s/it]"
     ]
    },
    {
     "name": "stderr",
     "output_type": "stream",
     "text": [
      "\r",
      "Epoch 1/5:  41%|████      | 1290/3166 [4:46:00<6:55:56, 13.30s/it]"
     ]
    },
    {
     "name": "stderr",
     "output_type": "stream",
     "text": [
      "\r",
      "Epoch 1/5:  41%|████      | 1291/3166 [4:46:13<6:56:08, 13.32s/it]"
     ]
    },
    {
     "name": "stderr",
     "output_type": "stream",
     "text": [
      "\r",
      "Epoch 1/5:  41%|████      | 1292/3166 [4:46:27<6:55:14, 13.29s/it]"
     ]
    },
    {
     "name": "stderr",
     "output_type": "stream",
     "text": [
      "\r",
      "Epoch 1/5:  41%|████      | 1293/3166 [4:46:40<6:54:36, 13.28s/it]"
     ]
    },
    {
     "name": "stderr",
     "output_type": "stream",
     "text": [
      "\r",
      "Epoch 1/5:  41%|████      | 1294/3166 [4:46:53<6:54:34, 13.29s/it]"
     ]
    },
    {
     "name": "stderr",
     "output_type": "stream",
     "text": [
      "\r",
      "Epoch 1/5:  41%|████      | 1295/3166 [4:47:07<6:54:45, 13.30s/it]"
     ]
    },
    {
     "name": "stderr",
     "output_type": "stream",
     "text": [
      "\r",
      "Epoch 1/5:  41%|████      | 1296/3166 [4:47:20<6:54:38, 13.30s/it]"
     ]
    },
    {
     "name": "stderr",
     "output_type": "stream",
     "text": [
      "\r",
      "Epoch 1/5:  41%|████      | 1297/3166 [4:47:33<6:54:58, 13.32s/it]"
     ]
    },
    {
     "name": "stderr",
     "output_type": "stream",
     "text": [
      "\r",
      "Epoch 1/5:  41%|████      | 1298/3166 [4:47:46<6:54:42, 13.32s/it]"
     ]
    },
    {
     "name": "stderr",
     "output_type": "stream",
     "text": [
      "\r",
      "Epoch 1/5:  41%|████      | 1299/3166 [4:48:00<6:54:11, 13.31s/it]"
     ]
    },
    {
     "name": "stderr",
     "output_type": "stream",
     "text": [
      "\r",
      "Epoch 1/5:  41%|████      | 1300/3166 [4:48:13<6:54:20, 13.32s/it]"
     ]
    },
    {
     "name": "stderr",
     "output_type": "stream",
     "text": [
      "\r",
      "Epoch 1/5:  41%|████      | 1301/3166 [4:48:26<6:53:58, 13.32s/it]"
     ]
    },
    {
     "name": "stderr",
     "output_type": "stream",
     "text": [
      "\r",
      "Epoch 1/5:  41%|████      | 1302/3166 [4:48:40<6:53:38, 13.31s/it]"
     ]
    },
    {
     "name": "stderr",
     "output_type": "stream",
     "text": [
      "\r",
      "Epoch 1/5:  41%|████      | 1303/3166 [4:48:53<6:54:23, 13.35s/it]"
     ]
    },
    {
     "name": "stderr",
     "output_type": "stream",
     "text": [
      "\r",
      "Epoch 1/5:  41%|████      | 1304/3166 [4:49:07<6:54:17, 13.35s/it]"
     ]
    },
    {
     "name": "stderr",
     "output_type": "stream",
     "text": [
      "\r",
      "Epoch 1/5:  41%|████      | 1305/3166 [4:49:20<6:53:45, 13.34s/it]"
     ]
    },
    {
     "name": "stderr",
     "output_type": "stream",
     "text": [
      "\r",
      "Epoch 1/5:  41%|████▏     | 1306/3166 [4:49:33<6:54:19, 13.37s/it]"
     ]
    },
    {
     "name": "stderr",
     "output_type": "stream",
     "text": [
      "\r",
      "Epoch 1/5:  41%|████▏     | 1307/3166 [4:49:47<6:53:37, 13.35s/it]"
     ]
    },
    {
     "name": "stderr",
     "output_type": "stream",
     "text": [
      "\r",
      "Epoch 1/5:  41%|████▏     | 1308/3166 [4:50:00<6:52:47, 13.33s/it]"
     ]
    },
    {
     "name": "stderr",
     "output_type": "stream",
     "text": [
      "\r",
      "Epoch 1/5:  41%|████▏     | 1309/3166 [4:50:13<6:52:54, 13.34s/it]"
     ]
    },
    {
     "name": "stderr",
     "output_type": "stream",
     "text": [
      "\r",
      "Epoch 1/5:  41%|████▏     | 1310/3166 [4:50:27<6:52:17, 13.33s/it]"
     ]
    },
    {
     "name": "stderr",
     "output_type": "stream",
     "text": [
      "\r",
      "Epoch 1/5:  41%|████▏     | 1311/3166 [4:50:40<6:51:45, 13.32s/it]"
     ]
    },
    {
     "name": "stderr",
     "output_type": "stream",
     "text": [
      "\r",
      "Epoch 1/5:  41%|████▏     | 1312/3166 [4:50:53<6:51:59, 13.33s/it]"
     ]
    },
    {
     "name": "stderr",
     "output_type": "stream",
     "text": [
      "\r",
      "Epoch 1/5:  41%|████▏     | 1313/3166 [4:51:06<6:50:58, 13.31s/it]"
     ]
    },
    {
     "name": "stderr",
     "output_type": "stream",
     "text": [
      "\r",
      "Epoch 1/5:  42%|████▏     | 1314/3166 [4:51:20<6:50:30, 13.30s/it]"
     ]
    },
    {
     "name": "stderr",
     "output_type": "stream",
     "text": [
      "\r",
      "Epoch 1/5:  42%|████▏     | 1315/3166 [4:51:33<6:51:20, 13.33s/it]"
     ]
    },
    {
     "name": "stderr",
     "output_type": "stream",
     "text": [
      "\r",
      "Epoch 1/5:  42%|████▏     | 1316/3166 [4:51:46<6:50:40, 13.32s/it]"
     ]
    },
    {
     "name": "stderr",
     "output_type": "stream",
     "text": [
      "\r",
      "Epoch 1/5:  42%|████▏     | 1317/3166 [4:52:00<6:50:31, 13.32s/it]"
     ]
    },
    {
     "name": "stderr",
     "output_type": "stream",
     "text": [
      "\r",
      "Epoch 1/5:  42%|████▏     | 1318/3166 [4:52:13<6:51:06, 13.35s/it]"
     ]
    },
    {
     "name": "stderr",
     "output_type": "stream",
     "text": [
      "\r",
      "Epoch 1/5:  42%|████▏     | 1319/3166 [4:52:26<6:50:21, 13.33s/it]"
     ]
    },
    {
     "name": "stderr",
     "output_type": "stream",
     "text": [
      "\r",
      "Epoch 1/5:  42%|████▏     | 1320/3166 [4:52:40<6:49:53, 13.32s/it]"
     ]
    },
    {
     "name": "stderr",
     "output_type": "stream",
     "text": [
      "\r",
      "Epoch 1/5:  42%|████▏     | 1321/3166 [4:52:53<6:50:11, 13.34s/it]"
     ]
    },
    {
     "name": "stderr",
     "output_type": "stream",
     "text": [
      "\r",
      "Epoch 1/5:  42%|████▏     | 1322/3166 [4:53:06<6:49:25, 13.32s/it]"
     ]
    },
    {
     "name": "stderr",
     "output_type": "stream",
     "text": [
      "\r",
      "Epoch 1/5:  42%|████▏     | 1323/3166 [4:53:20<6:48:21, 13.29s/it]"
     ]
    },
    {
     "name": "stderr",
     "output_type": "stream",
     "text": [
      "\r",
      "Epoch 1/5:  42%|████▏     | 1324/3166 [4:53:33<6:48:21, 13.30s/it]"
     ]
    },
    {
     "name": "stderr",
     "output_type": "stream",
     "text": [
      "\r",
      "Epoch 1/5:  42%|████▏     | 1325/3166 [4:53:46<6:47:27, 13.28s/it]"
     ]
    },
    {
     "name": "stderr",
     "output_type": "stream",
     "text": [
      "\r",
      "Epoch 1/5:  42%|████▏     | 1326/3166 [4:53:59<6:46:49, 13.27s/it]"
     ]
    },
    {
     "name": "stderr",
     "output_type": "stream",
     "text": [
      "\r",
      "Epoch 1/5:  42%|████▏     | 1327/3166 [4:54:13<6:47:04, 13.28s/it]"
     ]
    },
    {
     "name": "stderr",
     "output_type": "stream",
     "text": [
      "\r",
      "Epoch 1/5:  42%|████▏     | 1328/3166 [4:54:26<6:46:28, 13.27s/it]"
     ]
    },
    {
     "name": "stderr",
     "output_type": "stream",
     "text": [
      "\r",
      "Epoch 1/5:  42%|████▏     | 1329/3166 [4:54:39<6:46:34, 13.28s/it]"
     ]
    },
    {
     "name": "stderr",
     "output_type": "stream",
     "text": [
      "\r",
      "Epoch 1/5:  42%|████▏     | 1330/3166 [4:54:53<6:46:47, 13.29s/it]"
     ]
    },
    {
     "name": "stderr",
     "output_type": "stream",
     "text": [
      "\r",
      "Epoch 1/5:  42%|████▏     | 1331/3166 [4:55:06<6:47:02, 13.31s/it]"
     ]
    },
    {
     "name": "stderr",
     "output_type": "stream",
     "text": [
      "\r",
      "Epoch 1/5:  42%|████▏     | 1332/3166 [4:55:19<6:47:00, 13.32s/it]"
     ]
    },
    {
     "name": "stderr",
     "output_type": "stream",
     "text": [
      "\r",
      "Epoch 1/5:  42%|████▏     | 1333/3166 [4:55:33<6:47:16, 13.33s/it]"
     ]
    },
    {
     "name": "stderr",
     "output_type": "stream",
     "text": [
      "\r",
      "Epoch 1/5:  42%|████▏     | 1334/3166 [4:55:46<6:47:21, 13.34s/it]"
     ]
    },
    {
     "name": "stderr",
     "output_type": "stream",
     "text": [
      "\r",
      "Epoch 1/5:  42%|████▏     | 1335/3166 [4:55:59<6:46:36, 13.32s/it]"
     ]
    },
    {
     "name": "stderr",
     "output_type": "stream",
     "text": [
      "\r",
      "Epoch 1/5:  42%|████▏     | 1336/3166 [4:56:13<6:46:35, 13.33s/it]"
     ]
    },
    {
     "name": "stderr",
     "output_type": "stream",
     "text": [
      "\r",
      "Epoch 1/5:  42%|████▏     | 1337/3166 [4:56:26<6:45:26, 13.30s/it]"
     ]
    },
    {
     "name": "stderr",
     "output_type": "stream",
     "text": [
      "\r",
      "Epoch 1/5:  42%|████▏     | 1338/3166 [4:56:39<6:45:09, 13.30s/it]"
     ]
    },
    {
     "name": "stderr",
     "output_type": "stream",
     "text": [
      "\r",
      "Epoch 1/5:  42%|████▏     | 1339/3166 [4:56:53<6:45:18, 13.31s/it]"
     ]
    },
    {
     "name": "stderr",
     "output_type": "stream",
     "text": [
      "\r",
      "Epoch 1/5:  42%|████▏     | 1340/3166 [4:57:06<6:44:39, 13.30s/it]"
     ]
    },
    {
     "name": "stderr",
     "output_type": "stream",
     "text": [
      "\r",
      "Epoch 1/5:  42%|████▏     | 1341/3166 [4:57:19<6:44:10, 13.29s/it]"
     ]
    },
    {
     "name": "stderr",
     "output_type": "stream",
     "text": [
      "\r",
      "Epoch 1/5:  42%|████▏     | 1342/3166 [4:57:32<6:44:33, 13.31s/it]"
     ]
    },
    {
     "name": "stderr",
     "output_type": "stream",
     "text": [
      "\r",
      "Epoch 1/5:  42%|████▏     | 1343/3166 [4:57:46<6:44:13, 13.30s/it]"
     ]
    },
    {
     "name": "stderr",
     "output_type": "stream",
     "text": [
      "\r",
      "Epoch 1/5:  42%|████▏     | 1344/3166 [4:57:59<6:43:57, 13.30s/it]"
     ]
    },
    {
     "name": "stderr",
     "output_type": "stream",
     "text": [
      "\r",
      "Epoch 1/5:  42%|████▏     | 1345/3166 [4:58:12<6:44:09, 13.32s/it]"
     ]
    },
    {
     "name": "stderr",
     "output_type": "stream",
     "text": [
      "\r",
      "Epoch 1/5:  43%|████▎     | 1346/3166 [4:58:26<6:43:42, 13.31s/it]"
     ]
    },
    {
     "name": "stderr",
     "output_type": "stream",
     "text": [
      "\r",
      "Epoch 1/5:  43%|████▎     | 1347/3166 [4:58:39<6:42:58, 13.29s/it]"
     ]
    },
    {
     "name": "stderr",
     "output_type": "stream",
     "text": [
      "\r",
      "Epoch 1/5:  43%|████▎     | 1348/3166 [4:58:52<6:43:10, 13.31s/it]"
     ]
    },
    {
     "name": "stderr",
     "output_type": "stream",
     "text": [
      "\r",
      "Epoch 1/5:  43%|████▎     | 1349/3166 [4:59:06<6:42:55, 13.31s/it]"
     ]
    },
    {
     "name": "stderr",
     "output_type": "stream",
     "text": [
      "\r",
      "Epoch 1/5:  43%|████▎     | 1350/3166 [4:59:19<6:42:38, 13.30s/it]"
     ]
    },
    {
     "name": "stderr",
     "output_type": "stream",
     "text": [
      "\r",
      "Epoch 1/5:  43%|████▎     | 1351/3166 [4:59:32<6:42:53, 13.32s/it]"
     ]
    },
    {
     "name": "stderr",
     "output_type": "stream",
     "text": [
      "\r",
      "Epoch 1/5:  43%|████▎     | 1352/3166 [4:59:46<6:42:40, 13.32s/it]"
     ]
    },
    {
     "name": "stderr",
     "output_type": "stream",
     "text": [
      "\r",
      "Epoch 1/5:  43%|████▎     | 1353/3166 [4:59:59<6:41:36, 13.29s/it]"
     ]
    },
    {
     "name": "stderr",
     "output_type": "stream",
     "text": [
      "\r",
      "Epoch 1/5:  43%|████▎     | 1354/3166 [5:00:12<6:41:44, 13.30s/it]"
     ]
    },
    {
     "name": "stderr",
     "output_type": "stream",
     "text": [
      "\r",
      "Epoch 1/5:  43%|████▎     | 1355/3166 [5:00:25<6:40:55, 13.28s/it]"
     ]
    },
    {
     "name": "stderr",
     "output_type": "stream",
     "text": [
      "\r",
      "Epoch 1/5:  43%|████▎     | 1356/3166 [5:00:39<6:40:18, 13.27s/it]"
     ]
    },
    {
     "name": "stderr",
     "output_type": "stream",
     "text": [
      "\r",
      "Epoch 1/5:  43%|████▎     | 1357/3166 [5:00:52<6:40:45, 13.29s/it]"
     ]
    },
    {
     "name": "stderr",
     "output_type": "stream",
     "text": [
      "\r",
      "Epoch 1/5:  43%|████▎     | 1358/3166 [5:01:05<6:40:20, 13.29s/it]"
     ]
    },
    {
     "name": "stderr",
     "output_type": "stream",
     "text": [
      "\r",
      "Epoch 1/5:  43%|████▎     | 1359/3166 [5:01:18<6:40:36, 13.30s/it]"
     ]
    },
    {
     "name": "stderr",
     "output_type": "stream",
     "text": [
      "\r",
      "Epoch 1/5:  43%|████▎     | 1360/3166 [5:01:32<6:41:00, 13.32s/it]"
     ]
    },
    {
     "name": "stderr",
     "output_type": "stream",
     "text": [
      "\r",
      "Epoch 1/5:  43%|████▎     | 1361/3166 [5:01:45<6:40:32, 13.31s/it]"
     ]
    },
    {
     "name": "stderr",
     "output_type": "stream",
     "text": [
      "\r",
      "Epoch 1/5:  43%|████▎     | 1362/3166 [5:01:58<6:40:14, 13.31s/it]"
     ]
    },
    {
     "name": "stderr",
     "output_type": "stream",
     "text": [
      "\r",
      "Epoch 1/5:  43%|████▎     | 1363/3166 [5:02:12<6:40:27, 13.33s/it]"
     ]
    },
    {
     "name": "stderr",
     "output_type": "stream",
     "text": [
      "\r",
      "Epoch 1/5:  43%|████▎     | 1364/3166 [5:02:25<6:40:21, 13.33s/it]"
     ]
    },
    {
     "name": "stderr",
     "output_type": "stream",
     "text": [
      "\r",
      "Epoch 1/5:  43%|████▎     | 1365/3166 [5:02:38<6:39:56, 13.32s/it]"
     ]
    },
    {
     "name": "stderr",
     "output_type": "stream",
     "text": [
      "\r",
      "Epoch 1/5:  43%|████▎     | 1366/3166 [5:02:52<6:39:56, 13.33s/it]"
     ]
    },
    {
     "name": "stderr",
     "output_type": "stream",
     "text": [
      "\r",
      "Epoch 1/5:  43%|████▎     | 1367/3166 [5:03:05<6:38:59, 13.31s/it]"
     ]
    },
    {
     "name": "stderr",
     "output_type": "stream",
     "text": [
      "\r",
      "Epoch 1/5:  43%|████▎     | 1368/3166 [5:03:18<6:38:56, 13.31s/it]"
     ]
    },
    {
     "name": "stderr",
     "output_type": "stream",
     "text": [
      "\r",
      "Epoch 1/5:  43%|████▎     | 1369/3166 [5:03:32<6:38:41, 13.31s/it]"
     ]
    },
    {
     "name": "stderr",
     "output_type": "stream",
     "text": [
      "\r",
      "Epoch 1/5:  43%|████▎     | 1370/3166 [5:03:45<6:38:19, 13.31s/it]"
     ]
    },
    {
     "name": "stderr",
     "output_type": "stream",
     "text": [
      "\r",
      "Epoch 1/5:  43%|████▎     | 1371/3166 [5:03:58<6:37:42, 13.29s/it]"
     ]
    },
    {
     "name": "stderr",
     "output_type": "stream",
     "text": [
      "\r",
      "Epoch 1/5:  43%|████▎     | 1372/3166 [5:04:12<6:38:08, 13.32s/it]"
     ]
    },
    {
     "name": "stderr",
     "output_type": "stream",
     "text": [
      "\r",
      "Epoch 1/5:  43%|████▎     | 1373/3166 [5:04:25<6:37:47, 13.31s/it]"
     ]
    },
    {
     "name": "stderr",
     "output_type": "stream",
     "text": [
      "\r",
      "Epoch 1/5:  43%|████▎     | 1374/3166 [5:04:38<6:37:28, 13.31s/it]"
     ]
    },
    {
     "name": "stderr",
     "output_type": "stream",
     "text": [
      "\r",
      "Epoch 1/5:  43%|████▎     | 1375/3166 [5:04:52<6:37:40, 13.32s/it]"
     ]
    },
    {
     "name": "stderr",
     "output_type": "stream",
     "text": [
      "\r",
      "Epoch 1/5:  43%|████▎     | 1376/3166 [5:05:05<6:37:34, 13.33s/it]"
     ]
    },
    {
     "name": "stderr",
     "output_type": "stream",
     "text": [
      "\r",
      "Epoch 1/5:  43%|████▎     | 1377/3166 [5:05:18<6:37:06, 13.32s/it]"
     ]
    },
    {
     "name": "stderr",
     "output_type": "stream",
     "text": [
      "\r",
      "Epoch 1/5:  44%|████▎     | 1378/3166 [5:05:32<6:37:26, 13.34s/it]"
     ]
    },
    {
     "name": "stderr",
     "output_type": "stream",
     "text": [
      "\r",
      "Epoch 1/5:  44%|████▎     | 1379/3166 [5:05:45<6:36:50, 13.32s/it]"
     ]
    },
    {
     "name": "stderr",
     "output_type": "stream",
     "text": [
      "\r",
      "Epoch 1/5:  44%|████▎     | 1380/3166 [5:05:58<6:36:38, 13.33s/it]"
     ]
    },
    {
     "name": "stderr",
     "output_type": "stream",
     "text": [
      "\r",
      "Epoch 1/5:  44%|████▎     | 1381/3166 [5:06:12<6:36:16, 13.32s/it]"
     ]
    },
    {
     "name": "stderr",
     "output_type": "stream",
     "text": [
      "\r",
      "Epoch 1/5:  44%|████▎     | 1382/3166 [5:06:25<6:35:42, 13.31s/it]"
     ]
    },
    {
     "name": "stderr",
     "output_type": "stream",
     "text": [
      "\r",
      "Epoch 1/5:  44%|████▎     | 1383/3166 [5:06:38<6:35:16, 13.30s/it]"
     ]
    },
    {
     "name": "stderr",
     "output_type": "stream",
     "text": [
      "\r",
      "Epoch 1/5:  44%|████▎     | 1384/3166 [5:06:51<6:35:30, 13.32s/it]"
     ]
    },
    {
     "name": "stderr",
     "output_type": "stream",
     "text": [
      "\r",
      "Epoch 1/5:  44%|████▎     | 1385/3166 [5:07:05<6:35:40, 13.33s/it]"
     ]
    },
    {
     "name": "stderr",
     "output_type": "stream",
     "text": [
      "\r",
      "Epoch 1/5:  44%|████▍     | 1386/3166 [5:07:18<6:35:01, 13.32s/it]"
     ]
    },
    {
     "name": "stderr",
     "output_type": "stream",
     "text": [
      "\r",
      "Epoch 1/5:  44%|████▍     | 1387/3166 [5:07:31<6:35:27, 13.34s/it]"
     ]
    },
    {
     "name": "stderr",
     "output_type": "stream",
     "text": [
      "\r",
      "Epoch 1/5:  44%|████▍     | 1388/3166 [5:07:45<6:35:06, 13.33s/it]"
     ]
    },
    {
     "name": "stderr",
     "output_type": "stream",
     "text": [
      "\r",
      "Epoch 1/5:  44%|████▍     | 1389/3166 [5:07:58<6:34:15, 13.31s/it]"
     ]
    },
    {
     "name": "stderr",
     "output_type": "stream",
     "text": [
      "\r",
      "Epoch 1/5:  44%|████▍     | 1390/3166 [5:08:11<6:34:33, 13.33s/it]"
     ]
    },
    {
     "name": "stderr",
     "output_type": "stream",
     "text": [
      "\r",
      "Epoch 1/5:  44%|████▍     | 1391/3166 [5:08:25<6:33:18, 13.29s/it]"
     ]
    },
    {
     "name": "stderr",
     "output_type": "stream",
     "text": [
      "\r",
      "Epoch 1/5:  44%|████▍     | 1392/3166 [5:08:38<6:33:07, 13.30s/it]"
     ]
    },
    {
     "name": "stderr",
     "output_type": "stream",
     "text": [
      "\r",
      "Epoch 1/5:  44%|████▍     | 1393/3166 [5:08:51<6:33:20, 13.31s/it]"
     ]
    },
    {
     "name": "stderr",
     "output_type": "stream",
     "text": [
      "\r",
      "Epoch 1/5:  44%|████▍     | 1394/3166 [5:09:05<6:33:25, 13.32s/it]"
     ]
    },
    {
     "name": "stderr",
     "output_type": "stream",
     "text": [
      "\r",
      "Epoch 1/5:  44%|████▍     | 1395/3166 [5:09:18<6:32:31, 13.30s/it]"
     ]
    },
    {
     "name": "stderr",
     "output_type": "stream",
     "text": [
      "\r",
      "Epoch 1/5:  44%|████▍     | 1396/3166 [5:09:31<6:32:48, 13.32s/it]"
     ]
    },
    {
     "name": "stderr",
     "output_type": "stream",
     "text": [
      "\r",
      "Epoch 1/5:  44%|████▍     | 1397/3166 [5:09:45<6:32:07, 13.30s/it]"
     ]
    },
    {
     "name": "stderr",
     "output_type": "stream",
     "text": [
      "\r",
      "Epoch 1/5:  44%|████▍     | 1398/3166 [5:09:58<6:31:59, 13.30s/it]"
     ]
    },
    {
     "name": "stderr",
     "output_type": "stream",
     "text": [
      "\r",
      "Epoch 1/5:  44%|████▍     | 1399/3166 [5:10:11<6:31:28, 13.29s/it]"
     ]
    },
    {
     "name": "stderr",
     "output_type": "stream",
     "text": [
      "\r",
      "Epoch 1/5:  44%|████▍     | 1400/3166 [5:10:24<6:31:27, 13.30s/it]"
     ]
    },
    {
     "name": "stderr",
     "output_type": "stream",
     "text": [
      "\r",
      "Epoch 1/5:  44%|████▍     | 1401/3166 [5:10:38<6:31:27, 13.31s/it]"
     ]
    },
    {
     "name": "stderr",
     "output_type": "stream",
     "text": [
      "\r",
      "Epoch 1/5:  44%|████▍     | 1402/3166 [5:10:51<6:31:42, 13.32s/it]"
     ]
    },
    {
     "name": "stderr",
     "output_type": "stream",
     "text": [
      "\r",
      "Epoch 1/5:  44%|████▍     | 1403/3166 [5:11:04<6:31:00, 13.31s/it]"
     ]
    },
    {
     "name": "stderr",
     "output_type": "stream",
     "text": [
      "\r",
      "Epoch 1/5:  44%|████▍     | 1404/3166 [5:11:18<6:30:32, 13.30s/it]"
     ]
    },
    {
     "name": "stderr",
     "output_type": "stream",
     "text": [
      "\r",
      "Epoch 1/5:  44%|████▍     | 1405/3166 [5:11:31<6:30:32, 13.31s/it]"
     ]
    },
    {
     "name": "stderr",
     "output_type": "stream",
     "text": [
      "\r",
      "Epoch 1/5:  44%|████▍     | 1406/3166 [5:11:44<6:30:33, 13.31s/it]"
     ]
    },
    {
     "name": "stderr",
     "output_type": "stream",
     "text": [
      "\r",
      "Epoch 1/5:  44%|████▍     | 1407/3166 [5:11:58<6:29:57, 13.30s/it]"
     ]
    },
    {
     "name": "stderr",
     "output_type": "stream",
     "text": [
      "\r",
      "Epoch 1/5:  44%|████▍     | 1408/3166 [5:12:11<6:29:35, 13.30s/it]"
     ]
    },
    {
     "name": "stderr",
     "output_type": "stream",
     "text": [
      "\r",
      "Epoch 1/5:  45%|████▍     | 1409/3166 [5:12:24<6:28:30, 13.27s/it]"
     ]
    },
    {
     "name": "stderr",
     "output_type": "stream",
     "text": [
      "\r",
      "Epoch 1/5:  45%|████▍     | 1410/3166 [5:12:37<6:28:18, 13.27s/it]"
     ]
    },
    {
     "name": "stderr",
     "output_type": "stream",
     "text": [
      "\r",
      "Epoch 1/5:  45%|████▍     | 1411/3166 [5:12:51<6:29:17, 13.31s/it]"
     ]
    },
    {
     "name": "stderr",
     "output_type": "stream",
     "text": [
      "\r",
      "Epoch 1/5:  45%|████▍     | 1412/3166 [5:13:04<6:29:10, 13.31s/it]"
     ]
    },
    {
     "name": "stderr",
     "output_type": "stream",
     "text": [
      "\r",
      "Epoch 1/5:  45%|████▍     | 1413/3166 [5:13:17<6:29:00, 13.31s/it]"
     ]
    },
    {
     "name": "stderr",
     "output_type": "stream",
     "text": [
      "\r",
      "Epoch 1/5:  45%|████▍     | 1414/3166 [5:13:31<6:29:25, 13.34s/it]"
     ]
    },
    {
     "name": "stderr",
     "output_type": "stream",
     "text": [
      "\r",
      "Epoch 1/5:  45%|████▍     | 1415/3166 [5:13:44<6:28:39, 13.32s/it]"
     ]
    },
    {
     "name": "stderr",
     "output_type": "stream",
     "text": [
      "\r",
      "Epoch 1/5:  45%|████▍     | 1416/3166 [5:13:57<6:28:15, 13.31s/it]"
     ]
    },
    {
     "name": "stderr",
     "output_type": "stream",
     "text": [
      "\r",
      "Epoch 1/5:  45%|████▍     | 1417/3166 [5:14:11<6:28:19, 13.32s/it]"
     ]
    },
    {
     "name": "stderr",
     "output_type": "stream",
     "text": [
      "\r",
      "Epoch 1/5:  45%|████▍     | 1418/3166 [5:14:24<6:27:30, 13.30s/it]"
     ]
    },
    {
     "name": "stderr",
     "output_type": "stream",
     "text": [
      "\r",
      "Epoch 1/5:  45%|████▍     | 1419/3166 [5:14:37<6:27:16, 13.30s/it]"
     ]
    },
    {
     "name": "stderr",
     "output_type": "stream",
     "text": [
      "\r",
      "Epoch 1/5:  45%|████▍     | 1420/3166 [5:14:51<6:27:42, 13.32s/it]"
     ]
    },
    {
     "name": "stderr",
     "output_type": "stream",
     "text": [
      "\r",
      "Epoch 1/5:  45%|████▍     | 1421/3166 [5:15:04<6:26:51, 13.30s/it]"
     ]
    },
    {
     "name": "stderr",
     "output_type": "stream",
     "text": [
      "\r",
      "Epoch 1/5:  45%|████▍     | 1422/3166 [5:15:17<6:26:45, 13.31s/it]"
     ]
    },
    {
     "name": "stderr",
     "output_type": "stream",
     "text": [
      "\r",
      "Epoch 1/5:  45%|████▍     | 1423/3166 [5:15:31<6:27:04, 13.32s/it]"
     ]
    },
    {
     "name": "stderr",
     "output_type": "stream",
     "text": [
      "\r",
      "Epoch 1/5:  45%|████▍     | 1424/3166 [5:15:44<6:26:35, 13.32s/it]"
     ]
    },
    {
     "name": "stderr",
     "output_type": "stream",
     "text": [
      "\r",
      "Epoch 1/5:  45%|████▌     | 1425/3166 [5:15:57<6:26:10, 13.31s/it]"
     ]
    },
    {
     "name": "stderr",
     "output_type": "stream",
     "text": [
      "\r",
      "Epoch 1/5:  45%|████▌     | 1426/3166 [5:16:10<6:26:25, 13.32s/it]"
     ]
    },
    {
     "name": "stderr",
     "output_type": "stream",
     "text": [
      "\r",
      "Epoch 1/5:  45%|████▌     | 1427/3166 [5:16:24<6:25:57, 13.32s/it]"
     ]
    },
    {
     "name": "stderr",
     "output_type": "stream",
     "text": [
      "\r",
      "Epoch 1/5:  45%|████▌     | 1428/3166 [5:16:37<6:25:18, 13.30s/it]"
     ]
    },
    {
     "name": "stderr",
     "output_type": "stream",
     "text": [
      "\r",
      "Epoch 1/5:  45%|████▌     | 1429/3166 [5:16:50<6:24:48, 13.29s/it]"
     ]
    },
    {
     "name": "stderr",
     "output_type": "stream",
     "text": [
      "\r",
      "Epoch 1/5:  45%|████▌     | 1430/3166 [5:17:04<6:24:32, 13.29s/it]"
     ]
    },
    {
     "name": "stderr",
     "output_type": "stream",
     "text": [
      "\r",
      "Epoch 1/5:  45%|████▌     | 1431/3166 [5:17:17<6:24:20, 13.29s/it]"
     ]
    },
    {
     "name": "stderr",
     "output_type": "stream",
     "text": [
      "\r",
      "Epoch 1/5:  45%|████▌     | 1432/3166 [5:17:30<6:24:18, 13.30s/it]"
     ]
    },
    {
     "name": "stderr",
     "output_type": "stream",
     "text": [
      "\r",
      "Epoch 1/5:  45%|████▌     | 1433/3166 [5:17:43<6:23:37, 13.28s/it]"
     ]
    },
    {
     "name": "stderr",
     "output_type": "stream",
     "text": [
      "\r",
      "Epoch 1/5:  45%|████▌     | 1434/3166 [5:17:57<6:23:09, 13.27s/it]"
     ]
    },
    {
     "name": "stderr",
     "output_type": "stream",
     "text": [
      "\r",
      "Epoch 1/5:  45%|████▌     | 1435/3166 [5:18:10<6:23:35, 13.30s/it]"
     ]
    },
    {
     "name": "stderr",
     "output_type": "stream",
     "text": [
      "\r",
      "Epoch 1/5:  45%|████▌     | 1436/3166 [5:18:23<6:23:31, 13.30s/it]"
     ]
    },
    {
     "name": "stderr",
     "output_type": "stream",
     "text": [
      "\r",
      "Epoch 1/5:  45%|████▌     | 1437/3166 [5:18:37<6:23:03, 13.29s/it]"
     ]
    },
    {
     "name": "stderr",
     "output_type": "stream",
     "text": [
      "\r",
      "Epoch 1/5:  45%|████▌     | 1438/3166 [5:18:50<6:22:55, 13.30s/it]"
     ]
    },
    {
     "name": "stderr",
     "output_type": "stream",
     "text": [
      "\r",
      "Epoch 1/5:  45%|████▌     | 1439/3166 [5:19:03<6:22:33, 13.29s/it]"
     ]
    },
    {
     "name": "stderr",
     "output_type": "stream",
     "text": [
      "\r",
      "Epoch 1/5:  45%|████▌     | 1440/3166 [5:19:17<6:22:22, 13.29s/it]"
     ]
    },
    {
     "name": "stderr",
     "output_type": "stream",
     "text": [
      "\r",
      "Epoch 1/5:  46%|████▌     | 1441/3166 [5:19:30<6:22:25, 13.30s/it]"
     ]
    },
    {
     "name": "stderr",
     "output_type": "stream",
     "text": [
      "\r",
      "Epoch 1/5:  46%|████▌     | 1442/3166 [5:19:43<6:22:15, 13.30s/it]"
     ]
    },
    {
     "name": "stderr",
     "output_type": "stream",
     "text": [
      "\r",
      "Epoch 1/5:  46%|████▌     | 1443/3166 [5:19:56<6:21:47, 13.30s/it]"
     ]
    },
    {
     "name": "stderr",
     "output_type": "stream",
     "text": [
      "\r",
      "Epoch 1/5:  46%|████▌     | 1444/3166 [5:20:10<6:21:51, 13.31s/it]"
     ]
    },
    {
     "name": "stderr",
     "output_type": "stream",
     "text": [
      "\r",
      "Epoch 1/5:  46%|████▌     | 1445/3166 [5:20:23<6:21:55, 13.32s/it]"
     ]
    },
    {
     "name": "stderr",
     "output_type": "stream",
     "text": [
      "\r",
      "Epoch 1/5:  46%|████▌     | 1446/3166 [5:20:36<6:21:11, 13.30s/it]"
     ]
    },
    {
     "name": "stderr",
     "output_type": "stream",
     "text": [
      "\r",
      "Epoch 1/5:  46%|████▌     | 1447/3166 [5:20:50<6:21:07, 13.30s/it]"
     ]
    },
    {
     "name": "stderr",
     "output_type": "stream",
     "text": [
      "\r",
      "Epoch 1/5:  46%|████▌     | 1448/3166 [5:21:03<6:20:36, 13.29s/it]"
     ]
    },
    {
     "name": "stderr",
     "output_type": "stream",
     "text": [
      "\r",
      "Epoch 1/5:  46%|████▌     | 1449/3166 [5:21:16<6:20:22, 13.29s/it]"
     ]
    },
    {
     "name": "stderr",
     "output_type": "stream",
     "text": [
      "\r",
      "Epoch 1/5:  46%|████▌     | 1450/3166 [5:21:30<6:20:14, 13.29s/it]"
     ]
    },
    {
     "name": "stderr",
     "output_type": "stream",
     "text": [
      "\r",
      "Epoch 1/5:  46%|████▌     | 1451/3166 [5:21:43<6:20:08, 13.30s/it]"
     ]
    },
    {
     "name": "stderr",
     "output_type": "stream",
     "text": [
      "\r",
      "Epoch 1/5:  46%|████▌     | 1452/3166 [5:21:56<6:20:25, 13.32s/it]"
     ]
    },
    {
     "name": "stderr",
     "output_type": "stream",
     "text": [
      "\r",
      "Epoch 1/5:  46%|████▌     | 1453/3166 [5:22:10<6:20:07, 13.31s/it]"
     ]
    },
    {
     "name": "stderr",
     "output_type": "stream",
     "text": [
      "\r",
      "Epoch 1/5:  46%|████▌     | 1454/3166 [5:22:23<6:20:21, 13.33s/it]"
     ]
    },
    {
     "name": "stderr",
     "output_type": "stream",
     "text": [
      "\r",
      "Epoch 1/5:  46%|████▌     | 1455/3166 [5:22:36<6:20:11, 13.33s/it]"
     ]
    },
    {
     "name": "stderr",
     "output_type": "stream",
     "text": [
      "\r",
      "Epoch 1/5:  46%|████▌     | 1456/3166 [5:22:50<6:20:09, 13.34s/it]"
     ]
    },
    {
     "name": "stderr",
     "output_type": "stream",
     "text": [
      "\r",
      "Epoch 1/5:  46%|████▌     | 1457/3166 [5:23:03<6:19:17, 13.32s/it]"
     ]
    },
    {
     "name": "stderr",
     "output_type": "stream",
     "text": [
      "\r",
      "Epoch 1/5:  46%|████▌     | 1458/3166 [5:23:16<6:19:00, 13.31s/it]"
     ]
    },
    {
     "name": "stderr",
     "output_type": "stream",
     "text": [
      "\r",
      "Epoch 1/5:  46%|████▌     | 1459/3166 [5:23:29<6:19:06, 13.33s/it]"
     ]
    },
    {
     "name": "stderr",
     "output_type": "stream",
     "text": [
      "\r",
      "Epoch 1/5:  46%|████▌     | 1460/3166 [5:23:43<6:19:05, 13.33s/it]"
     ]
    },
    {
     "name": "stderr",
     "output_type": "stream",
     "text": [
      "\r",
      "Epoch 1/5:  46%|████▌     | 1461/3166 [5:23:56<6:18:32, 13.32s/it]"
     ]
    },
    {
     "name": "stderr",
     "output_type": "stream",
     "text": [
      "\r",
      "Epoch 1/5:  46%|████▌     | 1462/3166 [5:24:10<6:18:48, 13.34s/it]"
     ]
    },
    {
     "name": "stderr",
     "output_type": "stream",
     "text": [
      "\r",
      "Epoch 1/5:  46%|████▌     | 1463/3166 [5:24:23<6:18:15, 13.33s/it]"
     ]
    },
    {
     "name": "stderr",
     "output_type": "stream",
     "text": [
      "\r",
      "Epoch 1/5:  46%|████▌     | 1464/3166 [5:24:36<6:18:12, 13.33s/it]"
     ]
    },
    {
     "name": "stderr",
     "output_type": "stream",
     "text": [
      "\r",
      "Epoch 1/5:  46%|████▋     | 1465/3166 [5:24:49<6:17:56, 13.33s/it]"
     ]
    },
    {
     "name": "stderr",
     "output_type": "stream",
     "text": [
      "\r",
      "Epoch 1/5:  46%|████▋     | 1466/3166 [5:25:03<6:17:25, 13.32s/it]"
     ]
    },
    {
     "name": "stderr",
     "output_type": "stream",
     "text": [
      "\r",
      "Epoch 1/5:  46%|████▋     | 1467/3166 [5:25:16<6:16:57, 13.31s/it]"
     ]
    },
    {
     "name": "stderr",
     "output_type": "stream",
     "text": [
      "\r",
      "Epoch 1/5:  46%|████▋     | 1468/3166 [5:25:29<6:16:59, 13.32s/it]"
     ]
    },
    {
     "name": "stderr",
     "output_type": "stream",
     "text": [
      "\r",
      "Epoch 1/5:  46%|████▋     | 1469/3166 [5:25:43<6:16:46, 13.32s/it]"
     ]
    },
    {
     "name": "stderr",
     "output_type": "stream",
     "text": [
      "\r",
      "Epoch 1/5:  46%|████▋     | 1470/3166 [5:25:56<6:16:19, 13.31s/it]"
     ]
    },
    {
     "name": "stderr",
     "output_type": "stream",
     "text": [
      "\r",
      "Epoch 1/5:  46%|████▋     | 1471/3166 [5:26:09<6:16:19, 13.32s/it]"
     ]
    },
    {
     "name": "stderr",
     "output_type": "stream",
     "text": [
      "\r",
      "Epoch 1/5:  46%|████▋     | 1472/3166 [5:26:23<6:15:37, 13.30s/it]"
     ]
    },
    {
     "name": "stderr",
     "output_type": "stream",
     "text": [
      "\r",
      "Epoch 1/5:  47%|████▋     | 1473/3166 [5:26:36<6:15:10, 13.30s/it]"
     ]
    },
    {
     "name": "stderr",
     "output_type": "stream",
     "text": [
      "\r",
      "Epoch 1/5:  47%|████▋     | 1474/3166 [5:26:49<6:14:40, 13.29s/it]"
     ]
    },
    {
     "name": "stderr",
     "output_type": "stream",
     "text": [
      "\r",
      "Epoch 1/5:  47%|████▋     | 1475/3166 [5:27:02<6:14:25, 13.29s/it]"
     ]
    },
    {
     "name": "stderr",
     "output_type": "stream",
     "text": [
      "\r",
      "Epoch 1/5:  47%|████▋     | 1476/3166 [5:27:16<6:14:19, 13.29s/it]"
     ]
    },
    {
     "name": "stderr",
     "output_type": "stream",
     "text": [
      "\r",
      "Epoch 1/5:  47%|████▋     | 1477/3166 [5:27:29<6:14:36, 13.31s/it]"
     ]
    },
    {
     "name": "stderr",
     "output_type": "stream",
     "text": [
      "\r",
      "Epoch 1/5:  47%|████▋     | 1478/3166 [5:27:42<6:14:31, 13.31s/it]"
     ]
    },
    {
     "name": "stderr",
     "output_type": "stream",
     "text": [
      "\r",
      "Epoch 1/5:  47%|████▋     | 1479/3166 [5:27:56<6:14:39, 13.33s/it]"
     ]
    },
    {
     "name": "stderr",
     "output_type": "stream",
     "text": [
      "\r",
      "Epoch 1/5:  47%|████▋     | 1480/3166 [5:28:09<6:14:42, 13.33s/it]"
     ]
    },
    {
     "name": "stderr",
     "output_type": "stream",
     "text": [
      "\r",
      "Epoch 1/5:  47%|████▋     | 1481/3166 [5:28:22<6:14:32, 13.34s/it]"
     ]
    },
    {
     "name": "stderr",
     "output_type": "stream",
     "text": [
      "\r",
      "Epoch 1/5:  47%|████▋     | 1482/3166 [5:28:36<6:13:41, 13.31s/it]"
     ]
    },
    {
     "name": "stderr",
     "output_type": "stream",
     "text": [
      "\r",
      "Epoch 1/5:  47%|████▋     | 1483/3166 [5:28:49<6:13:53, 13.33s/it]"
     ]
    },
    {
     "name": "stderr",
     "output_type": "stream",
     "text": [
      "\r",
      "Epoch 1/5:  47%|████▋     | 1484/3166 [5:29:02<6:13:04, 13.31s/it]"
     ]
    },
    {
     "name": "stderr",
     "output_type": "stream",
     "text": [
      "\r",
      "Epoch 1/5:  47%|████▋     | 1485/3166 [5:29:16<6:12:31, 13.30s/it]"
     ]
    },
    {
     "name": "stderr",
     "output_type": "stream",
     "text": [
      "\r",
      "Epoch 1/5:  47%|████▋     | 1486/3166 [5:29:29<6:12:34, 13.31s/it]"
     ]
    },
    {
     "name": "stderr",
     "output_type": "stream",
     "text": [
      "\r",
      "Epoch 1/5:  47%|████▋     | 1487/3166 [5:29:42<6:12:08, 13.30s/it]"
     ]
    },
    {
     "name": "stderr",
     "output_type": "stream",
     "text": [
      "\r",
      "Epoch 1/5:  47%|████▋     | 1488/3166 [5:29:56<6:11:47, 13.29s/it]"
     ]
    },
    {
     "name": "stderr",
     "output_type": "stream",
     "text": [
      "\r",
      "Epoch 1/5:  47%|████▋     | 1489/3166 [5:30:09<6:11:54, 13.31s/it]"
     ]
    },
    {
     "name": "stderr",
     "output_type": "stream",
     "text": [
      "\r",
      "Epoch 1/5:  47%|████▋     | 1490/3166 [5:30:22<6:11:31, 13.30s/it]"
     ]
    },
    {
     "name": "stderr",
     "output_type": "stream",
     "text": [
      "\r",
      "Epoch 1/5:  47%|████▋     | 1491/3166 [5:30:35<6:11:02, 13.29s/it]"
     ]
    },
    {
     "name": "stderr",
     "output_type": "stream",
     "text": [
      "\r",
      "Epoch 1/5:  47%|████▋     | 1492/3166 [5:30:49<6:11:10, 13.30s/it]"
     ]
    },
    {
     "name": "stderr",
     "output_type": "stream",
     "text": [
      "\r",
      "Epoch 1/5:  47%|████▋     | 1493/3166 [5:31:02<6:10:20, 13.28s/it]"
     ]
    },
    {
     "name": "stderr",
     "output_type": "stream",
     "text": [
      "\r",
      "Epoch 1/5:  47%|████▋     | 1494/3166 [5:31:15<6:10:14, 13.29s/it]"
     ]
    },
    {
     "name": "stderr",
     "output_type": "stream",
     "text": [
      "\r",
      "Epoch 1/5:  47%|████▋     | 1495/3166 [5:31:29<6:10:27, 13.30s/it]"
     ]
    },
    {
     "name": "stderr",
     "output_type": "stream",
     "text": [
      "\r",
      "Epoch 1/5:  47%|████▋     | 1496/3166 [5:31:42<6:09:47, 13.29s/it]"
     ]
    },
    {
     "name": "stderr",
     "output_type": "stream",
     "text": [
      "\r",
      "Epoch 1/5:  47%|████▋     | 1497/3166 [5:31:55<6:09:52, 13.30s/it]"
     ]
    },
    {
     "name": "stderr",
     "output_type": "stream",
     "text": [
      "\r",
      "Epoch 1/5:  47%|████▋     | 1498/3166 [5:32:09<6:10:27, 13.33s/it]"
     ]
    },
    {
     "name": "stderr",
     "output_type": "stream",
     "text": [
      "\r",
      "Epoch 1/5:  47%|████▋     | 1499/3166 [5:32:22<6:09:45, 13.31s/it]"
     ]
    },
    {
     "name": "stderr",
     "output_type": "stream",
     "text": [
      "\r",
      "Epoch 1/5:  47%|████▋     | 1500/3166 [5:32:35<6:09:11, 13.30s/it]"
     ]
    },
    {
     "name": "stderr",
     "output_type": "stream",
     "text": [
      "\r",
      "Epoch 1/5:  47%|████▋     | 1501/3166 [5:32:49<6:09:44, 13.32s/it]"
     ]
    },
    {
     "name": "stderr",
     "output_type": "stream",
     "text": [
      "\r",
      "Epoch 1/5:  47%|████▋     | 1502/3166 [5:33:02<6:09:36, 13.33s/it]"
     ]
    },
    {
     "name": "stderr",
     "output_type": "stream",
     "text": [
      "\r",
      "Epoch 1/5:  47%|████▋     | 1503/3166 [5:33:15<6:09:18, 13.32s/it]"
     ]
    },
    {
     "name": "stderr",
     "output_type": "stream",
     "text": [
      "\r",
      "Epoch 1/5:  48%|████▊     | 1504/3166 [5:33:28<6:08:53, 13.32s/it]"
     ]
    },
    {
     "name": "stderr",
     "output_type": "stream",
     "text": [
      "\r",
      "Epoch 1/5:  48%|████▊     | 1505/3166 [5:33:42<6:08:25, 13.31s/it]"
     ]
    },
    {
     "name": "stderr",
     "output_type": "stream",
     "text": [
      "\r",
      "Epoch 1/5:  48%|████▊     | 1506/3166 [5:33:55<6:08:10, 13.31s/it]"
     ]
    },
    {
     "name": "stderr",
     "output_type": "stream",
     "text": [
      "\r",
      "Epoch 1/5:  48%|████▊     | 1507/3166 [5:34:08<6:08:21, 13.32s/it]"
     ]
    },
    {
     "name": "stderr",
     "output_type": "stream",
     "text": [
      "\r",
      "Epoch 1/5:  48%|████▊     | 1508/3166 [5:34:22<6:07:37, 13.30s/it]"
     ]
    },
    {
     "name": "stderr",
     "output_type": "stream",
     "text": [
      "\r",
      "Epoch 1/5:  48%|████▊     | 1509/3166 [5:34:35<6:06:51, 13.28s/it]"
     ]
    },
    {
     "name": "stderr",
     "output_type": "stream",
     "text": [
      "\r",
      "Epoch 1/5:  48%|████▊     | 1510/3166 [5:34:48<6:07:15, 13.31s/it]"
     ]
    },
    {
     "name": "stderr",
     "output_type": "stream",
     "text": [
      "\r",
      "Epoch 1/5:  48%|████▊     | 1511/3166 [5:35:02<6:06:43, 13.29s/it]"
     ]
    },
    {
     "name": "stderr",
     "output_type": "stream",
     "text": [
      "\r",
      "Epoch 1/5:  48%|████▊     | 1512/3166 [5:35:15<6:06:19, 13.29s/it]"
     ]
    },
    {
     "name": "stderr",
     "output_type": "stream",
     "text": [
      "\r",
      "Epoch 1/5:  48%|████▊     | 1513/3166 [5:35:28<6:06:17, 13.30s/it]"
     ]
    },
    {
     "name": "stderr",
     "output_type": "stream",
     "text": [
      "\r",
      "Epoch 1/5:  48%|████▊     | 1514/3166 [5:35:41<6:06:01, 13.29s/it]"
     ]
    },
    {
     "name": "stderr",
     "output_type": "stream",
     "text": [
      "\r",
      "Epoch 1/5:  48%|████▊     | 1515/3166 [5:35:55<6:05:24, 13.28s/it]"
     ]
    },
    {
     "name": "stderr",
     "output_type": "stream",
     "text": [
      "\r",
      "Epoch 1/5:  48%|████▊     | 1516/3166 [5:36:08<6:05:42, 13.30s/it]"
     ]
    },
    {
     "name": "stderr",
     "output_type": "stream",
     "text": [
      "\r",
      "Epoch 1/5:  48%|████▊     | 1517/3166 [5:36:21<6:05:42, 13.31s/it]"
     ]
    },
    {
     "name": "stderr",
     "output_type": "stream",
     "text": [
      "\r",
      "Epoch 1/5:  48%|████▊     | 1518/3166 [5:36:35<6:05:28, 13.31s/it]"
     ]
    },
    {
     "name": "stderr",
     "output_type": "stream",
     "text": [
      "\r",
      "Epoch 1/5:  48%|████▊     | 1519/3166 [5:36:48<6:05:43, 13.32s/it]"
     ]
    },
    {
     "name": "stderr",
     "output_type": "stream",
     "text": [
      "\r",
      "Epoch 1/5:  48%|████▊     | 1520/3166 [5:37:01<6:05:36, 13.33s/it]"
     ]
    },
    {
     "name": "stderr",
     "output_type": "stream",
     "text": [
      "\r",
      "Epoch 1/5:  48%|████▊     | 1521/3166 [5:37:15<6:04:58, 13.31s/it]"
     ]
    },
    {
     "name": "stderr",
     "output_type": "stream",
     "text": [
      "\r",
      "Epoch 1/5:  48%|████▊     | 1522/3166 [5:37:28<6:04:55, 13.32s/it]"
     ]
    },
    {
     "name": "stderr",
     "output_type": "stream",
     "text": [
      "\r",
      "Epoch 1/5:  48%|████▊     | 1523/3166 [5:37:41<6:04:38, 13.32s/it]"
     ]
    },
    {
     "name": "stderr",
     "output_type": "stream",
     "text": [
      "\r",
      "Epoch 1/5:  48%|████▊     | 1524/3166 [5:37:55<6:04:01, 13.30s/it]"
     ]
    },
    {
     "name": "stderr",
     "output_type": "stream",
     "text": [
      "\r",
      "Epoch 1/5:  48%|████▊     | 1525/3166 [5:38:08<6:04:21, 13.32s/it]"
     ]
    },
    {
     "name": "stderr",
     "output_type": "stream",
     "text": [
      "\r",
      "Epoch 1/5:  48%|████▊     | 1526/3166 [5:38:21<6:04:07, 13.32s/it]"
     ]
    },
    {
     "name": "stderr",
     "output_type": "stream",
     "text": [
      "\r",
      "Epoch 1/5:  48%|████▊     | 1527/3166 [5:38:34<6:03:31, 13.31s/it]"
     ]
    },
    {
     "name": "stderr",
     "output_type": "stream",
     "text": [
      "\r",
      "Epoch 1/5:  48%|████▊     | 1528/3166 [5:38:48<6:04:02, 13.33s/it]"
     ]
    },
    {
     "name": "stderr",
     "output_type": "stream",
     "text": [
      "\r",
      "Epoch 1/5:  48%|████▊     | 1529/3166 [5:39:01<6:03:26, 13.32s/it]"
     ]
    },
    {
     "name": "stderr",
     "output_type": "stream",
     "text": [
      "\r",
      "Epoch 1/5:  48%|████▊     | 1530/3166 [5:39:15<6:03:16, 13.32s/it]"
     ]
    },
    {
     "name": "stderr",
     "output_type": "stream",
     "text": [
      "\r",
      "Epoch 1/5:  48%|████▊     | 1531/3166 [5:39:28<6:03:21, 13.33s/it]"
     ]
    },
    {
     "name": "stderr",
     "output_type": "stream",
     "text": [
      "\r",
      "Epoch 1/5:  48%|████▊     | 1532/3166 [5:39:41<6:02:34, 13.31s/it]"
     ]
    },
    {
     "name": "stderr",
     "output_type": "stream",
     "text": [
      "\r",
      "Epoch 1/5:  48%|████▊     | 1533/3166 [5:39:54<6:02:41, 13.33s/it]"
     ]
    },
    {
     "name": "stderr",
     "output_type": "stream",
     "text": [
      "\r",
      "Epoch 1/5:  48%|████▊     | 1534/3166 [5:40:08<6:03:07, 13.35s/it]"
     ]
    },
    {
     "name": "stderr",
     "output_type": "stream",
     "text": [
      "\r",
      "Epoch 1/5:  48%|████▊     | 1535/3166 [5:40:21<6:02:30, 13.34s/it]"
     ]
    },
    {
     "name": "stderr",
     "output_type": "stream",
     "text": [
      "\r",
      "Epoch 1/5:  49%|████▊     | 1536/3166 [5:40:34<6:01:56, 13.32s/it]"
     ]
    },
    {
     "name": "stderr",
     "output_type": "stream",
     "text": [
      "\r",
      "Epoch 1/5:  49%|████▊     | 1537/3166 [5:40:48<6:02:00, 13.33s/it]"
     ]
    },
    {
     "name": "stderr",
     "output_type": "stream",
     "text": [
      "\r",
      "Epoch 1/5:  49%|████▊     | 1538/3166 [5:41:01<6:01:28, 13.32s/it]"
     ]
    },
    {
     "name": "stderr",
     "output_type": "stream",
     "text": [
      "\r",
      "Epoch 1/5:  49%|████▊     | 1539/3166 [5:41:14<6:01:26, 13.33s/it]"
     ]
    },
    {
     "name": "stderr",
     "output_type": "stream",
     "text": [
      "\r",
      "Epoch 1/5:  49%|████▊     | 1540/3166 [5:41:28<6:01:26, 13.34s/it]"
     ]
    },
    {
     "name": "stderr",
     "output_type": "stream",
     "text": [
      "\r",
      "Epoch 1/5:  49%|████▊     | 1541/3166 [5:41:41<6:01:17, 13.34s/it]"
     ]
    },
    {
     "name": "stderr",
     "output_type": "stream",
     "text": [
      "\r",
      "Epoch 1/5:  49%|████▊     | 1542/3166 [5:41:55<6:00:50, 13.33s/it]"
     ]
    },
    {
     "name": "stderr",
     "output_type": "stream",
     "text": [
      "\r",
      "Epoch 1/5:  49%|████▊     | 1543/3166 [5:42:08<6:01:38, 13.37s/it]"
     ]
    },
    {
     "name": "stderr",
     "output_type": "stream",
     "text": [
      "\r",
      "Epoch 1/5:  49%|████▉     | 1544/3166 [5:42:21<6:00:56, 13.35s/it]"
     ]
    },
    {
     "name": "stderr",
     "output_type": "stream",
     "text": [
      "\r",
      "Epoch 1/5:  49%|████▉     | 1545/3166 [5:42:35<6:00:12, 13.33s/it]"
     ]
    },
    {
     "name": "stderr",
     "output_type": "stream",
     "text": [
      "\r",
      "Epoch 1/5:  49%|████▉     | 1546/3166 [5:42:48<6:00:03, 13.34s/it]"
     ]
    },
    {
     "name": "stderr",
     "output_type": "stream",
     "text": [
      "\r",
      "Epoch 1/5:  49%|████▉     | 1547/3166 [5:43:01<5:59:05, 13.31s/it]"
     ]
    },
    {
     "name": "stderr",
     "output_type": "stream",
     "text": [
      "\r",
      "Epoch 1/5:  49%|████▉     | 1548/3166 [5:43:14<5:58:17, 13.29s/it]"
     ]
    },
    {
     "name": "stderr",
     "output_type": "stream",
     "text": [
      "\r",
      "Epoch 1/5:  49%|████▉     | 1549/3166 [5:43:28<5:58:10, 13.29s/it]"
     ]
    },
    {
     "name": "stderr",
     "output_type": "stream",
     "text": [
      "\r",
      "Epoch 1/5:  49%|████▉     | 1550/3166 [5:43:41<5:58:09, 13.30s/it]"
     ]
    },
    {
     "name": "stderr",
     "output_type": "stream",
     "text": [
      "\r",
      "Epoch 1/5:  49%|████▉     | 1551/3166 [5:43:54<5:57:53, 13.30s/it]"
     ]
    },
    {
     "name": "stderr",
     "output_type": "stream",
     "text": [
      "\r",
      "Epoch 1/5:  49%|████▉     | 1552/3166 [5:44:08<5:58:34, 13.33s/it]"
     ]
    },
    {
     "name": "stderr",
     "output_type": "stream",
     "text": [
      "\r",
      "Epoch 1/5:  49%|████▉     | 1553/3166 [5:44:21<5:58:10, 13.32s/it]"
     ]
    },
    {
     "name": "stderr",
     "output_type": "stream",
     "text": [
      "\r",
      "Epoch 1/5:  49%|████▉     | 1554/3166 [5:44:34<5:57:49, 13.32s/it]"
     ]
    },
    {
     "name": "stderr",
     "output_type": "stream",
     "text": [
      "\r",
      "Epoch 1/5:  49%|████▉     | 1555/3166 [5:44:48<5:57:44, 13.32s/it]"
     ]
    },
    {
     "name": "stderr",
     "output_type": "stream",
     "text": [
      "\r",
      "Epoch 1/5:  49%|████▉     | 1556/3166 [5:45:01<5:57:38, 13.33s/it]"
     ]
    },
    {
     "name": "stderr",
     "output_type": "stream",
     "text": [
      "\r",
      "Epoch 1/5:  49%|████▉     | 1557/3166 [5:45:14<5:57:24, 13.33s/it]"
     ]
    },
    {
     "name": "stderr",
     "output_type": "stream",
     "text": [
      "\r",
      "Epoch 1/5:  49%|████▉     | 1558/3166 [5:45:28<5:57:32, 13.34s/it]"
     ]
    },
    {
     "name": "stderr",
     "output_type": "stream",
     "text": [
      "\r",
      "Epoch 1/5:  49%|████▉     | 1559/3166 [5:45:41<5:56:55, 13.33s/it]"
     ]
    },
    {
     "name": "stderr",
     "output_type": "stream",
     "text": [
      "\r",
      "Epoch 1/5:  49%|████▉     | 1560/3166 [5:45:54<5:56:50, 13.33s/it]"
     ]
    },
    {
     "name": "stderr",
     "output_type": "stream",
     "text": [
      "\r",
      "Epoch 1/5:  49%|████▉     | 1561/3166 [5:46:08<5:57:12, 13.35s/it]"
     ]
    },
    {
     "name": "stderr",
     "output_type": "stream",
     "text": [
      "\r",
      "Epoch 1/5:  49%|████▉     | 1562/3166 [5:46:21<5:55:48, 13.31s/it]"
     ]
    },
    {
     "name": "stderr",
     "output_type": "stream",
     "text": [
      "\r",
      "Epoch 1/5:  49%|████▉     | 1563/3166 [5:46:34<5:55:22, 13.30s/it]"
     ]
    },
    {
     "name": "stderr",
     "output_type": "stream",
     "text": [
      "\r",
      "Epoch 1/5:  49%|████▉     | 1564/3166 [5:46:48<5:55:34, 13.32s/it]"
     ]
    },
    {
     "name": "stderr",
     "output_type": "stream",
     "text": [
      "\r",
      "Epoch 1/5:  49%|████▉     | 1565/3166 [5:47:01<5:54:52, 13.30s/it]"
     ]
    },
    {
     "name": "stderr",
     "output_type": "stream",
     "text": [
      "\r",
      "Epoch 1/5:  49%|████▉     | 1566/3166 [5:47:14<5:54:59, 13.31s/it]"
     ]
    },
    {
     "name": "stderr",
     "output_type": "stream",
     "text": [
      "\r",
      "Epoch 1/5:  49%|████▉     | 1567/3166 [5:47:28<5:55:06, 13.32s/it]"
     ]
    },
    {
     "name": "stderr",
     "output_type": "stream",
     "text": [
      "\r",
      "Epoch 1/5:  50%|████▉     | 1568/3166 [5:47:41<5:54:21, 13.31s/it]"
     ]
    },
    {
     "name": "stderr",
     "output_type": "stream",
     "text": [
      "\r",
      "Epoch 1/5:  50%|████▉     | 1569/3166 [5:47:54<5:54:13, 13.31s/it]"
     ]
    },
    {
     "name": "stderr",
     "output_type": "stream",
     "text": [
      "\r",
      "Epoch 1/5:  50%|████▉     | 1570/3166 [5:48:07<5:54:20, 13.32s/it]"
     ]
    },
    {
     "name": "stderr",
     "output_type": "stream",
     "text": [
      "\r",
      "Epoch 1/5:  50%|████▉     | 1571/3166 [5:48:21<5:53:59, 13.32s/it]"
     ]
    },
    {
     "name": "stderr",
     "output_type": "stream",
     "text": [
      "\r",
      "Epoch 1/5:  50%|████▉     | 1572/3166 [5:48:34<5:54:06, 13.33s/it]"
     ]
    },
    {
     "name": "stderr",
     "output_type": "stream",
     "text": [
      "\r",
      "Epoch 1/5:  50%|████▉     | 1573/3166 [5:48:47<5:53:59, 13.33s/it]"
     ]
    },
    {
     "name": "stderr",
     "output_type": "stream",
     "text": [
      "\r",
      "Epoch 1/5:  50%|████▉     | 1574/3166 [5:49:01<5:53:32, 13.32s/it]"
     ]
    },
    {
     "name": "stderr",
     "output_type": "stream",
     "text": [
      "\r",
      "Epoch 1/5:  50%|████▉     | 1575/3166 [5:49:14<5:52:53, 13.31s/it]"
     ]
    },
    {
     "name": "stderr",
     "output_type": "stream",
     "text": [
      "\r",
      "Epoch 1/5:  50%|████▉     | 1576/3166 [5:49:27<5:52:59, 13.32s/it]"
     ]
    },
    {
     "name": "stderr",
     "output_type": "stream",
     "text": [
      "\r",
      "Epoch 1/5:  50%|████▉     | 1577/3166 [5:49:41<5:52:56, 13.33s/it]"
     ]
    },
    {
     "name": "stderr",
     "output_type": "stream",
     "text": [
      "\r",
      "Epoch 1/5:  50%|████▉     | 1578/3166 [5:49:54<5:52:58, 13.34s/it]"
     ]
    },
    {
     "name": "stderr",
     "output_type": "stream",
     "text": [
      "\r",
      "Epoch 1/5:  50%|████▉     | 1579/3166 [5:50:07<5:53:17, 13.36s/it]"
     ]
    },
    {
     "name": "stderr",
     "output_type": "stream",
     "text": [
      "\r",
      "Epoch 1/5:  50%|████▉     | 1580/3166 [5:50:21<5:52:31, 13.34s/it]"
     ]
    },
    {
     "name": "stderr",
     "output_type": "stream",
     "text": [
      "\r",
      "Epoch 1/5:  50%|████▉     | 1581/3166 [5:50:34<5:51:46, 13.32s/it]"
     ]
    },
    {
     "name": "stderr",
     "output_type": "stream",
     "text": [
      "\r",
      "Epoch 1/5:  50%|████▉     | 1582/3166 [5:50:47<5:51:57, 13.33s/it]"
     ]
    },
    {
     "name": "stderr",
     "output_type": "stream",
     "text": [
      "\r",
      "Epoch 1/5:  50%|█████     | 1583/3166 [5:51:01<5:51:11, 13.31s/it]"
     ]
    },
    {
     "name": "stderr",
     "output_type": "stream",
     "text": [
      "\r",
      "Epoch 1/5:  50%|█████     | 1584/3166 [5:51:14<5:50:04, 13.28s/it]"
     ]
    },
    {
     "name": "stderr",
     "output_type": "stream",
     "text": [
      "\r",
      "Epoch 1/5:  50%|█████     | 1585/3166 [5:51:27<5:50:32, 13.30s/it]"
     ]
    },
    {
     "name": "stderr",
     "output_type": "stream",
     "text": [
      "\r",
      "Epoch 1/5:  50%|█████     | 1586/3166 [5:51:41<5:50:02, 13.29s/it]"
     ]
    },
    {
     "name": "stderr",
     "output_type": "stream",
     "text": [
      "\r",
      "Epoch 1/5:  50%|█████     | 1587/3166 [5:51:54<5:49:36, 13.28s/it]"
     ]
    },
    {
     "name": "stderr",
     "output_type": "stream",
     "text": [
      "\r",
      "Epoch 1/5:  50%|█████     | 1588/3166 [5:52:07<5:50:05, 13.31s/it]"
     ]
    },
    {
     "name": "stderr",
     "output_type": "stream",
     "text": [
      "\r",
      "Epoch 1/5:  50%|█████     | 1589/3166 [5:52:20<5:49:40, 13.30s/it]"
     ]
    },
    {
     "name": "stderr",
     "output_type": "stream",
     "text": [
      "\r",
      "Epoch 1/5:  50%|█████     | 1590/3166 [5:52:34<5:49:19, 13.30s/it]"
     ]
    },
    {
     "name": "stderr",
     "output_type": "stream",
     "text": [
      "\r",
      "Epoch 1/5:  50%|█████     | 1591/3166 [5:52:47<5:49:30, 13.31s/it]"
     ]
    },
    {
     "name": "stderr",
     "output_type": "stream",
     "text": [
      "\r",
      "Epoch 1/5:  50%|█████     | 1592/3166 [5:53:00<5:49:04, 13.31s/it]"
     ]
    },
    {
     "name": "stderr",
     "output_type": "stream",
     "text": [
      "\r",
      "Epoch 1/5:  50%|█████     | 1593/3166 [5:53:14<5:48:15, 13.28s/it]"
     ]
    },
    {
     "name": "stderr",
     "output_type": "stream",
     "text": [
      "\r",
      "Epoch 1/5:  50%|█████     | 1594/3166 [5:53:27<5:48:35, 13.31s/it]"
     ]
    },
    {
     "name": "stderr",
     "output_type": "stream",
     "text": [
      "\r",
      "Epoch 1/5:  50%|█████     | 1595/3166 [5:53:40<5:47:31, 13.27s/it]"
     ]
    },
    {
     "name": "stderr",
     "output_type": "stream",
     "text": [
      "\r",
      "Epoch 1/5:  50%|█████     | 1596/3166 [5:53:53<5:46:45, 13.25s/it]"
     ]
    },
    {
     "name": "stderr",
     "output_type": "stream",
     "text": [
      "\r",
      "Epoch 1/5:  50%|█████     | 1597/3166 [5:54:07<5:46:37, 13.26s/it]"
     ]
    },
    {
     "name": "stderr",
     "output_type": "stream",
     "text": [
      "\r",
      "Epoch 1/5:  50%|█████     | 1598/3166 [5:54:20<5:46:11, 13.25s/it]"
     ]
    },
    {
     "name": "stderr",
     "output_type": "stream",
     "text": [
      "\r",
      "Epoch 1/5:  51%|█████     | 1599/3166 [5:54:33<5:46:00, 13.25s/it]"
     ]
    },
    {
     "name": "stderr",
     "output_type": "stream",
     "text": [
      "\r",
      "Epoch 1/5:  51%|█████     | 1600/3166 [5:54:46<5:46:42, 13.28s/it]"
     ]
    },
    {
     "name": "stderr",
     "output_type": "stream",
     "text": [
      "\r",
      "Epoch 1/5:  51%|█████     | 1601/3166 [5:55:00<5:46:32, 13.29s/it]"
     ]
    },
    {
     "name": "stderr",
     "output_type": "stream",
     "text": [
      "\r",
      "Epoch 1/5:  51%|█████     | 1602/3166 [5:55:13<5:46:19, 13.29s/it]"
     ]
    },
    {
     "name": "stderr",
     "output_type": "stream",
     "text": [
      "\r",
      "Epoch 1/5:  51%|█████     | 1603/3166 [5:55:26<5:46:54, 13.32s/it]"
     ]
    },
    {
     "name": "stderr",
     "output_type": "stream",
     "text": [
      "\r",
      "Epoch 1/5:  51%|█████     | 1604/3166 [5:55:40<5:46:36, 13.31s/it]"
     ]
    },
    {
     "name": "stderr",
     "output_type": "stream",
     "text": [
      "\r",
      "Epoch 1/5:  51%|█████     | 1605/3166 [5:55:53<5:46:27, 13.32s/it]"
     ]
    },
    {
     "name": "stderr",
     "output_type": "stream",
     "text": [
      "\r",
      "Epoch 1/5:  51%|█████     | 1606/3166 [5:56:06<5:46:04, 13.31s/it]"
     ]
    },
    {
     "name": "stderr",
     "output_type": "stream",
     "text": [
      "\r",
      "Epoch 1/5:  51%|█████     | 1607/3166 [5:56:20<5:45:37, 13.30s/it]"
     ]
    },
    {
     "name": "stderr",
     "output_type": "stream",
     "text": [
      "\r",
      "Epoch 1/5:  51%|█████     | 1608/3166 [5:56:33<5:45:29, 13.31s/it]"
     ]
    },
    {
     "name": "stderr",
     "output_type": "stream",
     "text": [
      "\r",
      "Epoch 1/5:  51%|█████     | 1609/3166 [5:56:46<5:45:48, 13.33s/it]"
     ]
    },
    {
     "name": "stderr",
     "output_type": "stream",
     "text": [
      "\r",
      "Epoch 1/5:  51%|█████     | 1610/3166 [5:57:00<5:45:38, 13.33s/it]"
     ]
    },
    {
     "name": "stderr",
     "output_type": "stream",
     "text": [
      "\r",
      "Epoch 1/5:  51%|█████     | 1611/3166 [5:57:13<5:45:00, 13.31s/it]"
     ]
    },
    {
     "name": "stderr",
     "output_type": "stream",
     "text": [
      "\r",
      "Epoch 1/5:  51%|█████     | 1612/3166 [5:57:26<5:45:21, 13.33s/it]"
     ]
    },
    {
     "name": "stderr",
     "output_type": "stream",
     "text": [
      "\r",
      "Epoch 1/5:  51%|█████     | 1613/3166 [5:57:40<5:44:31, 13.31s/it]"
     ]
    },
    {
     "name": "stderr",
     "output_type": "stream",
     "text": [
      "\r",
      "Epoch 1/5:  51%|█████     | 1614/3166 [5:57:53<5:43:38, 13.28s/it]"
     ]
    },
    {
     "name": "stderr",
     "output_type": "stream",
     "text": [
      "\r",
      "Epoch 1/5:  51%|█████     | 1615/3166 [5:58:06<5:43:44, 13.30s/it]"
     ]
    },
    {
     "name": "stderr",
     "output_type": "stream",
     "text": [
      "\r",
      "Epoch 1/5:  51%|█████     | 1616/3166 [5:58:19<5:43:24, 13.29s/it]"
     ]
    },
    {
     "name": "stderr",
     "output_type": "stream",
     "text": [
      "\r",
      "Epoch 1/5:  51%|█████     | 1617/3166 [5:58:33<5:42:58, 13.28s/it]"
     ]
    },
    {
     "name": "stderr",
     "output_type": "stream",
     "text": [
      "\r",
      "Epoch 1/5:  51%|█████     | 1618/3166 [5:58:46<5:43:19, 13.31s/it]"
     ]
    },
    {
     "name": "stderr",
     "output_type": "stream",
     "text": [
      "\r",
      "Epoch 1/5:  51%|█████     | 1619/3166 [5:58:59<5:42:33, 13.29s/it]"
     ]
    },
    {
     "name": "stderr",
     "output_type": "stream",
     "text": [
      "\r",
      "Epoch 1/5:  51%|█████     | 1620/3166 [5:59:13<5:42:20, 13.29s/it]"
     ]
    },
    {
     "name": "stderr",
     "output_type": "stream",
     "text": [
      "\r",
      "Epoch 1/5:  51%|█████     | 1621/3166 [5:59:26<5:42:06, 13.29s/it]"
     ]
    },
    {
     "name": "stderr",
     "output_type": "stream",
     "text": [
      "\r",
      "Epoch 1/5:  51%|█████     | 1622/3166 [5:59:39<5:42:11, 13.30s/it]"
     ]
    },
    {
     "name": "stderr",
     "output_type": "stream",
     "text": [
      "\r",
      "Epoch 1/5:  51%|█████▏    | 1623/3166 [5:59:52<5:41:54, 13.29s/it]"
     ]
    },
    {
     "name": "stderr",
     "output_type": "stream",
     "text": [
      "\r",
      "Epoch 1/5:  51%|█████▏    | 1624/3166 [6:00:06<5:42:04, 13.31s/it]"
     ]
    },
    {
     "name": "stderr",
     "output_type": "stream",
     "text": [
      "\r",
      "Epoch 1/5:  51%|█████▏    | 1625/3166 [6:00:19<5:41:30, 13.30s/it]"
     ]
    },
    {
     "name": "stderr",
     "output_type": "stream",
     "text": [
      "\r",
      "Epoch 1/5:  51%|█████▏    | 1626/3166 [6:00:32<5:40:47, 13.28s/it]"
     ]
    },
    {
     "name": "stderr",
     "output_type": "stream",
     "text": [
      "\r",
      "Epoch 1/5:  51%|█████▏    | 1627/3166 [6:00:46<5:40:36, 13.28s/it]"
     ]
    },
    {
     "name": "stderr",
     "output_type": "stream",
     "text": [
      "\r",
      "Epoch 1/5:  51%|█████▏    | 1628/3166 [6:00:59<5:40:28, 13.28s/it]"
     ]
    },
    {
     "name": "stderr",
     "output_type": "stream",
     "text": [
      "\r",
      "Epoch 1/5:  51%|█████▏    | 1629/3166 [6:01:12<5:40:16, 13.28s/it]"
     ]
    },
    {
     "name": "stderr",
     "output_type": "stream",
     "text": [
      "\r",
      "Epoch 1/5:  51%|█████▏    | 1630/3166 [6:01:26<5:40:34, 13.30s/it]"
     ]
    },
    {
     "name": "stderr",
     "output_type": "stream",
     "text": [
      "\r",
      "Epoch 1/5:  52%|█████▏    | 1631/3166 [6:01:39<5:40:02, 13.29s/it]"
     ]
    },
    {
     "name": "stderr",
     "output_type": "stream",
     "text": [
      "\r",
      "Epoch 1/5:  52%|█████▏    | 1632/3166 [6:01:52<5:39:31, 13.28s/it]"
     ]
    },
    {
     "name": "stderr",
     "output_type": "stream",
     "text": [
      "\r",
      "Epoch 1/5:  52%|█████▏    | 1633/3166 [6:02:05<5:39:09, 13.27s/it]"
     ]
    },
    {
     "name": "stderr",
     "output_type": "stream",
     "text": [
      "\r",
      "Epoch 1/5:  52%|█████▏    | 1634/3166 [6:02:18<5:38:25, 13.25s/it]"
     ]
    },
    {
     "name": "stderr",
     "output_type": "stream",
     "text": [
      "\r",
      "Epoch 1/5:  52%|█████▏    | 1635/3166 [6:02:32<5:38:16, 13.26s/it]"
     ]
    },
    {
     "name": "stderr",
     "output_type": "stream",
     "text": [
      "\r",
      "Epoch 1/5:  52%|█████▏    | 1636/3166 [6:02:45<5:39:01, 13.29s/it]"
     ]
    },
    {
     "name": "stderr",
     "output_type": "stream",
     "text": [
      "\r",
      "Epoch 1/5:  52%|█████▏    | 1637/3166 [6:02:58<5:38:51, 13.30s/it]"
     ]
    },
    {
     "name": "stderr",
     "output_type": "stream",
     "text": [
      "\r",
      "Epoch 1/5:  52%|█████▏    | 1638/3166 [6:03:12<5:38:37, 13.30s/it]"
     ]
    },
    {
     "name": "stderr",
     "output_type": "stream",
     "text": [
      "\r",
      "Epoch 1/5:  52%|█████▏    | 1639/3166 [6:03:25<5:38:48, 13.31s/it]"
     ]
    },
    {
     "name": "stderr",
     "output_type": "stream",
     "text": [
      "\r",
      "Epoch 1/5:  52%|█████▏    | 1640/3166 [6:03:38<5:38:10, 13.30s/it]"
     ]
    },
    {
     "name": "stderr",
     "output_type": "stream",
     "text": [
      "\r",
      "Epoch 1/5:  52%|█████▏    | 1641/3166 [6:03:52<5:37:44, 13.29s/it]"
     ]
    },
    {
     "name": "stderr",
     "output_type": "stream",
     "text": [
      "\r",
      "Epoch 1/5:  52%|█████▏    | 1642/3166 [6:04:05<5:37:35, 13.29s/it]"
     ]
    },
    {
     "name": "stderr",
     "output_type": "stream",
     "text": [
      "\r",
      "Epoch 1/5:  52%|█████▏    | 1643/3166 [6:04:18<5:37:26, 13.29s/it]"
     ]
    },
    {
     "name": "stderr",
     "output_type": "stream",
     "text": [
      "\r",
      "Epoch 1/5:  52%|█████▏    | 1644/3166 [6:04:32<5:37:14, 13.29s/it]"
     ]
    },
    {
     "name": "stderr",
     "output_type": "stream",
     "text": [
      "\r",
      "Epoch 1/5:  52%|█████▏    | 1645/3166 [6:04:45<5:36:58, 13.29s/it]"
     ]
    },
    {
     "name": "stderr",
     "output_type": "stream",
     "text": [
      "\r",
      "Epoch 1/5:  52%|█████▏    | 1646/3166 [6:04:58<5:36:15, 13.27s/it]"
     ]
    },
    {
     "name": "stderr",
     "output_type": "stream",
     "text": [
      "\r",
      "Epoch 1/5:  52%|█████▏    | 1647/3166 [6:05:11<5:35:52, 13.27s/it]"
     ]
    },
    {
     "name": "stderr",
     "output_type": "stream",
     "text": [
      "\r",
      "Epoch 1/5:  52%|█████▏    | 1648/3166 [6:05:25<5:36:26, 13.30s/it]"
     ]
    },
    {
     "name": "stderr",
     "output_type": "stream",
     "text": [
      "\r",
      "Epoch 1/5:  52%|█████▏    | 1649/3166 [6:05:38<5:35:41, 13.28s/it]"
     ]
    },
    {
     "name": "stderr",
     "output_type": "stream",
     "text": [
      "\r",
      "Epoch 1/5:  52%|█████▏    | 1650/3166 [6:05:51<5:35:25, 13.28s/it]"
     ]
    },
    {
     "name": "stderr",
     "output_type": "stream",
     "text": [
      "\r",
      "Epoch 1/5:  52%|█████▏    | 1651/3166 [6:06:04<5:35:10, 13.27s/it]"
     ]
    },
    {
     "name": "stderr",
     "output_type": "stream",
     "text": [
      "\r",
      "Epoch 1/5:  52%|█████▏    | 1652/3166 [6:06:18<5:34:58, 13.27s/it]"
     ]
    },
    {
     "name": "stderr",
     "output_type": "stream",
     "text": [
      "\r",
      "Epoch 1/5:  52%|█████▏    | 1653/3166 [6:06:31<5:34:37, 13.27s/it]"
     ]
    },
    {
     "name": "stderr",
     "output_type": "stream",
     "text": [
      "\r",
      "Epoch 1/5:  52%|█████▏    | 1654/3166 [6:06:44<5:34:59, 13.29s/it]"
     ]
    },
    {
     "name": "stderr",
     "output_type": "stream",
     "text": [
      "\r",
      "Epoch 1/5:  52%|█████▏    | 1655/3166 [6:06:58<5:34:38, 13.29s/it]"
     ]
    },
    {
     "name": "stderr",
     "output_type": "stream",
     "text": [
      "\r",
      "Epoch 1/5:  52%|█████▏    | 1656/3166 [6:07:11<5:34:19, 13.28s/it]"
     ]
    },
    {
     "name": "stderr",
     "output_type": "stream",
     "text": [
      "\r",
      "Epoch 1/5:  52%|█████▏    | 1657/3166 [6:07:24<5:34:13, 13.29s/it]"
     ]
    },
    {
     "name": "stderr",
     "output_type": "stream",
     "text": [
      "\r",
      "Epoch 1/5:  52%|█████▏    | 1658/3166 [6:07:37<5:34:02, 13.29s/it]"
     ]
    },
    {
     "name": "stderr",
     "output_type": "stream",
     "text": [
      "\r",
      "Epoch 1/5:  52%|█████▏    | 1659/3166 [6:07:51<5:33:26, 13.28s/it]"
     ]
    },
    {
     "name": "stderr",
     "output_type": "stream",
     "text": [
      "\r",
      "Epoch 1/5:  52%|█████▏    | 1660/3166 [6:08:04<5:34:02, 13.31s/it]"
     ]
    },
    {
     "name": "stderr",
     "output_type": "stream",
     "text": [
      "\r",
      "Epoch 1/5:  52%|█████▏    | 1661/3166 [6:08:17<5:33:38, 13.30s/it]"
     ]
    },
    {
     "name": "stderr",
     "output_type": "stream",
     "text": [
      "\r",
      "Epoch 1/5:  52%|█████▏    | 1662/3166 [6:08:31<5:33:00, 13.29s/it]"
     ]
    },
    {
     "name": "stderr",
     "output_type": "stream",
     "text": [
      "\r",
      "Epoch 1/5:  53%|█████▎    | 1663/3166 [6:08:44<5:33:24, 13.31s/it]"
     ]
    },
    {
     "name": "stderr",
     "output_type": "stream",
     "text": [
      "\r",
      "Epoch 1/5:  53%|█████▎    | 1664/3166 [6:08:57<5:32:35, 13.29s/it]"
     ]
    },
    {
     "name": "stderr",
     "output_type": "stream",
     "text": [
      "\r",
      "Epoch 1/5:  53%|█████▎    | 1665/3166 [6:09:10<5:32:20, 13.28s/it]"
     ]
    },
    {
     "name": "stderr",
     "output_type": "stream",
     "text": [
      "\r",
      "Epoch 1/5:  53%|█████▎    | 1666/3166 [6:09:24<5:32:24, 13.30s/it]"
     ]
    },
    {
     "name": "stderr",
     "output_type": "stream",
     "text": [
      "\r",
      "Epoch 1/5:  53%|█████▎    | 1667/3166 [6:09:37<5:31:36, 13.27s/it]"
     ]
    },
    {
     "name": "stderr",
     "output_type": "stream",
     "text": [
      "\r",
      "Epoch 1/5:  53%|█████▎    | 1668/3166 [6:09:50<5:31:29, 13.28s/it]"
     ]
    },
    {
     "name": "stderr",
     "output_type": "stream",
     "text": [
      "\r",
      "Epoch 1/5:  53%|█████▎    | 1669/3166 [6:10:04<5:32:18, 13.32s/it]"
     ]
    },
    {
     "name": "stderr",
     "output_type": "stream",
     "text": [
      "\r",
      "Epoch 1/5:  53%|█████▎    | 1670/3166 [6:10:17<5:31:46, 13.31s/it]"
     ]
    },
    {
     "name": "stderr",
     "output_type": "stream",
     "text": [
      "\r",
      "Epoch 1/5:  53%|█████▎    | 1671/3166 [6:10:30<5:31:31, 13.31s/it]"
     ]
    },
    {
     "name": "stderr",
     "output_type": "stream",
     "text": [
      "\r",
      "Epoch 1/5:  53%|█████▎    | 1672/3166 [6:10:44<5:31:55, 13.33s/it]"
     ]
    },
    {
     "name": "stderr",
     "output_type": "stream",
     "text": [
      "\r",
      "Epoch 1/5:  53%|█████▎    | 1673/3166 [6:10:57<5:31:32, 13.32s/it]"
     ]
    },
    {
     "name": "stderr",
     "output_type": "stream",
     "text": [
      "\r",
      "Epoch 1/5:  53%|█████▎    | 1674/3166 [6:11:10<5:31:01, 13.31s/it]"
     ]
    },
    {
     "name": "stderr",
     "output_type": "stream",
     "text": [
      "\r",
      "Epoch 1/5:  53%|█████▎    | 1675/3166 [6:11:24<5:30:46, 13.31s/it]"
     ]
    },
    {
     "name": "stderr",
     "output_type": "stream",
     "text": [
      "\r",
      "Epoch 1/5:  53%|█████▎    | 1676/3166 [6:11:37<5:30:17, 13.30s/it]"
     ]
    },
    {
     "name": "stderr",
     "output_type": "stream",
     "text": [
      "\r",
      "Epoch 1/5:  53%|█████▎    | 1677/3166 [6:11:50<5:29:35, 13.28s/it]"
     ]
    },
    {
     "name": "stderr",
     "output_type": "stream",
     "text": [
      "\r",
      "Epoch 1/5:  53%|█████▎    | 1678/3166 [6:12:03<5:29:46, 13.30s/it]"
     ]
    },
    {
     "name": "stderr",
     "output_type": "stream",
     "text": [
      "\r",
      "Epoch 1/5:  53%|█████▎    | 1679/3166 [6:12:17<5:29:13, 13.28s/it]"
     ]
    },
    {
     "name": "stderr",
     "output_type": "stream",
     "text": [
      "\r",
      "Epoch 1/5:  53%|█████▎    | 1680/3166 [6:12:30<5:28:48, 13.28s/it]"
     ]
    },
    {
     "name": "stderr",
     "output_type": "stream",
     "text": [
      "\r",
      "Epoch 1/5:  53%|█████▎    | 1681/3166 [6:12:43<5:28:44, 13.28s/it]"
     ]
    },
    {
     "name": "stderr",
     "output_type": "stream",
     "text": [
      "\r",
      "Epoch 1/5:  53%|█████▎    | 1682/3166 [6:12:57<5:28:33, 13.28s/it]"
     ]
    },
    {
     "name": "stderr",
     "output_type": "stream",
     "text": [
      "\r",
      "Epoch 1/5:  53%|█████▎    | 1683/3166 [6:13:10<5:28:13, 13.28s/it]"
     ]
    },
    {
     "name": "stderr",
     "output_type": "stream",
     "text": [
      "\r",
      "Epoch 1/5:  53%|█████▎    | 1684/3166 [6:13:23<5:28:26, 13.30s/it]"
     ]
    },
    {
     "name": "stderr",
     "output_type": "stream",
     "text": [
      "\r",
      "Epoch 1/5:  53%|█████▎    | 1685/3166 [6:13:36<5:27:50, 13.28s/it]"
     ]
    },
    {
     "name": "stderr",
     "output_type": "stream",
     "text": [
      "\r",
      "Epoch 1/5:  53%|█████▎    | 1686/3166 [6:13:50<5:27:53, 13.29s/it]"
     ]
    },
    {
     "name": "stderr",
     "output_type": "stream",
     "text": [
      "\r",
      "Epoch 1/5:  53%|█████▎    | 1687/3166 [6:14:03<5:27:59, 13.31s/it]"
     ]
    },
    {
     "name": "stderr",
     "output_type": "stream",
     "text": [
      "\r",
      "Epoch 1/5:  53%|█████▎    | 1688/3166 [6:14:16<5:27:46, 13.31s/it]"
     ]
    },
    {
     "name": "stderr",
     "output_type": "stream",
     "text": [
      "\r",
      "Epoch 1/5:  53%|█████▎    | 1689/3166 [6:14:30<5:27:26, 13.30s/it]"
     ]
    },
    {
     "name": "stderr",
     "output_type": "stream",
     "text": [
      "\r",
      "Epoch 1/5:  53%|█████▎    | 1690/3166 [6:14:43<5:27:50, 13.33s/it]"
     ]
    },
    {
     "name": "stderr",
     "output_type": "stream",
     "text": [
      "\r",
      "Epoch 1/5:  53%|█████▎    | 1691/3166 [6:14:56<5:27:41, 13.33s/it]"
     ]
    },
    {
     "name": "stderr",
     "output_type": "stream",
     "text": [
      "\r",
      "Epoch 1/5:  53%|█████▎    | 1692/3166 [6:15:10<5:26:59, 13.31s/it]"
     ]
    },
    {
     "name": "stderr",
     "output_type": "stream",
     "text": [
      "\r",
      "Epoch 1/5:  53%|█████▎    | 1693/3166 [6:15:23<5:27:11, 13.33s/it]"
     ]
    },
    {
     "name": "stderr",
     "output_type": "stream",
     "text": [
      "\r",
      "Epoch 1/5:  54%|█████▎    | 1694/3166 [6:15:36<5:26:46, 13.32s/it]"
     ]
    },
    {
     "name": "stderr",
     "output_type": "stream",
     "text": [
      "\r",
      "Epoch 1/5:  54%|█████▎    | 1695/3166 [6:15:50<5:26:32, 13.32s/it]"
     ]
    },
    {
     "name": "stderr",
     "output_type": "stream",
     "text": [
      "\r",
      "Epoch 1/5:  54%|█████▎    | 1696/3166 [6:16:03<5:26:31, 13.33s/it]"
     ]
    },
    {
     "name": "stderr",
     "output_type": "stream",
     "text": [
      "\r",
      "Epoch 1/5:  54%|█████▎    | 1697/3166 [6:16:16<5:25:59, 13.31s/it]"
     ]
    },
    {
     "name": "stderr",
     "output_type": "stream",
     "text": [
      "\r",
      "Epoch 1/5:  54%|█████▎    | 1698/3166 [6:16:30<5:25:18, 13.30s/it]"
     ]
    },
    {
     "name": "stderr",
     "output_type": "stream",
     "text": [
      "\r",
      "Epoch 1/5:  54%|█████▎    | 1699/3166 [6:16:43<5:25:26, 13.31s/it]"
     ]
    },
    {
     "name": "stderr",
     "output_type": "stream",
     "text": [
      "\r",
      "Epoch 1/5:  54%|█████▎    | 1700/3166 [6:16:56<5:25:00, 13.30s/it]"
     ]
    },
    {
     "name": "stderr",
     "output_type": "stream",
     "text": [
      "\r",
      "Epoch 1/5:  54%|█████▎    | 1701/3166 [6:17:09<5:24:54, 13.31s/it]"
     ]
    },
    {
     "name": "stderr",
     "output_type": "stream",
     "text": [
      "\r",
      "Epoch 1/5:  54%|█████▍    | 1702/3166 [6:17:23<5:25:13, 13.33s/it]"
     ]
    },
    {
     "name": "stderr",
     "output_type": "stream",
     "text": [
      "\r",
      "Epoch 1/5:  54%|█████▍    | 1703/3166 [6:17:36<5:24:58, 13.33s/it]"
     ]
    },
    {
     "name": "stderr",
     "output_type": "stream",
     "text": [
      "\r",
      "Epoch 1/5:  54%|█████▍    | 1704/3166 [6:17:49<5:24:28, 13.32s/it]"
     ]
    },
    {
     "name": "stderr",
     "output_type": "stream",
     "text": [
      "\r",
      "Epoch 1/5:  54%|█████▍    | 1705/3166 [6:18:03<5:24:33, 13.33s/it]"
     ]
    },
    {
     "name": "stderr",
     "output_type": "stream",
     "text": [
      "\r",
      "Epoch 1/5:  54%|█████▍    | 1706/3166 [6:18:16<5:23:57, 13.31s/it]"
     ]
    },
    {
     "name": "stderr",
     "output_type": "stream",
     "text": [
      "\r",
      "Epoch 1/5:  54%|█████▍    | 1707/3166 [6:18:29<5:23:32, 13.31s/it]"
     ]
    },
    {
     "name": "stderr",
     "output_type": "stream",
     "text": [
      "\r",
      "Epoch 1/5:  54%|█████▍    | 1708/3166 [6:18:43<5:23:28, 13.31s/it]"
     ]
    },
    {
     "name": "stderr",
     "output_type": "stream",
     "text": [
      "\r",
      "Epoch 1/5:  54%|█████▍    | 1709/3166 [6:18:56<5:23:04, 13.30s/it]"
     ]
    },
    {
     "name": "stderr",
     "output_type": "stream",
     "text": [
      "\r",
      "Epoch 1/5:  54%|█████▍    | 1710/3166 [6:19:09<5:22:17, 13.28s/it]"
     ]
    },
    {
     "name": "stderr",
     "output_type": "stream",
     "text": [
      "\r",
      "Epoch 1/5:  54%|█████▍    | 1711/3166 [6:19:23<5:22:31, 13.30s/it]"
     ]
    },
    {
     "name": "stderr",
     "output_type": "stream",
     "text": [
      "\r",
      "Epoch 1/5:  54%|█████▍    | 1712/3166 [6:19:36<5:22:31, 13.31s/it]"
     ]
    },
    {
     "name": "stderr",
     "output_type": "stream",
     "text": [
      "\r",
      "Epoch 1/5:  54%|█████▍    | 1713/3166 [6:19:49<5:21:43, 13.29s/it]"
     ]
    },
    {
     "name": "stderr",
     "output_type": "stream",
     "text": [
      "\r",
      "Epoch 1/5:  54%|█████▍    | 1714/3166 [6:20:02<5:21:58, 13.31s/it]"
     ]
    },
    {
     "name": "stderr",
     "output_type": "stream",
     "text": [
      "\r",
      "Epoch 1/5:  54%|█████▍    | 1715/3166 [6:20:16<5:21:41, 13.30s/it]"
     ]
    },
    {
     "name": "stderr",
     "output_type": "stream",
     "text": [
      "\r",
      "Epoch 1/5:  54%|█████▍    | 1716/3166 [6:20:29<5:21:10, 13.29s/it]"
     ]
    },
    {
     "name": "stderr",
     "output_type": "stream",
     "text": [
      "\r",
      "Epoch 1/5:  54%|█████▍    | 1717/3166 [6:20:42<5:21:01, 13.29s/it]"
     ]
    },
    {
     "name": "stderr",
     "output_type": "stream",
     "text": [
      "\r",
      "Epoch 1/5:  54%|█████▍    | 1718/3166 [6:20:56<5:21:06, 13.31s/it]"
     ]
    },
    {
     "name": "stderr",
     "output_type": "stream",
     "text": [
      "\r",
      "Epoch 1/5:  54%|█████▍    | 1719/3166 [6:21:09<5:21:12, 13.32s/it]"
     ]
    },
    {
     "name": "stderr",
     "output_type": "stream",
     "text": [
      "\r",
      "Epoch 1/5:  54%|█████▍    | 1720/3166 [6:21:22<5:21:34, 13.34s/it]"
     ]
    },
    {
     "name": "stderr",
     "output_type": "stream",
     "text": [
      "\r",
      "Epoch 1/5:  54%|█████▍    | 1721/3166 [6:21:36<5:21:14, 13.34s/it]"
     ]
    },
    {
     "name": "stderr",
     "output_type": "stream",
     "text": [
      "\r",
      "Epoch 1/5:  54%|█████▍    | 1722/3166 [6:21:49<5:20:41, 13.33s/it]"
     ]
    },
    {
     "name": "stderr",
     "output_type": "stream",
     "text": [
      "\r",
      "Epoch 1/5:  54%|█████▍    | 1723/3166 [6:22:02<5:20:22, 13.32s/it]"
     ]
    },
    {
     "name": "stderr",
     "output_type": "stream",
     "text": [
      "\r",
      "Epoch 1/5:  54%|█████▍    | 1724/3166 [6:22:16<5:19:39, 13.30s/it]"
     ]
    },
    {
     "name": "stderr",
     "output_type": "stream",
     "text": [
      "\r",
      "Epoch 1/5:  54%|█████▍    | 1725/3166 [6:22:29<5:19:26, 13.30s/it]"
     ]
    },
    {
     "name": "stderr",
     "output_type": "stream",
     "text": [
      "\r",
      "Epoch 1/5:  55%|█████▍    | 1726/3166 [6:22:42<5:19:32, 13.31s/it]"
     ]
    },
    {
     "name": "stderr",
     "output_type": "stream",
     "text": [
      "\r",
      "Epoch 1/5:  55%|█████▍    | 1727/3166 [6:22:55<5:18:53, 13.30s/it]"
     ]
    },
    {
     "name": "stderr",
     "output_type": "stream",
     "text": [
      "\r",
      "Epoch 1/5:  55%|█████▍    | 1728/3166 [6:23:09<5:18:11, 13.28s/it]"
     ]
    },
    {
     "name": "stderr",
     "output_type": "stream",
     "text": [
      "\r",
      "Epoch 1/5:  55%|█████▍    | 1729/3166 [6:23:22<5:18:11, 13.29s/it]"
     ]
    },
    {
     "name": "stderr",
     "output_type": "stream",
     "text": [
      "\r",
      "Epoch 1/5:  55%|█████▍    | 1730/3166 [6:23:35<5:17:52, 13.28s/it]"
     ]
    },
    {
     "name": "stderr",
     "output_type": "stream",
     "text": [
      "\r",
      "Epoch 1/5:  55%|█████▍    | 1731/3166 [6:23:49<5:17:49, 13.29s/it]"
     ]
    },
    {
     "name": "stderr",
     "output_type": "stream",
     "text": [
      "\r",
      "Epoch 1/5:  55%|█████▍    | 1732/3166 [6:24:02<5:17:29, 13.28s/it]"
     ]
    },
    {
     "name": "stderr",
     "output_type": "stream",
     "text": [
      "\r",
      "Epoch 1/5:  55%|█████▍    | 1733/3166 [6:24:15<5:16:53, 13.27s/it]"
     ]
    },
    {
     "name": "stderr",
     "output_type": "stream",
     "text": [
      "\r",
      "Epoch 1/5:  55%|█████▍    | 1734/3166 [6:24:28<5:16:32, 13.26s/it]"
     ]
    },
    {
     "name": "stderr",
     "output_type": "stream",
     "text": [
      "\r",
      "Epoch 1/5:  55%|█████▍    | 1735/3166 [6:24:42<5:16:34, 13.27s/it]"
     ]
    },
    {
     "name": "stderr",
     "output_type": "stream",
     "text": [
      "\r",
      "Epoch 1/5:  55%|█████▍    | 1736/3166 [6:24:55<5:16:14, 13.27s/it]"
     ]
    },
    {
     "name": "stderr",
     "output_type": "stream",
     "text": [
      "\r",
      "Epoch 1/5:  55%|█████▍    | 1737/3166 [6:25:08<5:15:50, 13.26s/it]"
     ]
    },
    {
     "name": "stderr",
     "output_type": "stream",
     "text": [
      "\r",
      "Epoch 1/5:  55%|█████▍    | 1738/3166 [6:25:21<5:15:59, 13.28s/it]"
     ]
    },
    {
     "name": "stderr",
     "output_type": "stream",
     "text": [
      "\r",
      "Epoch 1/5:  55%|█████▍    | 1739/3166 [6:25:35<5:15:50, 13.28s/it]"
     ]
    },
    {
     "name": "stderr",
     "output_type": "stream",
     "text": [
      "\r",
      "Epoch 1/5:  55%|█████▍    | 1740/3166 [6:25:48<5:15:32, 13.28s/it]"
     ]
    },
    {
     "name": "stderr",
     "output_type": "stream",
     "text": [
      "\r",
      "Epoch 1/5:  55%|█████▍    | 1741/3166 [6:26:01<5:15:34, 13.29s/it]"
     ]
    },
    {
     "name": "stderr",
     "output_type": "stream",
     "text": [
      "\r",
      "Epoch 1/5:  55%|█████▌    | 1742/3166 [6:26:15<5:15:11, 13.28s/it]"
     ]
    },
    {
     "name": "stderr",
     "output_type": "stream",
     "text": [
      "\r",
      "Epoch 1/5:  55%|█████▌    | 1743/3166 [6:26:28<5:14:50, 13.27s/it]"
     ]
    },
    {
     "name": "stderr",
     "output_type": "stream",
     "text": [
      "\r",
      "Epoch 1/5:  55%|█████▌    | 1744/3166 [6:26:41<5:14:53, 13.29s/it]"
     ]
    },
    {
     "name": "stderr",
     "output_type": "stream",
     "text": [
      "\r",
      "Epoch 1/5:  55%|█████▌    | 1745/3166 [6:26:54<5:14:19, 13.27s/it]"
     ]
    },
    {
     "name": "stderr",
     "output_type": "stream",
     "text": [
      "\r",
      "Epoch 1/5:  55%|█████▌    | 1746/3166 [6:27:08<5:13:49, 13.26s/it]"
     ]
    },
    {
     "name": "stderr",
     "output_type": "stream",
     "text": [
      "\r",
      "Epoch 1/5:  55%|█████▌    | 1747/3166 [6:27:21<5:13:56, 13.27s/it]"
     ]
    },
    {
     "name": "stderr",
     "output_type": "stream",
     "text": [
      "\r",
      "Epoch 1/5:  55%|█████▌    | 1748/3166 [6:27:34<5:13:43, 13.27s/it]"
     ]
    },
    {
     "name": "stderr",
     "output_type": "stream",
     "text": [
      "\r",
      "Epoch 1/5:  55%|█████▌    | 1749/3166 [6:27:48<5:13:24, 13.27s/it]"
     ]
    },
    {
     "name": "stderr",
     "output_type": "stream",
     "text": [
      "\r",
      "Epoch 1/5:  55%|█████▌    | 1750/3166 [6:28:01<5:13:39, 13.29s/it]"
     ]
    },
    {
     "name": "stderr",
     "output_type": "stream",
     "text": [
      "\r",
      "Epoch 1/5:  55%|█████▌    | 1751/3166 [6:28:14<5:13:08, 13.28s/it]"
     ]
    },
    {
     "name": "stderr",
     "output_type": "stream",
     "text": [
      "\r",
      "Epoch 1/5:  55%|█████▌    | 1752/3166 [6:28:27<5:13:15, 13.29s/it]"
     ]
    },
    {
     "name": "stderr",
     "output_type": "stream",
     "text": [
      "\r",
      "Epoch 1/5:  55%|█████▌    | 1753/3166 [6:28:41<5:13:40, 13.32s/it]"
     ]
    },
    {
     "name": "stderr",
     "output_type": "stream",
     "text": [
      "\r",
      "Epoch 1/5:  55%|█████▌    | 1754/3166 [6:28:54<5:13:21, 13.32s/it]"
     ]
    },
    {
     "name": "stderr",
     "output_type": "stream",
     "text": [
      "\r",
      "Epoch 1/5:  55%|█████▌    | 1755/3166 [6:29:07<5:13:13, 13.32s/it]"
     ]
    },
    {
     "name": "stderr",
     "output_type": "stream",
     "text": [
      "\r",
      "Epoch 1/5:  55%|█████▌    | 1756/3166 [6:29:21<5:13:24, 13.34s/it]"
     ]
    },
    {
     "name": "stderr",
     "output_type": "stream",
     "text": [
      "\r",
      "Epoch 1/5:  55%|█████▌    | 1757/3166 [6:29:34<5:13:20, 13.34s/it]"
     ]
    },
    {
     "name": "stderr",
     "output_type": "stream",
     "text": [
      "\r",
      "Epoch 1/5:  56%|█████▌    | 1758/3166 [6:29:47<5:12:30, 13.32s/it]"
     ]
    },
    {
     "name": "stderr",
     "output_type": "stream",
     "text": [
      "\r",
      "Epoch 1/5:  56%|█████▌    | 1759/3166 [6:30:01<5:12:21, 13.32s/it]"
     ]
    },
    {
     "name": "stderr",
     "output_type": "stream",
     "text": [
      "\r",
      "Epoch 1/5:  56%|█████▌    | 1760/3166 [6:30:14<5:11:57, 13.31s/it]"
     ]
    },
    {
     "name": "stderr",
     "output_type": "stream",
     "text": [
      "\r",
      "Epoch 1/5:  56%|█████▌    | 1761/3166 [6:30:27<5:11:09, 13.29s/it]"
     ]
    },
    {
     "name": "stderr",
     "output_type": "stream",
     "text": [
      "\r",
      "Epoch 1/5:  56%|█████▌    | 1762/3166 [6:30:41<5:11:39, 13.32s/it]"
     ]
    },
    {
     "name": "stderr",
     "output_type": "stream",
     "text": [
      "\r",
      "Epoch 1/5:  56%|█████▌    | 1763/3166 [6:30:54<5:10:57, 13.30s/it]"
     ]
    },
    {
     "name": "stderr",
     "output_type": "stream",
     "text": [
      "\r",
      "Epoch 1/5:  56%|█████▌    | 1764/3166 [6:31:07<5:10:48, 13.30s/it]"
     ]
    },
    {
     "name": "stderr",
     "output_type": "stream",
     "text": [
      "\r",
      "Epoch 1/5:  56%|█████▌    | 1765/3166 [6:31:21<5:11:13, 13.33s/it]"
     ]
    },
    {
     "name": "stderr",
     "output_type": "stream",
     "text": [
      "\r",
      "Epoch 1/5:  56%|█████▌    | 1766/3166 [6:31:34<5:10:43, 13.32s/it]"
     ]
    },
    {
     "name": "stderr",
     "output_type": "stream",
     "text": [
      "\r",
      "Epoch 1/5:  56%|█████▌    | 1767/3166 [6:31:47<5:10:19, 13.31s/it]"
     ]
    },
    {
     "name": "stderr",
     "output_type": "stream",
     "text": [
      "\r",
      "Epoch 1/5:  56%|█████▌    | 1768/3166 [6:32:01<5:10:03, 13.31s/it]"
     ]
    },
    {
     "name": "stderr",
     "output_type": "stream",
     "text": [
      "\r",
      "Epoch 1/5:  56%|█████▌    | 1769/3166 [6:32:14<5:09:41, 13.30s/it]"
     ]
    },
    {
     "name": "stderr",
     "output_type": "stream",
     "text": [
      "\r",
      "Epoch 1/5:  56%|█████▌    | 1770/3166 [6:32:27<5:09:29, 13.30s/it]"
     ]
    },
    {
     "name": "stderr",
     "output_type": "stream",
     "text": [
      "\r",
      "Epoch 1/5:  56%|█████▌    | 1771/3166 [6:32:40<5:09:32, 13.31s/it]"
     ]
    },
    {
     "name": "stderr",
     "output_type": "stream",
     "text": [
      "\r",
      "Epoch 1/5:  56%|█████▌    | 1772/3166 [6:32:54<5:09:10, 13.31s/it]"
     ]
    },
    {
     "name": "stderr",
     "output_type": "stream",
     "text": [
      "\r",
      "Epoch 1/5:  56%|█████▌    | 1773/3166 [6:33:07<5:08:44, 13.30s/it]"
     ]
    },
    {
     "name": "stderr",
     "output_type": "stream",
     "text": [
      "\r",
      "Epoch 1/5:  56%|█████▌    | 1774/3166 [6:33:20<5:08:06, 13.28s/it]"
     ]
    },
    {
     "name": "stderr",
     "output_type": "stream",
     "text": [
      "\r",
      "Epoch 1/5:  56%|█████▌    | 1775/3166 [6:33:34<5:07:54, 13.28s/it]"
     ]
    },
    {
     "name": "stderr",
     "output_type": "stream",
     "text": [
      "\r",
      "Epoch 1/5:  56%|█████▌    | 1776/3166 [6:33:47<5:07:33, 13.28s/it]"
     ]
    },
    {
     "name": "stderr",
     "output_type": "stream",
     "text": [
      "\r",
      "Epoch 1/5:  56%|█████▌    | 1777/3166 [6:34:00<5:07:38, 13.29s/it]"
     ]
    },
    {
     "name": "stderr",
     "output_type": "stream",
     "text": [
      "\r",
      "Epoch 1/5:  56%|█████▌    | 1778/3166 [6:34:13<5:07:31, 13.29s/it]"
     ]
    },
    {
     "name": "stderr",
     "output_type": "stream",
     "text": [
      "\r",
      "Epoch 1/5:  56%|█████▌    | 1779/3166 [6:34:27<5:07:20, 13.29s/it]"
     ]
    },
    {
     "name": "stderr",
     "output_type": "stream",
     "text": [
      "\r",
      "Epoch 1/5:  56%|█████▌    | 1780/3166 [6:34:40<5:07:49, 13.33s/it]"
     ]
    },
    {
     "name": "stderr",
     "output_type": "stream",
     "text": [
      "\r",
      "Epoch 1/5:  56%|█████▋    | 1781/3166 [6:34:53<5:07:11, 13.31s/it]"
     ]
    },
    {
     "name": "stderr",
     "output_type": "stream",
     "text": [
      "\r",
      "Epoch 1/5:  56%|█████▋    | 1782/3166 [6:35:07<5:06:45, 13.30s/it]"
     ]
    },
    {
     "name": "stderr",
     "output_type": "stream",
     "text": [
      "\r",
      "Epoch 1/5:  56%|█████▋    | 1783/3166 [6:35:20<5:06:50, 13.31s/it]"
     ]
    },
    {
     "name": "stderr",
     "output_type": "stream",
     "text": [
      "\r",
      "Epoch 1/5:  56%|█████▋    | 1784/3166 [6:35:33<5:06:12, 13.29s/it]"
     ]
    },
    {
     "name": "stderr",
     "output_type": "stream",
     "text": [
      "\r",
      "Epoch 1/5:  56%|█████▋    | 1785/3166 [6:35:47<5:05:59, 13.29s/it]"
     ]
    },
    {
     "name": "stderr",
     "output_type": "stream",
     "text": [
      "\r",
      "Epoch 1/5:  56%|█████▋    | 1786/3166 [6:36:00<5:06:07, 13.31s/it]"
     ]
    },
    {
     "name": "stderr",
     "output_type": "stream",
     "text": [
      "\r",
      "Epoch 1/5:  56%|█████▋    | 1787/3166 [6:36:13<5:05:11, 13.28s/it]"
     ]
    },
    {
     "name": "stderr",
     "output_type": "stream",
     "text": [
      "\r",
      "Epoch 1/5:  56%|█████▋    | 1788/3166 [6:36:26<5:04:58, 13.28s/it]"
     ]
    },
    {
     "name": "stderr",
     "output_type": "stream",
     "text": [
      "\r",
      "Epoch 1/5:  57%|█████▋    | 1789/3166 [6:36:40<5:05:27, 13.31s/it]"
     ]
    },
    {
     "name": "stderr",
     "output_type": "stream",
     "text": [
      "\r",
      "Epoch 1/5:  57%|█████▋    | 1790/3166 [6:36:53<5:05:32, 13.32s/it]"
     ]
    },
    {
     "name": "stderr",
     "output_type": "stream",
     "text": [
      "\r",
      "Epoch 1/5:  57%|█████▋    | 1791/3166 [6:37:06<5:05:04, 13.31s/it]"
     ]
    },
    {
     "name": "stderr",
     "output_type": "stream",
     "text": [
      "\r",
      "Epoch 1/5:  57%|█████▋    | 1792/3166 [6:37:20<5:05:20, 13.33s/it]"
     ]
    },
    {
     "name": "stderr",
     "output_type": "stream",
     "text": [
      "\r",
      "Epoch 1/5:  57%|█████▋    | 1793/3166 [6:37:33<5:05:13, 13.34s/it]"
     ]
    },
    {
     "name": "stderr",
     "output_type": "stream",
     "text": [
      "\r",
      "Epoch 1/5:  57%|█████▋    | 1794/3166 [6:37:46<5:04:59, 13.34s/it]"
     ]
    },
    {
     "name": "stderr",
     "output_type": "stream",
     "text": [
      "\r",
      "Epoch 1/5:  57%|█████▋    | 1795/3166 [6:38:00<5:04:57, 13.35s/it]"
     ]
    },
    {
     "name": "stderr",
     "output_type": "stream",
     "text": [
      "\r",
      "Epoch 1/5:  57%|█████▋    | 1796/3166 [6:38:13<5:04:29, 13.34s/it]"
     ]
    },
    {
     "name": "stderr",
     "output_type": "stream",
     "text": [
      "\r",
      "Epoch 1/5:  57%|█████▋    | 1797/3166 [6:38:26<5:04:00, 13.32s/it]"
     ]
    },
    {
     "name": "stderr",
     "output_type": "stream",
     "text": [
      "\r",
      "Epoch 1/5:  57%|█████▋    | 1798/3166 [6:38:40<5:03:45, 13.32s/it]"
     ]
    },
    {
     "name": "stderr",
     "output_type": "stream",
     "text": [
      "\r",
      "Epoch 1/5:  57%|█████▋    | 1799/3166 [6:38:53<5:03:28, 13.32s/it]"
     ]
    },
    {
     "name": "stderr",
     "output_type": "stream",
     "text": [
      "\r",
      "Epoch 1/5:  57%|█████▋    | 1800/3166 [6:39:06<5:02:58, 13.31s/it]"
     ]
    },
    {
     "name": "stderr",
     "output_type": "stream",
     "text": [
      "\r",
      "Epoch 1/5:  57%|█████▋    | 1801/3166 [6:39:20<5:03:13, 13.33s/it]"
     ]
    },
    {
     "name": "stderr",
     "output_type": "stream",
     "text": [
      "\r",
      "Epoch 1/5:  57%|█████▋    | 1802/3166 [6:39:33<5:02:49, 13.32s/it]"
     ]
    },
    {
     "name": "stderr",
     "output_type": "stream",
     "text": [
      "\r",
      "Epoch 1/5:  57%|█████▋    | 1803/3166 [6:39:46<5:02:15, 13.31s/it]"
     ]
    },
    {
     "name": "stderr",
     "output_type": "stream",
     "text": [
      "\r",
      "Epoch 1/5:  57%|█████▋    | 1804/3166 [6:40:00<5:02:10, 13.31s/it]"
     ]
    },
    {
     "name": "stderr",
     "output_type": "stream",
     "text": [
      "\r",
      "Epoch 1/5:  57%|█████▋    | 1805/3166 [6:40:13<5:01:25, 13.29s/it]"
     ]
    },
    {
     "name": "stderr",
     "output_type": "stream",
     "text": [
      "\r",
      "Epoch 1/5:  57%|█████▋    | 1806/3166 [6:40:26<5:00:56, 13.28s/it]"
     ]
    },
    {
     "name": "stderr",
     "output_type": "stream",
     "text": [
      "\r",
      "Epoch 1/5:  57%|█████▋    | 1807/3166 [6:40:39<5:01:03, 13.29s/it]"
     ]
    },
    {
     "name": "stderr",
     "output_type": "stream",
     "text": [
      "\r",
      "Epoch 1/5:  57%|█████▋    | 1808/3166 [6:40:53<5:00:20, 13.27s/it]"
     ]
    },
    {
     "name": "stderr",
     "output_type": "stream",
     "text": [
      "\r",
      "Epoch 1/5:  57%|█████▋    | 1809/3166 [6:41:06<4:59:54, 13.26s/it]"
     ]
    },
    {
     "name": "stderr",
     "output_type": "stream",
     "text": [
      "\r",
      "Epoch 1/5:  57%|█████▋    | 1810/3166 [6:41:19<4:59:44, 13.26s/it]"
     ]
    },
    {
     "name": "stderr",
     "output_type": "stream",
     "text": [
      "\r",
      "Epoch 1/5:  57%|█████▋    | 1811/3166 [6:41:32<4:59:35, 13.27s/it]"
     ]
    },
    {
     "name": "stderr",
     "output_type": "stream",
     "text": [
      "\r",
      "Epoch 1/5:  57%|█████▋    | 1812/3166 [6:41:46<4:59:11, 13.26s/it]"
     ]
    },
    {
     "name": "stderr",
     "output_type": "stream",
     "text": [
      "\r",
      "Epoch 1/5:  57%|█████▋    | 1813/3166 [6:41:59<4:59:50, 13.30s/it]"
     ]
    },
    {
     "name": "stderr",
     "output_type": "stream",
     "text": [
      "\r",
      "Epoch 1/5:  57%|█████▋    | 1814/3166 [6:42:12<4:59:35, 13.30s/it]"
     ]
    },
    {
     "name": "stderr",
     "output_type": "stream",
     "text": [
      "\r",
      "Epoch 1/5:  57%|█████▋    | 1815/3166 [6:42:26<4:59:47, 13.31s/it]"
     ]
    },
    {
     "name": "stderr",
     "output_type": "stream",
     "text": [
      "\r",
      "Epoch 1/5:  57%|█████▋    | 1816/3166 [6:42:39<4:59:42, 13.32s/it]"
     ]
    },
    {
     "name": "stderr",
     "output_type": "stream",
     "text": [
      "\r",
      "Epoch 1/5:  57%|█████▋    | 1817/3166 [6:42:52<4:59:20, 13.31s/it]"
     ]
    },
    {
     "name": "stderr",
     "output_type": "stream",
     "text": [
      "\r",
      "Epoch 1/5:  57%|█████▋    | 1818/3166 [6:43:06<4:58:48, 13.30s/it]"
     ]
    },
    {
     "name": "stderr",
     "output_type": "stream",
     "text": [
      "\r",
      "Epoch 1/5:  57%|█████▋    | 1819/3166 [6:43:19<4:58:29, 13.30s/it]"
     ]
    },
    {
     "name": "stderr",
     "output_type": "stream",
     "text": [
      "\r",
      "Epoch 1/5:  57%|█████▋    | 1820/3166 [6:43:32<4:58:09, 13.29s/it]"
     ]
    },
    {
     "name": "stderr",
     "output_type": "stream",
     "text": [
      "\r",
      "Epoch 1/5:  58%|█████▊    | 1821/3166 [6:43:45<4:57:39, 13.28s/it]"
     ]
    },
    {
     "name": "stderr",
     "output_type": "stream",
     "text": [
      "\r",
      "Epoch 1/5:  58%|█████▊    | 1822/3166 [6:43:59<4:57:52, 13.30s/it]"
     ]
    },
    {
     "name": "stderr",
     "output_type": "stream",
     "text": [
      "\r",
      "Epoch 1/5:  58%|█████▊    | 1823/3166 [6:44:12<4:57:31, 13.29s/it]"
     ]
    },
    {
     "name": "stderr",
     "output_type": "stream",
     "text": [
      "\r",
      "Epoch 1/5:  58%|█████▊    | 1824/3166 [6:44:25<4:57:49, 13.32s/it]"
     ]
    },
    {
     "name": "stderr",
     "output_type": "stream",
     "text": [
      "\r",
      "Epoch 1/5:  58%|█████▊    | 1825/3166 [6:44:39<4:57:49, 13.33s/it]"
     ]
    },
    {
     "name": "stderr",
     "output_type": "stream",
     "text": [
      "\r",
      "Epoch 1/5:  58%|█████▊    | 1826/3166 [6:44:52<4:57:38, 13.33s/it]"
     ]
    },
    {
     "name": "stderr",
     "output_type": "stream",
     "text": [
      "\r",
      "Epoch 1/5:  58%|█████▊    | 1827/3166 [6:45:05<4:57:01, 13.31s/it]"
     ]
    },
    {
     "name": "stderr",
     "output_type": "stream",
     "text": [
      "\r",
      "Epoch 1/5:  58%|█████▊    | 1828/3166 [6:45:19<4:56:36, 13.30s/it]"
     ]
    },
    {
     "name": "stderr",
     "output_type": "stream",
     "text": [
      "\r",
      "Epoch 1/5:  58%|█████▊    | 1829/3166 [6:45:32<4:56:20, 13.30s/it]"
     ]
    },
    {
     "name": "stderr",
     "output_type": "stream",
     "text": [
      "\r",
      "Epoch 1/5:  58%|█████▊    | 1830/3166 [6:45:45<4:55:58, 13.29s/it]"
     ]
    },
    {
     "name": "stderr",
     "output_type": "stream",
     "text": [
      "\r",
      "Epoch 1/5:  58%|█████▊    | 1831/3166 [6:45:59<4:56:02, 13.31s/it]"
     ]
    },
    {
     "name": "stderr",
     "output_type": "stream",
     "text": [
      "\r",
      "Epoch 1/5:  58%|█████▊    | 1832/3166 [6:46:12<4:55:27, 13.29s/it]"
     ]
    },
    {
     "name": "stderr",
     "output_type": "stream",
     "text": [
      "\r",
      "Epoch 1/5:  58%|█████▊    | 1833/3166 [6:46:25<4:54:54, 13.27s/it]"
     ]
    },
    {
     "name": "stderr",
     "output_type": "stream",
     "text": [
      "\r",
      "Epoch 1/5:  58%|█████▊    | 1834/3166 [6:46:38<4:55:15, 13.30s/it]"
     ]
    },
    {
     "name": "stderr",
     "output_type": "stream",
     "text": [
      "\r",
      "Epoch 1/5:  58%|█████▊    | 1835/3166 [6:46:52<4:54:48, 13.29s/it]"
     ]
    },
    {
     "name": "stderr",
     "output_type": "stream",
     "text": [
      "\r",
      "Epoch 1/5:  58%|█████▊    | 1836/3166 [6:47:05<4:54:43, 13.30s/it]"
     ]
    },
    {
     "name": "stderr",
     "output_type": "stream",
     "text": [
      "\r",
      "Epoch 1/5:  58%|█████▊    | 1837/3166 [6:47:18<4:54:51, 13.31s/it]"
     ]
    },
    {
     "name": "stderr",
     "output_type": "stream",
     "text": [
      "\r",
      "Epoch 1/5:  58%|█████▊    | 1838/3166 [6:47:32<4:55:05, 13.33s/it]"
     ]
    },
    {
     "name": "stderr",
     "output_type": "stream",
     "text": [
      "\r",
      "Epoch 1/5:  58%|█████▊    | 1839/3166 [6:47:45<4:54:55, 13.33s/it]"
     ]
    },
    {
     "name": "stderr",
     "output_type": "stream",
     "text": [
      "\r",
      "Epoch 1/5:  58%|█████▊    | 1840/3166 [6:47:58<4:54:42, 13.33s/it]"
     ]
    },
    {
     "name": "stderr",
     "output_type": "stream",
     "text": [
      "\r",
      "Epoch 1/5:  58%|█████▊    | 1841/3166 [6:48:12<4:54:18, 13.33s/it]"
     ]
    },
    {
     "name": "stderr",
     "output_type": "stream",
     "text": [
      "\r",
      "Epoch 1/5:  58%|█████▊    | 1842/3166 [6:48:25<4:53:44, 13.31s/it]"
     ]
    },
    {
     "name": "stderr",
     "output_type": "stream",
     "text": [
      "\r",
      "Epoch 1/5:  58%|█████▊    | 1843/3166 [6:48:38<4:53:56, 13.33s/it]"
     ]
    },
    {
     "name": "stderr",
     "output_type": "stream",
     "text": [
      "\r",
      "Epoch 1/5:  58%|█████▊    | 1844/3166 [6:48:52<4:53:17, 13.31s/it]"
     ]
    },
    {
     "name": "stderr",
     "output_type": "stream",
     "text": [
      "\r",
      "Epoch 1/5:  58%|█████▊    | 1845/3166 [6:49:05<4:52:49, 13.30s/it]"
     ]
    },
    {
     "name": "stderr",
     "output_type": "stream",
     "text": [
      "\r",
      "Epoch 1/5:  58%|█████▊    | 1846/3166 [6:49:18<4:52:58, 13.32s/it]"
     ]
    },
    {
     "name": "stderr",
     "output_type": "stream",
     "text": [
      "\r",
      "Epoch 1/5:  58%|█████▊    | 1847/3166 [6:49:31<4:52:14, 13.29s/it]"
     ]
    },
    {
     "name": "stderr",
     "output_type": "stream",
     "text": [
      "\r",
      "Epoch 1/5:  58%|█████▊    | 1848/3166 [6:49:45<4:52:13, 13.30s/it]"
     ]
    },
    {
     "name": "stderr",
     "output_type": "stream",
     "text": [
      "\r",
      "Epoch 1/5:  58%|█████▊    | 1849/3166 [6:49:58<4:52:15, 13.31s/it]"
     ]
    },
    {
     "name": "stderr",
     "output_type": "stream",
     "text": [
      "\r",
      "Epoch 1/5:  58%|█████▊    | 1850/3166 [6:50:11<4:51:54, 13.31s/it]"
     ]
    },
    {
     "name": "stderr",
     "output_type": "stream",
     "text": [
      "\r",
      "Epoch 1/5:  58%|█████▊    | 1851/3166 [6:50:25<4:51:44, 13.31s/it]"
     ]
    },
    {
     "name": "stderr",
     "output_type": "stream",
     "text": [
      "\r",
      "Epoch 1/5:  58%|█████▊    | 1852/3166 [6:50:38<4:52:14, 13.34s/it]"
     ]
    },
    {
     "name": "stderr",
     "output_type": "stream",
     "text": [
      "\r",
      "Epoch 1/5:  59%|█████▊    | 1853/3166 [6:50:51<4:51:33, 13.32s/it]"
     ]
    },
    {
     "name": "stderr",
     "output_type": "stream",
     "text": [
      "\r",
      "Epoch 1/5:  59%|█████▊    | 1854/3166 [6:51:05<4:50:56, 13.31s/it]"
     ]
    },
    {
     "name": "stderr",
     "output_type": "stream",
     "text": [
      "\r",
      "Epoch 1/5:  59%|█████▊    | 1855/3166 [6:51:18<4:50:40, 13.30s/it]"
     ]
    },
    {
     "name": "stderr",
     "output_type": "stream",
     "text": [
      "\r",
      "Epoch 1/5:  59%|█████▊    | 1856/3166 [6:51:31<4:50:25, 13.30s/it]"
     ]
    },
    {
     "name": "stderr",
     "output_type": "stream",
     "text": [
      "\r",
      "Epoch 1/5:  59%|█████▊    | 1857/3166 [6:51:45<4:50:17, 13.31s/it]"
     ]
    },
    {
     "name": "stderr",
     "output_type": "stream",
     "text": [
      "\r",
      "Epoch 1/5:  59%|█████▊    | 1858/3166 [6:51:58<4:50:09, 13.31s/it]"
     ]
    },
    {
     "name": "stderr",
     "output_type": "stream",
     "text": [
      "\r",
      "Epoch 1/5:  59%|█████▊    | 1859/3166 [6:52:11<4:50:01, 13.31s/it]"
     ]
    },
    {
     "name": "stderr",
     "output_type": "stream",
     "text": [
      "\r",
      "Epoch 1/5:  59%|█████▊    | 1860/3166 [6:52:25<4:49:27, 13.30s/it]"
     ]
    },
    {
     "name": "stderr",
     "output_type": "stream",
     "text": [
      "\r",
      "Epoch 1/5:  59%|█████▉    | 1861/3166 [6:52:38<4:49:43, 13.32s/it]"
     ]
    },
    {
     "name": "stderr",
     "output_type": "stream",
     "text": [
      "\r",
      "Epoch 1/5:  59%|█████▉    | 1862/3166 [6:52:51<4:49:27, 13.32s/it]"
     ]
    },
    {
     "name": "stderr",
     "output_type": "stream",
     "text": [
      "\r",
      "Epoch 1/5:  59%|█████▉    | 1863/3166 [6:53:05<4:49:15, 13.32s/it]"
     ]
    },
    {
     "name": "stderr",
     "output_type": "stream",
     "text": [
      "\r",
      "Epoch 1/5:  59%|█████▉    | 1864/3166 [6:53:18<4:49:12, 13.33s/it]"
     ]
    },
    {
     "name": "stderr",
     "output_type": "stream",
     "text": [
      "\r",
      "Epoch 1/5:  59%|█████▉    | 1865/3166 [6:53:31<4:48:57, 13.33s/it]"
     ]
    },
    {
     "name": "stderr",
     "output_type": "stream",
     "text": [
      "\r",
      "Epoch 1/5:  59%|█████▉    | 1866/3166 [6:53:45<4:48:42, 13.32s/it]"
     ]
    },
    {
     "name": "stderr",
     "output_type": "stream",
     "text": [
      "\r",
      "Epoch 1/5:  59%|█████▉    | 1867/3166 [6:53:58<4:48:59, 13.35s/it]"
     ]
    },
    {
     "name": "stderr",
     "output_type": "stream",
     "text": [
      "\r",
      "Epoch 1/5:  59%|█████▉    | 1868/3166 [6:54:11<4:48:28, 13.33s/it]"
     ]
    },
    {
     "name": "stderr",
     "output_type": "stream",
     "text": [
      "\r",
      "Epoch 1/5:  59%|█████▉    | 1869/3166 [6:54:25<4:47:43, 13.31s/it]"
     ]
    },
    {
     "name": "stderr",
     "output_type": "stream",
     "text": [
      "\r",
      "Epoch 1/5:  59%|█████▉    | 1870/3166 [6:54:38<4:47:54, 13.33s/it]"
     ]
    },
    {
     "name": "stderr",
     "output_type": "stream",
     "text": [
      "\r",
      "Epoch 1/5:  59%|█████▉    | 1871/3166 [6:54:51<4:47:27, 13.32s/it]"
     ]
    },
    {
     "name": "stderr",
     "output_type": "stream",
     "text": [
      "\r",
      "Epoch 1/5:  59%|█████▉    | 1872/3166 [6:55:04<4:47:05, 13.31s/it]"
     ]
    },
    {
     "name": "stderr",
     "output_type": "stream",
     "text": [
      "\r",
      "Epoch 1/5:  59%|█████▉    | 1873/3166 [6:55:18<4:47:09, 13.33s/it]"
     ]
    },
    {
     "name": "stderr",
     "output_type": "stream",
     "text": [
      "\r",
      "Epoch 1/5:  59%|█████▉    | 1874/3166 [6:55:31<4:46:50, 13.32s/it]"
     ]
    },
    {
     "name": "stderr",
     "output_type": "stream",
     "text": [
      "\r",
      "Epoch 1/5:  59%|█████▉    | 1875/3166 [6:55:44<4:46:13, 13.30s/it]"
     ]
    },
    {
     "name": "stderr",
     "output_type": "stream",
     "text": [
      "\r",
      "Epoch 1/5:  59%|█████▉    | 1876/3166 [6:55:58<4:46:51, 13.34s/it]"
     ]
    },
    {
     "name": "stderr",
     "output_type": "stream",
     "text": [
      "\r",
      "Epoch 1/5:  59%|█████▉    | 1877/3166 [6:56:11<4:46:15, 13.32s/it]"
     ]
    },
    {
     "name": "stderr",
     "output_type": "stream",
     "text": [
      "\r",
      "Epoch 1/5:  59%|█████▉    | 1878/3166 [6:56:24<4:45:49, 13.31s/it]"
     ]
    },
    {
     "name": "stderr",
     "output_type": "stream",
     "text": [
      "\r",
      "Epoch 1/5:  59%|█████▉    | 1879/3166 [6:56:38<4:45:53, 13.33s/it]"
     ]
    },
    {
     "name": "stderr",
     "output_type": "stream",
     "text": [
      "\r",
      "Epoch 1/5:  59%|█████▉    | 1880/3166 [6:56:51<4:45:21, 13.31s/it]"
     ]
    },
    {
     "name": "stderr",
     "output_type": "stream",
     "text": [
      "\r",
      "Epoch 1/5:  59%|█████▉    | 1881/3166 [6:57:04<4:45:03, 13.31s/it]"
     ]
    },
    {
     "name": "stderr",
     "output_type": "stream",
     "text": [
      "\r",
      "Epoch 1/5:  59%|█████▉    | 1882/3166 [6:57:18<4:45:14, 13.33s/it]"
     ]
    },
    {
     "name": "stderr",
     "output_type": "stream",
     "text": [
      "\r",
      "Epoch 1/5:  59%|█████▉    | 1883/3166 [6:57:31<4:45:17, 13.34s/it]"
     ]
    },
    {
     "name": "stderr",
     "output_type": "stream",
     "text": [
      "\r",
      "Epoch 1/5:  60%|█████▉    | 1884/3166 [6:57:44<4:44:58, 13.34s/it]"
     ]
    },
    {
     "name": "stderr",
     "output_type": "stream",
     "text": [
      "\r",
      "Epoch 1/5:  60%|█████▉    | 1885/3166 [6:57:58<4:45:11, 13.36s/it]"
     ]
    },
    {
     "name": "stderr",
     "output_type": "stream",
     "text": [
      "\r",
      "Epoch 1/5:  60%|█████▉    | 1886/3166 [6:58:11<4:44:18, 13.33s/it]"
     ]
    },
    {
     "name": "stderr",
     "output_type": "stream",
     "text": [
      "\r",
      "Epoch 1/5:  60%|█████▉    | 1887/3166 [6:58:24<4:43:43, 13.31s/it]"
     ]
    },
    {
     "name": "stderr",
     "output_type": "stream",
     "text": [
      "\r",
      "Epoch 1/5:  60%|█████▉    | 1888/3166 [6:58:38<4:43:53, 13.33s/it]"
     ]
    },
    {
     "name": "stderr",
     "output_type": "stream",
     "text": [
      "\r",
      "Epoch 1/5:  60%|█████▉    | 1889/3166 [6:58:51<4:43:43, 13.33s/it]"
     ]
    },
    {
     "name": "stderr",
     "output_type": "stream",
     "text": [
      "\r",
      "Epoch 1/5:  60%|█████▉    | 1890/3166 [6:59:04<4:43:16, 13.32s/it]"
     ]
    },
    {
     "name": "stderr",
     "output_type": "stream",
     "text": [
      "\r",
      "Epoch 1/5:  60%|█████▉    | 1891/3166 [6:59:18<4:43:17, 13.33s/it]"
     ]
    },
    {
     "name": "stderr",
     "output_type": "stream",
     "text": [
      "\r",
      "Epoch 1/5:  60%|█████▉    | 1892/3166 [6:59:31<4:42:45, 13.32s/it]"
     ]
    },
    {
     "name": "stderr",
     "output_type": "stream",
     "text": [
      "\r",
      "Epoch 1/5:  60%|█████▉    | 1893/3166 [6:59:44<4:42:36, 13.32s/it]"
     ]
    },
    {
     "name": "stderr",
     "output_type": "stream",
     "text": [
      "\r",
      "Epoch 1/5:  60%|█████▉    | 1894/3166 [6:59:58<4:42:35, 13.33s/it]"
     ]
    },
    {
     "name": "stderr",
     "output_type": "stream",
     "text": [
      "\r",
      "Epoch 1/5:  60%|█████▉    | 1895/3166 [7:00:11<4:42:19, 13.33s/it]"
     ]
    },
    {
     "name": "stderr",
     "output_type": "stream",
     "text": [
      "\r",
      "Epoch 1/5:  60%|█████▉    | 1896/3166 [7:00:24<4:41:59, 13.32s/it]"
     ]
    },
    {
     "name": "stderr",
     "output_type": "stream",
     "text": [
      "\r",
      "Epoch 1/5:  60%|█████▉    | 1897/3166 [7:00:38<4:42:26, 13.35s/it]"
     ]
    },
    {
     "name": "stderr",
     "output_type": "stream",
     "text": [
      "\r",
      "Epoch 1/5:  60%|█████▉    | 1898/3166 [7:00:51<4:41:35, 13.32s/it]"
     ]
    },
    {
     "name": "stderr",
     "output_type": "stream",
     "text": [
      "\r",
      "Epoch 1/5:  60%|█████▉    | 1899/3166 [7:01:04<4:40:58, 13.31s/it]"
     ]
    },
    {
     "name": "stderr",
     "output_type": "stream",
     "text": [
      "\r",
      "Epoch 1/5:  60%|██████    | 1900/3166 [7:01:18<4:40:54, 13.31s/it]"
     ]
    },
    {
     "name": "stderr",
     "output_type": "stream",
     "text": [
      "\r",
      "Epoch 1/5:  60%|██████    | 1901/3166 [7:01:31<4:40:29, 13.30s/it]"
     ]
    },
    {
     "name": "stderr",
     "output_type": "stream",
     "text": [
      "\r",
      "Epoch 1/5:  60%|██████    | 1902/3166 [7:01:44<4:40:14, 13.30s/it]"
     ]
    },
    {
     "name": "stderr",
     "output_type": "stream",
     "text": [
      "\r",
      "Epoch 1/5:  60%|██████    | 1903/3166 [7:01:57<4:40:10, 13.31s/it]"
     ]
    },
    {
     "name": "stderr",
     "output_type": "stream",
     "text": [
      "\r",
      "Epoch 1/5:  60%|██████    | 1904/3166 [7:02:11<4:39:34, 13.29s/it]"
     ]
    },
    {
     "name": "stderr",
     "output_type": "stream",
     "text": [
      "\r",
      "Epoch 1/5:  60%|██████    | 1905/3166 [7:02:24<4:39:21, 13.29s/it]"
     ]
    },
    {
     "name": "stderr",
     "output_type": "stream",
     "text": [
      "\r",
      "Epoch 1/5:  60%|██████    | 1906/3166 [7:02:37<4:39:51, 13.33s/it]"
     ]
    },
    {
     "name": "stderr",
     "output_type": "stream",
     "text": [
      "\r",
      "Epoch 1/5:  60%|██████    | 1907/3166 [7:02:51<4:39:47, 13.33s/it]"
     ]
    },
    {
     "name": "stderr",
     "output_type": "stream",
     "text": [
      "\r",
      "Epoch 1/5:  60%|██████    | 1908/3166 [7:03:04<4:39:21, 13.32s/it]"
     ]
    },
    {
     "name": "stderr",
     "output_type": "stream",
     "text": [
      "\r",
      "Epoch 1/5:  60%|██████    | 1909/3166 [7:03:17<4:39:13, 13.33s/it]"
     ]
    },
    {
     "name": "stderr",
     "output_type": "stream",
     "text": [
      "\r",
      "Epoch 1/5:  60%|██████    | 1910/3166 [7:03:31<4:38:38, 13.31s/it]"
     ]
    },
    {
     "name": "stderr",
     "output_type": "stream",
     "text": [
      "\r",
      "Epoch 1/5:  60%|██████    | 1911/3166 [7:03:44<4:38:22, 13.31s/it]"
     ]
    },
    {
     "name": "stderr",
     "output_type": "stream",
     "text": [
      "\r",
      "Epoch 1/5:  60%|██████    | 1912/3166 [7:03:57<4:38:58, 13.35s/it]"
     ]
    },
    {
     "name": "stderr",
     "output_type": "stream",
     "text": [
      "\r",
      "Epoch 1/5:  60%|██████    | 1913/3166 [7:04:11<4:38:33, 13.34s/it]"
     ]
    },
    {
     "name": "stderr",
     "output_type": "stream",
     "text": [
      "\r",
      "Epoch 1/5:  60%|██████    | 1914/3166 [7:04:24<4:37:54, 13.32s/it]"
     ]
    },
    {
     "name": "stderr",
     "output_type": "stream",
     "text": [
      "\r",
      "Epoch 1/5:  60%|██████    | 1915/3166 [7:04:37<4:37:44, 13.32s/it]"
     ]
    },
    {
     "name": "stderr",
     "output_type": "stream",
     "text": [
      "\r",
      "Epoch 1/5:  61%|██████    | 1916/3166 [7:04:51<4:37:36, 13.32s/it]"
     ]
    },
    {
     "name": "stderr",
     "output_type": "stream",
     "text": [
      "\r",
      "Epoch 1/5:  61%|██████    | 1917/3166 [7:05:04<4:37:26, 13.33s/it]"
     ]
    },
    {
     "name": "stderr",
     "output_type": "stream",
     "text": [
      "\r",
      "Epoch 1/5:  61%|██████    | 1918/3166 [7:05:17<4:37:17, 13.33s/it]"
     ]
    },
    {
     "name": "stderr",
     "output_type": "stream",
     "text": [
      "\r",
      "Epoch 1/5:  61%|██████    | 1919/3166 [7:05:31<4:36:31, 13.31s/it]"
     ]
    },
    {
     "name": "stderr",
     "output_type": "stream",
     "text": [
      "\r",
      "Epoch 1/5:  61%|██████    | 1920/3166 [7:05:44<4:35:32, 13.27s/it]"
     ]
    },
    {
     "name": "stderr",
     "output_type": "stream",
     "text": [
      "\r",
      "Epoch 1/5:  61%|██████    | 1921/3166 [7:05:57<4:35:52, 13.29s/it]"
     ]
    },
    {
     "name": "stderr",
     "output_type": "stream",
     "text": [
      "\r",
      "Epoch 1/5:  61%|██████    | 1922/3166 [7:06:10<4:35:33, 13.29s/it]"
     ]
    },
    {
     "name": "stderr",
     "output_type": "stream",
     "text": [
      "\r",
      "Epoch 1/5:  61%|██████    | 1923/3166 [7:06:24<4:35:21, 13.29s/it]"
     ]
    },
    {
     "name": "stderr",
     "output_type": "stream",
     "text": [
      "\r",
      "Epoch 1/5:  61%|██████    | 1924/3166 [7:06:37<4:35:03, 13.29s/it]"
     ]
    },
    {
     "name": "stderr",
     "output_type": "stream",
     "text": [
      "\r",
      "Epoch 1/5:  61%|██████    | 1925/3166 [7:06:50<4:34:22, 13.27s/it]"
     ]
    },
    {
     "name": "stderr",
     "output_type": "stream",
     "text": [
      "\r",
      "Epoch 1/5:  61%|██████    | 1926/3166 [7:07:03<4:33:51, 13.25s/it]"
     ]
    },
    {
     "name": "stderr",
     "output_type": "stream",
     "text": [
      "\r",
      "Epoch 1/5:  61%|██████    | 1927/3166 [7:07:17<4:34:04, 13.27s/it]"
     ]
    },
    {
     "name": "stderr",
     "output_type": "stream",
     "text": [
      "\r",
      "Epoch 1/5:  61%|██████    | 1928/3166 [7:07:30<4:33:31, 13.26s/it]"
     ]
    },
    {
     "name": "stderr",
     "output_type": "stream",
     "text": [
      "\r",
      "Epoch 1/5:  61%|██████    | 1929/3166 [7:07:43<4:33:12, 13.25s/it]"
     ]
    },
    {
     "name": "stderr",
     "output_type": "stream",
     "text": [
      "\r",
      "Epoch 1/5:  61%|██████    | 1930/3166 [7:07:57<4:33:45, 13.29s/it]"
     ]
    },
    {
     "name": "stderr",
     "output_type": "stream",
     "text": [
      "\r",
      "Epoch 1/5:  61%|██████    | 1931/3166 [7:08:10<4:33:13, 13.27s/it]"
     ]
    },
    {
     "name": "stderr",
     "output_type": "stream",
     "text": [
      "\r",
      "Epoch 1/5:  61%|██████    | 1932/3166 [7:08:23<4:33:14, 13.29s/it]"
     ]
    },
    {
     "name": "stderr",
     "output_type": "stream",
     "text": [
      "\r",
      "Epoch 1/5:  61%|██████    | 1933/3166 [7:08:36<4:33:07, 13.29s/it]"
     ]
    },
    {
     "name": "stderr",
     "output_type": "stream",
     "text": [
      "\r",
      "Epoch 1/5:  61%|██████    | 1934/3166 [7:08:50<4:33:08, 13.30s/it]"
     ]
    },
    {
     "name": "stderr",
     "output_type": "stream",
     "text": [
      "\r",
      "Epoch 1/5:  61%|██████    | 1935/3166 [7:09:03<4:32:41, 13.29s/it]"
     ]
    },
    {
     "name": "stderr",
     "output_type": "stream",
     "text": [
      "\r",
      "Epoch 1/5:  61%|██████    | 1936/3166 [7:09:16<4:32:35, 13.30s/it]"
     ]
    },
    {
     "name": "stderr",
     "output_type": "stream",
     "text": [
      "\r",
      "Epoch 1/5:  61%|██████    | 1937/3166 [7:09:30<4:32:14, 13.29s/it]"
     ]
    },
    {
     "name": "stderr",
     "output_type": "stream",
     "text": [
      "\r",
      "Epoch 1/5:  61%|██████    | 1938/3166 [7:09:43<4:31:39, 13.27s/it]"
     ]
    },
    {
     "name": "stderr",
     "output_type": "stream",
     "text": [
      "\r",
      "Epoch 1/5:  61%|██████    | 1939/3166 [7:09:56<4:31:55, 13.30s/it]"
     ]
    },
    {
     "name": "stderr",
     "output_type": "stream",
     "text": [
      "\r",
      "Epoch 1/5:  61%|██████▏   | 1940/3166 [7:10:10<4:31:41, 13.30s/it]"
     ]
    },
    {
     "name": "stderr",
     "output_type": "stream",
     "text": [
      "\r",
      "Epoch 1/5:  61%|██████▏   | 1941/3166 [7:10:23<4:31:23, 13.29s/it]"
     ]
    },
    {
     "name": "stderr",
     "output_type": "stream",
     "text": [
      "\r",
      "Epoch 1/5:  61%|██████▏   | 1942/3166 [7:10:36<4:31:32, 13.31s/it]"
     ]
    },
    {
     "name": "stderr",
     "output_type": "stream",
     "text": [
      "\r",
      "Epoch 1/5:  61%|██████▏   | 1943/3166 [7:10:49<4:30:49, 13.29s/it]"
     ]
    },
    {
     "name": "stderr",
     "output_type": "stream",
     "text": [
      "\r",
      "Epoch 1/5:  61%|██████▏   | 1944/3166 [7:11:03<4:30:28, 13.28s/it]"
     ]
    },
    {
     "name": "stderr",
     "output_type": "stream",
     "text": [
      "\r",
      "Epoch 1/5:  61%|██████▏   | 1945/3166 [7:11:16<4:30:32, 13.29s/it]"
     ]
    },
    {
     "name": "stderr",
     "output_type": "stream",
     "text": [
      "\r",
      "Epoch 1/5:  61%|██████▏   | 1946/3166 [7:11:29<4:30:08, 13.29s/it]"
     ]
    },
    {
     "name": "stderr",
     "output_type": "stream",
     "text": [
      "\r",
      "Epoch 1/5:  61%|██████▏   | 1947/3166 [7:11:43<4:29:58, 13.29s/it]"
     ]
    },
    {
     "name": "stderr",
     "output_type": "stream",
     "text": [
      "\r",
      "Epoch 1/5:  62%|██████▏   | 1948/3166 [7:11:56<4:29:58, 13.30s/it]"
     ]
    },
    {
     "name": "stderr",
     "output_type": "stream",
     "text": [
      "\r",
      "Epoch 1/5:  62%|██████▏   | 1949/3166 [7:12:09<4:29:14, 13.27s/it]"
     ]
    },
    {
     "name": "stderr",
     "output_type": "stream",
     "text": [
      "\r",
      "Epoch 1/5:  62%|██████▏   | 1950/3166 [7:12:22<4:28:37, 13.25s/it]"
     ]
    },
    {
     "name": "stderr",
     "output_type": "stream",
     "text": [
      "\r",
      "Epoch 1/5:  62%|██████▏   | 1951/3166 [7:12:36<4:28:48, 13.27s/it]"
     ]
    },
    {
     "name": "stderr",
     "output_type": "stream",
     "text": [
      "\r",
      "Epoch 1/5:  62%|██████▏   | 1952/3166 [7:12:49<4:28:37, 13.28s/it]"
     ]
    },
    {
     "name": "stderr",
     "output_type": "stream",
     "text": [
      "\r",
      "Epoch 1/5:  62%|██████▏   | 1953/3166 [7:13:02<4:28:30, 13.28s/it]"
     ]
    },
    {
     "name": "stderr",
     "output_type": "stream",
     "text": [
      "\r",
      "Epoch 1/5:  62%|██████▏   | 1954/3166 [7:13:15<4:28:16, 13.28s/it]"
     ]
    },
    {
     "name": "stderr",
     "output_type": "stream",
     "text": [
      "\r",
      "Epoch 1/5:  62%|██████▏   | 1955/3166 [7:13:29<4:27:57, 13.28s/it]"
     ]
    },
    {
     "name": "stderr",
     "output_type": "stream",
     "text": [
      "\r",
      "Epoch 1/5:  62%|██████▏   | 1956/3166 [7:13:42<4:27:40, 13.27s/it]"
     ]
    },
    {
     "name": "stderr",
     "output_type": "stream",
     "text": [
      "\r",
      "Epoch 1/5:  62%|██████▏   | 1957/3166 [7:13:55<4:28:10, 13.31s/it]"
     ]
    },
    {
     "name": "stderr",
     "output_type": "stream",
     "text": [
      "\r",
      "Epoch 1/5:  62%|██████▏   | 1958/3166 [7:14:09<4:27:28, 13.29s/it]"
     ]
    },
    {
     "name": "stderr",
     "output_type": "stream",
     "text": [
      "\r",
      "Epoch 1/5:  62%|██████▏   | 1959/3166 [7:14:22<4:27:15, 13.29s/it]"
     ]
    },
    {
     "name": "stderr",
     "output_type": "stream",
     "text": [
      "\r",
      "Epoch 1/5:  62%|██████▏   | 1960/3166 [7:14:35<4:27:30, 13.31s/it]"
     ]
    },
    {
     "name": "stderr",
     "output_type": "stream",
     "text": [
      "\r",
      "Epoch 1/5:  62%|██████▏   | 1961/3166 [7:14:49<4:27:35, 13.32s/it]"
     ]
    },
    {
     "name": "stderr",
     "output_type": "stream",
     "text": [
      "\r",
      "Epoch 1/5:  62%|██████▏   | 1962/3166 [7:15:02<4:27:20, 13.32s/it]"
     ]
    },
    {
     "name": "stderr",
     "output_type": "stream",
     "text": [
      "\r",
      "Epoch 1/5:  62%|██████▏   | 1963/3166 [7:15:15<4:27:33, 13.34s/it]"
     ]
    },
    {
     "name": "stderr",
     "output_type": "stream",
     "text": [
      "\r",
      "Epoch 1/5:  62%|██████▏   | 1964/3166 [7:15:29<4:27:11, 13.34s/it]"
     ]
    },
    {
     "name": "stderr",
     "output_type": "stream",
     "text": [
      "\r",
      "Epoch 1/5:  62%|██████▏   | 1965/3166 [7:15:42<4:27:10, 13.35s/it]"
     ]
    },
    {
     "name": "stderr",
     "output_type": "stream",
     "text": [
      "\r",
      "Epoch 1/5:  62%|██████▏   | 1966/3166 [7:15:55<4:27:30, 13.38s/it]"
     ]
    },
    {
     "name": "stderr",
     "output_type": "stream",
     "text": [
      "\r",
      "Epoch 1/5:  62%|██████▏   | 1967/3166 [7:16:09<4:26:59, 13.36s/it]"
     ]
    },
    {
     "name": "stderr",
     "output_type": "stream",
     "text": [
      "\r",
      "Epoch 1/5:  62%|██████▏   | 1968/3166 [7:16:22<4:26:31, 13.35s/it]"
     ]
    },
    {
     "name": "stderr",
     "output_type": "stream",
     "text": [
      "\r",
      "Epoch 1/5:  62%|██████▏   | 1969/3166 [7:16:35<4:26:30, 13.36s/it]"
     ]
    },
    {
     "name": "stderr",
     "output_type": "stream",
     "text": [
      "\r",
      "Epoch 1/5:  62%|██████▏   | 1970/3166 [7:16:49<4:25:51, 13.34s/it]"
     ]
    },
    {
     "name": "stderr",
     "output_type": "stream",
     "text": [
      "\r",
      "Epoch 1/5:  62%|██████▏   | 1971/3166 [7:17:02<4:25:14, 13.32s/it]"
     ]
    },
    {
     "name": "stderr",
     "output_type": "stream",
     "text": [
      "\r",
      "Epoch 1/5:  62%|██████▏   | 1972/3166 [7:17:15<4:24:54, 13.31s/it]"
     ]
    },
    {
     "name": "stderr",
     "output_type": "stream",
     "text": [
      "\r",
      "Epoch 1/5:  62%|██████▏   | 1973/3166 [7:17:29<4:24:48, 13.32s/it]"
     ]
    },
    {
     "name": "stderr",
     "output_type": "stream",
     "text": [
      "\r",
      "Epoch 1/5:  62%|██████▏   | 1974/3166 [7:17:42<4:26:07, 13.40s/it]"
     ]
    },
    {
     "name": "stderr",
     "output_type": "stream",
     "text": [
      "\r",
      "Epoch 1/5:  62%|██████▏   | 1975/3166 [7:17:56<4:26:25, 13.42s/it]"
     ]
    },
    {
     "name": "stderr",
     "output_type": "stream",
     "text": [
      "\r",
      "Epoch 1/5:  62%|██████▏   | 1976/3166 [7:18:09<4:25:38, 13.39s/it]"
     ]
    },
    {
     "name": "stderr",
     "output_type": "stream",
     "text": [
      "\r",
      "Epoch 1/5:  62%|██████▏   | 1977/3166 [7:18:22<4:24:54, 13.37s/it]"
     ]
    },
    {
     "name": "stderr",
     "output_type": "stream",
     "text": [
      "\r",
      "Epoch 1/5:  62%|██████▏   | 1978/3166 [7:18:36<4:24:53, 13.38s/it]"
     ]
    },
    {
     "name": "stderr",
     "output_type": "stream",
     "text": [
      "\r",
      "Epoch 1/5:  63%|██████▎   | 1979/3166 [7:18:49<4:24:33, 13.37s/it]"
     ]
    },
    {
     "name": "stderr",
     "output_type": "stream",
     "text": [
      "\r",
      "Epoch 1/5:  63%|██████▎   | 1980/3166 [7:19:02<4:24:04, 13.36s/it]"
     ]
    },
    {
     "name": "stderr",
     "output_type": "stream",
     "text": [
      "\r",
      "Epoch 1/5:  63%|██████▎   | 1981/3166 [7:19:16<4:24:00, 13.37s/it]"
     ]
    },
    {
     "name": "stderr",
     "output_type": "stream",
     "text": [
      "\r",
      "Epoch 1/5:  63%|██████▎   | 1982/3166 [7:19:29<4:23:16, 13.34s/it]"
     ]
    },
    {
     "name": "stderr",
     "output_type": "stream",
     "text": [
      "\r",
      "Epoch 1/5:  63%|██████▎   | 1983/3166 [7:19:42<4:23:07, 13.35s/it]"
     ]
    },
    {
     "name": "stderr",
     "output_type": "stream",
     "text": [
      "\r",
      "Epoch 1/5:  63%|██████▎   | 1984/3166 [7:19:56<4:23:12, 13.36s/it]"
     ]
    },
    {
     "name": "stderr",
     "output_type": "stream",
     "text": [
      "\r",
      "Epoch 1/5:  63%|██████▎   | 1985/3166 [7:20:09<4:22:36, 13.34s/it]"
     ]
    },
    {
     "name": "stderr",
     "output_type": "stream",
     "text": [
      "\r",
      "Epoch 1/5:  63%|██████▎   | 1986/3166 [7:20:23<4:22:20, 13.34s/it]"
     ]
    },
    {
     "name": "stderr",
     "output_type": "stream",
     "text": [
      "\r",
      "Epoch 1/5:  63%|██████▎   | 1987/3166 [7:20:36<4:22:20, 13.35s/it]"
     ]
    },
    {
     "name": "stderr",
     "output_type": "stream",
     "text": [
      "\r",
      "Epoch 1/5:  63%|██████▎   | 1988/3166 [7:20:49<4:21:56, 13.34s/it]"
     ]
    },
    {
     "name": "stderr",
     "output_type": "stream",
     "text": [
      "\r",
      "Epoch 1/5:  63%|██████▎   | 1989/3166 [7:21:03<4:21:34, 13.33s/it]"
     ]
    },
    {
     "name": "stderr",
     "output_type": "stream",
     "text": [
      "\r",
      "Epoch 1/5:  63%|██████▎   | 1990/3166 [7:21:16<4:21:14, 13.33s/it]"
     ]
    },
    {
     "name": "stderr",
     "output_type": "stream",
     "text": [
      "\r",
      "Epoch 1/5:  63%|██████▎   | 1991/3166 [7:21:29<4:20:54, 13.32s/it]"
     ]
    },
    {
     "name": "stderr",
     "output_type": "stream",
     "text": [
      "\r",
      "Epoch 1/5:  63%|██████▎   | 1992/3166 [7:21:42<4:20:29, 13.31s/it]"
     ]
    },
    {
     "name": "stderr",
     "output_type": "stream",
     "text": [
      "\r",
      "Epoch 1/5:  63%|██████▎   | 1993/3166 [7:21:56<4:20:51, 13.34s/it]"
     ]
    },
    {
     "name": "stderr",
     "output_type": "stream",
     "text": [
      "\r",
      "Epoch 1/5:  63%|██████▎   | 1994/3166 [7:22:09<4:20:15, 13.32s/it]"
     ]
    },
    {
     "name": "stderr",
     "output_type": "stream",
     "text": [
      "\r",
      "Epoch 1/5:  63%|██████▎   | 1995/3166 [7:22:22<4:20:10, 13.33s/it]"
     ]
    },
    {
     "name": "stderr",
     "output_type": "stream",
     "text": [
      "\r",
      "Epoch 1/5:  63%|██████▎   | 1996/3166 [7:22:36<4:20:36, 13.36s/it]"
     ]
    },
    {
     "name": "stderr",
     "output_type": "stream",
     "text": [
      "\r",
      "Epoch 1/5:  63%|██████▎   | 1997/3166 [7:22:49<4:20:12, 13.36s/it]"
     ]
    },
    {
     "name": "stderr",
     "output_type": "stream",
     "text": [
      "\r",
      "Epoch 1/5:  63%|██████▎   | 1998/3166 [7:23:03<4:19:50, 13.35s/it]"
     ]
    },
    {
     "name": "stderr",
     "output_type": "stream",
     "text": [
      "\r",
      "Epoch 1/5:  63%|██████▎   | 1999/3166 [7:23:16<4:19:36, 13.35s/it]"
     ]
    },
    {
     "name": "stderr",
     "output_type": "stream",
     "text": [
      "\r",
      "Epoch 1/5:  63%|██████▎   | 2000/3166 [7:23:29<4:19:06, 13.33s/it]"
     ]
    },
    {
     "name": "stderr",
     "output_type": "stream",
     "text": [
      "\r",
      "Epoch 1/5:  63%|██████▎   | 2001/3166 [7:23:43<4:18:49, 13.33s/it]"
     ]
    },
    {
     "name": "stderr",
     "output_type": "stream",
     "text": [
      "\r",
      "Epoch 1/5:  63%|██████▎   | 2002/3166 [7:23:56<4:18:52, 13.34s/it]"
     ]
    },
    {
     "name": "stderr",
     "output_type": "stream",
     "text": [
      "\r",
      "Epoch 1/5:  63%|██████▎   | 2003/3166 [7:24:09<4:18:19, 13.33s/it]"
     ]
    },
    {
     "name": "stderr",
     "output_type": "stream",
     "text": [
      "\r",
      "Epoch 1/5:  63%|██████▎   | 2004/3166 [7:24:23<4:17:49, 13.31s/it]"
     ]
    },
    {
     "name": "stderr",
     "output_type": "stream",
     "text": [
      "\r",
      "Epoch 1/5:  63%|██████▎   | 2005/3166 [7:24:36<4:17:49, 13.32s/it]"
     ]
    },
    {
     "name": "stderr",
     "output_type": "stream",
     "text": [
      "\r",
      "Epoch 1/5:  63%|██████▎   | 2006/3166 [7:24:49<4:17:32, 13.32s/it]"
     ]
    },
    {
     "name": "stderr",
     "output_type": "stream",
     "text": [
      "\r",
      "Epoch 1/5:  63%|██████▎   | 2007/3166 [7:25:02<4:17:17, 13.32s/it]"
     ]
    },
    {
     "name": "stderr",
     "output_type": "stream",
     "text": [
      "\r",
      "Epoch 1/5:  63%|██████▎   | 2008/3166 [7:25:16<4:17:27, 13.34s/it]"
     ]
    },
    {
     "name": "stderr",
     "output_type": "stream",
     "text": [
      "\r",
      "Epoch 1/5:  63%|██████▎   | 2009/3166 [7:25:29<4:16:40, 13.31s/it]"
     ]
    },
    {
     "name": "stderr",
     "output_type": "stream",
     "text": [
      "\r",
      "Epoch 1/5:  63%|██████▎   | 2010/3166 [7:25:42<4:16:12, 13.30s/it]"
     ]
    },
    {
     "name": "stderr",
     "output_type": "stream",
     "text": [
      "\r",
      "Epoch 1/5:  64%|██████▎   | 2011/3166 [7:25:56<4:16:16, 13.31s/it]"
     ]
    },
    {
     "name": "stderr",
     "output_type": "stream",
     "text": [
      "\r",
      "Epoch 1/5:  64%|██████▎   | 2012/3166 [7:26:09<4:15:44, 13.30s/it]"
     ]
    },
    {
     "name": "stderr",
     "output_type": "stream",
     "text": [
      "\r",
      "Epoch 1/5:  64%|██████▎   | 2013/3166 [7:26:22<4:15:45, 13.31s/it]"
     ]
    },
    {
     "name": "stderr",
     "output_type": "stream",
     "text": [
      "\r",
      "Epoch 1/5:  64%|██████▎   | 2014/3166 [7:26:36<4:15:54, 13.33s/it]"
     ]
    },
    {
     "name": "stderr",
     "output_type": "stream",
     "text": [
      "\r",
      "Epoch 1/5:  64%|██████▎   | 2015/3166 [7:26:49<4:15:51, 13.34s/it]"
     ]
    },
    {
     "name": "stderr",
     "output_type": "stream",
     "text": [
      "\r",
      "Epoch 1/5:  64%|██████▎   | 2016/3166 [7:27:02<4:15:26, 13.33s/it]"
     ]
    },
    {
     "name": "stderr",
     "output_type": "stream",
     "text": [
      "\r",
      "Epoch 1/5:  64%|██████▎   | 2017/3166 [7:27:16<4:15:25, 13.34s/it]"
     ]
    },
    {
     "name": "stderr",
     "output_type": "stream",
     "text": [
      "\r",
      "Epoch 1/5:  64%|██████▎   | 2018/3166 [7:27:29<4:15:05, 13.33s/it]"
     ]
    },
    {
     "name": "stderr",
     "output_type": "stream",
     "text": [
      "\r",
      "Epoch 1/5:  64%|██████▍   | 2019/3166 [7:27:42<4:14:59, 13.34s/it]"
     ]
    },
    {
     "name": "stderr",
     "output_type": "stream",
     "text": [
      "\r",
      "Epoch 1/5:  64%|██████▍   | 2020/3166 [7:27:56<4:15:15, 13.36s/it]"
     ]
    },
    {
     "name": "stderr",
     "output_type": "stream",
     "text": [
      "\r",
      "Epoch 1/5:  64%|██████▍   | 2021/3166 [7:28:09<4:14:23, 13.33s/it]"
     ]
    },
    {
     "name": "stderr",
     "output_type": "stream",
     "text": [
      "\r",
      "Epoch 1/5:  64%|██████▍   | 2022/3166 [7:28:22<4:14:01, 13.32s/it]"
     ]
    },
    {
     "name": "stderr",
     "output_type": "stream",
     "text": [
      "\r",
      "Epoch 1/5:  64%|██████▍   | 2023/3166 [7:28:36<4:14:05, 13.34s/it]"
     ]
    },
    {
     "name": "stderr",
     "output_type": "stream",
     "text": [
      "\r",
      "Epoch 1/5:  64%|██████▍   | 2024/3166 [7:28:49<4:14:00, 13.35s/it]"
     ]
    },
    {
     "name": "stderr",
     "output_type": "stream",
     "text": [
      "\r",
      "Epoch 1/5:  64%|██████▍   | 2025/3166 [7:29:02<4:13:27, 13.33s/it]"
     ]
    },
    {
     "name": "stderr",
     "output_type": "stream",
     "text": [
      "\r",
      "Epoch 1/5:  64%|██████▍   | 2026/3166 [7:29:16<4:13:24, 13.34s/it]"
     ]
    },
    {
     "name": "stderr",
     "output_type": "stream",
     "text": [
      "\r",
      "Epoch 1/5:  64%|██████▍   | 2027/3166 [7:29:29<4:13:01, 13.33s/it]"
     ]
    },
    {
     "name": "stderr",
     "output_type": "stream",
     "text": [
      "\r",
      "Epoch 1/5:  64%|██████▍   | 2028/3166 [7:29:42<4:12:24, 13.31s/it]"
     ]
    },
    {
     "name": "stderr",
     "output_type": "stream",
     "text": [
      "\r",
      "Epoch 1/5:  64%|██████▍   | 2029/3166 [7:29:56<4:12:32, 13.33s/it]"
     ]
    },
    {
     "name": "stderr",
     "output_type": "stream",
     "text": [
      "\r",
      "Epoch 1/5:  64%|██████▍   | 2030/3166 [7:30:09<4:12:03, 13.31s/it]"
     ]
    },
    {
     "name": "stderr",
     "output_type": "stream",
     "text": [
      "\r",
      "Epoch 1/5:  64%|██████▍   | 2031/3166 [7:30:22<4:12:07, 13.33s/it]"
     ]
    },
    {
     "name": "stderr",
     "output_type": "stream",
     "text": [
      "\r",
      "Epoch 1/5:  64%|██████▍   | 2032/3166 [7:30:36<4:12:20, 13.35s/it]"
     ]
    },
    {
     "name": "stderr",
     "output_type": "stream",
     "text": [
      "\r",
      "Epoch 1/5:  64%|██████▍   | 2033/3166 [7:30:49<4:11:43, 13.33s/it]"
     ]
    },
    {
     "name": "stderr",
     "output_type": "stream",
     "text": [
      "\r",
      "Epoch 1/5:  64%|██████▍   | 2034/3166 [7:31:02<4:11:01, 13.31s/it]"
     ]
    },
    {
     "name": "stderr",
     "output_type": "stream",
     "text": [
      "\r",
      "Epoch 1/5:  64%|██████▍   | 2035/3166 [7:31:16<4:11:07, 13.32s/it]"
     ]
    },
    {
     "name": "stderr",
     "output_type": "stream",
     "text": [
      "\r",
      "Epoch 1/5:  64%|██████▍   | 2036/3166 [7:31:29<4:10:40, 13.31s/it]"
     ]
    },
    {
     "name": "stderr",
     "output_type": "stream",
     "text": [
      "\r",
      "Epoch 1/5:  64%|██████▍   | 2037/3166 [7:31:42<4:10:27, 13.31s/it]"
     ]
    },
    {
     "name": "stderr",
     "output_type": "stream",
     "text": [
      "\r",
      "Epoch 1/5:  64%|██████▍   | 2038/3166 [7:31:56<4:10:18, 13.31s/it]"
     ]
    },
    {
     "name": "stderr",
     "output_type": "stream",
     "text": [
      "\r",
      "Epoch 1/5:  64%|██████▍   | 2039/3166 [7:32:09<4:09:29, 13.28s/it]"
     ]
    },
    {
     "name": "stderr",
     "output_type": "stream",
     "text": [
      "\r",
      "Epoch 1/5:  64%|██████▍   | 2040/3166 [7:32:22<4:08:56, 13.27s/it]"
     ]
    },
    {
     "name": "stderr",
     "output_type": "stream",
     "text": [
      "\r",
      "Epoch 1/5:  64%|██████▍   | 2041/3166 [7:32:35<4:09:20, 13.30s/it]"
     ]
    },
    {
     "name": "stderr",
     "output_type": "stream",
     "text": [
      "\r",
      "Epoch 1/5:  64%|██████▍   | 2042/3166 [7:32:49<4:08:44, 13.28s/it]"
     ]
    },
    {
     "name": "stderr",
     "output_type": "stream",
     "text": [
      "\r",
      "Epoch 1/5:  65%|██████▍   | 2043/3166 [7:33:02<4:08:38, 13.28s/it]"
     ]
    },
    {
     "name": "stderr",
     "output_type": "stream",
     "text": [
      "\r",
      "Epoch 1/5:  65%|██████▍   | 2044/3166 [7:33:15<4:08:30, 13.29s/it]"
     ]
    },
    {
     "name": "stderr",
     "output_type": "stream",
     "text": [
      "\r",
      "Epoch 1/5:  65%|██████▍   | 2045/3166 [7:33:28<4:08:11, 13.28s/it]"
     ]
    },
    {
     "name": "stderr",
     "output_type": "stream",
     "text": [
      "\r",
      "Epoch 1/5:  65%|██████▍   | 2046/3166 [7:33:42<4:07:44, 13.27s/it]"
     ]
    },
    {
     "name": "stderr",
     "output_type": "stream",
     "text": [
      "\r",
      "Epoch 1/5:  65%|██████▍   | 2047/3166 [7:33:55<4:08:00, 13.30s/it]"
     ]
    },
    {
     "name": "stderr",
     "output_type": "stream",
     "text": [
      "\r",
      "Epoch 1/5:  65%|██████▍   | 2048/3166 [7:34:08<4:08:03, 13.31s/it]"
     ]
    },
    {
     "name": "stderr",
     "output_type": "stream",
     "text": [
      "\r",
      "Epoch 1/5:  65%|██████▍   | 2049/3166 [7:34:22<4:07:55, 13.32s/it]"
     ]
    },
    {
     "name": "stderr",
     "output_type": "stream",
     "text": [
      "\r",
      "Epoch 1/5:  65%|██████▍   | 2050/3166 [7:34:35<4:07:48, 13.32s/it]"
     ]
    },
    {
     "name": "stderr",
     "output_type": "stream",
     "text": [
      "\r",
      "Epoch 1/5:  65%|██████▍   | 2051/3166 [7:34:48<4:07:14, 13.30s/it]"
     ]
    },
    {
     "name": "stderr",
     "output_type": "stream",
     "text": [
      "\r",
      "Epoch 1/5:  65%|██████▍   | 2052/3166 [7:35:02<4:07:02, 13.31s/it]"
     ]
    },
    {
     "name": "stderr",
     "output_type": "stream",
     "text": [
      "\r",
      "Epoch 1/5:  65%|██████▍   | 2053/3166 [7:35:15<4:07:13, 13.33s/it]"
     ]
    },
    {
     "name": "stderr",
     "output_type": "stream",
     "text": [
      "\r",
      "Epoch 1/5:  65%|██████▍   | 2054/3166 [7:35:28<4:06:45, 13.31s/it]"
     ]
    },
    {
     "name": "stderr",
     "output_type": "stream",
     "text": [
      "\r",
      "Epoch 1/5:  65%|██████▍   | 2055/3166 [7:35:42<4:06:34, 13.32s/it]"
     ]
    },
    {
     "name": "stderr",
     "output_type": "stream",
     "text": [
      "\r",
      "Epoch 1/5:  65%|██████▍   | 2056/3166 [7:35:55<4:06:34, 13.33s/it]"
     ]
    },
    {
     "name": "stderr",
     "output_type": "stream",
     "text": [
      "\r",
      "Epoch 1/5:  65%|██████▍   | 2057/3166 [7:36:08<4:05:52, 13.30s/it]"
     ]
    },
    {
     "name": "stderr",
     "output_type": "stream",
     "text": [
      "\r",
      "Epoch 1/5:  65%|██████▌   | 2058/3166 [7:36:22<4:05:28, 13.29s/it]"
     ]
    },
    {
     "name": "stderr",
     "output_type": "stream",
     "text": [
      "\r",
      "Epoch 1/5:  65%|██████▌   | 2059/3166 [7:36:35<4:05:34, 13.31s/it]"
     ]
    },
    {
     "name": "stderr",
     "output_type": "stream",
     "text": [
      "\r",
      "Epoch 1/5:  65%|██████▌   | 2060/3166 [7:36:48<4:05:27, 13.32s/it]"
     ]
    },
    {
     "name": "stderr",
     "output_type": "stream",
     "text": [
      "\r",
      "Epoch 1/5:  65%|██████▌   | 2061/3166 [7:37:01<4:05:00, 13.30s/it]"
     ]
    },
    {
     "name": "stderr",
     "output_type": "stream",
     "text": [
      "\r",
      "Epoch 1/5:  65%|██████▌   | 2062/3166 [7:37:15<4:05:25, 13.34s/it]"
     ]
    },
    {
     "name": "stderr",
     "output_type": "stream",
     "text": [
      "\r",
      "Epoch 1/5:  65%|██████▌   | 2063/3166 [7:37:28<4:04:34, 13.30s/it]"
     ]
    },
    {
     "name": "stderr",
     "output_type": "stream",
     "text": [
      "\r",
      "Epoch 1/5:  65%|██████▌   | 2064/3166 [7:37:41<4:04:17, 13.30s/it]"
     ]
    },
    {
     "name": "stderr",
     "output_type": "stream",
     "text": [
      "\r",
      "Epoch 1/5:  65%|██████▌   | 2065/3166 [7:37:55<4:04:21, 13.32s/it]"
     ]
    },
    {
     "name": "stderr",
     "output_type": "stream",
     "text": [
      "\r",
      "Epoch 1/5:  65%|██████▌   | 2066/3166 [7:38:08<4:03:45, 13.30s/it]"
     ]
    },
    {
     "name": "stderr",
     "output_type": "stream",
     "text": [
      "\r",
      "Epoch 1/5:  65%|██████▌   | 2067/3166 [7:38:21<4:03:31, 13.30s/it]"
     ]
    },
    {
     "name": "stderr",
     "output_type": "stream",
     "text": [
      "\r",
      "Epoch 1/5:  65%|██████▌   | 2068/3166 [7:38:35<4:03:36, 13.31s/it]"
     ]
    },
    {
     "name": "stderr",
     "output_type": "stream",
     "text": [
      "\r",
      "Epoch 1/5:  65%|██████▌   | 2069/3166 [7:38:48<4:03:26, 13.32s/it]"
     ]
    },
    {
     "name": "stderr",
     "output_type": "stream",
     "text": [
      "\r",
      "Epoch 1/5:  65%|██████▌   | 2070/3166 [7:39:01<4:03:10, 13.31s/it]"
     ]
    },
    {
     "name": "stderr",
     "output_type": "stream",
     "text": [
      "\r",
      "Epoch 1/5:  65%|██████▌   | 2071/3166 [7:39:15<4:03:16, 13.33s/it]"
     ]
    },
    {
     "name": "stderr",
     "output_type": "stream",
     "text": [
      "\r",
      "Epoch 1/5:  65%|██████▌   | 2072/3166 [7:39:28<4:02:53, 13.32s/it]"
     ]
    },
    {
     "name": "stderr",
     "output_type": "stream",
     "text": [
      "\r",
      "Epoch 1/5:  65%|██████▌   | 2073/3166 [7:39:41<4:02:48, 13.33s/it]"
     ]
    },
    {
     "name": "stderr",
     "output_type": "stream",
     "text": [
      "\r",
      "Epoch 1/5:  66%|██████▌   | 2074/3166 [7:39:55<4:02:49, 13.34s/it]"
     ]
    },
    {
     "name": "stderr",
     "output_type": "stream",
     "text": [
      "\r",
      "Epoch 1/5:  66%|██████▌   | 2075/3166 [7:40:08<4:02:29, 13.34s/it]"
     ]
    },
    {
     "name": "stderr",
     "output_type": "stream",
     "text": [
      "\r",
      "Epoch 1/5:  66%|██████▌   | 2076/3166 [7:40:21<4:02:08, 13.33s/it]"
     ]
    },
    {
     "name": "stderr",
     "output_type": "stream",
     "text": [
      "\r",
      "Epoch 1/5:  66%|██████▌   | 2077/3166 [7:40:35<4:02:13, 13.35s/it]"
     ]
    },
    {
     "name": "stderr",
     "output_type": "stream",
     "text": [
      "\r",
      "Epoch 1/5:  66%|██████▌   | 2078/3166 [7:40:48<4:01:20, 13.31s/it]"
     ]
    },
    {
     "name": "stderr",
     "output_type": "stream",
     "text": [
      "\r",
      "Epoch 1/5:  66%|██████▌   | 2079/3166 [7:41:01<4:01:17, 13.32s/it]"
     ]
    },
    {
     "name": "stderr",
     "output_type": "stream",
     "text": [
      "\r",
      "Epoch 1/5:  66%|██████▌   | 2080/3166 [7:41:15<4:01:24, 13.34s/it]"
     ]
    },
    {
     "name": "stderr",
     "output_type": "stream",
     "text": [
      "\r",
      "Epoch 1/5:  66%|██████▌   | 2081/3166 [7:41:28<4:00:32, 13.30s/it]"
     ]
    },
    {
     "name": "stderr",
     "output_type": "stream",
     "text": [
      "\r",
      "Epoch 1/5:  66%|██████▌   | 2082/3166 [7:41:41<4:00:04, 13.29s/it]"
     ]
    },
    {
     "name": "stderr",
     "output_type": "stream",
     "text": [
      "\r",
      "Epoch 1/5:  66%|██████▌   | 2083/3166 [7:41:55<4:00:29, 13.32s/it]"
     ]
    },
    {
     "name": "stderr",
     "output_type": "stream",
     "text": [
      "\r",
      "Epoch 1/5:  66%|██████▌   | 2084/3166 [7:42:08<4:00:14, 13.32s/it]"
     ]
    },
    {
     "name": "stderr",
     "output_type": "stream",
     "text": [
      "\r",
      "Epoch 1/5:  66%|██████▌   | 2085/3166 [7:42:21<3:59:40, 13.30s/it]"
     ]
    },
    {
     "name": "stderr",
     "output_type": "stream",
     "text": [
      "\r",
      "Epoch 1/5:  66%|██████▌   | 2086/3166 [7:42:34<3:59:59, 13.33s/it]"
     ]
    },
    {
     "name": "stderr",
     "output_type": "stream",
     "text": [
      "\r",
      "Epoch 1/5:  66%|██████▌   | 2087/3166 [7:42:48<3:59:40, 13.33s/it]"
     ]
    },
    {
     "name": "stderr",
     "output_type": "stream",
     "text": [
      "\r",
      "Epoch 1/5:  66%|██████▌   | 2088/3166 [7:43:01<3:59:29, 13.33s/it]"
     ]
    },
    {
     "name": "stderr",
     "output_type": "stream",
     "text": [
      "\r",
      "Epoch 1/5:  66%|██████▌   | 2089/3166 [7:43:15<3:59:40, 13.35s/it]"
     ]
    },
    {
     "name": "stderr",
     "output_type": "stream",
     "text": [
      "\r",
      "Epoch 1/5:  66%|██████▌   | 2090/3166 [7:43:28<3:59:28, 13.35s/it]"
     ]
    },
    {
     "name": "stderr",
     "output_type": "stream",
     "text": [
      "\r",
      "Epoch 1/5:  66%|██████▌   | 2091/3166 [7:43:41<3:59:00, 13.34s/it]"
     ]
    },
    {
     "name": "stderr",
     "output_type": "stream",
     "text": [
      "\r",
      "Epoch 1/5:  66%|██████▌   | 2092/3166 [7:43:55<3:58:51, 13.34s/it]"
     ]
    },
    {
     "name": "stderr",
     "output_type": "stream",
     "text": [
      "\r",
      "Epoch 1/5:  66%|██████▌   | 2093/3166 [7:44:08<3:58:24, 13.33s/it]"
     ]
    },
    {
     "name": "stderr",
     "output_type": "stream",
     "text": [
      "\r",
      "Epoch 1/5:  66%|██████▌   | 2094/3166 [7:44:21<3:57:59, 13.32s/it]"
     ]
    },
    {
     "name": "stderr",
     "output_type": "stream",
     "text": [
      "\r",
      "Epoch 1/5:  66%|██████▌   | 2095/3166 [7:44:35<3:58:04, 13.34s/it]"
     ]
    },
    {
     "name": "stderr",
     "output_type": "stream",
     "text": [
      "\r",
      "Epoch 1/5:  66%|██████▌   | 2096/3166 [7:44:48<3:57:29, 13.32s/it]"
     ]
    },
    {
     "name": "stderr",
     "output_type": "stream",
     "text": [
      "\r",
      "Epoch 1/5:  66%|██████▌   | 2097/3166 [7:45:01<3:57:09, 13.31s/it]"
     ]
    },
    {
     "name": "stderr",
     "output_type": "stream",
     "text": [
      "\r",
      "Epoch 1/5:  66%|██████▋   | 2098/3166 [7:45:15<3:57:25, 13.34s/it]"
     ]
    },
    {
     "name": "stderr",
     "output_type": "stream",
     "text": [
      "\r",
      "Epoch 1/5:  66%|██████▋   | 2099/3166 [7:45:28<3:56:56, 13.32s/it]"
     ]
    },
    {
     "name": "stderr",
     "output_type": "stream",
     "text": [
      "\r",
      "Epoch 1/5:  66%|██████▋   | 2100/3166 [7:45:41<3:56:44, 13.32s/it]"
     ]
    },
    {
     "name": "stderr",
     "output_type": "stream",
     "text": [
      "\r",
      "Epoch 1/5:  66%|██████▋   | 2101/3166 [7:45:55<3:56:52, 13.35s/it]"
     ]
    },
    {
     "name": "stderr",
     "output_type": "stream",
     "text": [
      "\r",
      "Epoch 1/5:  66%|██████▋   | 2102/3166 [7:46:08<3:56:21, 13.33s/it]"
     ]
    },
    {
     "name": "stderr",
     "output_type": "stream",
     "text": [
      "\r",
      "Epoch 1/5:  66%|██████▋   | 2103/3166 [7:46:21<3:56:13, 13.33s/it]"
     ]
    },
    {
     "name": "stderr",
     "output_type": "stream",
     "text": [
      "\r",
      "Epoch 1/5:  66%|██████▋   | 2104/3166 [7:46:35<3:56:06, 13.34s/it]"
     ]
    },
    {
     "name": "stderr",
     "output_type": "stream",
     "text": [
      "\r",
      "Epoch 1/5:  66%|██████▋   | 2105/3166 [7:46:48<3:55:44, 13.33s/it]"
     ]
    },
    {
     "name": "stderr",
     "output_type": "stream",
     "text": [
      "\r",
      "Epoch 1/5:  67%|██████▋   | 2106/3166 [7:47:01<3:55:20, 13.32s/it]"
     ]
    },
    {
     "name": "stderr",
     "output_type": "stream",
     "text": [
      "\r",
      "Epoch 1/5:  67%|██████▋   | 2107/3166 [7:47:14<3:55:14, 13.33s/it]"
     ]
    },
    {
     "name": "stderr",
     "output_type": "stream",
     "text": [
      "\r",
      "Epoch 1/5:  67%|██████▋   | 2108/3166 [7:47:28<3:54:55, 13.32s/it]"
     ]
    },
    {
     "name": "stderr",
     "output_type": "stream",
     "text": [
      "\r",
      "Epoch 1/5:  67%|██████▋   | 2109/3166 [7:47:41<3:54:20, 13.30s/it]"
     ]
    },
    {
     "name": "stderr",
     "output_type": "stream",
     "text": [
      "\r",
      "Epoch 1/5:  67%|██████▋   | 2110/3166 [7:47:54<3:54:34, 13.33s/it]"
     ]
    },
    {
     "name": "stderr",
     "output_type": "stream",
     "text": [
      "\r",
      "Epoch 1/5:  67%|██████▋   | 2111/3166 [7:48:08<3:54:24, 13.33s/it]"
     ]
    },
    {
     "name": "stderr",
     "output_type": "stream",
     "text": [
      "\r",
      "Epoch 1/5:  67%|██████▋   | 2112/3166 [7:48:21<3:54:07, 13.33s/it]"
     ]
    },
    {
     "name": "stderr",
     "output_type": "stream",
     "text": [
      "\r",
      "Epoch 1/5:  67%|██████▋   | 2113/3166 [7:48:34<3:53:48, 13.32s/it]"
     ]
    },
    {
     "name": "stderr",
     "output_type": "stream",
     "text": [
      "\r",
      "Epoch 1/5:  67%|██████▋   | 2114/3166 [7:48:48<3:53:40, 13.33s/it]"
     ]
    },
    {
     "name": "stderr",
     "output_type": "stream",
     "text": [
      "\r",
      "Epoch 1/5:  67%|██████▋   | 2115/3166 [7:49:01<3:53:24, 13.32s/it]"
     ]
    },
    {
     "name": "stderr",
     "output_type": "stream",
     "text": [
      "\r",
      "Epoch 1/5:  67%|██████▋   | 2116/3166 [7:49:14<3:53:16, 13.33s/it]"
     ]
    },
    {
     "name": "stderr",
     "output_type": "stream",
     "text": [
      "\r",
      "Epoch 1/5:  67%|██████▋   | 2117/3166 [7:49:28<3:53:00, 13.33s/it]"
     ]
    },
    {
     "name": "stderr",
     "output_type": "stream",
     "text": [
      "\r",
      "Epoch 1/5:  67%|██████▋   | 2118/3166 [7:49:41<3:52:34, 13.32s/it]"
     ]
    },
    {
     "name": "stderr",
     "output_type": "stream",
     "text": [
      "\r",
      "Epoch 1/5:  67%|██████▋   | 2119/3166 [7:49:54<3:52:44, 13.34s/it]"
     ]
    },
    {
     "name": "stderr",
     "output_type": "stream",
     "text": [
      "\r",
      "Epoch 1/5:  67%|██████▋   | 2120/3166 [7:50:08<3:52:21, 13.33s/it]"
     ]
    },
    {
     "name": "stderr",
     "output_type": "stream",
     "text": [
      "\r",
      "Epoch 1/5:  67%|██████▋   | 2121/3166 [7:50:21<3:52:00, 13.32s/it]"
     ]
    },
    {
     "name": "stderr",
     "output_type": "stream",
     "text": [
      "\r",
      "Epoch 1/5:  67%|██████▋   | 2122/3166 [7:50:34<3:52:23, 13.36s/it]"
     ]
    },
    {
     "name": "stderr",
     "output_type": "stream",
     "text": [
      "\r",
      "Epoch 1/5:  67%|██████▋   | 2123/3166 [7:50:48<3:52:09, 13.36s/it]"
     ]
    },
    {
     "name": "stderr",
     "output_type": "stream",
     "text": [
      "\r",
      "Epoch 1/5:  67%|██████▋   | 2124/3166 [7:51:01<3:51:50, 13.35s/it]"
     ]
    },
    {
     "name": "stderr",
     "output_type": "stream",
     "text": [
      "\r",
      "Epoch 1/5:  67%|██████▋   | 2125/3166 [7:51:15<3:51:46, 13.36s/it]"
     ]
    },
    {
     "name": "stderr",
     "output_type": "stream",
     "text": [
      "\r",
      "Epoch 1/5:  67%|██████▋   | 2126/3166 [7:51:28<3:51:33, 13.36s/it]"
     ]
    },
    {
     "name": "stderr",
     "output_type": "stream",
     "text": [
      "\r",
      "Epoch 1/5:  67%|██████▋   | 2127/3166 [7:51:41<3:50:54, 13.33s/it]"
     ]
    },
    {
     "name": "stderr",
     "output_type": "stream",
     "text": [
      "\r",
      "Epoch 1/5:  67%|██████▋   | 2128/3166 [7:51:55<3:50:57, 13.35s/it]"
     ]
    },
    {
     "name": "stderr",
     "output_type": "stream",
     "text": [
      "\r",
      "Epoch 1/5:  67%|██████▋   | 2129/3166 [7:52:08<3:50:28, 13.34s/it]"
     ]
    },
    {
     "name": "stderr",
     "output_type": "stream",
     "text": [
      "\r",
      "Epoch 1/5:  67%|██████▋   | 2130/3166 [7:52:21<3:50:21, 13.34s/it]"
     ]
    },
    {
     "name": "stderr",
     "output_type": "stream",
     "text": [
      "\r",
      "Epoch 1/5:  67%|██████▋   | 2131/3166 [7:52:35<3:50:09, 13.34s/it]"
     ]
    },
    {
     "name": "stderr",
     "output_type": "stream",
     "text": [
      "\r",
      "Epoch 1/5:  67%|██████▋   | 2132/3166 [7:52:48<3:50:12, 13.36s/it]"
     ]
    },
    {
     "name": "stderr",
     "output_type": "stream",
     "text": [
      "\r",
      "Epoch 1/5:  67%|██████▋   | 2133/3166 [7:53:01<3:49:44, 13.34s/it]"
     ]
    },
    {
     "name": "stderr",
     "output_type": "stream",
     "text": [
      "\r",
      "Epoch 1/5:  67%|██████▋   | 2134/3166 [7:53:15<3:49:43, 13.36s/it]"
     ]
    },
    {
     "name": "stderr",
     "output_type": "stream",
     "text": [
      "\r",
      "Epoch 1/5:  67%|██████▋   | 2135/3166 [7:53:28<3:49:33, 13.36s/it]"
     ]
    },
    {
     "name": "stderr",
     "output_type": "stream",
     "text": [
      "\r",
      "Epoch 1/5:  67%|██████▋   | 2136/3166 [7:53:41<3:49:04, 13.34s/it]"
     ]
    },
    {
     "name": "stderr",
     "output_type": "stream",
     "text": [
      "\r",
      "Epoch 1/5:  67%|██████▋   | 2137/3166 [7:53:55<3:48:52, 13.35s/it]"
     ]
    },
    {
     "name": "stderr",
     "output_type": "stream",
     "text": [
      "\r",
      "Epoch 1/5:  68%|██████▊   | 2138/3166 [7:54:08<3:48:10, 13.32s/it]"
     ]
    },
    {
     "name": "stderr",
     "output_type": "stream",
     "text": [
      "\r",
      "Epoch 1/5:  68%|██████▊   | 2139/3166 [7:54:21<3:47:55, 13.32s/it]"
     ]
    },
    {
     "name": "stderr",
     "output_type": "stream",
     "text": [
      "\r",
      "Epoch 1/5:  68%|██████▊   | 2140/3166 [7:54:35<3:48:09, 13.34s/it]"
     ]
    },
    {
     "name": "stderr",
     "output_type": "stream",
     "text": [
      "\r",
      "Epoch 1/5:  68%|██████▊   | 2141/3166 [7:54:48<3:47:37, 13.32s/it]"
     ]
    },
    {
     "name": "stderr",
     "output_type": "stream",
     "text": [
      "\r",
      "Epoch 1/5:  68%|██████▊   | 2142/3166 [7:55:01<3:47:20, 13.32s/it]"
     ]
    },
    {
     "name": "stderr",
     "output_type": "stream",
     "text": [
      "\r",
      "Epoch 1/5:  68%|██████▊   | 2143/3166 [7:55:15<3:47:18, 13.33s/it]"
     ]
    },
    {
     "name": "stderr",
     "output_type": "stream",
     "text": [
      "\r",
      "Epoch 1/5:  68%|██████▊   | 2144/3166 [7:55:28<3:47:01, 13.33s/it]"
     ]
    },
    {
     "name": "stderr",
     "output_type": "stream",
     "text": [
      "\r",
      "Epoch 1/5:  68%|██████▊   | 2145/3166 [7:55:41<3:46:42, 13.32s/it]"
     ]
    },
    {
     "name": "stderr",
     "output_type": "stream",
     "text": [
      "\r",
      "Epoch 1/5:  68%|██████▊   | 2146/3166 [7:55:55<3:46:35, 13.33s/it]"
     ]
    },
    {
     "name": "stderr",
     "output_type": "stream",
     "text": [
      "\r",
      "Epoch 1/5:  68%|██████▊   | 2147/3166 [7:56:08<3:46:13, 13.32s/it]"
     ]
    },
    {
     "name": "stderr",
     "output_type": "stream",
     "text": [
      "\r",
      "Epoch 1/5:  68%|██████▊   | 2148/3166 [7:56:21<3:46:05, 13.33s/it]"
     ]
    },
    {
     "name": "stderr",
     "output_type": "stream",
     "text": [
      "\r",
      "Epoch 1/5:  68%|██████▊   | 2149/3166 [7:56:35<3:45:58, 13.33s/it]"
     ]
    },
    {
     "name": "stderr",
     "output_type": "stream",
     "text": [
      "\r",
      "Epoch 1/5:  68%|██████▊   | 2150/3166 [7:56:48<3:45:36, 13.32s/it]"
     ]
    },
    {
     "name": "stderr",
     "output_type": "stream",
     "text": [
      "\r",
      "Epoch 1/5:  68%|██████▊   | 2151/3166 [7:57:01<3:44:48, 13.29s/it]"
     ]
    },
    {
     "name": "stderr",
     "output_type": "stream",
     "text": [
      "\r",
      "Epoch 1/5:  68%|██████▊   | 2152/3166 [7:57:14<3:44:53, 13.31s/it]"
     ]
    },
    {
     "name": "stderr",
     "output_type": "stream",
     "text": [
      "\r",
      "Epoch 1/5:  68%|██████▊   | 2153/3166 [7:57:28<3:44:26, 13.29s/it]"
     ]
    },
    {
     "name": "stderr",
     "output_type": "stream",
     "text": [
      "\r",
      "Epoch 1/5:  68%|██████▊   | 2154/3166 [7:57:41<3:44:13, 13.29s/it]"
     ]
    },
    {
     "name": "stderr",
     "output_type": "stream",
     "text": [
      "\r",
      "Epoch 1/5:  68%|██████▊   | 2155/3166 [7:57:54<3:44:24, 13.32s/it]"
     ]
    },
    {
     "name": "stderr",
     "output_type": "stream",
     "text": [
      "\r",
      "Epoch 1/5:  68%|██████▊   | 2156/3166 [7:58:08<3:43:59, 13.31s/it]"
     ]
    },
    {
     "name": "stderr",
     "output_type": "stream",
     "text": [
      "\r",
      "Epoch 1/5:  68%|██████▊   | 2157/3166 [7:58:21<3:43:40, 13.30s/it]"
     ]
    },
    {
     "name": "stderr",
     "output_type": "stream",
     "text": [
      "\r",
      "Epoch 1/5:  68%|██████▊   | 2158/3166 [7:58:34<3:43:33, 13.31s/it]"
     ]
    },
    {
     "name": "stderr",
     "output_type": "stream",
     "text": [
      "\r",
      "Epoch 1/5:  68%|██████▊   | 2159/3166 [7:58:47<3:43:06, 13.29s/it]"
     ]
    },
    {
     "name": "stderr",
     "output_type": "stream",
     "text": [
      "\r",
      "Epoch 1/5:  68%|██████▊   | 2160/3166 [7:59:01<3:42:27, 13.27s/it]"
     ]
    },
    {
     "name": "stderr",
     "output_type": "stream",
     "text": [
      "\r",
      "Epoch 1/5:  68%|██████▊   | 2161/3166 [7:59:14<3:42:49, 13.30s/it]"
     ]
    },
    {
     "name": "stderr",
     "output_type": "stream",
     "text": [
      "\r",
      "Epoch 1/5:  68%|██████▊   | 2162/3166 [7:59:27<3:42:36, 13.30s/it]"
     ]
    },
    {
     "name": "stderr",
     "output_type": "stream",
     "text": [
      "\r",
      "Epoch 1/5:  68%|██████▊   | 2163/3166 [7:59:41<3:42:22, 13.30s/it]"
     ]
    },
    {
     "name": "stderr",
     "output_type": "stream",
     "text": [
      "\r",
      "Epoch 1/5:  68%|██████▊   | 2164/3166 [7:59:54<3:42:22, 13.32s/it]"
     ]
    },
    {
     "name": "stderr",
     "output_type": "stream",
     "text": [
      "\r",
      "Epoch 1/5:  68%|██████▊   | 2165/3166 [8:00:07<3:41:49, 13.30s/it]"
     ]
    },
    {
     "name": "stderr",
     "output_type": "stream",
     "text": [
      "\r",
      "Epoch 1/5:  68%|██████▊   | 2166/3166 [8:00:21<3:41:24, 13.28s/it]"
     ]
    },
    {
     "name": "stderr",
     "output_type": "stream",
     "text": [
      "\r",
      "Epoch 1/5:  68%|██████▊   | 2167/3166 [8:00:34<3:41:28, 13.30s/it]"
     ]
    },
    {
     "name": "stderr",
     "output_type": "stream",
     "text": [
      "\r",
      "Epoch 1/5:  68%|██████▊   | 2168/3166 [8:00:47<3:41:03, 13.29s/it]"
     ]
    },
    {
     "name": "stderr",
     "output_type": "stream",
     "text": [
      "\r",
      "Epoch 1/5:  69%|██████▊   | 2169/3166 [8:01:00<3:40:56, 13.30s/it]"
     ]
    },
    {
     "name": "stderr",
     "output_type": "stream",
     "text": [
      "\r",
      "Epoch 1/5:  69%|██████▊   | 2170/3166 [8:01:14<3:41:08, 13.32s/it]"
     ]
    },
    {
     "name": "stderr",
     "output_type": "stream",
     "text": [
      "\r",
      "Epoch 1/5:  69%|██████▊   | 2171/3166 [8:01:27<3:40:51, 13.32s/it]"
     ]
    },
    {
     "name": "stderr",
     "output_type": "stream",
     "text": [
      "\r",
      "Epoch 1/5:  69%|██████▊   | 2172/3166 [8:01:40<3:40:34, 13.31s/it]"
     ]
    },
    {
     "name": "stderr",
     "output_type": "stream",
     "text": [
      "\r",
      "Epoch 1/5:  69%|██████▊   | 2173/3166 [8:01:54<3:40:45, 13.34s/it]"
     ]
    },
    {
     "name": "stderr",
     "output_type": "stream",
     "text": [
      "\r",
      "Epoch 1/5:  69%|██████▊   | 2174/3166 [8:02:07<3:40:05, 13.31s/it]"
     ]
    },
    {
     "name": "stderr",
     "output_type": "stream",
     "text": [
      "\r",
      "Epoch 1/5:  69%|██████▊   | 2175/3166 [8:02:20<3:39:38, 13.30s/it]"
     ]
    },
    {
     "name": "stderr",
     "output_type": "stream",
     "text": [
      "\r",
      "Epoch 1/5:  69%|██████▊   | 2176/3166 [8:02:34<3:39:31, 13.30s/it]"
     ]
    },
    {
     "name": "stderr",
     "output_type": "stream",
     "text": [
      "\r",
      "Epoch 1/5:  69%|██████▉   | 2177/3166 [8:02:47<3:39:08, 13.29s/it]"
     ]
    },
    {
     "name": "stderr",
     "output_type": "stream",
     "text": [
      "\r",
      "Epoch 1/5:  69%|██████▉   | 2178/3166 [8:03:00<3:38:35, 13.27s/it]"
     ]
    },
    {
     "name": "stderr",
     "output_type": "stream",
     "text": [
      "\r",
      "Epoch 1/5:  69%|██████▉   | 2179/3166 [8:03:14<3:38:45, 13.30s/it]"
     ]
    },
    {
     "name": "stderr",
     "output_type": "stream",
     "text": [
      "\r",
      "Epoch 1/5:  69%|██████▉   | 2180/3166 [8:03:27<3:38:36, 13.30s/it]"
     ]
    },
    {
     "name": "stderr",
     "output_type": "stream",
     "text": [
      "\r",
      "Epoch 1/5:  69%|██████▉   | 2181/3166 [8:03:40<3:38:17, 13.30s/it]"
     ]
    },
    {
     "name": "stderr",
     "output_type": "stream",
     "text": [
      "\r",
      "Epoch 1/5:  69%|██████▉   | 2182/3166 [8:03:53<3:38:13, 13.31s/it]"
     ]
    },
    {
     "name": "stderr",
     "output_type": "stream",
     "text": [
      "\r",
      "Epoch 1/5:  69%|██████▉   | 2183/3166 [8:04:07<3:37:43, 13.29s/it]"
     ]
    },
    {
     "name": "stderr",
     "output_type": "stream",
     "text": [
      "\r",
      "Epoch 1/5:  69%|██████▉   | 2184/3166 [8:04:20<3:37:32, 13.29s/it]"
     ]
    },
    {
     "name": "stderr",
     "output_type": "stream",
     "text": [
      "\r",
      "Epoch 1/5:  69%|██████▉   | 2185/3166 [8:04:33<3:37:36, 13.31s/it]"
     ]
    },
    {
     "name": "stderr",
     "output_type": "stream",
     "text": [
      "\r",
      "Epoch 1/5:  69%|██████▉   | 2186/3166 [8:04:47<3:37:14, 13.30s/it]"
     ]
    },
    {
     "name": "stderr",
     "output_type": "stream",
     "text": [
      "\r",
      "Epoch 1/5:  69%|██████▉   | 2187/3166 [8:05:00<3:36:56, 13.30s/it]"
     ]
    },
    {
     "name": "stderr",
     "output_type": "stream",
     "text": [
      "\r",
      "Epoch 1/5:  69%|██████▉   | 2188/3166 [8:05:13<3:36:58, 13.31s/it]"
     ]
    },
    {
     "name": "stderr",
     "output_type": "stream",
     "text": [
      "\r",
      "Epoch 1/5:  69%|██████▉   | 2189/3166 [8:05:27<3:36:37, 13.30s/it]"
     ]
    },
    {
     "name": "stderr",
     "output_type": "stream",
     "text": [
      "\r",
      "Epoch 1/5:  69%|██████▉   | 2190/3166 [8:05:40<3:36:25, 13.30s/it]"
     ]
    },
    {
     "name": "stderr",
     "output_type": "stream",
     "text": [
      "\r",
      "Epoch 1/5:  69%|██████▉   | 2191/3166 [8:05:53<3:36:29, 13.32s/it]"
     ]
    },
    {
     "name": "stderr",
     "output_type": "stream",
     "text": [
      "\r",
      "Epoch 1/5:  69%|██████▉   | 2192/3166 [8:06:06<3:36:01, 13.31s/it]"
     ]
    },
    {
     "name": "stderr",
     "output_type": "stream",
     "text": [
      "\r",
      "Epoch 1/5:  69%|██████▉   | 2193/3166 [8:06:20<3:35:42, 13.30s/it]"
     ]
    },
    {
     "name": "stderr",
     "output_type": "stream",
     "text": [
      "\r",
      "Epoch 1/5:  69%|██████▉   | 2194/3166 [8:06:33<3:35:47, 13.32s/it]"
     ]
    },
    {
     "name": "stderr",
     "output_type": "stream",
     "text": [
      "\r",
      "Epoch 1/5:  69%|██████▉   | 2195/3166 [8:06:46<3:35:25, 13.31s/it]"
     ]
    },
    {
     "name": "stderr",
     "output_type": "stream",
     "text": [
      "\r",
      "Epoch 1/5:  69%|██████▉   | 2196/3166 [8:07:00<3:34:53, 13.29s/it]"
     ]
    },
    {
     "name": "stderr",
     "output_type": "stream",
     "text": [
      "\r",
      "Epoch 1/5:  69%|██████▉   | 2197/3166 [8:07:13<3:35:01, 13.31s/it]"
     ]
    },
    {
     "name": "stderr",
     "output_type": "stream",
     "text": [
      "\r",
      "Epoch 1/5:  69%|██████▉   | 2198/3166 [8:07:26<3:34:47, 13.31s/it]"
     ]
    },
    {
     "name": "stderr",
     "output_type": "stream",
     "text": [
      "\r",
      "Epoch 1/5:  69%|██████▉   | 2199/3166 [8:07:40<3:34:30, 13.31s/it]"
     ]
    },
    {
     "name": "stderr",
     "output_type": "stream",
     "text": [
      "\r",
      "Epoch 1/5:  69%|██████▉   | 2200/3166 [8:07:53<3:34:22, 13.32s/it]"
     ]
    },
    {
     "name": "stderr",
     "output_type": "stream",
     "text": [
      "\r",
      "Epoch 1/5:  70%|██████▉   | 2201/3166 [8:08:06<3:34:36, 13.34s/it]"
     ]
    },
    {
     "name": "stderr",
     "output_type": "stream",
     "text": [
      "\r",
      "Epoch 1/5:  70%|██████▉   | 2202/3166 [8:08:20<3:34:03, 13.32s/it]"
     ]
    },
    {
     "name": "stderr",
     "output_type": "stream",
     "text": [
      "\r",
      "Epoch 1/5:  70%|██████▉   | 2203/3166 [8:08:33<3:34:03, 13.34s/it]"
     ]
    },
    {
     "name": "stderr",
     "output_type": "stream",
     "text": [
      "\r",
      "Epoch 1/5:  70%|██████▉   | 2204/3166 [8:08:46<3:33:36, 13.32s/it]"
     ]
    },
    {
     "name": "stderr",
     "output_type": "stream",
     "text": [
      "\r",
      "Epoch 1/5:  70%|██████▉   | 2205/3166 [8:09:00<3:33:09, 13.31s/it]"
     ]
    },
    {
     "name": "stderr",
     "output_type": "stream",
     "text": [
      "\r",
      "Epoch 1/5:  70%|██████▉   | 2206/3166 [8:09:13<3:33:18, 13.33s/it]"
     ]
    },
    {
     "name": "stderr",
     "output_type": "stream",
     "text": [
      "\r",
      "Epoch 1/5:  70%|██████▉   | 2207/3166 [8:09:26<3:33:05, 13.33s/it]"
     ]
    },
    {
     "name": "stderr",
     "output_type": "stream",
     "text": [
      "\r",
      "Epoch 1/5:  70%|██████▉   | 2208/3166 [8:09:40<3:32:37, 13.32s/it]"
     ]
    },
    {
     "name": "stderr",
     "output_type": "stream",
     "text": [
      "\r",
      "Epoch 1/5:  70%|██████▉   | 2209/3166 [8:09:53<3:32:34, 13.33s/it]"
     ]
    },
    {
     "name": "stderr",
     "output_type": "stream",
     "text": [
      "\r",
      "Epoch 1/5:  70%|██████▉   | 2210/3166 [8:10:06<3:32:02, 13.31s/it]"
     ]
    },
    {
     "name": "stderr",
     "output_type": "stream",
     "text": [
      "\r",
      "Epoch 1/5:  70%|██████▉   | 2211/3166 [8:10:19<3:31:42, 13.30s/it]"
     ]
    },
    {
     "name": "stderr",
     "output_type": "stream",
     "text": [
      "\r",
      "Epoch 1/5:  70%|██████▉   | 2212/3166 [8:10:33<3:31:47, 13.32s/it]"
     ]
    },
    {
     "name": "stderr",
     "output_type": "stream",
     "text": [
      "\r",
      "Epoch 1/5:  70%|██████▉   | 2213/3166 [8:10:46<3:31:25, 13.31s/it]"
     ]
    },
    {
     "name": "stderr",
     "output_type": "stream",
     "text": [
      "\r",
      "Epoch 1/5:  70%|██████▉   | 2214/3166 [8:10:59<3:30:33, 13.27s/it]"
     ]
    },
    {
     "name": "stderr",
     "output_type": "stream",
     "text": [
      "\r",
      "Epoch 1/5:  70%|██████▉   | 2215/3166 [8:11:13<3:30:54, 13.31s/it]"
     ]
    },
    {
     "name": "stderr",
     "output_type": "stream",
     "text": [
      "\r",
      "Epoch 1/5:  70%|██████▉   | 2216/3166 [8:11:26<3:30:38, 13.30s/it]"
     ]
    },
    {
     "name": "stderr",
     "output_type": "stream",
     "text": [
      "\r",
      "Epoch 1/5:  70%|███████   | 2217/3166 [8:11:39<3:30:17, 13.30s/it]"
     ]
    },
    {
     "name": "stderr",
     "output_type": "stream",
     "text": [
      "\r",
      "Epoch 1/5:  70%|███████   | 2218/3166 [8:11:53<3:30:12, 13.30s/it]"
     ]
    },
    {
     "name": "stderr",
     "output_type": "stream",
     "text": [
      "\r",
      "Epoch 1/5:  70%|███████   | 2219/3166 [8:12:06<3:29:49, 13.29s/it]"
     ]
    },
    {
     "name": "stderr",
     "output_type": "stream",
     "text": [
      "\r",
      "Epoch 1/5:  70%|███████   | 2220/3166 [8:12:19<3:29:42, 13.30s/it]"
     ]
    },
    {
     "name": "stderr",
     "output_type": "stream",
     "text": [
      "\r",
      "Epoch 1/5:  70%|███████   | 2221/3166 [8:12:33<3:29:42, 13.31s/it]"
     ]
    },
    {
     "name": "stderr",
     "output_type": "stream",
     "text": [
      "\r",
      "Epoch 1/5:  70%|███████   | 2222/3166 [8:12:46<3:29:11, 13.30s/it]"
     ]
    },
    {
     "name": "stderr",
     "output_type": "stream",
     "text": [
      "\r",
      "Epoch 1/5:  70%|███████   | 2223/3166 [8:12:59<3:29:09, 13.31s/it]"
     ]
    },
    {
     "name": "stderr",
     "output_type": "stream",
     "text": [
      "\r",
      "Epoch 1/5:  70%|███████   | 2224/3166 [8:13:12<3:29:11, 13.32s/it]"
     ]
    },
    {
     "name": "stderr",
     "output_type": "stream",
     "text": [
      "\r",
      "Epoch 1/5:  70%|███████   | 2225/3166 [8:13:26<3:28:50, 13.32s/it]"
     ]
    },
    {
     "name": "stderr",
     "output_type": "stream",
     "text": [
      "\r",
      "Epoch 1/5:  70%|███████   | 2226/3166 [8:13:39<3:28:31, 13.31s/it]"
     ]
    },
    {
     "name": "stderr",
     "output_type": "stream",
     "text": [
      "\r",
      "Epoch 1/5:  70%|███████   | 2227/3166 [8:13:52<3:28:39, 13.33s/it]"
     ]
    },
    {
     "name": "stderr",
     "output_type": "stream",
     "text": [
      "\r",
      "Epoch 1/5:  70%|███████   | 2228/3166 [8:14:06<3:28:32, 13.34s/it]"
     ]
    },
    {
     "name": "stderr",
     "output_type": "stream",
     "text": [
      "\r",
      "Epoch 1/5:  70%|███████   | 2229/3166 [8:14:19<3:27:56, 13.32s/it]"
     ]
    },
    {
     "name": "stderr",
     "output_type": "stream",
     "text": [
      "\r",
      "Epoch 1/5:  70%|███████   | 2230/3166 [8:14:32<3:28:05, 13.34s/it]"
     ]
    },
    {
     "name": "stderr",
     "output_type": "stream",
     "text": [
      "\r",
      "Epoch 1/5:  70%|███████   | 2231/3166 [8:14:46<3:28:04, 13.35s/it]"
     ]
    },
    {
     "name": "stderr",
     "output_type": "stream",
     "text": [
      "\r",
      "Epoch 1/5:  70%|███████   | 2232/3166 [8:14:59<3:27:45, 13.35s/it]"
     ]
    },
    {
     "name": "stderr",
     "output_type": "stream",
     "text": [
      "\r",
      "Epoch 1/5:  71%|███████   | 2233/3166 [8:15:13<3:27:49, 13.37s/it]"
     ]
    },
    {
     "name": "stderr",
     "output_type": "stream",
     "text": [
      "\r",
      "Epoch 1/5:  71%|███████   | 2234/3166 [8:15:26<3:27:25, 13.35s/it]"
     ]
    },
    {
     "name": "stderr",
     "output_type": "stream",
     "text": [
      "\r",
      "Epoch 1/5:  71%|███████   | 2235/3166 [8:15:39<3:27:08, 13.35s/it]"
     ]
    },
    {
     "name": "stderr",
     "output_type": "stream",
     "text": [
      "\r",
      "Epoch 1/5:  71%|███████   | 2236/3166 [8:15:53<3:27:01, 13.36s/it]"
     ]
    },
    {
     "name": "stderr",
     "output_type": "stream",
     "text": [
      "\r",
      "Epoch 1/5:  71%|███████   | 2237/3166 [8:16:06<3:26:25, 13.33s/it]"
     ]
    },
    {
     "name": "stderr",
     "output_type": "stream",
     "text": [
      "\r",
      "Epoch 1/5:  71%|███████   | 2238/3166 [8:16:19<3:26:05, 13.33s/it]"
     ]
    },
    {
     "name": "stderr",
     "output_type": "stream",
     "text": [
      "\r",
      "Epoch 1/5:  71%|███████   | 2239/3166 [8:16:33<3:26:09, 13.34s/it]"
     ]
    },
    {
     "name": "stderr",
     "output_type": "stream",
     "text": [
      "\r",
      "Epoch 1/5:  71%|███████   | 2240/3166 [8:16:46<3:25:55, 13.34s/it]"
     ]
    },
    {
     "name": "stderr",
     "output_type": "stream",
     "text": [
      "\r",
      "Epoch 1/5:  71%|███████   | 2241/3166 [8:16:59<3:25:30, 13.33s/it]"
     ]
    },
    {
     "name": "stderr",
     "output_type": "stream",
     "text": [
      "\r",
      "Epoch 1/5:  71%|███████   | 2242/3166 [8:17:13<3:25:20, 13.33s/it]"
     ]
    },
    {
     "name": "stderr",
     "output_type": "stream",
     "text": [
      "\r",
      "Epoch 1/5:  71%|███████   | 2243/3166 [8:17:26<3:24:56, 13.32s/it]"
     ]
    },
    {
     "name": "stderr",
     "output_type": "stream",
     "text": [
      "\r",
      "Epoch 1/5:  71%|███████   | 2244/3166 [8:17:39<3:24:15, 13.29s/it]"
     ]
    },
    {
     "name": "stderr",
     "output_type": "stream",
     "text": [
      "\r",
      "Epoch 1/5:  71%|███████   | 2245/3166 [8:17:52<3:24:11, 13.30s/it]"
     ]
    },
    {
     "name": "stderr",
     "output_type": "stream",
     "text": [
      "\r",
      "Epoch 1/5:  71%|███████   | 2246/3166 [8:18:06<3:23:50, 13.29s/it]"
     ]
    },
    {
     "name": "stderr",
     "output_type": "stream",
     "text": [
      "\r",
      "Epoch 1/5:  71%|███████   | 2247/3166 [8:18:19<3:23:58, 13.32s/it]"
     ]
    },
    {
     "name": "stderr",
     "output_type": "stream",
     "text": [
      "\r",
      "Epoch 1/5:  71%|███████   | 2248/3166 [8:18:32<3:24:04, 13.34s/it]"
     ]
    },
    {
     "name": "stderr",
     "output_type": "stream",
     "text": [
      "\r",
      "Epoch 1/5:  71%|███████   | 2249/3166 [8:18:46<3:23:38, 13.32s/it]"
     ]
    },
    {
     "name": "stderr",
     "output_type": "stream",
     "text": [
      "\r",
      "Epoch 1/5:  71%|███████   | 2250/3166 [8:18:59<3:23:14, 13.31s/it]"
     ]
    },
    {
     "name": "stderr",
     "output_type": "stream",
     "text": [
      "\r",
      "Epoch 1/5:  71%|███████   | 2251/3166 [8:19:12<3:23:18, 13.33s/it]"
     ]
    },
    {
     "name": "stderr",
     "output_type": "stream",
     "text": [
      "\r",
      "Epoch 1/5:  71%|███████   | 2252/3166 [8:19:26<3:22:51, 13.32s/it]"
     ]
    },
    {
     "name": "stderr",
     "output_type": "stream",
     "text": [
      "\r",
      "Epoch 1/5:  71%|███████   | 2253/3166 [8:19:39<3:22:48, 13.33s/it]"
     ]
    },
    {
     "name": "stderr",
     "output_type": "stream",
     "text": [
      "\r",
      "Epoch 1/5:  71%|███████   | 2254/3166 [8:19:52<3:22:43, 13.34s/it]"
     ]
    },
    {
     "name": "stderr",
     "output_type": "stream",
     "text": [
      "\r",
      "Epoch 1/5:  71%|███████   | 2255/3166 [8:20:06<3:22:05, 13.31s/it]"
     ]
    },
    {
     "name": "stderr",
     "output_type": "stream",
     "text": [
      "\r",
      "Epoch 1/5:  71%|███████▏  | 2256/3166 [8:20:19<3:21:46, 13.30s/it]"
     ]
    },
    {
     "name": "stderr",
     "output_type": "stream",
     "text": [
      "\r",
      "Epoch 1/5:  71%|███████▏  | 2257/3166 [8:20:32<3:22:12, 13.35s/it]"
     ]
    },
    {
     "name": "stderr",
     "output_type": "stream",
     "text": [
      "\r",
      "Epoch 1/5:  71%|███████▏  | 2258/3166 [8:20:46<3:21:31, 13.32s/it]"
     ]
    },
    {
     "name": "stderr",
     "output_type": "stream",
     "text": [
      "\r",
      "Epoch 1/5:  71%|███████▏  | 2259/3166 [8:20:59<3:20:59, 13.30s/it]"
     ]
    },
    {
     "name": "stderr",
     "output_type": "stream",
     "text": [
      "\r",
      "Epoch 1/5:  71%|███████▏  | 2260/3166 [8:21:12<3:21:08, 13.32s/it]"
     ]
    },
    {
     "name": "stderr",
     "output_type": "stream",
     "text": [
      "\r",
      "Epoch 1/5:  71%|███████▏  | 2261/3166 [8:21:26<3:20:48, 13.31s/it]"
     ]
    },
    {
     "name": "stderr",
     "output_type": "stream",
     "text": [
      "\r",
      "Epoch 1/5:  71%|███████▏  | 2262/3166 [8:21:39<3:20:25, 13.30s/it]"
     ]
    },
    {
     "name": "stderr",
     "output_type": "stream",
     "text": [
      "\r",
      "Epoch 1/5:  71%|███████▏  | 2263/3166 [8:21:52<3:20:46, 13.34s/it]"
     ]
    },
    {
     "name": "stderr",
     "output_type": "stream",
     "text": [
      "\r",
      "Epoch 1/5:  72%|███████▏  | 2264/3166 [8:22:06<3:20:29, 13.34s/it]"
     ]
    },
    {
     "name": "stderr",
     "output_type": "stream",
     "text": [
      "\r",
      "Epoch 1/5:  72%|███████▏  | 2265/3166 [8:22:19<3:20:04, 13.32s/it]"
     ]
    },
    {
     "name": "stderr",
     "output_type": "stream",
     "text": [
      "\r",
      "Epoch 1/5:  72%|███████▏  | 2266/3166 [8:22:32<3:19:56, 13.33s/it]"
     ]
    },
    {
     "name": "stderr",
     "output_type": "stream",
     "text": [
      "\r",
      "Epoch 1/5:  72%|███████▏  | 2267/3166 [8:22:46<3:19:41, 13.33s/it]"
     ]
    },
    {
     "name": "stderr",
     "output_type": "stream",
     "text": [
      "\r",
      "Epoch 1/5:  72%|███████▏  | 2268/3166 [8:22:59<3:19:21, 13.32s/it]"
     ]
    },
    {
     "name": "stderr",
     "output_type": "stream",
     "text": [
      "\r",
      "Epoch 1/5:  72%|███████▏  | 2269/3166 [8:23:12<3:19:43, 13.36s/it]"
     ]
    },
    {
     "name": "stderr",
     "output_type": "stream",
     "text": [
      "\r",
      "Epoch 1/5:  72%|███████▏  | 2270/3166 [8:23:26<3:19:24, 13.35s/it]"
     ]
    },
    {
     "name": "stderr",
     "output_type": "stream",
     "text": [
      "\r",
      "Epoch 1/5:  72%|███████▏  | 2271/3166 [8:23:39<3:19:16, 13.36s/it]"
     ]
    },
    {
     "name": "stderr",
     "output_type": "stream",
     "text": [
      "\r",
      "Epoch 1/5:  72%|███████▏  | 2272/3166 [8:23:52<3:19:08, 13.37s/it]"
     ]
    },
    {
     "name": "stderr",
     "output_type": "stream",
     "text": [
      "\r",
      "Epoch 1/5:  72%|███████▏  | 2273/3166 [8:24:06<3:18:48, 13.36s/it]"
     ]
    },
    {
     "name": "stderr",
     "output_type": "stream",
     "text": [
      "\r",
      "Epoch 1/5:  72%|███████▏  | 2274/3166 [8:24:19<3:18:23, 13.34s/it]"
     ]
    },
    {
     "name": "stderr",
     "output_type": "stream",
     "text": [
      "\r",
      "Epoch 1/5:  72%|███████▏  | 2275/3166 [8:24:32<3:18:27, 13.36s/it]"
     ]
    },
    {
     "name": "stderr",
     "output_type": "stream",
     "text": [
      "\r",
      "Epoch 1/5:  72%|███████▏  | 2276/3166 [8:24:46<3:17:56, 13.34s/it]"
     ]
    },
    {
     "name": "stderr",
     "output_type": "stream",
     "text": [
      "\r",
      "Epoch 1/5:  72%|███████▏  | 2277/3166 [8:24:59<3:17:31, 13.33s/it]"
     ]
    },
    {
     "name": "stderr",
     "output_type": "stream",
     "text": [
      "\r",
      "Epoch 1/5:  72%|███████▏  | 2278/3166 [8:25:12<3:17:33, 13.35s/it]"
     ]
    },
    {
     "name": "stderr",
     "output_type": "stream",
     "text": [
      "\r",
      "Epoch 1/5:  72%|███████▏  | 2279/3166 [8:25:26<3:17:13, 13.34s/it]"
     ]
    },
    {
     "name": "stderr",
     "output_type": "stream",
     "text": [
      "\r",
      "Epoch 1/5:  72%|███████▏  | 2280/3166 [8:25:39<3:17:10, 13.35s/it]"
     ]
    },
    {
     "name": "stderr",
     "output_type": "stream",
     "text": [
      "\r",
      "Epoch 1/5:  72%|███████▏  | 2281/3166 [8:25:53<3:17:08, 13.37s/it]"
     ]
    },
    {
     "name": "stderr",
     "output_type": "stream",
     "text": [
      "\r",
      "Epoch 1/5:  72%|███████▏  | 2282/3166 [8:26:06<3:16:21, 13.33s/it]"
     ]
    },
    {
     "name": "stderr",
     "output_type": "stream",
     "text": [
      "\r",
      "Epoch 1/5:  72%|███████▏  | 2283/3166 [8:26:19<3:16:11, 13.33s/it]"
     ]
    },
    {
     "name": "stderr",
     "output_type": "stream",
     "text": [
      "\r",
      "Epoch 1/5:  72%|███████▏  | 2284/3166 [8:26:33<3:16:31, 13.37s/it]"
     ]
    },
    {
     "name": "stderr",
     "output_type": "stream",
     "text": [
      "\r",
      "Epoch 1/5:  72%|███████▏  | 2285/3166 [8:26:46<3:16:15, 13.37s/it]"
     ]
    },
    {
     "name": "stderr",
     "output_type": "stream",
     "text": [
      "\r",
      "Epoch 1/5:  72%|███████▏  | 2286/3166 [8:26:59<3:15:48, 13.35s/it]"
     ]
    },
    {
     "name": "stderr",
     "output_type": "stream",
     "text": [
      "\r",
      "Epoch 1/5:  72%|███████▏  | 2287/3166 [8:27:13<3:15:57, 13.38s/it]"
     ]
    },
    {
     "name": "stderr",
     "output_type": "stream",
     "text": [
      "\r",
      "Epoch 1/5:  72%|███████▏  | 2288/3166 [8:27:26<3:15:26, 13.36s/it]"
     ]
    },
    {
     "name": "stderr",
     "output_type": "stream",
     "text": [
      "\r",
      "Epoch 1/5:  72%|███████▏  | 2289/3166 [8:27:39<3:15:06, 13.35s/it]"
     ]
    },
    {
     "name": "stderr",
     "output_type": "stream",
     "text": [
      "\r",
      "Epoch 1/5:  72%|███████▏  | 2290/3166 [8:27:53<3:15:21, 13.38s/it]"
     ]
    },
    {
     "name": "stderr",
     "output_type": "stream",
     "text": [
      "\r",
      "Epoch 1/5:  72%|███████▏  | 2291/3166 [8:28:06<3:15:01, 13.37s/it]"
     ]
    },
    {
     "name": "stderr",
     "output_type": "stream",
     "text": [
      "\r",
      "Epoch 1/5:  72%|███████▏  | 2292/3166 [8:28:19<3:14:35, 13.36s/it]"
     ]
    },
    {
     "name": "stderr",
     "output_type": "stream",
     "text": [
      "\r",
      "Epoch 1/5:  72%|███████▏  | 2293/3166 [8:28:33<3:14:39, 13.38s/it]"
     ]
    },
    {
     "name": "stderr",
     "output_type": "stream",
     "text": [
      "\r",
      "Epoch 1/5:  72%|███████▏  | 2294/3166 [8:28:46<3:14:06, 13.36s/it]"
     ]
    },
    {
     "name": "stderr",
     "output_type": "stream",
     "text": [
      "\r",
      "Epoch 1/5:  72%|███████▏  | 2295/3166 [8:29:00<3:13:39, 13.34s/it]"
     ]
    },
    {
     "name": "stderr",
     "output_type": "stream",
     "text": [
      "\r",
      "Epoch 1/5:  73%|███████▎  | 2296/3166 [8:29:13<3:13:46, 13.36s/it]"
     ]
    },
    {
     "name": "stderr",
     "output_type": "stream",
     "text": [
      "\r",
      "Epoch 1/5:  73%|███████▎  | 2297/3166 [8:29:26<3:13:35, 13.37s/it]"
     ]
    },
    {
     "name": "stderr",
     "output_type": "stream",
     "text": [
      "\r",
      "Epoch 1/5:  73%|███████▎  | 2298/3166 [8:29:40<3:13:11, 13.35s/it]"
     ]
    },
    {
     "name": "stderr",
     "output_type": "stream",
     "text": [
      "\r",
      "Epoch 1/5:  73%|███████▎  | 2299/3166 [8:29:53<3:13:20, 13.38s/it]"
     ]
    },
    {
     "name": "stderr",
     "output_type": "stream",
     "text": [
      "\r",
      "Epoch 1/5:  73%|███████▎  | 2300/3166 [8:30:06<3:12:52, 13.36s/it]"
     ]
    },
    {
     "name": "stderr",
     "output_type": "stream",
     "text": [
      "\r",
      "Epoch 1/5:  73%|███████▎  | 2301/3166 [8:30:20<3:12:43, 13.37s/it]"
     ]
    },
    {
     "name": "stderr",
     "output_type": "stream",
     "text": [
      "\r",
      "Epoch 1/5:  73%|███████▎  | 2302/3166 [8:30:33<3:12:47, 13.39s/it]"
     ]
    },
    {
     "name": "stderr",
     "output_type": "stream",
     "text": [
      "\r",
      "Epoch 1/5:  73%|███████▎  | 2303/3166 [8:30:46<3:11:44, 13.33s/it]"
     ]
    },
    {
     "name": "stderr",
     "output_type": "stream",
     "text": [
      "\r",
      "Epoch 1/5:  73%|███████▎  | 2304/3166 [8:31:00<3:11:18, 13.32s/it]"
     ]
    },
    {
     "name": "stderr",
     "output_type": "stream",
     "text": [
      "\r",
      "Epoch 1/5:  73%|███████▎  | 2305/3166 [8:31:13<3:11:16, 13.33s/it]"
     ]
    },
    {
     "name": "stderr",
     "output_type": "stream",
     "text": [
      "\r",
      "Epoch 1/5:  73%|███████▎  | 2306/3166 [8:31:26<3:10:48, 13.31s/it]"
     ]
    },
    {
     "name": "stderr",
     "output_type": "stream",
     "text": [
      "\r",
      "Epoch 1/5:  73%|███████▎  | 2307/3166 [8:31:40<3:10:29, 13.31s/it]"
     ]
    },
    {
     "name": "stderr",
     "output_type": "stream",
     "text": [
      "\r",
      "Epoch 1/5:  73%|███████▎  | 2308/3166 [8:31:53<3:10:32, 13.32s/it]"
     ]
    },
    {
     "name": "stderr",
     "output_type": "stream",
     "text": [
      "\r",
      "Epoch 1/5:  73%|███████▎  | 2309/3166 [8:32:06<3:10:35, 13.34s/it]"
     ]
    },
    {
     "name": "stderr",
     "output_type": "stream",
     "text": [
      "\r",
      "Epoch 1/5:  73%|███████▎  | 2310/3166 [8:32:20<3:10:11, 13.33s/it]"
     ]
    },
    {
     "name": "stderr",
     "output_type": "stream",
     "text": [
      "\r",
      "Epoch 1/5:  73%|███████▎  | 2311/3166 [8:32:33<3:10:19, 13.36s/it]"
     ]
    },
    {
     "name": "stderr",
     "output_type": "stream",
     "text": [
      "\r",
      "Epoch 1/5:  73%|███████▎  | 2312/3166 [8:32:46<3:09:49, 13.34s/it]"
     ]
    },
    {
     "name": "stderr",
     "output_type": "stream",
     "text": [
      "\r",
      "Epoch 1/5:  73%|███████▎  | 2313/3166 [8:33:00<3:09:29, 13.33s/it]"
     ]
    },
    {
     "name": "stderr",
     "output_type": "stream",
     "text": [
      "\r",
      "Epoch 1/5:  73%|███████▎  | 2314/3166 [8:33:13<3:09:37, 13.35s/it]"
     ]
    },
    {
     "name": "stderr",
     "output_type": "stream",
     "text": [
      "\r",
      "Epoch 1/5:  73%|███████▎  | 2315/3166 [8:33:26<3:09:07, 13.33s/it]"
     ]
    },
    {
     "name": "stderr",
     "output_type": "stream",
     "text": [
      "\r",
      "Epoch 1/5:  73%|███████▎  | 2316/3166 [8:33:40<3:08:55, 13.34s/it]"
     ]
    },
    {
     "name": "stderr",
     "output_type": "stream",
     "text": [
      "\r",
      "Epoch 1/5:  73%|███████▎  | 2317/3166 [8:33:53<3:09:05, 13.36s/it]"
     ]
    },
    {
     "name": "stderr",
     "output_type": "stream",
     "text": [
      "\r",
      "Epoch 1/5:  73%|███████▎  | 2318/3166 [8:34:07<3:08:45, 13.35s/it]"
     ]
    },
    {
     "name": "stderr",
     "output_type": "stream",
     "text": [
      "\r",
      "Epoch 1/5:  73%|███████▎  | 2319/3166 [8:34:20<3:08:12, 13.33s/it]"
     ]
    },
    {
     "name": "stderr",
     "output_type": "stream",
     "text": [
      "\r",
      "Epoch 1/5:  73%|███████▎  | 2320/3166 [8:34:33<3:08:17, 13.35s/it]"
     ]
    },
    {
     "name": "stderr",
     "output_type": "stream",
     "text": [
      "\r",
      "Epoch 1/5:  73%|███████▎  | 2321/3166 [8:34:46<3:07:53, 13.34s/it]"
     ]
    },
    {
     "name": "stderr",
     "output_type": "stream",
     "text": [
      "\r",
      "Epoch 1/5:  73%|███████▎  | 2322/3166 [8:35:00<3:07:23, 13.32s/it]"
     ]
    },
    {
     "name": "stderr",
     "output_type": "stream",
     "text": [
      "\r",
      "Epoch 1/5:  73%|███████▎  | 2323/3166 [8:35:13<3:07:25, 13.34s/it]"
     ]
    },
    {
     "name": "stderr",
     "output_type": "stream",
     "text": [
      "\r",
      "Epoch 1/5:  73%|███████▎  | 2324/3166 [8:35:27<3:07:21, 13.35s/it]"
     ]
    },
    {
     "name": "stderr",
     "output_type": "stream",
     "text": [
      "\r",
      "Epoch 1/5:  73%|███████▎  | 2325/3166 [8:35:40<3:06:42, 13.32s/it]"
     ]
    },
    {
     "name": "stderr",
     "output_type": "stream",
     "text": [
      "\r",
      "Epoch 1/5:  73%|███████▎  | 2326/3166 [8:35:53<3:06:44, 13.34s/it]"
     ]
    },
    {
     "name": "stderr",
     "output_type": "stream",
     "text": [
      "\r",
      "Epoch 1/5:  73%|███████▎  | 2327/3166 [8:36:06<3:06:19, 13.32s/it]"
     ]
    },
    {
     "name": "stderr",
     "output_type": "stream",
     "text": [
      "\r",
      "Epoch 1/5:  74%|███████▎  | 2328/3166 [8:36:20<3:06:14, 13.34s/it]"
     ]
    },
    {
     "name": "stderr",
     "output_type": "stream",
     "text": [
      "\r",
      "Epoch 1/5:  74%|███████▎  | 2329/3166 [8:36:33<3:06:29, 13.37s/it]"
     ]
    },
    {
     "name": "stderr",
     "output_type": "stream",
     "text": [
      "\r",
      "Epoch 1/5:  74%|███████▎  | 2330/3166 [8:36:47<3:06:01, 13.35s/it]"
     ]
    },
    {
     "name": "stderr",
     "output_type": "stream",
     "text": [
      "\r",
      "Epoch 1/5:  74%|███████▎  | 2331/3166 [8:37:00<3:05:26, 13.33s/it]"
     ]
    },
    {
     "name": "stderr",
     "output_type": "stream",
     "text": [
      "\r",
      "Epoch 1/5:  74%|███████▎  | 2332/3166 [8:37:13<3:05:31, 13.35s/it]"
     ]
    },
    {
     "name": "stderr",
     "output_type": "stream",
     "text": [
      "\r",
      "Epoch 1/5:  74%|███████▎  | 2333/3166 [8:37:26<3:04:58, 13.32s/it]"
     ]
    },
    {
     "name": "stderr",
     "output_type": "stream",
     "text": [
      "\r",
      "Epoch 1/5:  74%|███████▎  | 2334/3166 [8:37:40<3:04:43, 13.32s/it]"
     ]
    },
    {
     "name": "stderr",
     "output_type": "stream",
     "text": [
      "\r",
      "Epoch 1/5:  74%|███████▍  | 2335/3166 [8:37:53<3:04:41, 13.33s/it]"
     ]
    },
    {
     "name": "stderr",
     "output_type": "stream",
     "text": [
      "\r",
      "Epoch 1/5:  74%|███████▍  | 2336/3166 [8:38:06<3:04:15, 13.32s/it]"
     ]
    },
    {
     "name": "stderr",
     "output_type": "stream",
     "text": [
      "\r",
      "Epoch 1/5:  74%|███████▍  | 2337/3166 [8:38:20<3:04:03, 13.32s/it]"
     ]
    },
    {
     "name": "stderr",
     "output_type": "stream",
     "text": [
      "\r",
      "Epoch 1/5:  74%|███████▍  | 2338/3166 [8:38:33<3:04:08, 13.34s/it]"
     ]
    },
    {
     "name": "stderr",
     "output_type": "stream",
     "text": [
      "\r",
      "Epoch 1/5:  74%|███████▍  | 2339/3166 [8:38:47<3:03:49, 13.34s/it]"
     ]
    },
    {
     "name": "stderr",
     "output_type": "stream",
     "text": [
      "\r",
      "Epoch 1/5:  74%|███████▍  | 2340/3166 [8:39:00<3:03:05, 13.30s/it]"
     ]
    },
    {
     "name": "stderr",
     "output_type": "stream",
     "text": [
      "\r",
      "Epoch 1/5:  74%|███████▍  | 2341/3166 [8:39:13<3:03:21, 13.33s/it]"
     ]
    },
    {
     "name": "stderr",
     "output_type": "stream",
     "text": [
      "\r",
      "Epoch 1/5:  74%|███████▍  | 2342/3166 [8:39:26<3:02:56, 13.32s/it]"
     ]
    },
    {
     "name": "stderr",
     "output_type": "stream",
     "text": [
      "\r",
      "Epoch 1/5:  74%|███████▍  | 2343/3166 [8:39:40<3:02:41, 13.32s/it]"
     ]
    },
    {
     "name": "stderr",
     "output_type": "stream",
     "text": [
      "\r",
      "Epoch 1/5:  74%|███████▍  | 2344/3166 [8:39:53<3:02:48, 13.34s/it]"
     ]
    },
    {
     "name": "stderr",
     "output_type": "stream",
     "text": [
      "\r",
      "Epoch 1/5:  74%|███████▍  | 2345/3166 [8:40:06<3:02:35, 13.34s/it]"
     ]
    },
    {
     "name": "stderr",
     "output_type": "stream",
     "text": [
      "\r",
      "Epoch 1/5:  74%|███████▍  | 2346/3166 [8:40:20<3:02:09, 13.33s/it]"
     ]
    },
    {
     "name": "stderr",
     "output_type": "stream",
     "text": [
      "\r",
      "Epoch 1/5:  74%|███████▍  | 2347/3166 [8:40:33<3:02:08, 13.34s/it]"
     ]
    },
    {
     "name": "stderr",
     "output_type": "stream",
     "text": [
      "\r",
      "Epoch 1/5:  74%|███████▍  | 2348/3166 [8:40:46<3:01:39, 13.32s/it]"
     ]
    },
    {
     "name": "stderr",
     "output_type": "stream",
     "text": [
      "\r",
      "Epoch 1/5:  74%|███████▍  | 2349/3166 [8:41:00<3:01:03, 13.30s/it]"
     ]
    },
    {
     "name": "stderr",
     "output_type": "stream",
     "text": [
      "\r",
      "Epoch 1/5:  74%|███████▍  | 2350/3166 [8:41:13<3:00:58, 13.31s/it]"
     ]
    },
    {
     "name": "stderr",
     "output_type": "stream",
     "text": [
      "\r",
      "Epoch 1/5:  74%|███████▍  | 2351/3166 [8:41:26<3:00:31, 13.29s/it]"
     ]
    },
    {
     "name": "stderr",
     "output_type": "stream",
     "text": [
      "\r",
      "Epoch 1/5:  74%|███████▍  | 2352/3166 [8:41:39<3:00:04, 13.27s/it]"
     ]
    },
    {
     "name": "stderr",
     "output_type": "stream",
     "text": [
      "\r",
      "Epoch 1/5:  74%|███████▍  | 2353/3166 [8:41:53<3:00:21, 13.31s/it]"
     ]
    },
    {
     "name": "stderr",
     "output_type": "stream",
     "text": [
      "\r",
      "Epoch 1/5:  74%|███████▍  | 2354/3166 [8:42:06<3:00:10, 13.31s/it]"
     ]
    },
    {
     "name": "stderr",
     "output_type": "stream",
     "text": [
      "\r",
      "Epoch 1/5:  74%|███████▍  | 2355/3166 [8:42:20<2:59:59, 13.32s/it]"
     ]
    },
    {
     "name": "stderr",
     "output_type": "stream",
     "text": [
      "\r",
      "Epoch 1/5:  74%|███████▍  | 2356/3166 [8:42:33<3:00:08, 13.34s/it]"
     ]
    },
    {
     "name": "stderr",
     "output_type": "stream",
     "text": [
      "\r",
      "Epoch 1/5:  74%|███████▍  | 2357/3166 [8:42:46<2:59:48, 13.34s/it]"
     ]
    },
    {
     "name": "stderr",
     "output_type": "stream",
     "text": [
      "\r",
      "Epoch 1/5:  74%|███████▍  | 2358/3166 [8:43:00<2:59:30, 13.33s/it]"
     ]
    },
    {
     "name": "stderr",
     "output_type": "stream",
     "text": [
      "\r",
      "Epoch 1/5:  75%|███████▍  | 2359/3166 [8:43:13<2:59:27, 13.34s/it]"
     ]
    },
    {
     "name": "stderr",
     "output_type": "stream",
     "text": [
      "\r",
      "Epoch 1/5:  75%|███████▍  | 2360/3166 [8:43:26<2:58:58, 13.32s/it]"
     ]
    },
    {
     "name": "stderr",
     "output_type": "stream",
     "text": [
      "\r",
      "Epoch 1/5:  75%|███████▍  | 2361/3166 [8:43:40<2:58:46, 13.32s/it]"
     ]
    },
    {
     "name": "stderr",
     "output_type": "stream",
     "text": [
      "\r",
      "Epoch 1/5:  75%|███████▍  | 2362/3166 [8:43:53<2:58:56, 13.35s/it]"
     ]
    },
    {
     "name": "stderr",
     "output_type": "stream",
     "text": [
      "\r",
      "Epoch 1/5:  75%|███████▍  | 2363/3166 [8:44:06<2:58:29, 13.34s/it]"
     ]
    },
    {
     "name": "stderr",
     "output_type": "stream",
     "text": [
      "\r",
      "Epoch 1/5:  75%|███████▍  | 2364/3166 [8:44:20<2:58:07, 13.33s/it]"
     ]
    },
    {
     "name": "stderr",
     "output_type": "stream",
     "text": [
      "\r",
      "Epoch 1/5:  75%|███████▍  | 2365/3166 [8:44:33<2:58:08, 13.34s/it]"
     ]
    },
    {
     "name": "stderr",
     "output_type": "stream",
     "text": [
      "\r",
      "Epoch 1/5:  75%|███████▍  | 2366/3166 [8:44:46<2:57:38, 13.32s/it]"
     ]
    },
    {
     "name": "stderr",
     "output_type": "stream",
     "text": [
      "\r",
      "Epoch 1/5:  75%|███████▍  | 2367/3166 [8:45:00<2:57:24, 13.32s/it]"
     ]
    },
    {
     "name": "stderr",
     "output_type": "stream",
     "text": [
      "\r",
      "Epoch 1/5:  75%|███████▍  | 2368/3166 [8:45:13<2:57:12, 13.32s/it]"
     ]
    },
    {
     "name": "stderr",
     "output_type": "stream",
     "text": [
      "\r",
      "Epoch 1/5:  75%|███████▍  | 2369/3166 [8:45:26<2:56:49, 13.31s/it]"
     ]
    },
    {
     "name": "stderr",
     "output_type": "stream",
     "text": [
      "\r",
      "Epoch 1/5:  75%|███████▍  | 2370/3166 [8:45:39<2:56:14, 13.29s/it]"
     ]
    },
    {
     "name": "stderr",
     "output_type": "stream",
     "text": [
      "\r",
      "Epoch 1/5:  75%|███████▍  | 2371/3166 [8:45:53<2:56:30, 13.32s/it]"
     ]
    },
    {
     "name": "stderr",
     "output_type": "stream",
     "text": [
      "\r",
      "Epoch 1/5:  75%|███████▍  | 2372/3166 [8:46:06<2:56:10, 13.31s/it]"
     ]
    },
    {
     "name": "stderr",
     "output_type": "stream",
     "text": [
      "\r",
      "Epoch 1/5:  75%|███████▍  | 2373/3166 [8:46:19<2:56:07, 13.33s/it]"
     ]
    },
    {
     "name": "stderr",
     "output_type": "stream",
     "text": [
      "\r",
      "Epoch 1/5:  75%|███████▍  | 2374/3166 [8:46:33<2:56:15, 13.35s/it]"
     ]
    },
    {
     "name": "stderr",
     "output_type": "stream",
     "text": [
      "\r",
      "Epoch 1/5:  75%|███████▌  | 2375/3166 [8:46:46<2:55:52, 13.34s/it]"
     ]
    },
    {
     "name": "stderr",
     "output_type": "stream",
     "text": [
      "\r",
      "Epoch 1/5:  75%|███████▌  | 2376/3166 [8:47:00<2:55:43, 13.35s/it]"
     ]
    },
    {
     "name": "stderr",
     "output_type": "stream",
     "text": [
      "\r",
      "Epoch 1/5:  75%|███████▌  | 2377/3166 [8:47:13<2:55:29, 13.35s/it]"
     ]
    },
    {
     "name": "stderr",
     "output_type": "stream",
     "text": [
      "\r",
      "Epoch 1/5:  75%|███████▌  | 2378/3166 [8:47:26<2:55:05, 13.33s/it]"
     ]
    },
    {
     "name": "stderr",
     "output_type": "stream",
     "text": [
      "\r",
      "Epoch 1/5:  75%|███████▌  | 2379/3166 [8:47:39<2:54:41, 13.32s/it]"
     ]
    },
    {
     "name": "stderr",
     "output_type": "stream",
     "text": [
      "\r",
      "Epoch 1/5:  75%|███████▌  | 2380/3166 [8:47:53<2:54:32, 13.32s/it]"
     ]
    },
    {
     "name": "stderr",
     "output_type": "stream",
     "text": [
      "\r",
      "Epoch 1/5:  75%|███████▌  | 2381/3166 [8:48:06<2:53:52, 13.29s/it]"
     ]
    },
    {
     "name": "stderr",
     "output_type": "stream",
     "text": [
      "\r",
      "Epoch 1/5:  75%|███████▌  | 2382/3166 [8:48:19<2:53:37, 13.29s/it]"
     ]
    },
    {
     "name": "stderr",
     "output_type": "stream",
     "text": [
      "\r",
      "Epoch 1/5:  75%|███████▌  | 2383/3166 [8:48:33<2:53:30, 13.30s/it]"
     ]
    },
    {
     "name": "stderr",
     "output_type": "stream",
     "text": [
      "\r",
      "Epoch 1/5:  75%|███████▌  | 2384/3166 [8:48:46<2:53:17, 13.30s/it]"
     ]
    },
    {
     "name": "stderr",
     "output_type": "stream",
     "text": [
      "\r",
      "Epoch 1/5:  75%|███████▌  | 2385/3166 [8:48:59<2:53:07, 13.30s/it]"
     ]
    },
    {
     "name": "stderr",
     "output_type": "stream",
     "text": [
      "\r",
      "Epoch 1/5:  75%|███████▌  | 2386/3166 [8:49:13<2:53:07, 13.32s/it]"
     ]
    },
    {
     "name": "stderr",
     "output_type": "stream",
     "text": [
      "\r",
      "Epoch 1/5:  75%|███████▌  | 2387/3166 [8:49:26<2:52:52, 13.32s/it]"
     ]
    },
    {
     "name": "stderr",
     "output_type": "stream",
     "text": [
      "\r",
      "Epoch 1/5:  75%|███████▌  | 2388/3166 [8:49:39<2:52:32, 13.31s/it]"
     ]
    },
    {
     "name": "stderr",
     "output_type": "stream",
     "text": [
      "\r",
      "Epoch 1/5:  75%|███████▌  | 2389/3166 [8:49:53<2:52:26, 13.32s/it]"
     ]
    },
    {
     "name": "stderr",
     "output_type": "stream",
     "text": [
      "\r",
      "Epoch 1/5:  75%|███████▌  | 2390/3166 [8:50:06<2:52:09, 13.31s/it]"
     ]
    },
    {
     "name": "stderr",
     "output_type": "stream",
     "text": [
      "\r",
      "Epoch 1/5:  76%|███████▌  | 2391/3166 [8:50:19<2:51:41, 13.29s/it]"
     ]
    },
    {
     "name": "stderr",
     "output_type": "stream",
     "text": [
      "\r",
      "Epoch 1/5:  76%|███████▌  | 2392/3166 [8:50:32<2:51:37, 13.30s/it]"
     ]
    },
    {
     "name": "stderr",
     "output_type": "stream",
     "text": [
      "\r",
      "Epoch 1/5:  76%|███████▌  | 2393/3166 [8:50:46<2:51:23, 13.30s/it]"
     ]
    },
    {
     "name": "stderr",
     "output_type": "stream",
     "text": [
      "\r",
      "Epoch 1/5:  76%|███████▌  | 2394/3166 [8:50:59<2:51:11, 13.30s/it]"
     ]
    },
    {
     "name": "stderr",
     "output_type": "stream",
     "text": [
      "\r",
      "Epoch 1/5:  76%|███████▌  | 2395/3166 [8:51:12<2:51:21, 13.34s/it]"
     ]
    },
    {
     "name": "stderr",
     "output_type": "stream",
     "text": [
      "\r",
      "Epoch 1/5:  76%|███████▌  | 2396/3166 [8:51:26<2:51:09, 13.34s/it]"
     ]
    },
    {
     "name": "stderr",
     "output_type": "stream",
     "text": [
      "\r",
      "Epoch 1/5:  76%|███████▌  | 2397/3166 [8:51:39<2:50:55, 13.34s/it]"
     ]
    },
    {
     "name": "stderr",
     "output_type": "stream",
     "text": [
      "\r",
      "Epoch 1/5:  76%|███████▌  | 2398/3166 [8:51:53<2:51:16, 13.38s/it]"
     ]
    },
    {
     "name": "stderr",
     "output_type": "stream",
     "text": [
      "\r",
      "Epoch 1/5:  76%|███████▌  | 2399/3166 [8:52:06<2:50:41, 13.35s/it]"
     ]
    },
    {
     "name": "stderr",
     "output_type": "stream",
     "text": [
      "\r",
      "Epoch 1/5:  76%|███████▌  | 2400/3166 [8:52:19<2:50:13, 13.33s/it]"
     ]
    },
    {
     "name": "stderr",
     "output_type": "stream",
     "text": [
      "\r",
      "Epoch 1/5:  76%|███████▌  | 2401/3166 [8:52:32<2:50:06, 13.34s/it]"
     ]
    },
    {
     "name": "stderr",
     "output_type": "stream",
     "text": [
      "\r",
      "Epoch 1/5:  76%|███████▌  | 2402/3166 [8:52:46<2:49:42, 13.33s/it]"
     ]
    },
    {
     "name": "stderr",
     "output_type": "stream",
     "text": [
      "\r",
      "Epoch 1/5:  76%|███████▌  | 2403/3166 [8:52:59<2:49:27, 13.33s/it]"
     ]
    },
    {
     "name": "stderr",
     "output_type": "stream",
     "text": [
      "\r",
      "Epoch 1/5:  76%|███████▌  | 2404/3166 [8:53:13<2:49:30, 13.35s/it]"
     ]
    },
    {
     "name": "stderr",
     "output_type": "stream",
     "text": [
      "\r",
      "Epoch 1/5:  76%|███████▌  | 2405/3166 [8:53:26<2:49:12, 13.34s/it]"
     ]
    },
    {
     "name": "stderr",
     "output_type": "stream",
     "text": [
      "\r",
      "Epoch 1/5:  76%|███████▌  | 2406/3166 [8:53:39<2:48:56, 13.34s/it]"
     ]
    },
    {
     "name": "stderr",
     "output_type": "stream",
     "text": [
      "\r",
      "Epoch 1/5:  76%|███████▌  | 2407/3166 [8:53:53<2:49:00, 13.36s/it]"
     ]
    },
    {
     "name": "stderr",
     "output_type": "stream",
     "text": [
      "\r",
      "Epoch 1/5:  76%|███████▌  | 2408/3166 [8:54:06<2:48:43, 13.35s/it]"
     ]
    },
    {
     "name": "stderr",
     "output_type": "stream",
     "text": [
      "\r",
      "Epoch 1/5:  76%|███████▌  | 2409/3166 [8:54:19<2:48:21, 13.34s/it]"
     ]
    },
    {
     "name": "stderr",
     "output_type": "stream",
     "text": [
      "\r",
      "Epoch 1/5:  76%|███████▌  | 2410/3166 [8:54:33<2:48:09, 13.35s/it]"
     ]
    },
    {
     "name": "stderr",
     "output_type": "stream",
     "text": [
      "\r",
      "Epoch 1/5:  76%|███████▌  | 2411/3166 [8:54:46<2:47:48, 13.34s/it]"
     ]
    },
    {
     "name": "stderr",
     "output_type": "stream",
     "text": [
      "\r",
      "Epoch 1/5:  76%|███████▌  | 2412/3166 [8:54:59<2:47:35, 13.34s/it]"
     ]
    },
    {
     "name": "stderr",
     "output_type": "stream",
     "text": [
      "\r",
      "Epoch 1/5:  76%|███████▌  | 2413/3166 [8:55:13<2:47:24, 13.34s/it]"
     ]
    },
    {
     "name": "stderr",
     "output_type": "stream",
     "text": [
      "\r",
      "Epoch 1/5:  76%|███████▌  | 2414/3166 [8:55:26<2:46:46, 13.31s/it]"
     ]
    },
    {
     "name": "stderr",
     "output_type": "stream",
     "text": [
      "\r",
      "Epoch 1/5:  76%|███████▋  | 2415/3166 [8:55:39<2:46:35, 13.31s/it]"
     ]
    },
    {
     "name": "stderr",
     "output_type": "stream",
     "text": [
      "\r",
      "Epoch 1/5:  76%|███████▋  | 2416/3166 [8:55:53<2:46:52, 13.35s/it]"
     ]
    },
    {
     "name": "stderr",
     "output_type": "stream",
     "text": [
      "\r",
      "Epoch 1/5:  76%|███████▋  | 2417/3166 [8:56:06<2:46:29, 13.34s/it]"
     ]
    },
    {
     "name": "stderr",
     "output_type": "stream",
     "text": [
      "\r",
      "Epoch 1/5:  76%|███████▋  | 2418/3166 [8:56:19<2:46:24, 13.35s/it]"
     ]
    },
    {
     "name": "stderr",
     "output_type": "stream",
     "text": [
      "\r",
      "Epoch 1/5:  76%|███████▋  | 2419/3166 [8:56:33<2:46:10, 13.35s/it]"
     ]
    },
    {
     "name": "stderr",
     "output_type": "stream",
     "text": [
      "\r",
      "Epoch 1/5:  76%|███████▋  | 2420/3166 [8:56:46<2:45:54, 13.34s/it]"
     ]
    },
    {
     "name": "stderr",
     "output_type": "stream",
     "text": [
      "\r",
      "Epoch 1/5:  76%|███████▋  | 2421/3166 [8:56:59<2:45:13, 13.31s/it]"
     ]
    },
    {
     "name": "stderr",
     "output_type": "stream",
     "text": [
      "\r",
      "Epoch 1/5:  77%|███████▋  | 2422/3166 [8:57:13<2:45:18, 13.33s/it]"
     ]
    },
    {
     "name": "stderr",
     "output_type": "stream",
     "text": [
      "\r",
      "Epoch 1/5:  77%|███████▋  | 2423/3166 [8:57:26<2:45:02, 13.33s/it]"
     ]
    },
    {
     "name": "stderr",
     "output_type": "stream",
     "text": [
      "\r",
      "Epoch 1/5:  77%|███████▋  | 2424/3166 [8:57:39<2:44:42, 13.32s/it]"
     ]
    },
    {
     "name": "stderr",
     "output_type": "stream",
     "text": [
      "\r",
      "Epoch 1/5:  77%|███████▋  | 2425/3166 [8:57:52<2:44:30, 13.32s/it]"
     ]
    },
    {
     "name": "stderr",
     "output_type": "stream",
     "text": [
      "\r",
      "Epoch 1/5:  77%|███████▋  | 2426/3166 [8:58:06<2:44:08, 13.31s/it]"
     ]
    },
    {
     "name": "stderr",
     "output_type": "stream",
     "text": [
      "\r",
      "Epoch 1/5:  77%|███████▋  | 2427/3166 [8:58:19<2:44:01, 13.32s/it]"
     ]
    },
    {
     "name": "stderr",
     "output_type": "stream",
     "text": [
      "\r",
      "Epoch 1/5:  77%|███████▋  | 2428/3166 [8:58:32<2:43:56, 13.33s/it]"
     ]
    },
    {
     "name": "stderr",
     "output_type": "stream",
     "text": [
      "\r",
      "Epoch 1/5:  77%|███████▋  | 2429/3166 [8:58:46<2:43:35, 13.32s/it]"
     ]
    },
    {
     "name": "stderr",
     "output_type": "stream",
     "text": [
      "\r",
      "Epoch 1/5:  77%|███████▋  | 2430/3166 [8:58:59<2:43:03, 13.29s/it]"
     ]
    },
    {
     "name": "stderr",
     "output_type": "stream",
     "text": [
      "\r",
      "Epoch 1/5:  77%|███████▋  | 2431/3166 [8:59:12<2:43:12, 13.32s/it]"
     ]
    },
    {
     "name": "stderr",
     "output_type": "stream",
     "text": [
      "\r",
      "Epoch 1/5:  77%|███████▋  | 2432/3166 [8:59:26<2:42:43, 13.30s/it]"
     ]
    },
    {
     "name": "stderr",
     "output_type": "stream",
     "text": [
      "\r",
      "Epoch 1/5:  77%|███████▋  | 2433/3166 [8:59:39<2:42:38, 13.31s/it]"
     ]
    },
    {
     "name": "stderr",
     "output_type": "stream",
     "text": [
      "\r",
      "Epoch 1/5:  77%|███████▋  | 2434/3166 [8:59:52<2:42:39, 13.33s/it]"
     ]
    },
    {
     "name": "stderr",
     "output_type": "stream",
     "text": [
      "\r",
      "Epoch 1/5:  77%|███████▋  | 2435/3166 [9:00:06<2:42:09, 13.31s/it]"
     ]
    },
    {
     "name": "stderr",
     "output_type": "stream",
     "text": [
      "\r",
      "Epoch 1/5:  77%|███████▋  | 2436/3166 [9:00:19<2:41:47, 13.30s/it]"
     ]
    },
    {
     "name": "stderr",
     "output_type": "stream",
     "text": [
      "\r",
      "Epoch 1/5:  77%|███████▋  | 2437/3166 [9:00:32<2:41:56, 13.33s/it]"
     ]
    },
    {
     "name": "stderr",
     "output_type": "stream",
     "text": [
      "\r",
      "Epoch 1/5:  77%|███████▋  | 2438/3166 [9:00:46<2:41:35, 13.32s/it]"
     ]
    },
    {
     "name": "stderr",
     "output_type": "stream",
     "text": [
      "\r",
      "Epoch 1/5:  77%|███████▋  | 2439/3166 [9:00:59<2:41:16, 13.31s/it]"
     ]
    },
    {
     "name": "stderr",
     "output_type": "stream",
     "text": [
      "\r",
      "Epoch 1/5:  77%|███████▋  | 2440/3166 [9:01:12<2:41:08, 13.32s/it]"
     ]
    },
    {
     "name": "stderr",
     "output_type": "stream",
     "text": [
      "\r",
      "Epoch 1/5:  77%|███████▋  | 2441/3166 [9:01:26<2:40:59, 13.32s/it]"
     ]
    },
    {
     "name": "stderr",
     "output_type": "stream",
     "text": [
      "\r",
      "Epoch 1/5:  77%|███████▋  | 2442/3166 [9:01:39<2:40:38, 13.31s/it]"
     ]
    },
    {
     "name": "stderr",
     "output_type": "stream",
     "text": [
      "\r",
      "Epoch 1/5:  77%|███████▋  | 2443/3166 [9:01:52<2:40:38, 13.33s/it]"
     ]
    },
    {
     "name": "stderr",
     "output_type": "stream",
     "text": [
      "\r",
      "Epoch 1/5:  77%|███████▋  | 2444/3166 [9:02:05<2:40:16, 13.32s/it]"
     ]
    },
    {
     "name": "stderr",
     "output_type": "stream",
     "text": [
      "\r",
      "Epoch 1/5:  77%|███████▋  | 2445/3166 [9:02:19<2:40:01, 13.32s/it]"
     ]
    },
    {
     "name": "stderr",
     "output_type": "stream",
     "text": [
      "\r",
      "Epoch 1/5:  77%|███████▋  | 2446/3166 [9:02:32<2:39:57, 13.33s/it]"
     ]
    },
    {
     "name": "stderr",
     "output_type": "stream",
     "text": [
      "\r",
      "Epoch 1/5:  77%|███████▋  | 2447/3166 [9:02:45<2:39:25, 13.30s/it]"
     ]
    },
    {
     "name": "stderr",
     "output_type": "stream",
     "text": [
      "\r",
      "Epoch 1/5:  77%|███████▋  | 2448/3166 [9:02:59<2:39:32, 13.33s/it]"
     ]
    },
    {
     "name": "stderr",
     "output_type": "stream",
     "text": [
      "\r",
      "Epoch 1/5:  77%|███████▋  | 2449/3166 [9:03:12<2:39:22, 13.34s/it]"
     ]
    },
    {
     "name": "stderr",
     "output_type": "stream",
     "text": [
      "\r",
      "Epoch 1/5:  77%|███████▋  | 2450/3166 [9:03:25<2:38:57, 13.32s/it]"
     ]
    },
    {
     "name": "stderr",
     "output_type": "stream",
     "text": [
      "\r",
      "Epoch 1/5:  77%|███████▋  | 2451/3166 [9:03:39<2:38:21, 13.29s/it]"
     ]
    },
    {
     "name": "stderr",
     "output_type": "stream",
     "text": [
      "\r",
      "Epoch 1/5:  77%|███████▋  | 2452/3166 [9:03:52<2:38:33, 13.32s/it]"
     ]
    },
    {
     "name": "stderr",
     "output_type": "stream",
     "text": [
      "\r",
      "Epoch 1/5:  77%|███████▋  | 2453/3166 [9:04:05<2:38:16, 13.32s/it]"
     ]
    },
    {
     "name": "stderr",
     "output_type": "stream",
     "text": [
      "\r",
      "Epoch 1/5:  78%|███████▊  | 2454/3166 [9:04:19<2:38:00, 13.32s/it]"
     ]
    },
    {
     "name": "stderr",
     "output_type": "stream",
     "text": [
      "\r",
      "Epoch 1/5:  78%|███████▊  | 2455/3166 [9:04:32<2:38:12, 13.35s/it]"
     ]
    },
    {
     "name": "stderr",
     "output_type": "stream",
     "text": [
      "\r",
      "Epoch 1/5:  78%|███████▊  | 2456/3166 [9:04:45<2:37:41, 13.33s/it]"
     ]
    },
    {
     "name": "stderr",
     "output_type": "stream",
     "text": [
      "\r",
      "Epoch 1/5:  78%|███████▊  | 2457/3166 [9:04:59<2:37:21, 13.32s/it]"
     ]
    },
    {
     "name": "stderr",
     "output_type": "stream",
     "text": [
      "\r",
      "Epoch 1/5:  78%|███████▊  | 2458/3166 [9:05:12<2:37:20, 13.33s/it]"
     ]
    },
    {
     "name": "stderr",
     "output_type": "stream",
     "text": [
      "\r",
      "Epoch 1/5:  78%|███████▊  | 2459/3166 [9:05:25<2:37:03, 13.33s/it]"
     ]
    },
    {
     "name": "stderr",
     "output_type": "stream",
     "text": [
      "\r",
      "Epoch 1/5:  78%|███████▊  | 2460/3166 [9:05:39<2:36:45, 13.32s/it]"
     ]
    },
    {
     "name": "stderr",
     "output_type": "stream",
     "text": [
      "\r",
      "Epoch 1/5:  78%|███████▊  | 2461/3166 [9:05:52<2:36:38, 13.33s/it]"
     ]
    },
    {
     "name": "stderr",
     "output_type": "stream",
     "text": [
      "\r",
      "Epoch 1/5:  78%|███████▊  | 2462/3166 [9:06:05<2:36:17, 13.32s/it]"
     ]
    },
    {
     "name": "stderr",
     "output_type": "stream",
     "text": [
      "\r",
      "Epoch 1/5:  78%|███████▊  | 2463/3166 [9:06:19<2:36:06, 13.32s/it]"
     ]
    },
    {
     "name": "stderr",
     "output_type": "stream",
     "text": [
      "\r",
      "Epoch 1/5:  78%|███████▊  | 2464/3166 [9:06:32<2:36:16, 13.36s/it]"
     ]
    },
    {
     "name": "stderr",
     "output_type": "stream",
     "text": [
      "\r",
      "Epoch 1/5:  78%|███████▊  | 2465/3166 [9:06:45<2:35:56, 13.35s/it]"
     ]
    },
    {
     "name": "stderr",
     "output_type": "stream",
     "text": [
      "\r",
      "Epoch 1/5:  78%|███████▊  | 2466/3166 [9:06:59<2:35:38, 13.34s/it]"
     ]
    },
    {
     "name": "stderr",
     "output_type": "stream",
     "text": [
      "\r",
      "Epoch 1/5:  78%|███████▊  | 2467/3166 [9:07:12<2:35:37, 13.36s/it]"
     ]
    },
    {
     "name": "stderr",
     "output_type": "stream",
     "text": [
      "\r",
      "Epoch 1/5:  78%|███████▊  | 2468/3166 [9:07:25<2:34:57, 13.32s/it]"
     ]
    },
    {
     "name": "stderr",
     "output_type": "stream",
     "text": [
      "\r",
      "Epoch 1/5:  78%|███████▊  | 2469/3166 [9:07:39<2:34:35, 13.31s/it]"
     ]
    },
    {
     "name": "stderr",
     "output_type": "stream",
     "text": [
      "\r",
      "Epoch 1/5:  78%|███████▊  | 2470/3166 [9:07:52<2:34:43, 13.34s/it]"
     ]
    },
    {
     "name": "stderr",
     "output_type": "stream",
     "text": [
      "\r",
      "Epoch 1/5:  78%|███████▊  | 2471/3166 [9:08:05<2:34:31, 13.34s/it]"
     ]
    },
    {
     "name": "stderr",
     "output_type": "stream",
     "text": [
      "\r",
      "Epoch 1/5:  78%|███████▊  | 2472/3166 [9:08:19<2:34:04, 13.32s/it]"
     ]
    },
    {
     "name": "stderr",
     "output_type": "stream",
     "text": [
      "\r",
      "Epoch 1/5:  78%|███████▊  | 2473/3166 [9:08:32<2:34:01, 13.34s/it]"
     ]
    },
    {
     "name": "stderr",
     "output_type": "stream",
     "text": [
      "\r",
      "Epoch 1/5:  78%|███████▊  | 2474/3166 [9:08:45<2:33:38, 13.32s/it]"
     ]
    },
    {
     "name": "stderr",
     "output_type": "stream",
     "text": [
      "\r",
      "Epoch 1/5:  78%|███████▊  | 2475/3166 [9:08:59<2:33:17, 13.31s/it]"
     ]
    },
    {
     "name": "stderr",
     "output_type": "stream",
     "text": [
      "\r",
      "Epoch 1/5:  78%|███████▊  | 2476/3166 [9:09:12<2:33:19, 13.33s/it]"
     ]
    },
    {
     "name": "stderr",
     "output_type": "stream",
     "text": [
      "\r",
      "Epoch 1/5:  78%|███████▊  | 2477/3166 [9:09:25<2:33:00, 13.32s/it]"
     ]
    },
    {
     "name": "stderr",
     "output_type": "stream",
     "text": [
      "\r",
      "Epoch 1/5:  78%|███████▊  | 2478/3166 [9:09:39<2:32:50, 13.33s/it]"
     ]
    },
    {
     "name": "stderr",
     "output_type": "stream",
     "text": [
      "\r",
      "Epoch 1/5:  78%|███████▊  | 2479/3166 [9:09:52<2:32:45, 13.34s/it]"
     ]
    },
    {
     "name": "stderr",
     "output_type": "stream",
     "text": [
      "\r",
      "Epoch 1/5:  78%|███████▊  | 2480/3166 [9:10:05<2:32:19, 13.32s/it]"
     ]
    },
    {
     "name": "stderr",
     "output_type": "stream",
     "text": [
      "\r",
      "Epoch 1/5:  78%|███████▊  | 2481/3166 [9:10:19<2:32:00, 13.31s/it]"
     ]
    },
    {
     "name": "stderr",
     "output_type": "stream",
     "text": [
      "\r",
      "Epoch 1/5:  78%|███████▊  | 2482/3166 [9:10:32<2:32:01, 13.34s/it]"
     ]
    },
    {
     "name": "stderr",
     "output_type": "stream",
     "text": [
      "\r",
      "Epoch 1/5:  78%|███████▊  | 2483/3166 [9:10:45<2:31:35, 13.32s/it]"
     ]
    },
    {
     "name": "stderr",
     "output_type": "stream",
     "text": [
      "\r",
      "Epoch 1/5:  78%|███████▊  | 2484/3166 [9:10:59<2:31:28, 13.33s/it]"
     ]
    },
    {
     "name": "stderr",
     "output_type": "stream",
     "text": [
      "\r",
      "Epoch 1/5:  78%|███████▊  | 2485/3166 [9:11:12<2:31:33, 13.35s/it]"
     ]
    },
    {
     "name": "stderr",
     "output_type": "stream",
     "text": [
      "\r",
      "Epoch 1/5:  79%|███████▊  | 2486/3166 [9:11:25<2:31:16, 13.35s/it]"
     ]
    },
    {
     "name": "stderr",
     "output_type": "stream",
     "text": [
      "\r",
      "Epoch 1/5:  79%|███████▊  | 2487/3166 [9:11:39<2:31:03, 13.35s/it]"
     ]
    },
    {
     "name": "stderr",
     "output_type": "stream",
     "text": [
      "\r",
      "Epoch 1/5:  79%|███████▊  | 2488/3166 [9:11:52<2:31:16, 13.39s/it]"
     ]
    },
    {
     "name": "stderr",
     "output_type": "stream",
     "text": [
      "\r",
      "Epoch 1/5:  79%|███████▊  | 2489/3166 [9:12:06<2:30:53, 13.37s/it]"
     ]
    },
    {
     "name": "stderr",
     "output_type": "stream",
     "text": [
      "\r",
      "Epoch 1/5:  79%|███████▊  | 2490/3166 [9:12:19<2:30:20, 13.34s/it]"
     ]
    },
    {
     "name": "stderr",
     "output_type": "stream",
     "text": [
      "\r",
      "Epoch 1/5:  79%|███████▊  | 2491/3166 [9:12:32<2:30:12, 13.35s/it]"
     ]
    },
    {
     "name": "stderr",
     "output_type": "stream",
     "text": [
      "\r",
      "Epoch 1/5:  79%|███████▊  | 2492/3166 [9:12:45<2:29:44, 13.33s/it]"
     ]
    },
    {
     "name": "stderr",
     "output_type": "stream",
     "text": [
      "\r",
      "Epoch 1/5:  79%|███████▊  | 2493/3166 [9:12:59<2:29:40, 13.34s/it]"
     ]
    },
    {
     "name": "stderr",
     "output_type": "stream",
     "text": [
      "\r",
      "Epoch 1/5:  79%|███████▉  | 2494/3166 [9:13:12<2:29:37, 13.36s/it]"
     ]
    },
    {
     "name": "stderr",
     "output_type": "stream",
     "text": [
      "\r",
      "Epoch 1/5:  79%|███████▉  | 2495/3166 [9:13:26<2:29:18, 13.35s/it]"
     ]
    },
    {
     "name": "stderr",
     "output_type": "stream",
     "text": [
      "\r",
      "Epoch 1/5:  79%|███████▉  | 2496/3166 [9:13:39<2:28:53, 13.33s/it]"
     ]
    },
    {
     "name": "stderr",
     "output_type": "stream",
     "text": [
      "\r",
      "Epoch 1/5:  79%|███████▉  | 2497/3166 [9:13:52<2:28:55, 13.36s/it]"
     ]
    },
    {
     "name": "stderr",
     "output_type": "stream",
     "text": [
      "\r",
      "Epoch 1/5:  79%|███████▉  | 2498/3166 [9:14:06<2:28:41, 13.36s/it]"
     ]
    },
    {
     "name": "stderr",
     "output_type": "stream",
     "text": [
      "\r",
      "Epoch 1/5:  79%|███████▉  | 2499/3166 [9:14:19<2:28:27, 13.35s/it]"
     ]
    },
    {
     "name": "stderr",
     "output_type": "stream",
     "text": [
      "\r",
      "Epoch 1/5:  79%|███████▉  | 2500/3166 [9:14:32<2:28:25, 13.37s/it]"
     ]
    },
    {
     "name": "stderr",
     "output_type": "stream",
     "text": [
      "\r",
      "Epoch 1/5:  79%|███████▉  | 2501/3166 [9:14:46<2:28:07, 13.36s/it]"
     ]
    },
    {
     "name": "stderr",
     "output_type": "stream",
     "text": [
      "\r",
      "Epoch 1/5:  79%|███████▉  | 2502/3166 [9:14:59<2:27:42, 13.35s/it]"
     ]
    },
    {
     "name": "stderr",
     "output_type": "stream",
     "text": [
      "\r",
      "Epoch 1/5:  79%|███████▉  | 2503/3166 [9:15:12<2:27:40, 13.36s/it]"
     ]
    },
    {
     "name": "stderr",
     "output_type": "stream",
     "text": [
      "\r",
      "Epoch 1/5:  79%|███████▉  | 2504/3166 [9:15:26<2:27:21, 13.36s/it]"
     ]
    },
    {
     "name": "stderr",
     "output_type": "stream",
     "text": [
      "\r",
      "Epoch 1/5:  79%|███████▉  | 2505/3166 [9:15:39<2:26:57, 13.34s/it]"
     ]
    },
    {
     "name": "stderr",
     "output_type": "stream",
     "text": [
      "\r",
      "Epoch 1/5:  79%|███████▉  | 2506/3166 [9:15:53<2:27:07, 13.38s/it]"
     ]
    },
    {
     "name": "stderr",
     "output_type": "stream",
     "text": [
      "\r",
      "Epoch 1/5:  79%|███████▉  | 2507/3166 [9:16:06<2:26:58, 13.38s/it]"
     ]
    },
    {
     "name": "stderr",
     "output_type": "stream",
     "text": [
      "\r",
      "Epoch 1/5:  79%|███████▉  | 2508/3166 [9:16:19<2:26:41, 13.38s/it]"
     ]
    },
    {
     "name": "stderr",
     "output_type": "stream",
     "text": [
      "\r",
      "Epoch 1/5:  79%|███████▉  | 2509/3166 [9:16:33<2:26:41, 13.40s/it]"
     ]
    },
    {
     "name": "stderr",
     "output_type": "stream",
     "text": [
      "\r",
      "Epoch 1/5:  79%|███████▉  | 2510/3166 [9:16:46<2:26:18, 13.38s/it]"
     ]
    },
    {
     "name": "stderr",
     "output_type": "stream",
     "text": [
      "\r",
      "Epoch 1/5:  79%|███████▉  | 2511/3166 [9:16:59<2:25:49, 13.36s/it]"
     ]
    },
    {
     "name": "stderr",
     "output_type": "stream",
     "text": [
      "\r",
      "Epoch 1/5:  79%|███████▉  | 2512/3166 [9:17:13<2:25:50, 13.38s/it]"
     ]
    },
    {
     "name": "stderr",
     "output_type": "stream",
     "text": [
      "\r",
      "Epoch 1/5:  79%|███████▉  | 2513/3166 [9:17:26<2:25:23, 13.36s/it]"
     ]
    },
    {
     "name": "stderr",
     "output_type": "stream",
     "text": [
      "\r",
      "Epoch 1/5:  79%|███████▉  | 2514/3166 [9:17:39<2:25:09, 13.36s/it]"
     ]
    },
    {
     "name": "stderr",
     "output_type": "stream",
     "text": [
      "\r",
      "Epoch 1/5:  79%|███████▉  | 2515/3166 [9:17:53<2:25:02, 13.37s/it]"
     ]
    },
    {
     "name": "stderr",
     "output_type": "stream",
     "text": [
      "\r",
      "Epoch 1/5:  79%|███████▉  | 2516/3166 [9:18:06<2:24:41, 13.36s/it]"
     ]
    },
    {
     "name": "stderr",
     "output_type": "stream",
     "text": [
      "\r",
      "Epoch 1/5:  80%|███████▉  | 2517/3166 [9:18:19<2:24:18, 13.34s/it]"
     ]
    },
    {
     "name": "stderr",
     "output_type": "stream",
     "text": [
      "\r",
      "Epoch 1/5:  80%|███████▉  | 2518/3166 [9:18:33<2:24:14, 13.36s/it]"
     ]
    },
    {
     "name": "stderr",
     "output_type": "stream",
     "text": [
      "\r",
      "Epoch 1/5:  80%|███████▉  | 2519/3166 [9:18:46<2:24:01, 13.36s/it]"
     ]
    },
    {
     "name": "stderr",
     "output_type": "stream",
     "text": [
      "\r",
      "Epoch 1/5:  80%|███████▉  | 2520/3166 [9:19:00<2:23:46, 13.35s/it]"
     ]
    },
    {
     "name": "stderr",
     "output_type": "stream",
     "text": [
      "\r",
      "Epoch 1/5:  80%|███████▉  | 2521/3166 [9:19:13<2:23:52, 13.38s/it]"
     ]
    },
    {
     "name": "stderr",
     "output_type": "stream",
     "text": [
      "\r",
      "Epoch 1/5:  80%|███████▉  | 2522/3166 [9:19:26<2:23:12, 13.34s/it]"
     ]
    },
    {
     "name": "stderr",
     "output_type": "stream",
     "text": [
      "\r",
      "Epoch 1/5:  80%|███████▉  | 2523/3166 [9:19:40<2:23:00, 13.35s/it]"
     ]
    },
    {
     "name": "stderr",
     "output_type": "stream",
     "text": [
      "\r",
      "Epoch 1/5:  80%|███████▉  | 2524/3166 [9:19:53<2:23:11, 13.38s/it]"
     ]
    },
    {
     "name": "stderr",
     "output_type": "stream",
     "text": [
      "\r",
      "Epoch 1/5:  80%|███████▉  | 2525/3166 [9:20:07<2:23:45, 13.46s/it]"
     ]
    },
    {
     "name": "stderr",
     "output_type": "stream",
     "text": [
      "\r",
      "Epoch 1/5:  80%|███████▉  | 2526/3166 [9:20:20<2:22:54, 13.40s/it]"
     ]
    },
    {
     "name": "stderr",
     "output_type": "stream",
     "text": [
      "\r",
      "Epoch 1/5:  80%|███████▉  | 2527/3166 [9:20:33<2:22:48, 13.41s/it]"
     ]
    },
    {
     "name": "stderr",
     "output_type": "stream",
     "text": [
      "\r",
      "Epoch 1/5:  80%|███████▉  | 2528/3166 [9:20:47<2:22:17, 13.38s/it]"
     ]
    },
    {
     "name": "stderr",
     "output_type": "stream",
     "text": [
      "\r",
      "Epoch 1/5:  80%|███████▉  | 2529/3166 [9:21:00<2:21:54, 13.37s/it]"
     ]
    },
    {
     "name": "stderr",
     "output_type": "stream",
     "text": [
      "\r",
      "Epoch 1/5:  80%|███████▉  | 2530/3166 [9:21:14<2:21:59, 13.40s/it]"
     ]
    },
    {
     "name": "stderr",
     "output_type": "stream",
     "text": [
      "\r",
      "Epoch 1/5:  80%|███████▉  | 2531/3166 [9:21:27<2:21:32, 13.37s/it]"
     ]
    },
    {
     "name": "stderr",
     "output_type": "stream",
     "text": [
      "\r",
      "Epoch 1/5:  80%|███████▉  | 2532/3166 [9:21:40<2:21:06, 13.35s/it]"
     ]
    },
    {
     "name": "stderr",
     "output_type": "stream",
     "text": [
      "\r",
      "Epoch 1/5:  80%|████████  | 2533/3166 [9:21:54<2:21:05, 13.37s/it]"
     ]
    },
    {
     "name": "stderr",
     "output_type": "stream",
     "text": [
      "\r",
      "Epoch 1/5:  80%|████████  | 2534/3166 [9:22:07<2:20:40, 13.35s/it]"
     ]
    },
    {
     "name": "stderr",
     "output_type": "stream",
     "text": [
      "\r",
      "Epoch 1/5:  80%|████████  | 2535/3166 [9:22:20<2:20:26, 13.35s/it]"
     ]
    },
    {
     "name": "stderr",
     "output_type": "stream",
     "text": [
      "\r",
      "Epoch 1/5:  80%|████████  | 2536/3166 [9:22:34<2:20:31, 13.38s/it]"
     ]
    },
    {
     "name": "stderr",
     "output_type": "stream",
     "text": [
      "\r",
      "Epoch 1/5:  80%|████████  | 2537/3166 [9:22:47<2:20:06, 13.37s/it]"
     ]
    },
    {
     "name": "stderr",
     "output_type": "stream",
     "text": [
      "\r",
      "Epoch 1/5:  80%|████████  | 2538/3166 [9:23:00<2:19:35, 13.34s/it]"
     ]
    },
    {
     "name": "stderr",
     "output_type": "stream",
     "text": [
      "\r",
      "Epoch 1/5:  80%|████████  | 2539/3166 [9:23:14<2:19:34, 13.36s/it]"
     ]
    },
    {
     "name": "stderr",
     "output_type": "stream",
     "text": [
      "\r",
      "Epoch 1/5:  80%|████████  | 2540/3166 [9:23:27<2:19:02, 13.33s/it]"
     ]
    },
    {
     "name": "stderr",
     "output_type": "stream",
     "text": [
      "\r",
      "Epoch 1/5:  80%|████████  | 2541/3166 [9:23:40<2:18:42, 13.32s/it]"
     ]
    },
    {
     "name": "stderr",
     "output_type": "stream",
     "text": [
      "\r",
      "Epoch 1/5:  80%|████████  | 2542/3166 [9:23:54<2:18:40, 13.33s/it]"
     ]
    },
    {
     "name": "stderr",
     "output_type": "stream",
     "text": [
      "\r",
      "Epoch 1/5:  80%|████████  | 2543/3166 [9:24:07<2:18:22, 13.33s/it]"
     ]
    },
    {
     "name": "stderr",
     "output_type": "stream",
     "text": [
      "\r",
      "Epoch 1/5:  80%|████████  | 2544/3166 [9:24:20<2:17:58, 13.31s/it]"
     ]
    },
    {
     "name": "stderr",
     "output_type": "stream",
     "text": [
      "\r",
      "Epoch 1/5:  80%|████████  | 2545/3166 [9:24:34<2:18:04, 13.34s/it]"
     ]
    },
    {
     "name": "stderr",
     "output_type": "stream",
     "text": [
      "\r",
      "Epoch 1/5:  80%|████████  | 2546/3166 [9:24:47<2:17:39, 13.32s/it]"
     ]
    },
    {
     "name": "stderr",
     "output_type": "stream",
     "text": [
      "\r",
      "Epoch 1/5:  80%|████████  | 2547/3166 [9:25:00<2:17:19, 13.31s/it]"
     ]
    },
    {
     "name": "stderr",
     "output_type": "stream",
     "text": [
      "\r",
      "Epoch 1/5:  80%|████████  | 2548/3166 [9:25:14<2:17:21, 13.34s/it]"
     ]
    },
    {
     "name": "stderr",
     "output_type": "stream",
     "text": [
      "\r",
      "Epoch 1/5:  81%|████████  | 2549/3166 [9:25:27<2:17:01, 13.33s/it]"
     ]
    },
    {
     "name": "stderr",
     "output_type": "stream",
     "text": [
      "\r",
      "Epoch 1/5:  81%|████████  | 2550/3166 [9:25:40<2:16:37, 13.31s/it]"
     ]
    },
    {
     "name": "stderr",
     "output_type": "stream",
     "text": [
      "\r",
      "Epoch 1/5:  81%|████████  | 2551/3166 [9:25:54<2:16:34, 13.32s/it]"
     ]
    },
    {
     "name": "stderr",
     "output_type": "stream",
     "text": [
      "\r",
      "Epoch 1/5:  81%|████████  | 2552/3166 [9:26:07<2:16:09, 13.31s/it]"
     ]
    },
    {
     "name": "stderr",
     "output_type": "stream",
     "text": [
      "\r",
      "Epoch 1/5:  81%|████████  | 2553/3166 [9:26:20<2:16:03, 13.32s/it]"
     ]
    },
    {
     "name": "stderr",
     "output_type": "stream",
     "text": [
      "\r",
      "Epoch 1/5:  81%|████████  | 2554/3166 [9:26:34<2:16:03, 13.34s/it]"
     ]
    },
    {
     "name": "stderr",
     "output_type": "stream",
     "text": [
      "\r",
      "Epoch 1/5:  81%|████████  | 2555/3166 [9:26:47<2:15:53, 13.34s/it]"
     ]
    },
    {
     "name": "stderr",
     "output_type": "stream",
     "text": [
      "\r",
      "Epoch 1/5:  81%|████████  | 2556/3166 [9:27:00<2:15:38, 13.34s/it]"
     ]
    },
    {
     "name": "stderr",
     "output_type": "stream",
     "text": [
      "\r",
      "Epoch 1/5:  81%|████████  | 2557/3166 [9:27:14<2:15:48, 13.38s/it]"
     ]
    },
    {
     "name": "stderr",
     "output_type": "stream",
     "text": [
      "\r",
      "Epoch 1/5:  81%|████████  | 2558/3166 [9:27:27<2:15:10, 13.34s/it]"
     ]
    },
    {
     "name": "stderr",
     "output_type": "stream",
     "text": [
      "\r",
      "Epoch 1/5:  81%|████████  | 2559/3166 [9:27:40<2:14:52, 13.33s/it]"
     ]
    },
    {
     "name": "stderr",
     "output_type": "stream",
     "text": [
      "\r",
      "Epoch 1/5:  81%|████████  | 2560/3166 [9:27:54<2:14:58, 13.36s/it]"
     ]
    },
    {
     "name": "stderr",
     "output_type": "stream",
     "text": [
      "\r",
      "Epoch 1/5:  81%|████████  | 2561/3166 [9:28:07<2:14:27, 13.33s/it]"
     ]
    },
    {
     "name": "stderr",
     "output_type": "stream",
     "text": [
      "\r",
      "Epoch 1/5:  81%|████████  | 2562/3166 [9:28:20<2:14:18, 13.34s/it]"
     ]
    },
    {
     "name": "stderr",
     "output_type": "stream",
     "text": [
      "\r",
      "Epoch 1/5:  81%|████████  | 2563/3166 [9:28:34<2:14:22, 13.37s/it]"
     ]
    },
    {
     "name": "stderr",
     "output_type": "stream",
     "text": [
      "\r",
      "Epoch 1/5:  81%|████████  | 2564/3166 [9:28:47<2:14:00, 13.36s/it]"
     ]
    },
    {
     "name": "stderr",
     "output_type": "stream",
     "text": [
      "\r",
      "Epoch 1/5:  81%|████████  | 2565/3166 [9:29:00<2:13:45, 13.35s/it]"
     ]
    },
    {
     "name": "stderr",
     "output_type": "stream",
     "text": [
      "\r",
      "Epoch 1/5:  81%|████████  | 2566/3166 [9:29:14<2:13:51, 13.39s/it]"
     ]
    },
    {
     "name": "stderr",
     "output_type": "stream",
     "text": [
      "\r",
      "Epoch 1/5:  81%|████████  | 2567/3166 [9:29:27<2:13:10, 13.34s/it]"
     ]
    },
    {
     "name": "stderr",
     "output_type": "stream",
     "text": [
      "\r",
      "Epoch 1/5:  81%|████████  | 2568/3166 [9:29:40<2:12:44, 13.32s/it]"
     ]
    },
    {
     "name": "stderr",
     "output_type": "stream",
     "text": [
      "\r",
      "Epoch 1/5:  81%|████████  | 2569/3166 [9:29:54<2:12:51, 13.35s/it]"
     ]
    },
    {
     "name": "stderr",
     "output_type": "stream",
     "text": [
      "\r",
      "Epoch 1/5:  81%|████████  | 2570/3166 [9:30:07<2:12:43, 13.36s/it]"
     ]
    },
    {
     "name": "stderr",
     "output_type": "stream",
     "text": [
      "\r",
      "Epoch 1/5:  81%|████████  | 2571/3166 [9:30:21<2:12:25, 13.35s/it]"
     ]
    },
    {
     "name": "stderr",
     "output_type": "stream",
     "text": [
      "\r",
      "Epoch 1/5:  81%|████████  | 2572/3166 [9:30:34<2:12:35, 13.39s/it]"
     ]
    },
    {
     "name": "stderr",
     "output_type": "stream",
     "text": [
      "\r",
      "Epoch 1/5:  81%|████████▏ | 2573/3166 [9:30:47<2:12:07, 13.37s/it]"
     ]
    },
    {
     "name": "stderr",
     "output_type": "stream",
     "text": [
      "\r",
      "Epoch 1/5:  81%|████████▏ | 2574/3166 [9:31:01<2:11:50, 13.36s/it]"
     ]
    },
    {
     "name": "stderr",
     "output_type": "stream",
     "text": [
      "\r",
      "Epoch 1/5:  81%|████████▏ | 2575/3166 [9:31:14<2:11:48, 13.38s/it]"
     ]
    },
    {
     "name": "stderr",
     "output_type": "stream",
     "text": [
      "\r",
      "Epoch 1/5:  81%|████████▏ | 2576/3166 [9:31:27<2:11:13, 13.35s/it]"
     ]
    },
    {
     "name": "stderr",
     "output_type": "stream",
     "text": [
      "\r",
      "Epoch 1/5:  81%|████████▏ | 2577/3166 [9:31:41<2:10:45, 13.32s/it]"
     ]
    },
    {
     "name": "stderr",
     "output_type": "stream",
     "text": [
      "\r",
      "Epoch 1/5:  81%|████████▏ | 2578/3166 [9:31:54<2:10:47, 13.35s/it]"
     ]
    },
    {
     "name": "stderr",
     "output_type": "stream",
     "text": [
      "\r",
      "Epoch 1/5:  81%|████████▏ | 2579/3166 [9:32:07<2:10:25, 13.33s/it]"
     ]
    },
    {
     "name": "stderr",
     "output_type": "stream",
     "text": [
      "\r",
      "Epoch 1/5:  81%|████████▏ | 2580/3166 [9:32:21<2:10:00, 13.31s/it]"
     ]
    },
    {
     "name": "stderr",
     "output_type": "stream",
     "text": [
      "\r",
      "Epoch 1/5:  82%|████████▏ | 2581/3166 [9:32:34<2:10:02, 13.34s/it]"
     ]
    },
    {
     "name": "stderr",
     "output_type": "stream",
     "text": [
      "\r",
      "Epoch 1/5:  82%|████████▏ | 2582/3166 [9:32:47<2:09:38, 13.32s/it]"
     ]
    },
    {
     "name": "stderr",
     "output_type": "stream",
     "text": [
      "\r",
      "Epoch 1/5:  82%|████████▏ | 2583/3166 [9:33:01<2:09:26, 13.32s/it]"
     ]
    },
    {
     "name": "stderr",
     "output_type": "stream",
     "text": [
      "\r",
      "Epoch 1/5:  82%|████████▏ | 2584/3166 [9:33:14<2:09:24, 13.34s/it]"
     ]
    },
    {
     "name": "stderr",
     "output_type": "stream",
     "text": [
      "\r",
      "Epoch 1/5:  82%|████████▏ | 2585/3166 [9:33:27<2:09:02, 13.33s/it]"
     ]
    },
    {
     "name": "stderr",
     "output_type": "stream",
     "text": [
      "\r",
      "Epoch 1/5:  82%|████████▏ | 2586/3166 [9:33:41<2:08:52, 13.33s/it]"
     ]
    },
    {
     "name": "stderr",
     "output_type": "stream",
     "text": [
      "\r",
      "Epoch 1/5:  82%|████████▏ | 2587/3166 [9:33:54<2:08:59, 13.37s/it]"
     ]
    },
    {
     "name": "stderr",
     "output_type": "stream",
     "text": [
      "\r",
      "Epoch 1/5:  82%|████████▏ | 2588/3166 [9:34:07<2:08:31, 13.34s/it]"
     ]
    },
    {
     "name": "stderr",
     "output_type": "stream",
     "text": [
      "\r",
      "Epoch 1/5:  82%|████████▏ | 2589/3166 [9:34:21<2:08:09, 13.33s/it]"
     ]
    },
    {
     "name": "stderr",
     "output_type": "stream",
     "text": [
      "\r",
      "Epoch 1/5:  82%|████████▏ | 2590/3166 [9:34:34<2:08:04, 13.34s/it]"
     ]
    },
    {
     "name": "stderr",
     "output_type": "stream",
     "text": [
      "\r",
      "Epoch 1/5:  82%|████████▏ | 2591/3166 [9:34:47<2:07:48, 13.34s/it]"
     ]
    },
    {
     "name": "stderr",
     "output_type": "stream",
     "text": [
      "\r",
      "Epoch 1/5:  82%|████████▏ | 2592/3166 [9:35:01<2:07:33, 13.33s/it]"
     ]
    },
    {
     "name": "stderr",
     "output_type": "stream",
     "text": [
      "\r",
      "Epoch 1/5:  82%|████████▏ | 2593/3166 [9:35:14<2:07:24, 13.34s/it]"
     ]
    },
    {
     "name": "stderr",
     "output_type": "stream",
     "text": [
      "\r",
      "Epoch 1/5:  82%|████████▏ | 2594/3166 [9:35:27<2:06:53, 13.31s/it]"
     ]
    },
    {
     "name": "stderr",
     "output_type": "stream",
     "text": [
      "\r",
      "Epoch 1/5:  82%|████████▏ | 2595/3166 [9:35:41<2:06:34, 13.30s/it]"
     ]
    },
    {
     "name": "stderr",
     "output_type": "stream",
     "text": [
      "\r",
      "Epoch 1/5:  82%|████████▏ | 2596/3166 [9:35:54<2:06:42, 13.34s/it]"
     ]
    },
    {
     "name": "stderr",
     "output_type": "stream",
     "text": [
      "\r",
      "Epoch 1/5:  82%|████████▏ | 2597/3166 [9:36:07<2:06:27, 13.33s/it]"
     ]
    },
    {
     "name": "stderr",
     "output_type": "stream",
     "text": [
      "\r",
      "Epoch 1/5:  82%|████████▏ | 2598/3166 [9:36:21<2:06:08, 13.32s/it]"
     ]
    },
    {
     "name": "stderr",
     "output_type": "stream",
     "text": [
      "\r",
      "Epoch 1/5:  82%|████████▏ | 2599/3166 [9:36:34<2:06:07, 13.35s/it]"
     ]
    },
    {
     "name": "stderr",
     "output_type": "stream",
     "text": [
      "\r",
      "Epoch 1/5:  82%|████████▏ | 2600/3166 [9:36:47<2:05:45, 13.33s/it]"
     ]
    },
    {
     "name": "stderr",
     "output_type": "stream",
     "text": [
      "\r",
      "Epoch 1/5:  82%|████████▏ | 2601/3166 [9:37:01<2:05:24, 13.32s/it]"
     ]
    },
    {
     "name": "stderr",
     "output_type": "stream",
     "text": [
      "\r",
      "Epoch 1/5:  82%|████████▏ | 2602/3166 [9:37:14<2:05:31, 13.35s/it]"
     ]
    },
    {
     "name": "stderr",
     "output_type": "stream",
     "text": [
      "\r",
      "Epoch 1/5:  82%|████████▏ | 2603/3166 [9:37:27<2:05:21, 13.36s/it]"
     ]
    },
    {
     "name": "stderr",
     "output_type": "stream",
     "text": [
      "\r",
      "Epoch 1/5:  82%|████████▏ | 2604/3166 [9:37:41<2:05:03, 13.35s/it]"
     ]
    },
    {
     "name": "stderr",
     "output_type": "stream",
     "text": [
      "\r",
      "Epoch 1/5:  82%|████████▏ | 2605/3166 [9:37:54<2:04:57, 13.36s/it]"
     ]
    },
    {
     "name": "stderr",
     "output_type": "stream",
     "text": [
      "\r",
      "Epoch 1/5:  82%|████████▏ | 2606/3166 [9:38:07<2:04:30, 13.34s/it]"
     ]
    },
    {
     "name": "stderr",
     "output_type": "stream",
     "text": [
      "\r",
      "Epoch 1/5:  82%|████████▏ | 2607/3166 [9:38:21<2:04:08, 13.32s/it]"
     ]
    },
    {
     "name": "stderr",
     "output_type": "stream",
     "text": [
      "\r",
      "Epoch 1/5:  82%|████████▏ | 2608/3166 [9:38:34<2:04:18, 13.37s/it]"
     ]
    },
    {
     "name": "stderr",
     "output_type": "stream",
     "text": [
      "\r",
      "Epoch 1/5:  82%|████████▏ | 2609/3166 [9:38:47<2:03:50, 13.34s/it]"
     ]
    },
    {
     "name": "stderr",
     "output_type": "stream",
     "text": [
      "\r",
      "Epoch 1/5:  82%|████████▏ | 2610/3166 [9:39:01<2:03:28, 13.32s/it]"
     ]
    },
    {
     "name": "stderr",
     "output_type": "stream",
     "text": [
      "\r",
      "Epoch 1/5:  82%|████████▏ | 2611/3166 [9:39:14<2:03:29, 13.35s/it]"
     ]
    },
    {
     "name": "stderr",
     "output_type": "stream",
     "text": [
      "\r",
      "Epoch 1/5:  83%|████████▎ | 2612/3166 [9:39:27<2:03:11, 13.34s/it]"
     ]
    },
    {
     "name": "stderr",
     "output_type": "stream",
     "text": [
      "\r",
      "Epoch 1/5:  83%|████████▎ | 2613/3166 [9:39:41<2:02:58, 13.34s/it]"
     ]
    },
    {
     "name": "stderr",
     "output_type": "stream",
     "text": [
      "\r",
      "Epoch 1/5:  83%|████████▎ | 2614/3166 [9:39:54<2:02:46, 13.35s/it]"
     ]
    },
    {
     "name": "stderr",
     "output_type": "stream",
     "text": [
      "\r",
      "Epoch 1/5:  83%|████████▎ | 2615/3166 [9:40:07<2:02:28, 13.34s/it]"
     ]
    },
    {
     "name": "stderr",
     "output_type": "stream",
     "text": [
      "\r",
      "Epoch 1/5:  83%|████████▎ | 2616/3166 [9:40:21<2:02:12, 13.33s/it]"
     ]
    },
    {
     "name": "stderr",
     "output_type": "stream",
     "text": [
      "\r",
      "Epoch 1/5:  83%|████████▎ | 2617/3166 [9:40:34<2:01:59, 13.33s/it]"
     ]
    },
    {
     "name": "stderr",
     "output_type": "stream",
     "text": [
      "\r",
      "Epoch 1/5:  83%|████████▎ | 2618/3166 [9:40:47<2:01:35, 13.31s/it]"
     ]
    },
    {
     "name": "stderr",
     "output_type": "stream",
     "text": [
      "\r",
      "Epoch 1/5:  83%|████████▎ | 2619/3166 [9:41:01<2:01:20, 13.31s/it]"
     ]
    },
    {
     "name": "stderr",
     "output_type": "stream",
     "text": [
      "\r",
      "Epoch 1/5:  83%|████████▎ | 2620/3166 [9:41:14<2:01:10, 13.32s/it]"
     ]
    },
    {
     "name": "stderr",
     "output_type": "stream",
     "text": [
      "\r",
      "Epoch 1/5:  83%|████████▎ | 2621/3166 [9:41:27<2:00:54, 13.31s/it]"
     ]
    },
    {
     "name": "stderr",
     "output_type": "stream",
     "text": [
      "\r",
      "Epoch 1/5:  83%|████████▎ | 2622/3166 [9:41:41<2:00:46, 13.32s/it]"
     ]
    },
    {
     "name": "stderr",
     "output_type": "stream",
     "text": [
      "\r",
      "Epoch 1/5:  83%|████████▎ | 2623/3166 [9:41:54<2:00:38, 13.33s/it]"
     ]
    },
    {
     "name": "stderr",
     "output_type": "stream",
     "text": [
      "\r",
      "Epoch 1/5:  83%|████████▎ | 2624/3166 [9:42:07<2:00:15, 13.31s/it]"
     ]
    },
    {
     "name": "stderr",
     "output_type": "stream",
     "text": [
      "\r",
      "Epoch 1/5:  83%|████████▎ | 2625/3166 [9:42:21<2:00:07, 13.32s/it]"
     ]
    },
    {
     "name": "stderr",
     "output_type": "stream",
     "text": [
      "\r",
      "Epoch 1/5:  83%|████████▎ | 2626/3166 [9:42:34<2:00:05, 13.34s/it]"
     ]
    },
    {
     "name": "stderr",
     "output_type": "stream",
     "text": [
      "\r",
      "Epoch 1/5:  83%|████████▎ | 2627/3166 [9:42:47<1:59:41, 13.32s/it]"
     ]
    },
    {
     "name": "stderr",
     "output_type": "stream",
     "text": [
      "\r",
      "Epoch 1/5:  83%|████████▎ | 2628/3166 [9:43:01<1:59:14, 13.30s/it]"
     ]
    },
    {
     "name": "stderr",
     "output_type": "stream",
     "text": [
      "\r",
      "Epoch 1/5:  83%|████████▎ | 2629/3166 [9:43:14<1:59:09, 13.31s/it]"
     ]
    },
    {
     "name": "stderr",
     "output_type": "stream",
     "text": [
      "\r",
      "Epoch 1/5:  83%|████████▎ | 2630/3166 [9:43:27<1:58:58, 13.32s/it]"
     ]
    },
    {
     "name": "stderr",
     "output_type": "stream",
     "text": [
      "\r",
      "Epoch 1/5:  83%|████████▎ | 2631/3166 [9:43:40<1:58:42, 13.31s/it]"
     ]
    },
    {
     "name": "stderr",
     "output_type": "stream",
     "text": [
      "\r",
      "Epoch 1/5:  83%|████████▎ | 2632/3166 [9:43:54<1:58:44, 13.34s/it]"
     ]
    },
    {
     "name": "stderr",
     "output_type": "stream",
     "text": [
      "\r",
      "Epoch 1/5:  83%|████████▎ | 2633/3166 [9:44:07<1:58:18, 13.32s/it]"
     ]
    },
    {
     "name": "stderr",
     "output_type": "stream",
     "text": [
      "\r",
      "Epoch 1/5:  83%|████████▎ | 2634/3166 [9:44:20<1:57:58, 13.31s/it]"
     ]
    },
    {
     "name": "stderr",
     "output_type": "stream",
     "text": [
      "\r",
      "Epoch 1/5:  83%|████████▎ | 2635/3166 [9:44:34<1:58:04, 13.34s/it]"
     ]
    },
    {
     "name": "stderr",
     "output_type": "stream",
     "text": [
      "\r",
      "Epoch 1/5:  83%|████████▎ | 2636/3166 [9:44:47<1:57:40, 13.32s/it]"
     ]
    },
    {
     "name": "stderr",
     "output_type": "stream",
     "text": [
      "\r",
      "Epoch 1/5:  83%|████████▎ | 2637/3166 [9:45:00<1:57:14, 13.30s/it]"
     ]
    },
    {
     "name": "stderr",
     "output_type": "stream",
     "text": [
      "\r",
      "Epoch 1/5:  83%|████████▎ | 2638/3166 [9:45:14<1:57:12, 13.32s/it]"
     ]
    },
    {
     "name": "stderr",
     "output_type": "stream",
     "text": [
      "\r",
      "Epoch 1/5:  83%|████████▎ | 2639/3166 [9:45:27<1:56:55, 13.31s/it]"
     ]
    },
    {
     "name": "stderr",
     "output_type": "stream",
     "text": [
      "\r",
      "Epoch 1/5:  83%|████████▎ | 2640/3166 [9:45:40<1:56:39, 13.31s/it]"
     ]
    },
    {
     "name": "stderr",
     "output_type": "stream",
     "text": [
      "\r",
      "Epoch 1/5:  83%|████████▎ | 2641/3166 [9:45:54<1:56:30, 13.32s/it]"
     ]
    },
    {
     "name": "stderr",
     "output_type": "stream",
     "text": [
      "\r",
      "Epoch 1/5:  83%|████████▎ | 2642/3166 [9:46:07<1:56:07, 13.30s/it]"
     ]
    },
    {
     "name": "stderr",
     "output_type": "stream",
     "text": [
      "\r",
      "Epoch 1/5:  83%|████████▎ | 2643/3166 [9:46:20<1:55:49, 13.29s/it]"
     ]
    },
    {
     "name": "stderr",
     "output_type": "stream",
     "text": [
      "\r",
      "Epoch 1/5:  84%|████████▎ | 2644/3166 [9:46:34<1:55:50, 13.31s/it]"
     ]
    },
    {
     "name": "stderr",
     "output_type": "stream",
     "text": [
      "\r",
      "Epoch 1/5:  84%|████████▎ | 2645/3166 [9:46:47<1:55:32, 13.31s/it]"
     ]
    },
    {
     "name": "stderr",
     "output_type": "stream",
     "text": [
      "\r",
      "Epoch 1/5:  84%|████████▎ | 2646/3166 [9:47:00<1:55:22, 13.31s/it]"
     ]
    },
    {
     "name": "stderr",
     "output_type": "stream",
     "text": [
      "\r",
      "Epoch 1/5:  84%|████████▎ | 2647/3166 [9:47:14<1:55:21, 13.34s/it]"
     ]
    },
    {
     "name": "stderr",
     "output_type": "stream",
     "text": [
      "\r",
      "Epoch 1/5:  84%|████████▎ | 2648/3166 [9:47:27<1:55:14, 13.35s/it]"
     ]
    },
    {
     "name": "stderr",
     "output_type": "stream",
     "text": [
      "\r",
      "Epoch 1/5:  84%|████████▎ | 2649/3166 [9:47:40<1:54:58, 13.34s/it]"
     ]
    },
    {
     "name": "stderr",
     "output_type": "stream",
     "text": [
      "\r",
      "Epoch 1/5:  84%|████████▎ | 2650/3166 [9:47:54<1:54:55, 13.36s/it]"
     ]
    },
    {
     "name": "stderr",
     "output_type": "stream",
     "text": [
      "\r",
      "Epoch 1/5:  84%|████████▎ | 2651/3166 [9:48:07<1:54:31, 13.34s/it]"
     ]
    },
    {
     "name": "stderr",
     "output_type": "stream",
     "text": [
      "\r",
      "Epoch 1/5:  84%|████████▍ | 2652/3166 [9:48:20<1:54:11, 13.33s/it]"
     ]
    },
    {
     "name": "stderr",
     "output_type": "stream",
     "text": [
      "\r",
      "Epoch 1/5:  84%|████████▍ | 2653/3166 [9:48:34<1:54:15, 13.36s/it]"
     ]
    },
    {
     "name": "stderr",
     "output_type": "stream",
     "text": [
      "\r",
      "Epoch 1/5:  84%|████████▍ | 2654/3166 [9:48:47<1:53:45, 13.33s/it]"
     ]
    },
    {
     "name": "stderr",
     "output_type": "stream",
     "text": [
      "\r",
      "Epoch 1/5:  84%|████████▍ | 2655/3166 [9:49:00<1:53:32, 13.33s/it]"
     ]
    },
    {
     "name": "stderr",
     "output_type": "stream",
     "text": [
      "\r",
      "Epoch 1/5:  84%|████████▍ | 2656/3166 [9:49:14<1:53:32, 13.36s/it]"
     ]
    },
    {
     "name": "stderr",
     "output_type": "stream",
     "text": [
      "\r",
      "Epoch 1/5:  84%|████████▍ | 2657/3166 [9:49:27<1:53:19, 13.36s/it]"
     ]
    },
    {
     "name": "stderr",
     "output_type": "stream",
     "text": [
      "\r",
      "Epoch 1/5:  84%|████████▍ | 2658/3166 [9:49:40<1:53:00, 13.35s/it]"
     ]
    },
    {
     "name": "stderr",
     "output_type": "stream",
     "text": [
      "\r",
      "Epoch 1/5:  84%|████████▍ | 2659/3166 [9:49:54<1:53:01, 13.38s/it]"
     ]
    },
    {
     "name": "stderr",
     "output_type": "stream",
     "text": [
      "\r",
      "Epoch 1/5:  84%|████████▍ | 2660/3166 [9:50:07<1:52:32, 13.35s/it]"
     ]
    },
    {
     "name": "stderr",
     "output_type": "stream",
     "text": [
      "\r",
      "Epoch 1/5:  84%|████████▍ | 2661/3166 [9:50:20<1:52:13, 13.33s/it]"
     ]
    },
    {
     "name": "stderr",
     "output_type": "stream",
     "text": [
      "\r",
      "Epoch 1/5:  84%|████████▍ | 2662/3166 [9:50:34<1:52:12, 13.36s/it]"
     ]
    },
    {
     "name": "stderr",
     "output_type": "stream",
     "text": [
      "\r",
      "Epoch 1/5:  84%|████████▍ | 2663/3166 [9:50:47<1:51:54, 13.35s/it]"
     ]
    },
    {
     "name": "stderr",
     "output_type": "stream",
     "text": [
      "\r",
      "Epoch 1/5:  84%|████████▍ | 2664/3166 [9:51:01<1:51:42, 13.35s/it]"
     ]
    },
    {
     "name": "stderr",
     "output_type": "stream",
     "text": [
      "\r",
      "Epoch 1/5:  84%|████████▍ | 2665/3166 [9:51:14<1:51:34, 13.36s/it]"
     ]
    },
    {
     "name": "stderr",
     "output_type": "stream",
     "text": [
      "\r",
      "Epoch 1/5:  84%|████████▍ | 2666/3166 [9:51:27<1:51:14, 13.35s/it]"
     ]
    },
    {
     "name": "stderr",
     "output_type": "stream",
     "text": [
      "\r",
      "Epoch 1/5:  84%|████████▍ | 2667/3166 [9:51:41<1:50:53, 13.33s/it]"
     ]
    },
    {
     "name": "stderr",
     "output_type": "stream",
     "text": [
      "\r",
      "Epoch 1/5:  84%|████████▍ | 2668/3166 [9:51:54<1:51:01, 13.38s/it]"
     ]
    },
    {
     "name": "stderr",
     "output_type": "stream",
     "text": [
      "\r",
      "Epoch 1/5:  84%|████████▍ | 2669/3166 [9:52:07<1:50:28, 13.34s/it]"
     ]
    },
    {
     "name": "stderr",
     "output_type": "stream",
     "text": [
      "\r",
      "Epoch 1/5:  84%|████████▍ | 2670/3166 [9:52:21<1:50:02, 13.31s/it]"
     ]
    },
    {
     "name": "stderr",
     "output_type": "stream",
     "text": [
      "\r",
      "Epoch 1/5:  84%|████████▍ | 2671/3166 [9:52:34<1:50:11, 13.36s/it]"
     ]
    },
    {
     "name": "stderr",
     "output_type": "stream",
     "text": [
      "\r",
      "Epoch 1/5:  84%|████████▍ | 2672/3166 [9:52:47<1:49:53, 13.35s/it]"
     ]
    },
    {
     "name": "stderr",
     "output_type": "stream",
     "text": [
      "\r",
      "Epoch 1/5:  84%|████████▍ | 2673/3166 [9:53:01<1:49:37, 13.34s/it]"
     ]
    },
    {
     "name": "stderr",
     "output_type": "stream",
     "text": [
      "\r",
      "Epoch 1/5:  84%|████████▍ | 2674/3166 [9:53:14<1:49:30, 13.35s/it]"
     ]
    },
    {
     "name": "stderr",
     "output_type": "stream",
     "text": [
      "\r",
      "Epoch 1/5:  84%|████████▍ | 2675/3166 [9:53:27<1:49:00, 13.32s/it]"
     ]
    },
    {
     "name": "stderr",
     "output_type": "stream",
     "text": [
      "\r",
      "Epoch 1/5:  85%|████████▍ | 2676/3166 [9:53:41<1:48:44, 13.32s/it]"
     ]
    },
    {
     "name": "stderr",
     "output_type": "stream",
     "text": [
      "\r",
      "Epoch 1/5:  85%|████████▍ | 2677/3166 [9:53:54<1:48:43, 13.34s/it]"
     ]
    },
    {
     "name": "stderr",
     "output_type": "stream",
     "text": [
      "\r",
      "Epoch 1/5:  85%|████████▍ | 2678/3166 [9:54:07<1:48:29, 13.34s/it]"
     ]
    },
    {
     "name": "stderr",
     "output_type": "stream",
     "text": [
      "\r",
      "Epoch 1/5:  85%|████████▍ | 2679/3166 [9:54:21<1:48:21, 13.35s/it]"
     ]
    },
    {
     "name": "stderr",
     "output_type": "stream",
     "text": [
      "\r",
      "Epoch 1/5:  85%|████████▍ | 2680/3166 [9:54:34<1:48:23, 13.38s/it]"
     ]
    },
    {
     "name": "stderr",
     "output_type": "stream",
     "text": [
      "\r",
      "Epoch 1/5:  85%|████████▍ | 2681/3166 [9:54:47<1:48:01, 13.36s/it]"
     ]
    },
    {
     "name": "stderr",
     "output_type": "stream",
     "text": [
      "\r",
      "Epoch 1/5:  85%|████████▍ | 2682/3166 [9:55:01<1:47:36, 13.34s/it]"
     ]
    },
    {
     "name": "stderr",
     "output_type": "stream",
     "text": [
      "\r",
      "Epoch 1/5:  85%|████████▍ | 2683/3166 [9:55:14<1:47:33, 13.36s/it]"
     ]
    },
    {
     "name": "stderr",
     "output_type": "stream",
     "text": [
      "\r",
      "Epoch 1/5:  85%|████████▍ | 2684/3166 [9:55:27<1:47:08, 13.34s/it]"
     ]
    },
    {
     "name": "stderr",
     "output_type": "stream",
     "text": [
      "\r",
      "Epoch 1/5:  85%|████████▍ | 2685/3166 [9:55:41<1:46:52, 13.33s/it]"
     ]
    },
    {
     "name": "stderr",
     "output_type": "stream",
     "text": [
      "\r",
      "Epoch 1/5:  85%|████████▍ | 2686/3166 [9:55:54<1:46:52, 13.36s/it]"
     ]
    },
    {
     "name": "stderr",
     "output_type": "stream",
     "text": [
      "\r",
      "Epoch 1/5:  85%|████████▍ | 2687/3166 [9:56:07<1:46:32, 13.34s/it]"
     ]
    },
    {
     "name": "stderr",
     "output_type": "stream",
     "text": [
      "\r",
      "Epoch 1/5:  85%|████████▍ | 2688/3166 [9:56:21<1:46:17, 13.34s/it]"
     ]
    },
    {
     "name": "stderr",
     "output_type": "stream",
     "text": [
      "\r",
      "Epoch 1/5:  85%|████████▍ | 2689/3166 [9:56:34<1:46:12, 13.36s/it]"
     ]
    },
    {
     "name": "stderr",
     "output_type": "stream",
     "text": [
      "\r",
      "Epoch 1/5:  85%|████████▍ | 2690/3166 [9:56:48<1:45:57, 13.36s/it]"
     ]
    },
    {
     "name": "stderr",
     "output_type": "stream",
     "text": [
      "\r",
      "Epoch 1/5:  85%|████████▍ | 2691/3166 [9:57:01<1:45:40, 13.35s/it]"
     ]
    },
    {
     "name": "stderr",
     "output_type": "stream",
     "text": [
      "\r",
      "Epoch 1/5:  85%|████████▌ | 2692/3166 [9:57:14<1:45:40, 13.38s/it]"
     ]
    },
    {
     "name": "stderr",
     "output_type": "stream",
     "text": [
      "\r",
      "Epoch 1/5:  85%|████████▌ | 2693/3166 [9:57:28<1:45:05, 13.33s/it]"
     ]
    },
    {
     "name": "stderr",
     "output_type": "stream",
     "text": [
      "\r",
      "Epoch 1/5:  85%|████████▌ | 2694/3166 [9:57:41<1:44:48, 13.32s/it]"
     ]
    },
    {
     "name": "stderr",
     "output_type": "stream",
     "text": [
      "\r",
      "Epoch 1/5:  85%|████████▌ | 2695/3166 [9:57:54<1:44:45, 13.34s/it]"
     ]
    },
    {
     "name": "stderr",
     "output_type": "stream",
     "text": [
      "\r",
      "Epoch 1/5:  85%|████████▌ | 2696/3166 [9:58:08<1:44:17, 13.31s/it]"
     ]
    },
    {
     "name": "stderr",
     "output_type": "stream",
     "text": [
      "\r",
      "Epoch 1/5:  85%|████████▌ | 2697/3166 [9:58:21<1:44:02, 13.31s/it]"
     ]
    },
    {
     "name": "stderr",
     "output_type": "stream",
     "text": [
      "\r",
      "Epoch 1/5:  85%|████████▌ | 2698/3166 [9:58:34<1:44:00, 13.33s/it]"
     ]
    },
    {
     "name": "stderr",
     "output_type": "stream",
     "text": [
      "\r",
      "Epoch 1/5:  85%|████████▌ | 2699/3166 [9:58:48<1:43:43, 13.33s/it]"
     ]
    },
    {
     "name": "stderr",
     "output_type": "stream",
     "text": [
      "\r",
      "Epoch 1/5:  85%|████████▌ | 2700/3166 [9:59:01<1:43:27, 13.32s/it]"
     ]
    },
    {
     "name": "stderr",
     "output_type": "stream",
     "text": [
      "\r",
      "Epoch 1/5:  85%|████████▌ | 2701/3166 [9:59:14<1:43:30, 13.35s/it]"
     ]
    },
    {
     "name": "stderr",
     "output_type": "stream",
     "text": [
      "\r",
      "Epoch 1/5:  85%|████████▌ | 2702/3166 [9:59:28<1:43:09, 13.34s/it]"
     ]
    },
    {
     "name": "stderr",
     "output_type": "stream",
     "text": [
      "\r",
      "Epoch 1/5:  85%|████████▌ | 2703/3166 [9:59:41<1:42:52, 13.33s/it]"
     ]
    },
    {
     "name": "stderr",
     "output_type": "stream",
     "text": [
      "\r",
      "Epoch 1/5:  85%|████████▌ | 2704/3166 [9:59:54<1:42:48, 13.35s/it]"
     ]
    },
    {
     "name": "stderr",
     "output_type": "stream",
     "text": [
      "\r",
      "Epoch 1/5:  85%|████████▌ | 2705/3166 [10:00:08<1:42:34, 13.35s/it]"
     ]
    },
    {
     "name": "stderr",
     "output_type": "stream",
     "text": [
      "\r",
      "Epoch 1/5:  85%|████████▌ | 2706/3166 [10:00:21<1:42:17, 13.34s/it]"
     ]
    },
    {
     "name": "stderr",
     "output_type": "stream",
     "text": [
      "\r",
      "Epoch 1/5:  86%|████████▌ | 2707/3166 [10:00:34<1:42:11, 13.36s/it]"
     ]
    },
    {
     "name": "stderr",
     "output_type": "stream",
     "text": [
      "\r",
      "Epoch 1/5:  86%|████████▌ | 2708/3166 [10:00:48<1:41:54, 13.35s/it]"
     ]
    },
    {
     "name": "stderr",
     "output_type": "stream",
     "text": [
      "\r",
      "Epoch 1/5:  86%|████████▌ | 2709/3166 [10:01:01<1:41:41, 13.35s/it]"
     ]
    },
    {
     "name": "stderr",
     "output_type": "stream",
     "text": [
      "\r",
      "Epoch 1/5:  86%|████████▌ | 2710/3166 [10:01:14<1:41:38, 13.37s/it]"
     ]
    },
    {
     "name": "stderr",
     "output_type": "stream",
     "text": [
      "\r",
      "Epoch 1/5:  86%|████████▌ | 2711/3166 [10:01:28<1:41:09, 13.34s/it]"
     ]
    },
    {
     "name": "stderr",
     "output_type": "stream",
     "text": [
      "\r",
      "Epoch 1/5:  86%|████████▌ | 2712/3166 [10:01:41<1:40:53, 13.33s/it]"
     ]
    },
    {
     "name": "stderr",
     "output_type": "stream",
     "text": [
      "\r",
      "Epoch 1/5:  86%|████████▌ | 2713/3166 [10:01:54<1:40:47, 13.35s/it]"
     ]
    },
    {
     "name": "stderr",
     "output_type": "stream",
     "text": [
      "\r",
      "Epoch 1/5:  86%|████████▌ | 2714/3166 [10:02:08<1:40:30, 13.34s/it]"
     ]
    },
    {
     "name": "stderr",
     "output_type": "stream",
     "text": [
      "\r",
      "Epoch 1/5:  86%|████████▌ | 2715/3166 [10:02:21<1:40:06, 13.32s/it]"
     ]
    },
    {
     "name": "stderr",
     "output_type": "stream",
     "text": [
      "\r",
      "Epoch 1/5:  86%|████████▌ | 2716/3166 [10:02:34<1:40:00, 13.33s/it]"
     ]
    },
    {
     "name": "stderr",
     "output_type": "stream",
     "text": [
      "\r",
      "Epoch 1/5:  86%|████████▌ | 2717/3166 [10:02:48<1:39:44, 13.33s/it]"
     ]
    },
    {
     "name": "stderr",
     "output_type": "stream",
     "text": [
      "\r",
      "Epoch 1/5:  86%|████████▌ | 2718/3166 [10:03:01<1:39:20, 13.31s/it]"
     ]
    },
    {
     "name": "stderr",
     "output_type": "stream",
     "text": [
      "\r",
      "Epoch 1/5:  86%|████████▌ | 2719/3166 [10:03:14<1:39:21, 13.34s/it]"
     ]
    },
    {
     "name": "stderr",
     "output_type": "stream",
     "text": [
      "\r",
      "Epoch 1/5:  86%|████████▌ | 2720/3166 [10:03:28<1:39:03, 13.33s/it]"
     ]
    },
    {
     "name": "stderr",
     "output_type": "stream",
     "text": [
      "\r",
      "Epoch 1/5:  86%|████████▌ | 2721/3166 [10:03:41<1:38:50, 13.33s/it]"
     ]
    },
    {
     "name": "stderr",
     "output_type": "stream",
     "text": [
      "\r",
      "Epoch 1/5:  86%|████████▌ | 2722/3166 [10:03:54<1:38:51, 13.36s/it]"
     ]
    },
    {
     "name": "stderr",
     "output_type": "stream",
     "text": [
      "\r",
      "Epoch 1/5:  86%|████████▌ | 2723/3166 [10:04:08<1:38:25, 13.33s/it]"
     ]
    },
    {
     "name": "stderr",
     "output_type": "stream",
     "text": [
      "\r",
      "Epoch 1/5:  86%|████████▌ | 2724/3166 [10:04:21<1:38:02, 13.31s/it]"
     ]
    },
    {
     "name": "stderr",
     "output_type": "stream",
     "text": [
      "\r",
      "Epoch 1/5:  86%|████████▌ | 2725/3166 [10:04:34<1:38:08, 13.35s/it]"
     ]
    },
    {
     "name": "stderr",
     "output_type": "stream",
     "text": [
      "\r",
      "Epoch 1/5:  86%|████████▌ | 2726/3166 [10:04:48<1:37:50, 13.34s/it]"
     ]
    },
    {
     "name": "stderr",
     "output_type": "stream",
     "text": [
      "\r",
      "Epoch 1/5:  86%|████████▌ | 2727/3166 [10:05:01<1:37:31, 13.33s/it]"
     ]
    },
    {
     "name": "stderr",
     "output_type": "stream",
     "text": [
      "\r",
      "Epoch 1/5:  86%|████████▌ | 2728/3166 [10:05:14<1:37:23, 13.34s/it]"
     ]
    },
    {
     "name": "stderr",
     "output_type": "stream",
     "text": [
      "\r",
      "Epoch 1/5:  86%|████████▌ | 2729/3166 [10:05:28<1:37:07, 13.33s/it]"
     ]
    },
    {
     "name": "stderr",
     "output_type": "stream",
     "text": [
      "\r",
      "Epoch 1/5:  86%|████████▌ | 2730/3166 [10:05:41<1:36:48, 13.32s/it]"
     ]
    },
    {
     "name": "stderr",
     "output_type": "stream",
     "text": [
      "\r",
      "Epoch 1/5:  86%|████████▋ | 2731/3166 [10:05:54<1:36:56, 13.37s/it]"
     ]
    },
    {
     "name": "stderr",
     "output_type": "stream",
     "text": [
      "\r",
      "Epoch 1/5:  86%|████████▋ | 2732/3166 [10:06:08<1:36:32, 13.35s/it]"
     ]
    },
    {
     "name": "stderr",
     "output_type": "stream",
     "text": [
      "\r",
      "Epoch 1/5:  86%|████████▋ | 2733/3166 [10:06:21<1:36:11, 13.33s/it]"
     ]
    },
    {
     "name": "stderr",
     "output_type": "stream",
     "text": [
      "\r",
      "Epoch 1/5:  86%|████████▋ | 2734/3166 [10:06:34<1:36:09, 13.36s/it]"
     ]
    },
    {
     "name": "stderr",
     "output_type": "stream",
     "text": [
      "\r",
      "Epoch 1/5:  86%|████████▋ | 2735/3166 [10:06:48<1:35:50, 13.34s/it]"
     ]
    },
    {
     "name": "stderr",
     "output_type": "stream",
     "text": [
      "\r",
      "Epoch 1/5:  86%|████████▋ | 2736/3166 [10:07:01<1:35:33, 13.33s/it]"
     ]
    },
    {
     "name": "stderr",
     "output_type": "stream",
     "text": [
      "\r",
      "Epoch 1/5:  86%|████████▋ | 2737/3166 [10:07:15<1:35:37, 13.37s/it]"
     ]
    },
    {
     "name": "stderr",
     "output_type": "stream",
     "text": [
      "\r",
      "Epoch 1/5:  86%|████████▋ | 2738/3166 [10:07:28<1:35:21, 13.37s/it]"
     ]
    },
    {
     "name": "stderr",
     "output_type": "stream",
     "text": [
      "\r",
      "Epoch 1/5:  87%|████████▋ | 2739/3166 [10:07:41<1:35:03, 13.36s/it]"
     ]
    },
    {
     "name": "stderr",
     "output_type": "stream",
     "text": [
      "\r",
      "Epoch 1/5:  87%|████████▋ | 2740/3166 [10:07:55<1:35:00, 13.38s/it]"
     ]
    },
    {
     "name": "stderr",
     "output_type": "stream",
     "text": [
      "\r",
      "Epoch 1/5:  87%|████████▋ | 2741/3166 [10:08:08<1:34:41, 13.37s/it]"
     ]
    },
    {
     "name": "stderr",
     "output_type": "stream",
     "text": [
      "\r",
      "Epoch 1/5:  87%|████████▋ | 2742/3166 [10:08:21<1:34:22, 13.35s/it]"
     ]
    },
    {
     "name": "stderr",
     "output_type": "stream",
     "text": [
      "\r",
      "Epoch 1/5:  87%|████████▋ | 2743/3166 [10:08:35<1:34:12, 13.36s/it]"
     ]
    },
    {
     "name": "stderr",
     "output_type": "stream",
     "text": [
      "\r",
      "Epoch 1/5:  87%|████████▋ | 2744/3166 [10:08:48<1:33:51, 13.34s/it]"
     ]
    },
    {
     "name": "stderr",
     "output_type": "stream",
     "text": [
      "\r",
      "Epoch 1/5:  87%|████████▋ | 2745/3166 [10:09:01<1:33:29, 13.32s/it]"
     ]
    },
    {
     "name": "stderr",
     "output_type": "stream",
     "text": [
      "\r",
      "Epoch 1/5:  87%|████████▋ | 2746/3166 [10:09:15<1:33:20, 13.33s/it]"
     ]
    },
    {
     "name": "stderr",
     "output_type": "stream",
     "text": [
      "\r",
      "Epoch 1/5:  87%|████████▋ | 2747/3166 [10:09:28<1:33:03, 13.33s/it]"
     ]
    },
    {
     "name": "stderr",
     "output_type": "stream",
     "text": [
      "\r",
      "Epoch 1/5:  87%|████████▋ | 2748/3166 [10:09:41<1:32:47, 13.32s/it]"
     ]
    },
    {
     "name": "stderr",
     "output_type": "stream",
     "text": [
      "\r",
      "Epoch 1/5:  87%|████████▋ | 2749/3166 [10:09:55<1:32:46, 13.35s/it]"
     ]
    },
    {
     "name": "stderr",
     "output_type": "stream",
     "text": [
      "\r",
      "Epoch 1/5:  87%|████████▋ | 2750/3166 [10:10:08<1:32:27, 13.34s/it]"
     ]
    },
    {
     "name": "stderr",
     "output_type": "stream",
     "text": [
      "\r",
      "Epoch 1/5:  87%|████████▋ | 2751/3166 [10:10:21<1:32:00, 13.30s/it]"
     ]
    },
    {
     "name": "stderr",
     "output_type": "stream",
     "text": [
      "\r",
      "Epoch 1/5:  87%|████████▋ | 2752/3166 [10:10:35<1:31:53, 13.32s/it]"
     ]
    },
    {
     "name": "stderr",
     "output_type": "stream",
     "text": [
      "\r",
      "Epoch 1/5:  87%|████████▋ | 2753/3166 [10:10:48<1:31:43, 13.33s/it]"
     ]
    },
    {
     "name": "stderr",
     "output_type": "stream",
     "text": [
      "\r",
      "Epoch 1/5:  87%|████████▋ | 2754/3166 [10:11:01<1:31:23, 13.31s/it]"
     ]
    },
    {
     "name": "stderr",
     "output_type": "stream",
     "text": [
      "\r",
      "Epoch 1/5:  87%|████████▋ | 2755/3166 [10:11:15<1:31:24, 13.34s/it]"
     ]
    },
    {
     "name": "stderr",
     "output_type": "stream",
     "text": [
      "\r",
      "Epoch 1/5:  87%|████████▋ | 2756/3166 [10:11:28<1:30:59, 13.32s/it]"
     ]
    },
    {
     "name": "stderr",
     "output_type": "stream",
     "text": [
      "\r",
      "Epoch 1/5:  87%|████████▋ | 2757/3166 [10:11:41<1:30:43, 13.31s/it]"
     ]
    },
    {
     "name": "stderr",
     "output_type": "stream",
     "text": [
      "\r",
      "Epoch 1/5:  87%|████████▋ | 2758/3166 [10:11:55<1:30:44, 13.34s/it]"
     ]
    },
    {
     "name": "stderr",
     "output_type": "stream",
     "text": [
      "\r",
      "Epoch 1/5:  87%|████████▋ | 2759/3166 [10:12:08<1:30:24, 13.33s/it]"
     ]
    },
    {
     "name": "stderr",
     "output_type": "stream",
     "text": [
      "\r",
      "Epoch 1/5:  87%|████████▋ | 2760/3166 [10:12:21<1:30:06, 13.32s/it]"
     ]
    },
    {
     "name": "stderr",
     "output_type": "stream",
     "text": [
      "\r",
      "Epoch 1/5:  87%|████████▋ | 2761/3166 [10:12:35<1:29:56, 13.32s/it]"
     ]
    },
    {
     "name": "stderr",
     "output_type": "stream",
     "text": [
      "\r",
      "Epoch 1/5:  87%|████████▋ | 2762/3166 [10:12:48<1:29:43, 13.32s/it]"
     ]
    },
    {
     "name": "stderr",
     "output_type": "stream",
     "text": [
      "\r",
      "Epoch 1/5:  87%|████████▋ | 2763/3166 [10:13:01<1:29:30, 13.33s/it]"
     ]
    },
    {
     "name": "stderr",
     "output_type": "stream",
     "text": [
      "\r",
      "Epoch 1/5:  87%|████████▋ | 2764/3166 [10:13:15<1:29:22, 13.34s/it]"
     ]
    },
    {
     "name": "stderr",
     "output_type": "stream",
     "text": [
      "\r",
      "Epoch 1/5:  87%|████████▋ | 2765/3166 [10:13:28<1:29:07, 13.34s/it]"
     ]
    },
    {
     "name": "stderr",
     "output_type": "stream",
     "text": [
      "\r",
      "Epoch 1/5:  87%|████████▋ | 2766/3166 [10:13:41<1:28:56, 13.34s/it]"
     ]
    },
    {
     "name": "stderr",
     "output_type": "stream",
     "text": [
      "\r",
      "Epoch 1/5:  87%|████████▋ | 2767/3166 [10:13:55<1:28:45, 13.35s/it]"
     ]
    },
    {
     "name": "stderr",
     "output_type": "stream",
     "text": [
      "\r",
      "Epoch 1/5:  87%|████████▋ | 2768/3166 [10:14:08<1:28:23, 13.32s/it]"
     ]
    },
    {
     "name": "stderr",
     "output_type": "stream",
     "text": [
      "\r",
      "Epoch 1/5:  87%|████████▋ | 2769/3166 [10:14:21<1:28:10, 13.33s/it]"
     ]
    },
    {
     "name": "stderr",
     "output_type": "stream",
     "text": [
      "\r",
      "Epoch 1/5:  87%|████████▋ | 2770/3166 [10:14:35<1:28:17, 13.38s/it]"
     ]
    },
    {
     "name": "stderr",
     "output_type": "stream",
     "text": [
      "\r",
      "Epoch 1/5:  88%|████████▊ | 2771/3166 [10:14:48<1:27:51, 13.35s/it]"
     ]
    },
    {
     "name": "stderr",
     "output_type": "stream",
     "text": [
      "\r",
      "Epoch 1/5:  88%|████████▊ | 2772/3166 [10:15:01<1:27:36, 13.34s/it]"
     ]
    },
    {
     "name": "stderr",
     "output_type": "stream",
     "text": [
      "\r",
      "Epoch 1/5:  88%|████████▊ | 2773/3166 [10:15:15<1:27:26, 13.35s/it]"
     ]
    },
    {
     "name": "stderr",
     "output_type": "stream",
     "text": [
      "\r",
      "Epoch 1/5:  88%|████████▊ | 2774/3166 [10:15:28<1:27:02, 13.32s/it]"
     ]
    },
    {
     "name": "stderr",
     "output_type": "stream",
     "text": [
      "\r",
      "Epoch 1/5:  88%|████████▊ | 2775/3166 [10:15:41<1:26:43, 13.31s/it]"
     ]
    },
    {
     "name": "stderr",
     "output_type": "stream",
     "text": [
      "\r",
      "Epoch 1/5:  88%|████████▊ | 2776/3166 [10:15:55<1:26:39, 13.33s/it]"
     ]
    },
    {
     "name": "stderr",
     "output_type": "stream",
     "text": [
      "\r",
      "Epoch 1/5:  88%|████████▊ | 2777/3166 [10:16:08<1:26:20, 13.32s/it]"
     ]
    },
    {
     "name": "stderr",
     "output_type": "stream",
     "text": [
      "\r",
      "Epoch 1/5:  88%|████████▊ | 2778/3166 [10:16:21<1:26:05, 13.31s/it]"
     ]
    },
    {
     "name": "stderr",
     "output_type": "stream",
     "text": [
      "\r",
      "Epoch 1/5:  88%|████████▊ | 2779/3166 [10:16:35<1:25:56, 13.33s/it]"
     ]
    },
    {
     "name": "stderr",
     "output_type": "stream",
     "text": [
      "\r",
      "Epoch 1/5:  88%|████████▊ | 2780/3166 [10:16:48<1:25:44, 13.33s/it]"
     ]
    },
    {
     "name": "stderr",
     "output_type": "stream",
     "text": [
      "\r",
      "Epoch 1/5:  88%|████████▊ | 2781/3166 [10:17:01<1:25:27, 13.32s/it]"
     ]
    },
    {
     "name": "stderr",
     "output_type": "stream",
     "text": [
      "\r",
      "Epoch 1/5:  88%|████████▊ | 2782/3166 [10:17:15<1:25:23, 13.34s/it]"
     ]
    },
    {
     "name": "stderr",
     "output_type": "stream",
     "text": [
      "\r",
      "Epoch 1/5:  88%|████████▊ | 2783/3166 [10:17:28<1:25:07, 13.34s/it]"
     ]
    },
    {
     "name": "stderr",
     "output_type": "stream",
     "text": [
      "\r",
      "Epoch 1/5:  88%|████████▊ | 2784/3166 [10:17:41<1:25:19, 13.40s/it]"
     ]
    },
    {
     "name": "stderr",
     "output_type": "stream",
     "text": [
      "\r",
      "Epoch 1/5:  88%|████████▊ | 2785/3166 [10:17:55<1:25:11, 13.42s/it]"
     ]
    },
    {
     "name": "stderr",
     "output_type": "stream",
     "text": [
      "\r",
      "Epoch 1/5:  88%|████████▊ | 2786/3166 [10:18:08<1:24:43, 13.38s/it]"
     ]
    },
    {
     "name": "stderr",
     "output_type": "stream",
     "text": [
      "\r",
      "Epoch 1/5:  88%|████████▊ | 2787/3166 [10:18:21<1:24:16, 13.34s/it]"
     ]
    },
    {
     "name": "stderr",
     "output_type": "stream",
     "text": [
      "\r",
      "Epoch 1/5:  88%|████████▊ | 2788/3166 [10:18:35<1:24:08, 13.36s/it]"
     ]
    },
    {
     "name": "stderr",
     "output_type": "stream",
     "text": [
      "\r",
      "Epoch 1/5:  88%|████████▊ | 2789/3166 [10:18:48<1:24:00, 13.37s/it]"
     ]
    },
    {
     "name": "stderr",
     "output_type": "stream",
     "text": [
      "\r",
      "Epoch 1/5:  88%|████████▊ | 2790/3166 [10:19:02<1:23:38, 13.35s/it]"
     ]
    },
    {
     "name": "stderr",
     "output_type": "stream",
     "text": [
      "\r",
      "Epoch 1/5:  88%|████████▊ | 2791/3166 [10:19:15<1:23:32, 13.37s/it]"
     ]
    },
    {
     "name": "stderr",
     "output_type": "stream",
     "text": [
      "\r",
      "Epoch 1/5:  88%|████████▊ | 2792/3166 [10:19:28<1:23:11, 13.35s/it]"
     ]
    },
    {
     "name": "stderr",
     "output_type": "stream",
     "text": [
      "\r",
      "Epoch 1/5:  88%|████████▊ | 2793/3166 [10:19:42<1:22:52, 13.33s/it]"
     ]
    },
    {
     "name": "stderr",
     "output_type": "stream",
     "text": [
      "\r",
      "Epoch 1/5:  88%|████████▊ | 2794/3166 [10:19:55<1:22:50, 13.36s/it]"
     ]
    },
    {
     "name": "stderr",
     "output_type": "stream",
     "text": [
      "\r",
      "Epoch 1/5:  88%|████████▊ | 2795/3166 [10:20:08<1:22:33, 13.35s/it]"
     ]
    },
    {
     "name": "stderr",
     "output_type": "stream",
     "text": [
      "\r",
      "Epoch 1/5:  88%|████████▊ | 2796/3166 [10:20:22<1:22:07, 13.32s/it]"
     ]
    },
    {
     "name": "stderr",
     "output_type": "stream",
     "text": [
      "\r",
      "Epoch 1/5:  88%|████████▊ | 2797/3166 [10:20:35<1:22:06, 13.35s/it]"
     ]
    },
    {
     "name": "stderr",
     "output_type": "stream",
     "text": [
      "\r",
      "Epoch 1/5:  88%|████████▊ | 2798/3166 [10:20:48<1:21:53, 13.35s/it]"
     ]
    },
    {
     "name": "stderr",
     "output_type": "stream",
     "text": [
      "\r",
      "Epoch 1/5:  88%|████████▊ | 2799/3166 [10:21:02<1:21:34, 13.34s/it]"
     ]
    },
    {
     "name": "stderr",
     "output_type": "stream",
     "text": [
      "\r",
      "Epoch 1/5:  88%|████████▊ | 2800/3166 [10:21:15<1:21:29, 13.36s/it]"
     ]
    },
    {
     "name": "stderr",
     "output_type": "stream",
     "text": [
      "\r",
      "Epoch 1/5:  88%|████████▊ | 2801/3166 [10:21:28<1:21:09, 13.34s/it]"
     ]
    },
    {
     "name": "stderr",
     "output_type": "stream",
     "text": [
      "\r",
      "Epoch 1/5:  89%|████████▊ | 2802/3166 [10:21:42<1:20:51, 13.33s/it]"
     ]
    },
    {
     "name": "stderr",
     "output_type": "stream",
     "text": [
      "\r",
      "Epoch 1/5:  89%|████████▊ | 2803/3166 [10:21:55<1:20:51, 13.36s/it]"
     ]
    },
    {
     "name": "stderr",
     "output_type": "stream",
     "text": [
      "\r",
      "Epoch 1/5:  89%|████████▊ | 2804/3166 [10:22:08<1:20:30, 13.34s/it]"
     ]
    },
    {
     "name": "stderr",
     "output_type": "stream",
     "text": [
      "\r",
      "Epoch 1/5:  89%|████████▊ | 2805/3166 [10:22:22<1:20:18, 13.35s/it]"
     ]
    },
    {
     "name": "stderr",
     "output_type": "stream",
     "text": [
      "\r",
      "Epoch 1/5:  89%|████████▊ | 2806/3166 [10:22:35<1:20:10, 13.36s/it]"
     ]
    },
    {
     "name": "stderr",
     "output_type": "stream",
     "text": [
      "\r",
      "Epoch 1/5:  89%|████████▊ | 2807/3166 [10:22:48<1:19:52, 13.35s/it]"
     ]
    },
    {
     "name": "stderr",
     "output_type": "stream",
     "text": [
      "\r",
      "Epoch 1/5:  89%|████████▊ | 2808/3166 [10:23:02<1:19:47, 13.37s/it]"
     ]
    },
    {
     "name": "stderr",
     "output_type": "stream",
     "text": [
      "\r",
      "Epoch 1/5:  89%|████████▊ | 2809/3166 [10:23:15<1:19:50, 13.42s/it]"
     ]
    },
    {
     "name": "stderr",
     "output_type": "stream",
     "text": [
      "\r",
      "Epoch 1/5:  89%|████████▉ | 2810/3166 [10:23:29<1:19:28, 13.39s/it]"
     ]
    },
    {
     "name": "stderr",
     "output_type": "stream",
     "text": [
      "\r",
      "Epoch 1/5:  89%|████████▉ | 2811/3166 [10:23:42<1:19:07, 13.37s/it]"
     ]
    },
    {
     "name": "stderr",
     "output_type": "stream",
     "text": [
      "\r",
      "Epoch 1/5:  89%|████████▉ | 2812/3166 [10:23:55<1:19:03, 13.40s/it]"
     ]
    },
    {
     "name": "stderr",
     "output_type": "stream",
     "text": [
      "\r",
      "Epoch 1/5:  89%|████████▉ | 2813/3166 [10:24:09<1:18:45, 13.39s/it]"
     ]
    },
    {
     "name": "stderr",
     "output_type": "stream",
     "text": [
      "\r",
      "Epoch 1/5:  89%|████████▉ | 2814/3166 [10:24:22<1:18:25, 13.37s/it]"
     ]
    },
    {
     "name": "stderr",
     "output_type": "stream",
     "text": [
      "\r",
      "Epoch 1/5:  89%|████████▉ | 2815/3166 [10:24:36<1:18:17, 13.38s/it]"
     ]
    },
    {
     "name": "stderr",
     "output_type": "stream",
     "text": [
      "\r",
      "Epoch 1/5:  89%|████████▉ | 2816/3166 [10:24:49<1:18:05, 13.39s/it]"
     ]
    },
    {
     "name": "stderr",
     "output_type": "stream",
     "text": [
      "\r",
      "Epoch 1/5:  89%|████████▉ | 2817/3166 [10:25:02<1:17:47, 13.37s/it]"
     ]
    },
    {
     "name": "stderr",
     "output_type": "stream",
     "text": [
      "\r",
      "Epoch 1/5:  89%|████████▉ | 2818/3166 [10:25:16<1:17:41, 13.40s/it]"
     ]
    },
    {
     "name": "stderr",
     "output_type": "stream",
     "text": [
      "\r",
      "Epoch 1/5:  89%|████████▉ | 2819/3166 [10:25:29<1:17:20, 13.37s/it]"
     ]
    },
    {
     "name": "stderr",
     "output_type": "stream",
     "text": [
      "\r",
      "Epoch 1/5:  89%|████████▉ | 2820/3166 [10:25:42<1:16:56, 13.34s/it]"
     ]
    },
    {
     "name": "stderr",
     "output_type": "stream",
     "text": [
      "\r",
      "Epoch 1/5:  89%|████████▉ | 2821/3166 [10:25:56<1:16:54, 13.38s/it]"
     ]
    },
    {
     "name": "stderr",
     "output_type": "stream",
     "text": [
      "\r",
      "Epoch 1/5:  89%|████████▉ | 2822/3166 [10:26:09<1:16:37, 13.36s/it]"
     ]
    },
    {
     "name": "stderr",
     "output_type": "stream",
     "text": [
      "\r",
      "Epoch 1/5:  89%|████████▉ | 2823/3166 [10:26:22<1:16:21, 13.36s/it]"
     ]
    },
    {
     "name": "stderr",
     "output_type": "stream",
     "text": [
      "\r",
      "Epoch 1/5:  89%|████████▉ | 2824/3166 [10:26:36<1:16:19, 13.39s/it]"
     ]
    },
    {
     "name": "stderr",
     "output_type": "stream",
     "text": [
      "\r",
      "Epoch 1/5:  89%|████████▉ | 2825/3166 [10:26:49<1:16:05, 13.39s/it]"
     ]
    },
    {
     "name": "stderr",
     "output_type": "stream",
     "text": [
      "\r",
      "Epoch 1/5:  89%|████████▉ | 2826/3166 [10:27:03<1:15:43, 13.36s/it]"
     ]
    },
    {
     "name": "stderr",
     "output_type": "stream",
     "text": [
      "\r",
      "Epoch 1/5:  89%|████████▉ | 2827/3166 [10:27:16<1:15:35, 13.38s/it]"
     ]
    },
    {
     "name": "stderr",
     "output_type": "stream",
     "text": [
      "\r",
      "Epoch 1/5:  89%|████████▉ | 2828/3166 [10:27:29<1:15:12, 13.35s/it]"
     ]
    },
    {
     "name": "stderr",
     "output_type": "stream",
     "text": [
      "\r",
      "Epoch 1/5:  89%|████████▉ | 2829/3166 [10:27:43<1:14:51, 13.33s/it]"
     ]
    },
    {
     "name": "stderr",
     "output_type": "stream",
     "text": [
      "\r",
      "Epoch 1/5:  89%|████████▉ | 2830/3166 [10:27:56<1:14:47, 13.36s/it]"
     ]
    },
    {
     "name": "stderr",
     "output_type": "stream",
     "text": [
      "\r",
      "Epoch 1/5:  89%|████████▉ | 2831/3166 [10:28:09<1:14:35, 13.36s/it]"
     ]
    },
    {
     "name": "stderr",
     "output_type": "stream",
     "text": [
      "\r",
      "Epoch 1/5:  89%|████████▉ | 2832/3166 [10:28:23<1:14:13, 13.33s/it]"
     ]
    },
    {
     "name": "stderr",
     "output_type": "stream",
     "text": [
      "\r",
      "Epoch 1/5:  89%|████████▉ | 2833/3166 [10:28:36<1:14:11, 13.37s/it]"
     ]
    },
    {
     "name": "stderr",
     "output_type": "stream",
     "text": [
      "\r",
      "Epoch 1/5:  90%|████████▉ | 2834/3166 [10:28:49<1:13:53, 13.35s/it]"
     ]
    },
    {
     "name": "stderr",
     "output_type": "stream",
     "text": [
      "\r",
      "Epoch 1/5:  90%|████████▉ | 2835/3166 [10:29:03<1:13:41, 13.36s/it]"
     ]
    },
    {
     "name": "stderr",
     "output_type": "stream",
     "text": [
      "\r",
      "Epoch 1/5:  90%|████████▉ | 2836/3166 [10:29:16<1:13:32, 13.37s/it]"
     ]
    },
    {
     "name": "stderr",
     "output_type": "stream",
     "text": [
      "\r",
      "Epoch 1/5:  90%|████████▉ | 2837/3166 [10:29:30<1:13:10, 13.34s/it]"
     ]
    },
    {
     "name": "stderr",
     "output_type": "stream",
     "text": [
      "\r",
      "Epoch 1/5:  90%|████████▉ | 2838/3166 [10:29:43<1:12:55, 13.34s/it]"
     ]
    },
    {
     "name": "stderr",
     "output_type": "stream",
     "text": [
      "\r",
      "Epoch 1/5:  90%|████████▉ | 2839/3166 [10:29:56<1:12:50, 13.37s/it]"
     ]
    },
    {
     "name": "stderr",
     "output_type": "stream",
     "text": [
      "\r",
      "Epoch 1/5:  90%|████████▉ | 2840/3166 [10:30:10<1:12:33, 13.36s/it]"
     ]
    },
    {
     "name": "stderr",
     "output_type": "stream",
     "text": [
      "\r",
      "Epoch 1/5:  90%|████████▉ | 2841/3166 [10:30:23<1:12:14, 13.34s/it]"
     ]
    },
    {
     "name": "stderr",
     "output_type": "stream",
     "text": [
      "\r",
      "Epoch 1/5:  90%|████████▉ | 2842/3166 [10:30:36<1:12:01, 13.34s/it]"
     ]
    },
    {
     "name": "stderr",
     "output_type": "stream",
     "text": [
      "\r",
      "Epoch 1/5:  90%|████████▉ | 2843/3166 [10:30:50<1:11:44, 13.33s/it]"
     ]
    },
    {
     "name": "stderr",
     "output_type": "stream",
     "text": [
      "\r",
      "Epoch 1/5:  90%|████████▉ | 2844/3166 [10:31:03<1:11:31, 13.33s/it]"
     ]
    },
    {
     "name": "stderr",
     "output_type": "stream",
     "text": [
      "\r",
      "Epoch 1/5:  90%|████████▉ | 2845/3166 [10:31:16<1:11:21, 13.34s/it]"
     ]
    },
    {
     "name": "stderr",
     "output_type": "stream",
     "text": [
      "\r",
      "Epoch 1/5:  90%|████████▉ | 2846/3166 [10:31:30<1:11:06, 13.33s/it]"
     ]
    },
    {
     "name": "stderr",
     "output_type": "stream",
     "text": [
      "\r",
      "Epoch 1/5:  90%|████████▉ | 2847/3166 [10:31:43<1:10:51, 13.33s/it]"
     ]
    },
    {
     "name": "stderr",
     "output_type": "stream",
     "text": [
      "\r",
      "Epoch 1/5:  90%|████████▉ | 2848/3166 [10:31:56<1:10:51, 13.37s/it]"
     ]
    },
    {
     "name": "stderr",
     "output_type": "stream",
     "text": [
      "\r",
      "Epoch 1/5:  90%|████████▉ | 2849/3166 [10:32:10<1:10:29, 13.34s/it]"
     ]
    },
    {
     "name": "stderr",
     "output_type": "stream",
     "text": [
      "\r",
      "Epoch 1/5:  90%|█████████ | 2850/3166 [10:32:23<1:10:05, 13.31s/it]"
     ]
    },
    {
     "name": "stderr",
     "output_type": "stream",
     "text": [
      "\r",
      "Epoch 1/5:  90%|█████████ | 2851/3166 [10:32:36<1:09:56, 13.32s/it]"
     ]
    },
    {
     "name": "stderr",
     "output_type": "stream",
     "text": [
      "\r",
      "Epoch 1/5:  90%|█████████ | 2852/3166 [10:32:49<1:09:41, 13.32s/it]"
     ]
    },
    {
     "name": "stderr",
     "output_type": "stream",
     "text": [
      "\r",
      "Epoch 1/5:  90%|█████████ | 2853/3166 [10:33:03<1:09:29, 13.32s/it]"
     ]
    },
    {
     "name": "stderr",
     "output_type": "stream",
     "text": [
      "\r",
      "Epoch 1/5:  90%|█████████ | 2854/3166 [10:33:16<1:09:23, 13.35s/it]"
     ]
    },
    {
     "name": "stderr",
     "output_type": "stream",
     "text": [
      "\r",
      "Epoch 1/5:  90%|█████████ | 2855/3166 [10:33:29<1:09:01, 13.32s/it]"
     ]
    },
    {
     "name": "stderr",
     "output_type": "stream",
     "text": [
      "\r",
      "Epoch 1/5:  90%|█████████ | 2856/3166 [10:33:43<1:08:46, 13.31s/it]"
     ]
    },
    {
     "name": "stderr",
     "output_type": "stream",
     "text": [
      "\r",
      "Epoch 1/5:  90%|█████████ | 2857/3166 [10:33:56<1:08:46, 13.35s/it]"
     ]
    },
    {
     "name": "stderr",
     "output_type": "stream",
     "text": [
      "\r",
      "Epoch 1/5:  90%|█████████ | 2858/3166 [10:34:09<1:08:24, 13.33s/it]"
     ]
    },
    {
     "name": "stderr",
     "output_type": "stream",
     "text": [
      "\r",
      "Epoch 1/5:  90%|█████████ | 2859/3166 [10:34:23<1:08:08, 13.32s/it]"
     ]
    },
    {
     "name": "stderr",
     "output_type": "stream",
     "text": [
      "\r",
      "Epoch 1/5:  90%|█████████ | 2860/3166 [10:34:36<1:08:06, 13.36s/it]"
     ]
    },
    {
     "name": "stderr",
     "output_type": "stream",
     "text": [
      "\r",
      "Epoch 1/5:  90%|█████████ | 2861/3166 [10:34:50<1:07:52, 13.35s/it]"
     ]
    },
    {
     "name": "stderr",
     "output_type": "stream",
     "text": [
      "\r",
      "Epoch 1/5:  90%|█████████ | 2862/3166 [10:35:03<1:07:36, 13.34s/it]"
     ]
    },
    {
     "name": "stderr",
     "output_type": "stream",
     "text": [
      "\r",
      "Epoch 1/5:  90%|█████████ | 2863/3166 [10:35:16<1:07:31, 13.37s/it]"
     ]
    },
    {
     "name": "stderr",
     "output_type": "stream",
     "text": [
      "\r",
      "Epoch 1/5:  90%|█████████ | 2864/3166 [10:35:30<1:07:11, 13.35s/it]"
     ]
    },
    {
     "name": "stderr",
     "output_type": "stream",
     "text": [
      "\r",
      "Epoch 1/5:  90%|█████████ | 2865/3166 [10:35:43<1:06:54, 13.34s/it]"
     ]
    },
    {
     "name": "stderr",
     "output_type": "stream",
     "text": [
      "\r",
      "Epoch 1/5:  91%|█████████ | 2866/3166 [10:35:56<1:06:44, 13.35s/it]"
     ]
    },
    {
     "name": "stderr",
     "output_type": "stream",
     "text": [
      "\r",
      "Epoch 1/5:  91%|█████████ | 2867/3166 [10:36:10<1:06:48, 13.41s/it]"
     ]
    },
    {
     "name": "stderr",
     "output_type": "stream",
     "text": [
      "\r",
      "Epoch 1/5:  91%|█████████ | 2868/3166 [10:36:23<1:06:32, 13.40s/it]"
     ]
    },
    {
     "name": "stderr",
     "output_type": "stream",
     "text": [
      "\r",
      "Epoch 1/5:  91%|█████████ | 2869/3166 [10:36:37<1:06:18, 13.40s/it]"
     ]
    },
    {
     "name": "stderr",
     "output_type": "stream",
     "text": [
      "\r",
      "Epoch 1/5:  91%|█████████ | 2870/3166 [10:36:50<1:05:55, 13.36s/it]"
     ]
    },
    {
     "name": "stderr",
     "output_type": "stream",
     "text": [
      "\r",
      "Epoch 1/5:  91%|█████████ | 2871/3166 [10:37:03<1:05:41, 13.36s/it]"
     ]
    },
    {
     "name": "stderr",
     "output_type": "stream",
     "text": [
      "\r",
      "Epoch 1/5:  91%|█████████ | 2872/3166 [10:37:17<1:05:28, 13.36s/it]"
     ]
    },
    {
     "name": "stderr",
     "output_type": "stream",
     "text": [
      "\r",
      "Epoch 1/5:  91%|█████████ | 2873/3166 [10:37:30<1:05:10, 13.35s/it]"
     ]
    },
    {
     "name": "stderr",
     "output_type": "stream",
     "text": [
      "\r",
      "Epoch 1/5:  91%|█████████ | 2874/3166 [10:37:43<1:04:58, 13.35s/it]"
     ]
    },
    {
     "name": "stderr",
     "output_type": "stream",
     "text": [
      "\r",
      "Epoch 1/5:  91%|█████████ | 2875/3166 [10:37:57<1:04:54, 13.38s/it]"
     ]
    },
    {
     "name": "stderr",
     "output_type": "stream",
     "text": [
      "\r",
      "Epoch 1/5:  91%|█████████ | 2876/3166 [10:38:10<1:04:32, 13.35s/it]"
     ]
    },
    {
     "name": "stderr",
     "output_type": "stream",
     "text": [
      "\r",
      "Epoch 1/5:  91%|█████████ | 2877/3166 [10:38:23<1:04:16, 13.35s/it]"
     ]
    },
    {
     "name": "stderr",
     "output_type": "stream",
     "text": [
      "\r",
      "Epoch 1/5:  91%|█████████ | 2878/3166 [10:38:37<1:04:08, 13.36s/it]"
     ]
    },
    {
     "name": "stderr",
     "output_type": "stream",
     "text": [
      "\r",
      "Epoch 1/5:  91%|█████████ | 2879/3166 [10:38:50<1:03:48, 13.34s/it]"
     ]
    },
    {
     "name": "stderr",
     "output_type": "stream",
     "text": [
      "\r",
      "Epoch 1/5:  91%|█████████ | 2880/3166 [10:39:03<1:03:38, 13.35s/it]"
     ]
    },
    {
     "name": "stderr",
     "output_type": "stream",
     "text": [
      "\r",
      "Epoch 1/5:  91%|█████████ | 2881/3166 [10:39:17<1:03:30, 13.37s/it]"
     ]
    },
    {
     "name": "stderr",
     "output_type": "stream",
     "text": [
      "\r",
      "Epoch 1/5:  91%|█████████ | 2882/3166 [10:39:30<1:03:14, 13.36s/it]"
     ]
    },
    {
     "name": "stderr",
     "output_type": "stream",
     "text": [
      "\r",
      "Epoch 1/5:  91%|█████████ | 2883/3166 [10:39:44<1:02:58, 13.35s/it]"
     ]
    },
    {
     "name": "stderr",
     "output_type": "stream",
     "text": [
      "\r",
      "Epoch 1/5:  91%|█████████ | 2884/3166 [10:39:57<1:02:50, 13.37s/it]"
     ]
    },
    {
     "name": "stderr",
     "output_type": "stream",
     "text": [
      "\r",
      "Epoch 1/5:  91%|█████████ | 2885/3166 [10:40:10<1:02:37, 13.37s/it]"
     ]
    },
    {
     "name": "stderr",
     "output_type": "stream",
     "text": [
      "\r",
      "Epoch 1/5:  91%|█████████ | 2886/3166 [10:40:24<1:02:18, 13.35s/it]"
     ]
    },
    {
     "name": "stderr",
     "output_type": "stream",
     "text": [
      "\r",
      "Epoch 1/5:  91%|█████████ | 2887/3166 [10:40:37<1:02:12, 13.38s/it]"
     ]
    },
    {
     "name": "stderr",
     "output_type": "stream",
     "text": [
      "\r",
      "Epoch 1/5:  91%|█████████ | 2888/3166 [10:40:50<1:01:54, 13.36s/it]"
     ]
    },
    {
     "name": "stderr",
     "output_type": "stream",
     "text": [
      "\r",
      "Epoch 1/5:  91%|█████████▏| 2889/3166 [10:41:04<1:01:30, 13.32s/it]"
     ]
    },
    {
     "name": "stderr",
     "output_type": "stream",
     "text": [
      "\r",
      "Epoch 1/5:  91%|█████████▏| 2890/3166 [10:41:17<1:01:28, 13.36s/it]"
     ]
    },
    {
     "name": "stderr",
     "output_type": "stream",
     "text": [
      "\r",
      "Epoch 1/5:  91%|█████████▏| 2891/3166 [10:41:30<1:01:11, 13.35s/it]"
     ]
    },
    {
     "name": "stderr",
     "output_type": "stream",
     "text": [
      "\r",
      "Epoch 1/5:  91%|█████████▏| 2892/3166 [10:41:44<1:01:01, 13.36s/it]"
     ]
    },
    {
     "name": "stderr",
     "output_type": "stream",
     "text": [
      "\r",
      "Epoch 1/5:  91%|█████████▏| 2893/3166 [10:41:57<1:00:53, 13.38s/it]"
     ]
    },
    {
     "name": "stderr",
     "output_type": "stream",
     "text": [
      "\r",
      "Epoch 1/5:  91%|█████████▏| 2894/3166 [10:42:11<1:01:01, 13.46s/it]"
     ]
    },
    {
     "name": "stderr",
     "output_type": "stream",
     "text": [
      "\r",
      "Epoch 1/5:  91%|█████████▏| 2895/3166 [10:42:24<1:00:42, 13.44s/it]"
     ]
    },
    {
     "name": "stderr",
     "output_type": "stream",
     "text": [
      "\r",
      "Epoch 1/5:  91%|█████████▏| 2896/3166 [10:42:38<1:00:24, 13.43s/it]"
     ]
    },
    {
     "name": "stderr",
     "output_type": "stream",
     "text": [
      "\r",
      "Epoch 1/5:  92%|█████████▏| 2897/3166 [10:42:51<1:00:09, 13.42s/it]"
     ]
    },
    {
     "name": "stderr",
     "output_type": "stream",
     "text": [
      "\r",
      "Epoch 1/5:  92%|█████████▏| 2898/3166 [10:43:04<59:57, 13.43s/it]  "
     ]
    },
    {
     "name": "stderr",
     "output_type": "stream",
     "text": [
      "\r",
      "Epoch 1/5:  92%|█████████▏| 2899/3166 [10:43:18<59:45, 13.43s/it]"
     ]
    },
    {
     "name": "stderr",
     "output_type": "stream",
     "text": [
      "\r",
      "Epoch 1/5:  92%|█████████▏| 2900/3166 [10:43:31<59:18, 13.38s/it]"
     ]
    },
    {
     "name": "stderr",
     "output_type": "stream",
     "text": [
      "\r",
      "Epoch 1/5:  92%|█████████▏| 2901/3166 [10:43:45<59:07, 13.39s/it]"
     ]
    },
    {
     "name": "stderr",
     "output_type": "stream",
     "text": [
      "\r",
      "Epoch 1/5:  92%|█████████▏| 2902/3166 [10:43:58<58:58, 13.40s/it]"
     ]
    },
    {
     "name": "stderr",
     "output_type": "stream",
     "text": [
      "\r",
      "Epoch 1/5:  92%|█████████▏| 2903/3166 [10:44:11<58:41, 13.39s/it]"
     ]
    },
    {
     "name": "stderr",
     "output_type": "stream",
     "text": [
      "\r",
      "Epoch 1/5:  92%|█████████▏| 2904/3166 [10:44:25<58:40, 13.44s/it]"
     ]
    },
    {
     "name": "stderr",
     "output_type": "stream",
     "text": [
      "\r",
      "Epoch 1/5:  92%|█████████▏| 2905/3166 [10:44:38<58:27, 13.44s/it]"
     ]
    },
    {
     "name": "stderr",
     "output_type": "stream",
     "text": [
      "\r",
      "Epoch 1/5:  92%|█████████▏| 2906/3166 [10:44:52<58:07, 13.41s/it]"
     ]
    },
    {
     "name": "stderr",
     "output_type": "stream",
     "text": [
      "\r",
      "Epoch 1/5:  92%|█████████▏| 2907/3166 [10:45:05<57:55, 13.42s/it]"
     ]
    },
    {
     "name": "stderr",
     "output_type": "stream",
     "text": [
      "\r",
      "Epoch 1/5:  92%|█████████▏| 2908/3166 [10:45:19<57:59, 13.49s/it]"
     ]
    },
    {
     "name": "stderr",
     "output_type": "stream",
     "text": [
      "\r",
      "Epoch 1/5:  92%|█████████▏| 2909/3166 [10:45:32<57:51, 13.51s/it]"
     ]
    },
    {
     "name": "stderr",
     "output_type": "stream",
     "text": [
      "\r",
      "Epoch 1/5:  92%|█████████▏| 2910/3166 [10:45:46<57:44, 13.53s/it]"
     ]
    },
    {
     "name": "stderr",
     "output_type": "stream",
     "text": [
      "\r",
      "Epoch 1/5:  92%|█████████▏| 2911/3166 [10:46:00<57:31, 13.54s/it]"
     ]
    },
    {
     "name": "stderr",
     "output_type": "stream",
     "text": [
      "\r",
      "Epoch 1/5:  92%|█████████▏| 2912/3166 [10:46:13<57:18, 13.54s/it]"
     ]
    },
    {
     "name": "stderr",
     "output_type": "stream",
     "text": [
      "\r",
      "Epoch 1/5:  92%|█████████▏| 2913/3166 [10:46:26<56:58, 13.51s/it]"
     ]
    },
    {
     "name": "stderr",
     "output_type": "stream",
     "text": [
      "\r",
      "Epoch 1/5:  92%|█████████▏| 2914/3166 [10:46:40<56:48, 13.53s/it]"
     ]
    },
    {
     "name": "stderr",
     "output_type": "stream",
     "text": [
      "\r",
      "Epoch 1/5:  92%|█████████▏| 2915/3166 [10:46:54<56:30, 13.51s/it]"
     ]
    },
    {
     "name": "stderr",
     "output_type": "stream",
     "text": [
      "\r",
      "Epoch 1/5:  92%|█████████▏| 2916/3166 [10:47:07<56:13, 13.49s/it]"
     ]
    },
    {
     "name": "stderr",
     "output_type": "stream",
     "text": [
      "\r",
      "Epoch 1/5:  92%|█████████▏| 2917/3166 [10:47:21<56:07, 13.52s/it]"
     ]
    },
    {
     "name": "stderr",
     "output_type": "stream",
     "text": [
      "\r",
      "Epoch 1/5:  92%|█████████▏| 2918/3166 [10:47:34<55:53, 13.52s/it]"
     ]
    },
    {
     "name": "stderr",
     "output_type": "stream",
     "text": [
      "\r",
      "Epoch 1/5:  92%|█████████▏| 2919/3166 [10:47:48<55:42, 13.53s/it]"
     ]
    },
    {
     "name": "stderr",
     "output_type": "stream",
     "text": [
      "\r",
      "Epoch 1/5:  92%|█████████▏| 2920/3166 [10:48:01<55:39, 13.58s/it]"
     ]
    },
    {
     "name": "stderr",
     "output_type": "stream",
     "text": [
      "\r",
      "Epoch 1/5:  92%|█████████▏| 2921/3166 [10:48:15<55:27, 13.58s/it]"
     ]
    },
    {
     "name": "stderr",
     "output_type": "stream",
     "text": [
      "\r",
      "Epoch 1/5:  92%|█████████▏| 2922/3166 [10:48:28<55:05, 13.55s/it]"
     ]
    },
    {
     "name": "stderr",
     "output_type": "stream",
     "text": [
      "\r",
      "Epoch 1/5:  92%|█████████▏| 2923/3166 [10:48:42<54:56, 13.57s/it]"
     ]
    },
    {
     "name": "stderr",
     "output_type": "stream",
     "text": [
      "\r",
      "Epoch 1/5:  92%|█████████▏| 2924/3166 [10:48:56<54:51, 13.60s/it]"
     ]
    },
    {
     "name": "stderr",
     "output_type": "stream",
     "text": [
      "\r",
      "Epoch 1/5:  92%|█████████▏| 2925/3166 [10:49:09<54:35, 13.59s/it]"
     ]
    },
    {
     "name": "stderr",
     "output_type": "stream",
     "text": [
      "\r",
      "Epoch 1/5:  92%|█████████▏| 2926/3166 [10:49:23<54:20, 13.58s/it]"
     ]
    },
    {
     "name": "stderr",
     "output_type": "stream",
     "text": [
      "\r",
      "Epoch 1/5:  92%|█████████▏| 2927/3166 [10:49:36<53:59, 13.55s/it]"
     ]
    },
    {
     "name": "stderr",
     "output_type": "stream",
     "text": [
      "\r",
      "Epoch 1/5:  92%|█████████▏| 2928/3166 [10:49:50<53:39, 13.53s/it]"
     ]
    },
    {
     "name": "stderr",
     "output_type": "stream",
     "text": [
      "\r",
      "Epoch 1/5:  93%|█████████▎| 2929/3166 [10:50:04<53:42, 13.60s/it]"
     ]
    },
    {
     "name": "stderr",
     "output_type": "stream",
     "text": [
      "\r",
      "Epoch 1/5:  93%|█████████▎| 2930/3166 [10:50:17<53:27, 13.59s/it]"
     ]
    },
    {
     "name": "stderr",
     "output_type": "stream",
     "text": [
      "\r",
      "Epoch 1/5:  93%|█████████▎| 2931/3166 [10:50:31<53:12, 13.58s/it]"
     ]
    },
    {
     "name": "stderr",
     "output_type": "stream",
     "text": [
      "\r",
      "Epoch 1/5:  93%|█████████▎| 2932/3166 [10:50:44<52:56, 13.58s/it]"
     ]
    },
    {
     "name": "stderr",
     "output_type": "stream",
     "text": [
      "\r",
      "Epoch 1/5:  93%|█████████▎| 2933/3166 [10:50:58<52:36, 13.55s/it]"
     ]
    },
    {
     "name": "stderr",
     "output_type": "stream",
     "text": [
      "\r",
      "Epoch 1/5:  93%|█████████▎| 2934/3166 [10:51:11<52:15, 13.52s/it]"
     ]
    },
    {
     "name": "stderr",
     "output_type": "stream",
     "text": [
      "\r",
      "Epoch 1/5:  93%|█████████▎| 2935/3166 [10:51:25<52:03, 13.52s/it]"
     ]
    },
    {
     "name": "stderr",
     "output_type": "stream",
     "text": [
      "\r",
      "Epoch 1/5:  93%|█████████▎| 2936/3166 [10:51:38<51:45, 13.50s/it]"
     ]
    },
    {
     "name": "stderr",
     "output_type": "stream",
     "text": [
      "\r",
      "Epoch 1/5:  93%|█████████▎| 2937/3166 [10:51:52<51:25, 13.48s/it]"
     ]
    },
    {
     "name": "stderr",
     "output_type": "stream",
     "text": [
      "\r",
      "Epoch 1/5:  93%|█████████▎| 2938/3166 [10:52:05<51:20, 13.51s/it]"
     ]
    },
    {
     "name": "stderr",
     "output_type": "stream",
     "text": [
      "\r",
      "Epoch 1/5:  93%|█████████▎| 2939/3166 [10:52:19<51:02, 13.49s/it]"
     ]
    },
    {
     "name": "stderr",
     "output_type": "stream",
     "text": [
      "\r",
      "Epoch 1/5:  93%|█████████▎| 2940/3166 [10:52:32<50:49, 13.49s/it]"
     ]
    },
    {
     "name": "stderr",
     "output_type": "stream",
     "text": [
      "\r",
      "Epoch 1/5:  93%|█████████▎| 2941/3166 [10:52:46<50:42, 13.52s/it]"
     ]
    },
    {
     "name": "stderr",
     "output_type": "stream",
     "text": [
      "\r",
      "Epoch 1/5:  93%|█████████▎| 2942/3166 [10:52:59<50:30, 13.53s/it]"
     ]
    },
    {
     "name": "stderr",
     "output_type": "stream",
     "text": [
      "\r",
      "Epoch 1/5:  93%|█████████▎| 2943/3166 [10:53:13<50:15, 13.52s/it]"
     ]
    },
    {
     "name": "stderr",
     "output_type": "stream",
     "text": [
      "\r",
      "Epoch 1/5:  93%|█████████▎| 2944/3166 [10:53:26<50:02, 13.53s/it]"
     ]
    },
    {
     "name": "stderr",
     "output_type": "stream",
     "text": [
      "\r",
      "Epoch 1/5:  93%|█████████▎| 2945/3166 [10:53:40<49:49, 13.53s/it]"
     ]
    },
    {
     "name": "stderr",
     "output_type": "stream",
     "text": [
      "\r",
      "Epoch 1/5:  93%|█████████▎| 2946/3166 [10:53:53<49:28, 13.49s/it]"
     ]
    },
    {
     "name": "stderr",
     "output_type": "stream",
     "text": [
      "\r",
      "Epoch 1/5:  93%|█████████▎| 2947/3166 [10:54:07<49:22, 13.53s/it]"
     ]
    },
    {
     "name": "stderr",
     "output_type": "stream",
     "text": [
      "\r",
      "Epoch 1/5:  93%|█████████▎| 2948/3166 [10:54:20<49:05, 13.51s/it]"
     ]
    },
    {
     "name": "stderr",
     "output_type": "stream",
     "text": [
      "\r",
      "Epoch 1/5:  93%|█████████▎| 2949/3166 [10:54:34<48:49, 13.50s/it]"
     ]
    },
    {
     "name": "stderr",
     "output_type": "stream",
     "text": [
      "\r",
      "Epoch 1/5:  93%|█████████▎| 2950/3166 [10:54:47<48:44, 13.54s/it]"
     ]
    },
    {
     "name": "stderr",
     "output_type": "stream",
     "text": [
      "\r",
      "Epoch 1/5:  93%|█████████▎| 2951/3166 [10:55:01<48:25, 13.51s/it]"
     ]
    },
    {
     "name": "stderr",
     "output_type": "stream",
     "text": [
      "\r",
      "Epoch 1/5:  93%|█████████▎| 2952/3166 [10:55:14<48:07, 13.49s/it]"
     ]
    },
    {
     "name": "stderr",
     "output_type": "stream",
     "text": [
      "\r",
      "Epoch 1/5:  93%|█████████▎| 2953/3166 [10:55:28<48:00, 13.52s/it]"
     ]
    },
    {
     "name": "stderr",
     "output_type": "stream",
     "text": [
      "\r",
      "Epoch 1/5:  93%|█████████▎| 2954/3166 [10:55:41<47:42, 13.50s/it]"
     ]
    },
    {
     "name": "stderr",
     "output_type": "stream",
     "text": [
      "\r",
      "Epoch 1/5:  93%|█████████▎| 2955/3166 [10:55:55<47:25, 13.49s/it]"
     ]
    },
    {
     "name": "stderr",
     "output_type": "stream",
     "text": [
      "\r",
      "Epoch 1/5:  93%|█████████▎| 2956/3166 [10:56:08<47:16, 13.51s/it]"
     ]
    },
    {
     "name": "stderr",
     "output_type": "stream",
     "text": [
      "\r",
      "Epoch 1/5:  93%|█████████▎| 2957/3166 [10:56:22<47:01, 13.50s/it]"
     ]
    },
    {
     "name": "stderr",
     "output_type": "stream",
     "text": [
      "\r",
      "Epoch 1/5:  93%|█████████▎| 2958/3166 [10:56:35<46:52, 13.52s/it]"
     ]
    },
    {
     "name": "stderr",
     "output_type": "stream",
     "text": [
      "\r",
      "Epoch 1/5:  93%|█████████▎| 2959/3166 [10:56:49<46:45, 13.55s/it]"
     ]
    },
    {
     "name": "stderr",
     "output_type": "stream",
     "text": [
      "\r",
      "Epoch 1/5:  93%|█████████▎| 2960/3166 [10:57:03<46:31, 13.55s/it]"
     ]
    },
    {
     "name": "stderr",
     "output_type": "stream",
     "text": [
      "\r",
      "Epoch 1/5:  94%|█████████▎| 2961/3166 [10:57:16<46:16, 13.54s/it]"
     ]
    },
    {
     "name": "stderr",
     "output_type": "stream",
     "text": [
      "\r",
      "Epoch 1/5:  94%|█████████▎| 2962/3166 [10:57:30<46:06, 13.56s/it]"
     ]
    },
    {
     "name": "stderr",
     "output_type": "stream",
     "text": [
      "\r",
      "Epoch 1/5:  94%|█████████▎| 2963/3166 [10:57:43<45:48, 13.54s/it]"
     ]
    },
    {
     "name": "stderr",
     "output_type": "stream",
     "text": [
      "\r",
      "Epoch 1/5:  94%|█████████▎| 2964/3166 [10:57:57<45:35, 13.54s/it]"
     ]
    },
    {
     "name": "stderr",
     "output_type": "stream",
     "text": [
      "\r",
      "Epoch 1/5:  94%|█████████▎| 2965/3166 [10:58:10<45:24, 13.56s/it]"
     ]
    },
    {
     "name": "stderr",
     "output_type": "stream",
     "text": [
      "\r",
      "Epoch 1/5:  94%|█████████▎| 2966/3166 [10:58:24<45:03, 13.52s/it]"
     ]
    },
    {
     "name": "stderr",
     "output_type": "stream",
     "text": [
      "\r",
      "Epoch 1/5:  94%|█████████▎| 2967/3166 [10:58:37<44:50, 13.52s/it]"
     ]
    },
    {
     "name": "stderr",
     "output_type": "stream",
     "text": [
      "\r",
      "Epoch 1/5:  94%|█████████▎| 2968/3166 [10:58:51<44:41, 13.54s/it]"
     ]
    },
    {
     "name": "stderr",
     "output_type": "stream",
     "text": [
      "\r",
      "Epoch 1/5:  94%|█████████▍| 2969/3166 [10:59:04<44:23, 13.52s/it]"
     ]
    },
    {
     "name": "stderr",
     "output_type": "stream",
     "text": [
      "\r",
      "Epoch 1/5:  94%|█████████▍| 2970/3166 [10:59:18<44:08, 13.51s/it]"
     ]
    }
   ],
   "source": [
    "# Start looping over all epochs\n",
    "for epoch in range(n_epochs):\n",
    "    # Initialize epoch-level loss trackers\n",
    "    g_loss_epoch = 0.0\n",
    "    d_loss_epoch = 0.0\n",
    "    num_batches = 0\n",
    "\n",
    "    # Loop over the dataloader that provides batches of real images\n",
    "    for real_imgs, _ in tqdm(dataloader, desc=f\"Epoch {epoch+1}/{n_epochs}\"):\n",
    "        real_imgs = real_imgs.to(device)  # Move real images to GPU/CPU\n",
    "        batch_size = real_imgs.size(0)    # Get actual batch size\n",
    "\n",
    "        # Set hyperparameters once \n",
    "        d_iterations = 5\n",
    "        lambda_gp = 10\n",
    "\n",
    "        # Train the Discriminator multiple times\n",
    "        for _ in range(d_iterations):\n",
    "            # Sample random noise\n",
    "            z = torch.randn(batch_size, z_dim, 1, 1, device=device)\n",
    "\n",
    "            # Generate fake images\n",
    "            fake_imgs = G(z)\n",
    "\n",
    "            # Get discrimnator outputs for real and fake images\n",
    "            output_real = D(real_imgs)\n",
    "            output_fake = D(fake_imgs.detach())  # detach so gradients don’t flow into generator\n",
    "\n",
    "            # Compute Wasserstein loss for discriminator\n",
    "            loss_D = -(output_real.mean() - output_fake.mean())\n",
    "\n",
    "            # Compute gradient penalty\n",
    "            gp = gradient_penalty(D, real_imgs, fake_imgs.detach(), device)\n",
    "\n",
    "            # Total discriminator loss\n",
    "            loss_D += lambda_gp * gp\n",
    "\n",
    "            # Update Discriminator\n",
    "            optimizer_D.zero_grad()\n",
    "            loss_D.backward()\n",
    "            optimizer_D.step()\n",
    "\n",
    "        # Train the Generator\n",
    "        z = torch.randn(batch_size, z_dim, 1, 1, device=device)\n",
    "        fake_imgs = G(z)\n",
    "        output_fake = D(fake_imgs)\n",
    "        loss_G = -output_fake.mean()  # Generator tries to make D(fake) large\n",
    "\n",
    "        optimizer_G.zero_grad()\n",
    "        loss_G.backward()\n",
    "        optimizer_G.step()\n",
    "\n",
    "        # Accumulate losses\n",
    "        g_loss_epoch += loss_G.item()\n",
    "        d_loss_epoch += loss_D.item()\n",
    "        num_batches += 1\n",
    "\n",
    "    # Generate and save sample images using fixed noise\n",
    "    with torch.no_grad():\n",
    "        samples = G(fixed_noise)\n",
    "        save_image(samples, f\"wgan_outputs/epoch_{epoch+1:03d}.png\", normalize=True)\n",
    "\n",
    "    # Print average losses for the epoch\n",
    "    print(f\"Epoch [{epoch+1}/{n_epochs}]  Loss_D: {d_loss_epoch/num_batches:.4f}  Loss_G: {g_loss_epoch/num_batches:.4f}\")\n"
   ]
  },
  {
   "cell_type": "code",
   "execution_count": null,
   "id": "fc9e3ba6",
   "metadata": {
    "papermill": {
     "duration": null,
     "end_time": null,
     "exception": null,
     "start_time": null,
     "status": "pending"
    },
    "tags": []
   },
   "outputs": [],
   "source": [
    "# Generate 10,000 Images\n",
    "os.makedirs(\"wgan_outputs/generated\", exist_ok=True)\n",
    "G.eval()\n",
    "with torch.no_grad():\n",
    "    for i in tqdm(range(0, 10000, 64), desc=\"Generating final images\"):\n",
    "        z = torch.randn(64, z_dim, 1, 1, device=device)\n",
    "        gen_imgs = G(z)\n",
    "        for j in range(gen_imgs.size(0)):\n",
    "            save_image(gen_imgs[j], f\"wgan_outputs/generated/{i + j:05d}.png\", normalize=True)\n"
   ]
  },
  {
   "cell_type": "code",
   "execution_count": null,
   "id": "1a58e426",
   "metadata": {
    "papermill": {
     "duration": null,
     "end_time": null,
     "exception": null,
     "start_time": null,
     "status": "pending"
    },
    "tags": []
   },
   "outputs": [],
   "source": []
  }
 ],
 "metadata": {
  "kernelspec": {
   "display_name": "Python 3.9.16 ('gen-env': venv)",
   "language": "python",
   "name": "python3"
  },
  "language_info": {
   "codemirror_mode": {
    "name": "ipython",
    "version": 3
   },
   "file_extension": ".py",
   "mimetype": "text/x-python",
   "name": "python",
   "nbconvert_exporter": "python",
   "pygments_lexer": "ipython3",
   "version": "3.9.16"
  },
  "papermill": {
   "default_parameters": {},
   "duration": null,
   "end_time": null,
   "environment_variables": {},
   "exception": null,
   "input_path": "celebA-WGAN.ipynb",
   "output_path": "scripts/celebA-WGAN-20250509_002731.ipynb",
   "parameters": {},
   "start_time": "2025-05-09T04:27:31.449653",
   "version": "2.6.0"
  },
  "vscode": {
   "interpreter": {
    "hash": "20be29547590aa1112ef8e25a79f1428227ffeb142cb4839bcd469c0aee95255"
   }
  }
 },
 "nbformat": 4,
 "nbformat_minor": 5
}